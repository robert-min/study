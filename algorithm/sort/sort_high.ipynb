{
 "cells": [
  {
   "cell_type": "markdown",
   "source": [
    "# 퀵 정렬 (Quick sort)\n",
    "* pivot(기준점)을 기준으로 작은 데이터는 왼쪽 큰 데이터는 오른쪽\n",
    "* 시간복잡도 O(NlogN), 최악의 경우 O(N^2)"
   ],
   "metadata": {
    "collapsed": false
   }
  },
  {
   "cell_type": "code",
   "execution_count": 1,
   "metadata": {
    "collapsed": true
   },
   "outputs": [
    {
     "data": {
      "text/plain": "[6, 3, 46, 62, 45, 99, 90, 81, 14, 51]"
     },
     "execution_count": 1,
     "metadata": {},
     "output_type": "execute_result"
    }
   ],
   "source": [
    "# sample data\n",
    "import random\n",
    "\n",
    "data = random.sample(range(100), 10)\n",
    "data"
   ]
  },
  {
   "cell_type": "code",
   "execution_count": 4,
   "outputs": [],
   "source": [
    "def quick_sort(data):\n",
    "    if len(data) <= 1:\n",
    "        return data\n",
    "\n",
    "    pivot = data[0]\n",
    "    left, right = list(), list()\n",
    "    for i in range(1, len(data)):\n",
    "        if data[i] < pivot:\n",
    "            left.append(data[i])\n",
    "        else:\n",
    "            right.append(data[i])\n",
    "\n",
    "    return quick_sort(left) + [pivot] + quick_sort(right)"
   ],
   "metadata": {
    "collapsed": false,
    "pycharm": {
     "name": "#%%\n"
    }
   }
  },
  {
   "cell_type": "code",
   "execution_count": 5,
   "outputs": [
    {
     "data": {
      "text/plain": "[3, 6, 14, 45, 46, 51, 62, 81, 90, 99]"
     },
     "execution_count": 5,
     "metadata": {},
     "output_type": "execute_result"
    }
   ],
   "source": [
    "quick_sort(data)"
   ],
   "metadata": {
    "collapsed": false,
    "pycharm": {
     "name": "#%%\n"
    }
   }
  },
  {
   "cell_type": "code",
   "execution_count": 6,
   "outputs": [],
   "source": [
    "def quick_sort(data):\n",
    "    if len(data) <= 1:\n",
    "        return data\n",
    "\n",
    "    pivot = data[0]\n",
    "    left = [i for i in data[1:] if pivot > i]\n",
    "    right = [i for i in data[1:] if pivot <= i]\n",
    "\n",
    "    return quick_sort(left) + [pivot] + quick_sort(right)"
   ],
   "metadata": {
    "collapsed": false,
    "pycharm": {
     "name": "#%%\n"
    }
   }
  },
  {
   "cell_type": "code",
   "execution_count": 7,
   "outputs": [
    {
     "data": {
      "text/plain": "[3, 6, 14, 45, 46, 51, 62, 81, 90, 99]"
     },
     "execution_count": 7,
     "metadata": {},
     "output_type": "execute_result"
    }
   ],
   "source": [
    "quick_sort(data)"
   ],
   "metadata": {
    "collapsed": false,
    "pycharm": {
     "name": "#%%\n"
    }
   }
  },
  {
   "cell_type": "markdown",
   "source": [
    "# 병합 정렬(merge sort)\n",
    "* 리스트를 절반으로 잘라 다 분해 -> 재귀적으로 합병 정렬을 이용해 정렬 및 합병\n",
    "* split 함수와 merge 함수로 구분\n",
    "* 시간복잡도 O(NlogN)"
   ],
   "metadata": {
    "collapsed": false
   }
  },
  {
   "cell_type": "code",
   "execution_count": 8,
   "outputs": [],
   "source": [
    "def data_split(data):\n",
    "    if len(data) == 1:\n",
    "        return data\n",
    "    medium = len(data) // 2\n",
    "    left = data_split(data[:medium])\n",
    "    right = data_split(data[medium:])\n",
    "    return data_merge(left, right)\n",
    "\n",
    "def data_merge(left, right):\n",
    "    merged = list()\n",
    "    left_index, right_index = 0, 0\n",
    "\n",
    "    # left, right가 있을 때\n",
    "    while len(left) > left_index and len(right) > right_index:\n",
    "        if left[left_index] > right[right_index]:\n",
    "            merged.append(right[right_index])\n",
    "            right_index += 1\n",
    "        else:\n",
    "            merged.append(left[left_index])\n",
    "            left_index += 1\n",
    "\n",
    "    # right 데이터만 남았을 때\n",
    "    while len(right) > right_index:\n",
    "        merged.append(right[right_index])\n",
    "        right_index += 1\n",
    "\n",
    "    # left 데이터만 남았을 때\n",
    "    while len(left) > left_index:\n",
    "        merged.append(left[left_index])\n",
    "        left_index += 1\n",
    "\n",
    "    return merged"
   ],
   "metadata": {
    "collapsed": false,
    "pycharm": {
     "name": "#%%\n"
    }
   }
  },
  {
   "cell_type": "code",
   "execution_count": 9,
   "outputs": [
    {
     "data": {
      "text/plain": "[3, 6, 14, 45, 46, 51, 62, 81, 90, 99]"
     },
     "execution_count": 9,
     "metadata": {},
     "output_type": "execute_result"
    }
   ],
   "source": [
    "data_split(data)"
   ],
   "metadata": {
    "collapsed": false,
    "pycharm": {
     "name": "#%%\n"
    }
   }
  },
  {
   "cell_type": "markdown",
   "source": [
    "# 백준 10930\n",
    "<https://www.acmicpc.net/problem/10930>\n",
    "<https://yeowool0217.tistory.com/536>"
   ],
   "metadata": {
    "collapsed": false
   }
  },
  {
   "cell_type": "code",
   "execution_count": 1,
   "outputs": [
    {
     "name": "stdout",
     "output_type": "stream",
     "text": [
      "9944e1862efbb2a4e2486392dc6701896416b251eccdecb8332deb7f4cf2a857\n"
     ]
    }
   ],
   "source": [
    "from hashlib import sha256\n",
    "\n",
    "S = input()\n",
    "\n",
    "result = sha256(S.encode())\n",
    "print(result.hexdigest())"
   ],
   "metadata": {
    "collapsed": false,
    "pycharm": {
     "name": "#%%\n"
    }
   }
  },
  {
   "cell_type": "markdown",
   "source": [
    "# 백준 1920"
   ],
   "metadata": {
    "collapsed": false
   }
  },
  {
   "cell_type": "code",
   "execution_count": 2,
   "outputs": [
    {
     "name": "stdout",
     "output_type": "stream",
     "text": [
      "1\n",
      "1\n",
      "0\n",
      "0\n",
      "1\n"
     ]
    }
   ],
   "source": [
    "# N = 5\n",
    "# A = [4, 1, 5, 2, 3]\n",
    "# M = 5\n",
    "# B = [1, 3, 7, 9, 5]\n",
    "\n",
    "N = int(input())\n",
    "A = set(map(int, input().split(\" \")))\n",
    "M = int(input())\n",
    "B = list(map(int, input().split(\" \")))\n",
    "\n",
    "for i in B:\n",
    "    if i in A:\n",
    "        print(1)\n",
    "    else:\n",
    "        print(0)"
   ],
   "metadata": {
    "collapsed": false,
    "pycharm": {
     "name": "#%%\n"
    }
   }
  },
  {
   "cell_type": "markdown",
   "source": [
    "# 백준 4195\n",
    "<https://www.acmicpc.net/problem/4195>"
   ],
   "metadata": {
    "collapsed": false
   }
  },
  {
   "cell_type": "code",
   "execution_count": 4,
   "outputs": [
    {
     "name": "stdout",
     "output_type": "stream",
     "text": [
      "2 2 3 2 "
     ]
    }
   ],
   "source": [
    "# Union-Find 알고리즘\n",
    "def find(x):\n",
    "    if x == parent[x]:\n",
    "        return x\n",
    "    else:\n",
    "        p = find(parent[x])\n",
    "        parent[x] = p\n",
    "        return parent[x]\n",
    "\n",
    "def union(x, y):\n",
    "    x = find(x)\n",
    "    y = find(y)\n",
    "    parent[y] = x\n",
    "\n",
    "parent = []\n",
    "\n",
    "for i in range(0, 5):\n",
    "    parent.append(i)\n",
    "\n",
    "union(1, 4)\n",
    "union(2, 4)\n",
    "\n",
    "for i in range(1, len(parent)):\n",
    "    print(find(i), end=\" \")"
   ],
   "metadata": {
    "collapsed": false,
    "pycharm": {
     "name": "#%%\n"
    }
   }
  },
  {
   "cell_type": "code",
   "execution_count": 6,
   "outputs": [
    {
     "name": "stdout",
     "output_type": "stream",
     "text": [
      "2\n",
      "3\n",
      "4\n",
      "2\n",
      "2\n",
      "4\n"
     ]
    }
   ],
   "source": [
    "test_case = int(input())\n",
    "\n",
    "def find(x):\n",
    "    if x == parent[x]:\n",
    "        return x\n",
    "    else:\n",
    "        p = find(parent[x])\n",
    "        parent[x] = p\n",
    "        return parent[x]\n",
    "\n",
    "def union(x, y):\n",
    "    x = find(x)\n",
    "    y = find(y)\n",
    "\n",
    "    if x != y:\n",
    "        parent[y] = x\n",
    "        number[x] += number[y]\n",
    "\n",
    "\n",
    "for _ in range(test_case):\n",
    "    parent, number = dict(), dict()\n",
    "\n",
    "    f = int(input())\n",
    "\n",
    "    for _ in range(f):\n",
    "        x, y = input().split(\" \")\n",
    "\n",
    "        if x not in parent:\n",
    "            parent[x] = x\n",
    "            number[x] = 1\n",
    "\n",
    "        if y not in parent:\n",
    "            parent[y] = y\n",
    "            number[y] = 1\n",
    "\n",
    "        union(x, y)\n",
    "        print(number[find(x)])"
   ],
   "metadata": {
    "collapsed": false,
    "pycharm": {
     "name": "#%%\n"
    }
   }
  },
  {
   "cell_type": "markdown",
   "source": [
    "# 백준 2751\n",
    "<https://www.acmicpc.net/problem/2751>"
   ],
   "metadata": {
    "collapsed": false
   }
  },
  {
   "cell_type": "code",
   "execution_count": 2,
   "outputs": [
    {
     "name": "stdout",
     "output_type": "stream",
     "text": [
      "1\n",
      "2\n",
      "3\n",
      "4\n",
      "5\n"
     ]
    }
   ],
   "source": [
    "# pypy3로 제출\n",
    "n = int(input())\n",
    "array = list()\n",
    "for _ in range(n):\n",
    "    input_data = int(input())\n",
    "    array.append(input_data)\n",
    "\n",
    "array.sort()\n",
    "for a in array:\n",
    "    print(a)"
   ],
   "metadata": {
    "collapsed": false,
    "pycharm": {
     "name": "#%%\n"
    }
   }
  },
  {
   "cell_type": "code",
   "execution_count": 3,
   "outputs": [
    {
     "name": "stdout",
     "output_type": "stream",
     "text": [
      "[1, 2, 3, 4, 5]\n"
     ]
    }
   ],
   "source": [
    "def quick_sort(data_list):\n",
    "    if len(data_list) <= 1:\n",
    "        return data_list\n",
    "\n",
    "    pivot = data_list[0]\n",
    "    left, right = list(), list()\n",
    "    for i in range(1, len(data_list)):\n",
    "        if data_list[i] < pivot:\n",
    "            left.append(data_list[i])\n",
    "        else:\n",
    "            right.append(data_list[i])\n",
    "\n",
    "    return quick_sort(left) + [pivot] + quick_sort(right)\n",
    "\n",
    "n = int(input())\n",
    "\n",
    "array = list()\n",
    "for _ in range(n):\n",
    "    array.append(int(input()))\n",
    "\n",
    "a = quick_sort(array)\n",
    "print(a)"
   ],
   "metadata": {
    "collapsed": false,
    "pycharm": {
     "name": "#%%\n"
    }
   }
  },
  {
   "cell_type": "code",
   "execution_count": 5,
   "outputs": [
    {
     "name": "stdout",
     "output_type": "stream",
     "text": [
      "1\n",
      "2\n",
      "3\n",
      "4\n",
      "5\n"
     ]
    }
   ],
   "source": [
    "# 병합정렬\n",
    "def merge_sort(array):\n",
    "    if len(array) <= 1:\n",
    "        return array\n",
    "    mid = len(array) // 2\n",
    "    left = merge_sort(array[:mid])\n",
    "    right = merge_sort(array[mid:])\n",
    "    i, j, k = 0, 0, 0\n",
    "    while i < len(left) and j < len(right):\n",
    "        if left[i] < right[j]:\n",
    "            array[k] = left[i]\n",
    "            i += 1\n",
    "        else:\n",
    "            array[k] = right[j]\n",
    "            j += 1\n",
    "        k += 1\n",
    "\n",
    "    if i == len(left):\n",
    "        while j < len(right):\n",
    "            array[k] = right[j]\n",
    "            j += 1\n",
    "            k += 1\n",
    "    elif j == len(right):\n",
    "        while i < len(left):\n",
    "            array[k] = left[i]\n",
    "            i += 1\n",
    "            k += 1\n",
    "    return array\n",
    "\n",
    "n = int(input())\n",
    "array = list()\n",
    "\n",
    "for _ in range(n):\n",
    "    array.append(int(input()))\n",
    "\n",
    "array = merge_sort(array)\n",
    "for a in array:\n",
    "    print(a)"
   ],
   "metadata": {
    "collapsed": false,
    "pycharm": {
     "name": "#%%\n"
    }
   }
  },
  {
   "cell_type": "code",
   "execution_count": 6,
   "outputs": [
    {
     "name": "stdout",
     "output_type": "stream",
     "text": [
      "2\n"
     ]
    }
   ],
   "source": [
    "# 런타임 에러\n",
    "n, k = map(int, input().split(\" \"))\n",
    "array = list(map(int, input().split(\" \")))\n",
    "\n",
    "array.sort()\n",
    "print(array[k-1])"
   ],
   "metadata": {
    "collapsed": false,
    "pycharm": {
     "name": "#%%\n"
    }
   }
  },
  {
   "cell_type": "code",
   "execution_count": 10,
   "outputs": [
    {
     "name": "stdout",
     "output_type": "stream",
     "text": [
      "2\n"
     ]
    }
   ],
   "source": [
    "# 병합정렬 -> 런타임 에러\n",
    "def merge_sort(array):\n",
    "    if len(array) <= 1:\n",
    "        return array\n",
    "    mid = len(array) // 2\n",
    "    left = merge_sort(array[:mid])\n",
    "    right = merge_sort(array[mid:])\n",
    "    i, j, k = 0, 0, 0\n",
    "    while i < len(left) and j < len(right):\n",
    "        if left[i] < right[j]:\n",
    "            array[k] = left[i]\n",
    "            i += 1\n",
    "        else:\n",
    "            array[k] = right[j]\n",
    "            j += 1\n",
    "        k += 1\n",
    "\n",
    "    if i == len(left):\n",
    "        while j < len(right):\n",
    "            array[k] = right[j]\n",
    "            j += 1\n",
    "            k += 1\n",
    "    elif j == len(right):\n",
    "        while i < len(left):\n",
    "            array[k] = left[i]\n",
    "            i += 1\n",
    "            k += 1\n",
    "    return array\n",
    "\n",
    "n, k = map(int, input().split(\" \"))\n",
    "array = list(map(int, input().split(\" \")))\n",
    "\n",
    "\n",
    "array = merge_sort(array)\n",
    "print(array[k -1])"
   ],
   "metadata": {
    "collapsed": false,
    "pycharm": {
     "name": "#%%\n"
    }
   }
  },
  {
   "cell_type": "code",
   "execution_count": null,
   "outputs": [],
   "source": [],
   "metadata": {
    "collapsed": false,
    "pycharm": {
     "name": "#%%\n"
    }
   }
  }
 ],
 "metadata": {
  "kernelspec": {
   "display_name": "Python 3",
   "language": "python",
   "name": "python3"
  },
  "language_info": {
   "codemirror_mode": {
    "name": "ipython",
    "version": 2
   },
   "file_extension": ".py",
   "mimetype": "text/x-python",
   "name": "python",
   "nbconvert_exporter": "python",
   "pygments_lexer": "ipython2",
   "version": "2.7.6"
  }
 },
 "nbformat": 4,
 "nbformat_minor": 0
}