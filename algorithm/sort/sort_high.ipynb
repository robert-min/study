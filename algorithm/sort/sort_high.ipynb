{
 "cells": [
  {
   "cell_type": "markdown",
   "source": [
    "# 퀵 정렬 (Quick sort)\n",
    "* pivot(기준점)을 기준으로 작은 데이터는 왼쪽 큰 데이터는 오른쪽\n",
    "* 시간복잡도 O(NlogN), 최악의 경우 O(N^2)"
   ],
   "metadata": {
    "collapsed": false
   }
  },
  {
   "cell_type": "code",
   "execution_count": 1,
   "metadata": {
    "collapsed": true
   },
   "outputs": [
    {
     "data": {
      "text/plain": "[6, 3, 46, 62, 45, 99, 90, 81, 14, 51]"
     },
     "execution_count": 1,
     "metadata": {},
     "output_type": "execute_result"
    }
   ],
   "source": [
    "# sample data\n",
    "import random\n",
    "\n",
    "data = random.sample(range(100), 10)\n",
    "data"
   ]
  },
  {
   "cell_type": "code",
   "execution_count": 4,
   "outputs": [],
   "source": [
    "def quick_sort(data):\n",
    "    if len(data) <= 1:\n",
    "        return data\n",
    "\n",
    "    pivot = data[0]\n",
    "    left, right = list(), list()\n",
    "    for i in range(1, len(data)):\n",
    "        if data[i] < pivot:\n",
    "            left.append(data[i])\n",
    "        else:\n",
    "            right.append(data[i])\n",
    "\n",
    "    return quick_sort(left) + [pivot] + quick_sort(right)"
   ],
   "metadata": {
    "collapsed": false,
    "pycharm": {
     "name": "#%%\n"
    }
   }
  },
  {
   "cell_type": "code",
   "execution_count": 5,
   "outputs": [
    {
     "data": {
      "text/plain": "[3, 6, 14, 45, 46, 51, 62, 81, 90, 99]"
     },
     "execution_count": 5,
     "metadata": {},
     "output_type": "execute_result"
    }
   ],
   "source": [
    "quick_sort(data)"
   ],
   "metadata": {
    "collapsed": false,
    "pycharm": {
     "name": "#%%\n"
    }
   }
  },
  {
   "cell_type": "code",
   "execution_count": 6,
   "outputs": [],
   "source": [
    "def quick_sort(data):\n",
    "    if len(data) <= 1:\n",
    "        return data\n",
    "\n",
    "    pivot = data[0]\n",
    "    left = [i for i in data[1:] if pivot > i]\n",
    "    right = [i for i in data[1:] if pivot <= i]\n",
    "\n",
    "    return quick_sort(left) + [pivot] + quick_sort(right)"
   ],
   "metadata": {
    "collapsed": false,
    "pycharm": {
     "name": "#%%\n"
    }
   }
  },
  {
   "cell_type": "code",
   "execution_count": 7,
   "outputs": [
    {
     "data": {
      "text/plain": "[3, 6, 14, 45, 46, 51, 62, 81, 90, 99]"
     },
     "execution_count": 7,
     "metadata": {},
     "output_type": "execute_result"
    }
   ],
   "source": [
    "quick_sort(data)"
   ],
   "metadata": {
    "collapsed": false,
    "pycharm": {
     "name": "#%%\n"
    }
   }
  },
  {
   "cell_type": "markdown",
   "source": [
    "# 병합 정렬(merge sort)\n",
    "* 리스트를 절반으로 잘라 다 분해 -> 재귀적으로 합병 정렬을 이용해 정렬 및 합병\n",
    "* split 함수와 merge 함수로 구분\n",
    "* 시간복잡도 O(NlogN)"
   ],
   "metadata": {
    "collapsed": false
   }
  },
  {
   "cell_type": "code",
   "execution_count": 8,
   "outputs": [],
   "source": [
    "def data_split(data):\n",
    "    if len(data) == 1:\n",
    "        return data\n",
    "    medium = len(data) // 2\n",
    "    left = data_split(data[:medium])\n",
    "    right = data_split(data[medium:])\n",
    "    return data_merge(left, right)\n",
    "\n",
    "def data_merge(left, right):\n",
    "    merged = list()\n",
    "    left_index, right_index = 0, 0\n",
    "\n",
    "    # left, right가 있을 때\n",
    "    while len(left) > left_index and len(right) > right_index:\n",
    "        if left[left_index] > right[right_index]:\n",
    "            merged.append(right[right_index])\n",
    "            right_index += 1\n",
    "        else:\n",
    "            merged.append(left[left_index])\n",
    "            left_index += 1\n",
    "\n",
    "    # right 데이터만 남았을 때\n",
    "    while len(right) > right_index:\n",
    "        merged.append(right[right_index])\n",
    "        right_index += 1\n",
    "\n",
    "    # left 데이터만 남았을 때\n",
    "    while len(left) > left_index:\n",
    "        merged.append(left[left_index])\n",
    "        left_index += 1\n",
    "\n",
    "    return merged"
   ],
   "metadata": {
    "collapsed": false,
    "pycharm": {
     "name": "#%%\n"
    }
   }
  },
  {
   "cell_type": "code",
   "execution_count": 9,
   "outputs": [
    {
     "data": {
      "text/plain": "[3, 6, 14, 45, 46, 51, 62, 81, 90, 99]"
     },
     "execution_count": 9,
     "metadata": {},
     "output_type": "execute_result"
    }
   ],
   "source": [
    "data_split(data)"
   ],
   "metadata": {
    "collapsed": false,
    "pycharm": {
     "name": "#%%\n"
    }
   }
  }
 ],
 "metadata": {
  "kernelspec": {
   "display_name": "Python 3",
   "language": "python",
   "name": "python3"
  },
  "language_info": {
   "codemirror_mode": {
    "name": "ipython",
    "version": 2
   },
   "file_extension": ".py",
   "mimetype": "text/x-python",
   "name": "python",
   "nbconvert_exporter": "python",
   "pygments_lexer": "ipython2",
   "version": "2.7.6"
  }
 },
 "nbformat": 4,
 "nbformat_minor": 0
}