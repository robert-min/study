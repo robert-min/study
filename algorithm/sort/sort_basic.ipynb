{
 "cells": [
  {
   "cell_type": "markdown",
   "source": [
    "# Sorting(정렬)\n",
    "* 데이터를 정해진 순서대로 나열"
   ],
   "metadata": {
    "collapsed": false
   }
  },
  {
   "cell_type": "markdown",
   "source": [
    "## Bubble sort"
   ],
   "metadata": {
    "collapsed": false
   }
  },
  {
   "cell_type": "code",
   "execution_count": 2,
   "metadata": {
    "collapsed": true
   },
   "outputs": [
    {
     "name": "stdout",
     "output_type": "stream",
     "text": [
      "[1, 2, 3, 5]\n"
     ]
    }
   ],
   "source": [
    "data = [5, 2, 3, 1]\n",
    "\n",
    "def bubble_sort(data_list):\n",
    "    for i in range(len(data_list) - 1):\n",
    "        swap = False\n",
    "        for j in range(len(data_list) - i - 1):\n",
    "            if data_list[j] > data_list[j+1]:\n",
    "                data_list[j], data_list[j+1] = data_list[j+1], data_list[j]\n",
    "                swap = True\n",
    "\n",
    "        if swap == False:\n",
    "            break\n",
    "    return data_list\n"
   ]
  },
  {
   "cell_type": "code",
   "execution_count": 3,
   "outputs": [
    {
     "name": "stdout",
     "output_type": "stream",
     "text": [
      "[0, 1, 5, 6, 8, 11, 13, 16, 17, 20, 31, 34, 36, 43, 48, 49, 59, 63, 66, 68, 70, 79, 82, 83, 88, 89, 92, 94, 96, 98]\n"
     ]
    }
   ],
   "source": [
    "import random\n",
    "data = random.sample(range(100), 30)\n",
    "print(bubble_sort(data))"
   ],
   "metadata": {
    "collapsed": false,
    "pycharm": {
     "name": "#%%\n"
    }
   }
  },
  {
   "cell_type": "markdown",
   "source": [
    "## Insertion sort(삽입정렬)\n",
    "* 두번째 인덱스부터 시작\n",
    "* 해당 인덱스 값 앞에 있는 값과 비교해서 key 값이 더 작으면 B값 뒤 인덱스로 복사"
   ],
   "metadata": {
    "collapsed": false,
    "pycharm": {
     "name": "#%% md\n"
    }
   }
  },
  {
   "cell_type": "code",
   "execution_count": 4,
   "outputs": [
    {
     "name": "stdout",
     "output_type": "stream",
     "text": [
      "[0, 1, 5, 6, 8, 11, 13, 16, 17, 20, 31, 34, 36, 43, 48, 49, 59, 63, 66, 68, 70, 79, 82, 83, 88, 89, 92, 94, 96, 98]\n"
     ]
    }
   ],
   "source": [
    "def insertion_sort(data_list):\n",
    "    for i in range(len(data_list) - 1):\n",
    "        for j in range(i + 1, 0, -1):\n",
    "            if data[j] < data[j-1]:\n",
    "                data[j], data[j-1] = data[j-1], data[j]\n",
    "            else:\n",
    "                break\n",
    "    return data_list\n",
    "\n",
    "print(insertion_sort(data))"
   ],
   "metadata": {
    "collapsed": false,
    "pycharm": {
     "name": "#%%\n"
    }
   }
  },
  {
   "cell_type": "markdown",
   "source": [
    "## Selection Sort\n",
    "* 데이터 중 최솟값 찾음\n",
    "* 해당 최소값을 데이터 맨 앞의 값과 교체\n",
    "* 맨 앞의 위치를 뺀 나머지 데이터를 동일한 방법으로 반복"
   ],
   "metadata": {
    "collapsed": false
   }
  },
  {
   "cell_type": "code",
   "execution_count": 7,
   "outputs": [
    {
     "name": "stdout",
     "output_type": "stream",
     "text": [
      "[0, 1, 5, 6, 8, 11, 13, 16, 17, 20, 31, 34, 36, 43, 48, 49, 59, 63, 66, 68, 70, 79, 82, 83, 88, 89, 92, 94, 96, 98]\n"
     ]
    }
   ],
   "source": [
    "def selection_sort(data_list):\n",
    "    for i in range(len(data_list) - 1):\n",
    "        lowest = i\n",
    "        for j in range(i + 1, len(data_list)):\n",
    "            if data_list[lowest] > data_list[j]:\n",
    "                lowest = j\n",
    "        data_list[i], data_list[lowest] =  data_list[lowest], data_list[i]\n",
    "    return data_list\n",
    "\n",
    "print(selection_sort(data))"
   ],
   "metadata": {
    "collapsed": false,
    "pycharm": {
     "name": "#%%\n"
    }
   }
  },
  {
   "cell_type": "code",
   "execution_count": null,
   "outputs": [],
   "source": [],
   "metadata": {
    "collapsed": false,
    "pycharm": {
     "name": "#%%\n"
    }
   }
  }
 ],
 "metadata": {
  "kernelspec": {
   "display_name": "Python 3",
   "language": "python",
   "name": "python3"
  },
  "language_info": {
   "codemirror_mode": {
    "name": "ipython",
    "version": 2
   },
   "file_extension": ".py",
   "mimetype": "text/x-python",
   "name": "python",
   "nbconvert_exporter": "python",
   "pygments_lexer": "ipython2",
   "version": "2.7.6"
  }
 },
 "nbformat": 4,
 "nbformat_minor": 0
}