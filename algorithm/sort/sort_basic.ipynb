{
 "cells": [
  {
   "cell_type": "markdown",
   "source": [
    "# Sorting(정렬)\n",
    "* 데이터를 정해진 순서대로 나열"
   ],
   "metadata": {
    "collapsed": false
   }
  },
  {
   "cell_type": "markdown",
   "source": [
    "## Bubble sort"
   ],
   "metadata": {
    "collapsed": false
   }
  },
  {
   "cell_type": "code",
   "execution_count": 2,
   "metadata": {
    "collapsed": true
   },
   "outputs": [
    {
     "name": "stdout",
     "output_type": "stream",
     "text": [
      "[1, 2, 3, 5]\n"
     ]
    }
   ],
   "source": [
    "data = [5, 2, 3, 1]\n",
    "\n",
    "def bubble_sort(data_list):\n",
    "    for i in range(len(data_list) - 1):\n",
    "        swap = False\n",
    "        for j in range(len(data_list) - i - 1):\n",
    "            if data_list[j] > data_list[j+1]:\n",
    "                data_list[j], data_list[j+1] = data_list[j+1], data_list[j]\n",
    "                swap = True\n",
    "\n",
    "        if swap == False:\n",
    "            break\n",
    "    return data_list\n"
   ]
  },
  {
   "cell_type": "code",
   "execution_count": 3,
   "outputs": [
    {
     "name": "stdout",
     "output_type": "stream",
     "text": [
      "[0, 1, 5, 6, 8, 11, 13, 16, 17, 20, 31, 34, 36, 43, 48, 49, 59, 63, 66, 68, 70, 79, 82, 83, 88, 89, 92, 94, 96, 98]\n"
     ]
    }
   ],
   "source": [
    "import random\n",
    "data = random.sample(range(100), 30)\n",
    "print(bubble_sort(data))"
   ],
   "metadata": {
    "collapsed": false,
    "pycharm": {
     "name": "#%%\n"
    }
   }
  },
  {
   "cell_type": "markdown",
   "source": [
    "## Insertion sort(삽입정렬)\n",
    "* 두번째 인덱스부터 시작\n",
    "* 해당 인덱스 값 앞에 있는 값과 비교해서 key 값이 더 작으면 B값 뒤 인덱스로 복사"
   ],
   "metadata": {
    "collapsed": false,
    "pycharm": {
     "name": "#%% md\n"
    }
   }
  },
  {
   "cell_type": "code",
   "execution_count": 4,
   "outputs": [
    {
     "name": "stdout",
     "output_type": "stream",
     "text": [
      "[0, 1, 5, 6, 8, 11, 13, 16, 17, 20, 31, 34, 36, 43, 48, 49, 59, 63, 66, 68, 70, 79, 82, 83, 88, 89, 92, 94, 96, 98]\n"
     ]
    }
   ],
   "source": [
    "def insertion_sort(data_list):\n",
    "    for i in range(len(data_list) - 1):\n",
    "        for j in range(i + 1, 0, -1):\n",
    "            if data[j] < data[j-1]:\n",
    "                data[j], data[j-1] = data[j-1], data[j]\n",
    "            else:\n",
    "                break\n",
    "    return data_list\n",
    "\n",
    "print(insertion_sort(data))"
   ],
   "metadata": {
    "collapsed": false,
    "pycharm": {
     "name": "#%%\n"
    }
   }
  },
  {
   "cell_type": "markdown",
   "source": [
    "## Selection Sort\n",
    "* 데이터 중 최솟값 찾음\n",
    "* 해당 최소값을 데이터 맨 앞의 값과 교체\n",
    "* 맨 앞의 위치를 뺀 나머지 데이터를 동일한 방법으로 반복"
   ],
   "metadata": {
    "collapsed": false
   }
  },
  {
   "cell_type": "code",
   "execution_count": 7,
   "outputs": [
    {
     "name": "stdout",
     "output_type": "stream",
     "text": [
      "[0, 1, 5, 6, 8, 11, 13, 16, 17, 20, 31, 34, 36, 43, 48, 49, 59, 63, 66, 68, 70, 79, 82, 83, 88, 89, 92, 94, 96, 98]\n"
     ]
    }
   ],
   "source": [
    "def selection_sort(data_list):\n",
    "    for i in range(len(data_list) - 1):\n",
    "        lowest = i\n",
    "        for j in range(i + 1, len(data_list)):\n",
    "            if data_list[lowest] > data_list[j]:\n",
    "                lowest = j\n",
    "        data_list[i], data_list[lowest] =  data_list[lowest], data_list[i]\n",
    "    return data_list\n",
    "\n",
    "print(selection_sort(data))"
   ],
   "metadata": {
    "collapsed": false,
    "pycharm": {
     "name": "#%%\n"
    }
   }
  },
  {
   "cell_type": "markdown",
   "source": [
    "# 백준 2920\n",
    "<https://www.acmicpc.net/problem/2920>"
   ],
   "metadata": {
    "collapsed": false
   }
  },
  {
   "cell_type": "code",
   "execution_count": 9,
   "outputs": [
    {
     "name": "stdout",
     "output_type": "stream",
     "text": [
      "ascending\n"
     ]
    }
   ],
   "source": [
    "# list(map(int, input().split()))\n",
    "input_data = list(map(int, input().split()))\n",
    "asd = [i for i in range(1, 9)]\n",
    "des = [i for i in range(8, 0, -1)]\n",
    "\n",
    "if input_data == asd:\n",
    "    print(\"ascending\")\n",
    "elif input_data == des:\n",
    "    print(\"descending\")\n",
    "else:\n",
    "    print(\"mixed\")"
   ],
   "metadata": {
    "collapsed": false,
    "pycharm": {
     "name": "#%%\n"
    }
   }
  },
  {
   "cell_type": "code",
   "execution_count": 10,
   "outputs": [
    {
     "name": "stdout",
     "output_type": "stream",
     "text": [
      "ascending\n"
     ]
    }
   ],
   "source": [
    "data = list(map(int, input().split()))\n",
    "asd = True\n",
    "des = True\n",
    "\n",
    "for i in range(1, 8):\n",
    "    if data[i] > data[i -1]:\n",
    "        des = False\n",
    "    elif data[i] < data[i-1]:\n",
    "        asd = False\n",
    "\n",
    "if asd:\n",
    "    print(\"ascending\")\n",
    "elif des:\n",
    "    print(\"descending\")\n",
    "else:\n",
    "    print(\"mixed\")"
   ],
   "metadata": {
    "collapsed": false,
    "pycharm": {
     "name": "#%%\n"
    }
   }
  },
  {
   "cell_type": "markdown",
   "source": [
    "# 백준 2798\n",
    "<https://www.acmicpc.net/problem/2798>"
   ],
   "metadata": {
    "collapsed": false
   }
  },
  {
   "cell_type": "code",
   "execution_count": 20,
   "outputs": [
    {
     "name": "stdout",
     "output_type": "stream",
     "text": [
      "21\n"
     ]
    }
   ],
   "source": [
    "N, M = map(int, input().split())\n",
    "input_datas = list(map(int, input().split()))\n",
    "\n",
    "result = 0\n",
    "\n",
    "for i in range(0, len(input_datas)):\n",
    "    for j in range(i+1, len(input_datas)):\n",
    "        for k in range(j+1, len(input_datas)):\n",
    "            sum_value = input_datas[i] + input_datas[j] + input_datas[k]\n",
    "            if sum_value <= M:\n",
    "                result = max(result, sum_value)\n",
    "\n",
    "print(result)"
   ],
   "metadata": {
    "collapsed": false,
    "pycharm": {
     "name": "#%%\n"
    }
   }
  },
  {
   "cell_type": "markdown",
   "source": [
    "# 백준 1874\n",
    "<https://www.acmicpc.net/problem/1874>"
   ],
   "metadata": {
    "collapsed": false
   }
  },
  {
   "cell_type": "code",
   "execution_count": 24,
   "outputs": [
    {
     "name": "stdout",
     "output_type": "stream",
     "text": [
      "+\n",
      "+\n",
      "+\n",
      "+\n",
      "-\n",
      "-\n",
      "+\n",
      "+\n",
      "-\n",
      "+\n",
      "+\n",
      "-\n",
      "-\n",
      "-\n",
      "-\n",
      "-\n"
     ]
    }
   ],
   "source": [
    "n = int(input())\n",
    "\n",
    "stack, result = list(), list()\n",
    "count = 1\n",
    "# 데이터를 입력 받을 개수 만큼 반복\n",
    "for _ in range(1, n+1):\n",
    "    data = int(input())\n",
    "    # 입력 받을 데이터가 도달할 때 까지\n",
    "    while count <= data:\n",
    "        stack.append(count)\n",
    "        count += 1\n",
    "        result.append(\"+\")\n",
    "    # 스택의 최상위 원소의 데이터와 같을 때\n",
    "    if stack[-1] == data:\n",
    "        stack.pop()\n",
    "        result.append(\"-\")\n",
    "    else:\n",
    "        print(\"No\")\n",
    "        exit(0)\n",
    "\n",
    "print(\"\\n\".join(result))"
   ],
   "metadata": {
    "collapsed": false,
    "pycharm": {
     "name": "#%%\n"
    }
   }
  },
  {
   "cell_type": "markdown",
   "source": [
    "# 백준 1966\n",
    "<https://www.acmicpc.net/problem/1966>"
   ],
   "metadata": {
    "collapsed": false
   }
  },
  {
   "cell_type": "code",
   "execution_count": 4,
   "outputs": [
    {
     "name": "stdout",
     "output_type": "stream",
     "text": [
      "3\n",
      "2\n",
      "2\n"
     ]
    }
   ],
   "source": [
    "# 답은 나오지만 for문을 너무 많이 사용해서 시간 복잡도 -> 런타임 에러\n",
    "from queue import PriorityQueue\n",
    "\n",
    "case = int(input())\n",
    "count = 0\n",
    "\n",
    "for _ in range(case):\n",
    "    N, M = int(map(input().split()))\n",
    "    queue = PriorityQueue(maxsize=100)\n",
    "    importances = [1, 2, 3, 4]\n",
    "\n",
    "    for i, importance in enumerate(importances):\n",
    "        queue.put((int(100 - importance), i))\n",
    "\n",
    "    while queue:\n",
    "        data = queue.get()[1]\n",
    "        print(data)\n",
    "        count += 1\n",
    "        if data == M:\n",
    "            break\n",
    "    print(count)"
   ],
   "metadata": {
    "collapsed": false,
    "pycharm": {
     "name": "#%%\n"
    }
   }
  },
  {
   "cell_type": "code",
   "execution_count": 1,
   "outputs": [],
   "source": [
    "case = int(input())\n",
    "\n",
    "for _ in range(case):\n",
    "    n, m = list(map(int, input().split(' ')))\n",
    "    queue = list(map(int, input().split(' ')))\n",
    "    queue = [(i, idx) for idx, i in enumerate(queue)]\n",
    "\n",
    "    count = 0\n",
    "    while True:\n",
    "        if queue[0][0] == max(queue, key=lambda x: x[0])[0]:\n",
    "            count += 1\n",
    "            if queue[0][1] == m:\n",
    "                print(count)\n",
    "                break\n",
    "            else:\n",
    "                queue.pop(0)\n",
    "        else:\n",
    "            queue.append(queue.pop(0))"
   ],
   "metadata": {
    "collapsed": false,
    "pycharm": {
     "name": "#%%\n"
    }
   }
  },
  {
   "cell_type": "markdown",
   "source": [
    "# 백준 5397\n",
    "<https://www.acmicpc.net/problem/5397>"
   ],
   "metadata": {
    "collapsed": false
   }
  },
  {
   "cell_type": "code",
   "execution_count": 9,
   "outputs": [
    {
     "ename": "IndexError",
     "evalue": "list index out of range",
     "output_type": "error",
     "traceback": [
      "\u001B[0;31m---------------------------------------------------------------------------\u001B[0m",
      "\u001B[0;31mIndexError\u001B[0m                                Traceback (most recent call last)",
      "\u001B[0;32m/var/folders/mc/dq2kv5b10qjd6sq35tn_rvph0000gn/T/ipykernel_49652/3698868090.py\u001B[0m in \u001B[0;36m<module>\u001B[0;34m\u001B[0m\n\u001B[1;32m     11\u001B[0m             \u001B[0;32mif\u001B[0m \u001B[0mlen\u001B[0m\u001B[0;34m(\u001B[0m\u001B[0mresult1\u001B[0m\u001B[0;34m)\u001B[0m \u001B[0;34m==\u001B[0m \u001B[0;36m0\u001B[0m\u001B[0;34m:\u001B[0m\u001B[0;34m\u001B[0m\u001B[0;34m\u001B[0m\u001B[0m\n\u001B[1;32m     12\u001B[0m                 \u001B[0;32mpass\u001B[0m\u001B[0;34m\u001B[0m\u001B[0;34m\u001B[0m\u001B[0m\n\u001B[0;32m---> 13\u001B[0;31m             \u001B[0mresult2\u001B[0m \u001B[0;34m=\u001B[0m \u001B[0mlist\u001B[0m\u001B[0;34m(\u001B[0m\u001B[0mresult1\u001B[0m\u001B[0;34m[\u001B[0m\u001B[0;34m-\u001B[0m\u001B[0;36m1\u001B[0m\u001B[0;34m]\u001B[0m\u001B[0;34m)\u001B[0m \u001B[0;34m+\u001B[0m \u001B[0mresult2\u001B[0m\u001B[0;34m\u001B[0m\u001B[0;34m\u001B[0m\u001B[0m\n\u001B[0m\u001B[1;32m     14\u001B[0m             \u001B[0mresult1\u001B[0m \u001B[0;34m=\u001B[0m \u001B[0mresult1\u001B[0m\u001B[0;34m[\u001B[0m\u001B[0;34m:\u001B[0m\u001B[0;34m-\u001B[0m\u001B[0;36m1\u001B[0m\u001B[0;34m]\u001B[0m\u001B[0;34m\u001B[0m\u001B[0;34m\u001B[0m\u001B[0m\n\u001B[1;32m     15\u001B[0m         \u001B[0;32melif\u001B[0m \u001B[0mdata\u001B[0m \u001B[0;34m==\u001B[0m \u001B[0;34m\">\"\u001B[0m\u001B[0;34m:\u001B[0m\u001B[0;34m\u001B[0m\u001B[0;34m\u001B[0m\u001B[0m\n",
      "\u001B[0;31mIndexError\u001B[0m: list index out of range"
     ]
    }
   ],
   "source": [
    "test_case = 2\n",
    "\n",
    "for _ in range(test_case):\n",
    "    datas = str(input())\n",
    "    result1, result2 = list(), list()\n",
    "\n",
    "    for data in datas:\n",
    "        if data == \"-\":\n",
    "            result1.pop()\n",
    "        elif data == \"<\":\n",
    "            if len(result1) == 0:\n",
    "                pass\n",
    "            result2 = list(result1[-1]) + result2\n",
    "            result1 = result1[:-1]\n",
    "        elif data == \">\":\n",
    "            if len(result2) == 0:\n",
    "                pass\n",
    "            result1 = result1 + list(result2[0])\n",
    "            result2 = result2[1:]\n",
    "        else:\n",
    "            result1.append(data)\n",
    "\n",
    "    print(result1 + result2)"
   ],
   "metadata": {
    "collapsed": false,
    "pycharm": {
     "name": "#%%\n"
    }
   }
  },
  {
   "cell_type": "code",
   "execution_count": 12,
   "outputs": [
    {
     "name": "stdout",
     "output_type": "stream",
     "text": [
      "BAPC\n",
      "ThIsIsS3Cr3t\n"
     ]
    }
   ],
   "source": [
    "test_case = int(input())\n",
    "\n",
    "for _ in range(test_case):\n",
    "    left, right = list(), list()\n",
    "    data = input()\n",
    "    for i in data:\n",
    "        if i == \"-\":\n",
    "            if left:\n",
    "                left.pop()\n",
    "        elif i == \"<\":\n",
    "            if left:\n",
    "                right.append(left.pop())\n",
    "        elif i == \">\":\n",
    "            if right:\n",
    "                left.append(right.pop())\n",
    "        else:\n",
    "            left.append(i)\n",
    "\n",
    "    left.extend(reversed(right))\n",
    "    print(\"\".join(left))"
   ],
   "metadata": {
    "collapsed": false,
    "pycharm": {
     "name": "#%%\n"
    }
   }
  },
  {
   "cell_type": "markdown",
   "source": [],
   "metadata": {
    "collapsed": false
   }
  },
  {
   "cell_type": "markdown",
   "source": [
    "# 백준 2750\n",
    "<https://www.acmicpc.net/problem/2750>\n",
    "* 데이터가 1000개 이하임으로 기본 알고리즘으로 해결할 수 있음."
   ],
   "metadata": {
    "collapsed": false
   }
  },
  {
   "cell_type": "code",
   "execution_count": 1,
   "outputs": [
    {
     "name": "stdout",
     "output_type": "stream",
     "text": [
      "1\n",
      "2\n",
      "3\n",
      "4\n",
      "5\n"
     ]
    }
   ],
   "source": [
    "N = int(input())\n",
    "\n",
    "datas = list()\n",
    "for _ in range(N):\n",
    "    input_data = int(input())\n",
    "    datas.append(input_data)\n",
    "\n",
    "datas.sort()\n",
    "for data in datas:\n",
    "    print(data)"
   ],
   "metadata": {
    "collapsed": false,
    "pycharm": {
     "name": "#%%\n"
    }
   }
  },
  {
   "cell_type": "code",
   "execution_count": 4,
   "outputs": [
    {
     "name": "stdout",
     "output_type": "stream",
     "text": [
      "1\n",
      "2\n",
      "3\n",
      "4\n",
      "5\n"
     ]
    }
   ],
   "source": [
    "n = int(input())\n",
    "array = list()\n",
    "\n",
    "for _ in range(n):\n",
    "    array.append(int(input()))\n",
    "\n",
    "# 선택 정렬 알고리즘\n",
    "for i in range(n):\n",
    "    min_index = i\n",
    "    for j in range(i + 1, n):\n",
    "        if array[min_index] > array[j]:\n",
    "            min_index = j\n",
    "    array[i], array[min_index] = array[min_index], array[i]\n",
    "\n",
    "for i in array:\n",
    "    print(i)"
   ],
   "metadata": {
    "collapsed": false,
    "pycharm": {
     "name": "#%%\n"
    }
   }
  },
  {
   "cell_type": "markdown",
   "source": [
    "# 백준 1427\n",
    "<https://www.acmicpc.net/problem/1427>"
   ],
   "metadata": {
    "collapsed": false
   }
  },
  {
   "cell_type": "code",
   "execution_count": 7,
   "outputs": [
    {
     "name": "stdout",
     "output_type": "stream",
     "text": [
      "4321\n"
     ]
    }
   ],
   "source": [
    "n = input()\n",
    "\n",
    "array = list()\n",
    "for i in n:\n",
    "    array.append(int(i))\n",
    "\n",
    "array.sort(reverse=True)\n",
    "temp = \"\"\n",
    "for a in array:\n",
    "    temp += str(a)\n",
    "\n",
    "print(temp)"
   ],
   "metadata": {
    "collapsed": false,
    "pycharm": {
     "name": "#%%\n"
    }
   }
  },
  {
   "cell_type": "code",
   "execution_count": 8,
   "outputs": [
    {
     "name": "stdout",
     "output_type": "stream",
     "text": [
      "4321"
     ]
    }
   ],
   "source": [
    "array = input()\n",
    "for i in range(9, -1, -1):\n",
    "    for j in array:\n",
    "        if int(j) == i:\n",
    "            print(i, end=\"\")"
   ],
   "metadata": {
    "collapsed": false,
    "pycharm": {
     "name": "#%%\n"
    }
   }
  },
  {
   "cell_type": "markdown",
   "source": [
    "# 백준 10814\n",
    "<https://www.acmicpc.net/problem/10814>"
   ],
   "metadata": {
    "collapsed": false
   }
  },
  {
   "cell_type": "code",
   "execution_count": 9,
   "outputs": [
    {
     "ename": "ValueError",
     "evalue": "invalid literal for int() with base 10: ''",
     "output_type": "error",
     "traceback": [
      "\u001B[0;31m---------------------------------------------------------------------------\u001B[0m",
      "\u001B[0;31mValueError\u001B[0m                                Traceback (most recent call last)",
      "\u001B[0;32m/var/folders/mc/dq2kv5b10qjd6sq35tn_rvph0000gn/T/ipykernel_55262/2011979476.py\u001B[0m in \u001B[0;36m<module>\u001B[0;34m\u001B[0m\n\u001B[0;32m----> 1\u001B[0;31m \u001B[0mn\u001B[0m \u001B[0;34m=\u001B[0m \u001B[0mint\u001B[0m\u001B[0;34m(\u001B[0m\u001B[0minput\u001B[0m\u001B[0;34m(\u001B[0m\u001B[0;34m)\u001B[0m\u001B[0;34m)\u001B[0m\u001B[0;34m\u001B[0m\u001B[0;34m\u001B[0m\u001B[0m\n\u001B[0m\u001B[1;32m      2\u001B[0m \u001B[0;34m\u001B[0m\u001B[0m\n\u001B[1;32m      3\u001B[0m \u001B[0marray\u001B[0m \u001B[0;34m=\u001B[0m \u001B[0mlist\u001B[0m\u001B[0;34m(\u001B[0m\u001B[0;34m)\u001B[0m\u001B[0;34m\u001B[0m\u001B[0;34m\u001B[0m\u001B[0m\n\u001B[1;32m      4\u001B[0m \u001B[0;32mfor\u001B[0m \u001B[0m_\u001B[0m \u001B[0;32min\u001B[0m \u001B[0mrange\u001B[0m\u001B[0;34m(\u001B[0m\u001B[0mn\u001B[0m\u001B[0;34m)\u001B[0m\u001B[0;34m:\u001B[0m\u001B[0;34m\u001B[0m\u001B[0;34m\u001B[0m\u001B[0m\n\u001B[1;32m      5\u001B[0m     \u001B[0minput_data\u001B[0m \u001B[0;34m=\u001B[0m \u001B[0minput\u001B[0m\u001B[0;34m(\u001B[0m\u001B[0;34m)\u001B[0m\u001B[0;34m.\u001B[0m\u001B[0msplit\u001B[0m\u001B[0;34m(\u001B[0m\u001B[0;34m' '\u001B[0m\u001B[0;34m)\u001B[0m\u001B[0;34m\u001B[0m\u001B[0;34m\u001B[0m\u001B[0m\n",
      "\u001B[0;31mValueError\u001B[0m: invalid literal for int() with base 10: ''"
     ]
    }
   ],
   "source": [
    "n = int(input())\n",
    "\n",
    "array = list()\n",
    "for _ in range(n):\n",
    "    input_data = input().split(' ')\n",
    "    array.append((int(input_data[0]), input_data[1]))\n",
    "\n",
    "array = sorted(array, key=lambda x : x[0])\n",
    "\n",
    "for i in array:\n",
    "    print(i[0], i[1])"
   ],
   "metadata": {
    "collapsed": false,
    "pycharm": {
     "name": "#%%\n"
    }
   }
  },
  {
   "cell_type": "markdown",
   "source": [
    "# 백준 11650\n",
    "<https://www.acmicpc.net/problem/11650>"
   ],
   "metadata": {
    "collapsed": false
   }
  },
  {
   "cell_type": "code",
   "execution_count": null,
   "outputs": [],
   "source": [
    "n = int(input())\n",
    "\n",
    "array = list()\n",
    "for _ in range(n):\n",
    "    x, y = map(int, input().split(' '))\n",
    "    array.append((x, y))\n",
    "\n",
    "# 기본적으로 튜플은 index 기준으로 정렬\n",
    "array = sorted(array)\n",
    "\n",
    "for i in array:\n",
    "    print(i[0], i[1])"
   ],
   "metadata": {
    "collapsed": false,
    "pycharm": {
     "name": "#%%\n"
    }
   }
  },
  {
   "cell_type": "markdown",
   "source": [
    "# 백준 10989\n",
    "<https://www.acmicpc.net/problem/10989>"
   ],
   "metadata": {
    "collapsed": false
   }
  },
  {
   "cell_type": "code",
   "execution_count": 3,
   "outputs": [
    {
     "name": "stdout",
     "output_type": "stream",
     "text": [
      "1\n",
      "2\n",
      "3\n",
      "4\n",
      "4\n"
     ]
    }
   ],
   "source": [
    "# 이렇게하면 시간 메모리 초과\n",
    "import sys\n",
    "\n",
    "n = int(input())\n",
    "array = list()\n",
    "for _ in range(n):\n",
    "    data = int(sys.stdin.readline())\n",
    "    array.append(data)\n",
    "\n",
    "array.sort()\n",
    "for a in array:\n",
    "    print(a)"
   ],
   "metadata": {
    "collapsed": false,
    "pycharm": {
     "name": "#%%\n"
    }
   }
  },
  {
   "cell_type": "code",
   "execution_count": null,
   "outputs": [],
   "source": [
    "# 계수졍렬 알고리즘 : 데이터의 수가 제한될경우 사용\n",
    "\n",
    "n = int(sys.stdin.readline())\n",
    "array = [0] * 10001\n",
    "\n",
    "for i in range(n):\n",
    "    data = int(sys.stdin.readline())\n",
    "    array[data] += 1\n",
    "\n",
    "for i in range(10001):\n",
    "    if array[i] != 0:\n",
    "        for j in range(array[i]):\n",
    "            print(i)"
   ],
   "metadata": {
    "collapsed": false,
    "pycharm": {
     "name": "#%%\n"
    }
   }
  }
 ],
 "metadata": {
  "kernelspec": {
   "display_name": "Python 3",
   "language": "python",
   "name": "python3"
  },
  "language_info": {
   "codemirror_mode": {
    "name": "ipython",
    "version": 2
   },
   "file_extension": ".py",
   "mimetype": "text/x-python",
   "name": "python",
   "nbconvert_exporter": "python",
   "pygments_lexer": "ipython2",
   "version": "2.7.6"
  }
 },
 "nbformat": 4,
 "nbformat_minor": 0
}