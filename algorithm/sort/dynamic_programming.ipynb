{
 "cells": [
  {
   "cell_type": "markdown",
   "source": [
    "# 동적 계획법(Dynamic Programming)\n",
    "* 입력 크기가 작은 부분 문제들을 해결한 후, 큰 크기의 부분 문제를 해결 최종적으로 전체 문제를 해결하는 알고리즘\n",
    "* Memoization 기법 사용"
   ],
   "metadata": {
    "collapsed": false
   }
  },
  {
   "cell_type": "markdown",
   "source": [
    "## 피보나치 수열(Fibonacci)"
   ],
   "metadata": {
    "collapsed": false
   }
  },
  {
   "cell_type": "code",
   "execution_count": 4,
   "metadata": {
    "collapsed": true
   },
   "outputs": [
    {
     "data": {
      "text/plain": "8"
     },
     "execution_count": 4,
     "metadata": {},
     "output_type": "execute_result"
    }
   ],
   "source": [
    "# recessive call 활용\n",
    "def fibo1(n):\n",
    "    if n <= 1:\n",
    "        return n\n",
    "    return fibo1(n-1) + fibo1(n-2)\n",
    "\n",
    "fibo1(6)"
   ]
  },
  {
   "cell_type": "code",
   "execution_count": 5,
   "outputs": [
    {
     "data": {
      "text/plain": "8"
     },
     "execution_count": 5,
     "metadata": {},
     "output_type": "execute_result"
    }
   ],
   "source": [
    "# dynamic_programming 활용\n",
    "def fibo2(n):\n",
    "    cache = [0 for i in range(n + 1)] # memorization 공간\n",
    "    cache[0], cache[1] = 0, 1\n",
    "    for i in range(2, n + 1):\n",
    "        cache[i] = cache[i - 1] + cache[i - 2]\n",
    "    return cache[n]\n",
    "\n",
    "fibo2(6)"
   ],
   "metadata": {
    "collapsed": false,
    "pycharm": {
     "name": "#%%\n"
    }
   }
  },
  {
   "cell_type": "markdown",
   "source": [
    "## 백준 11726\n",
    "https://www.acmicpc.net/problem/11726"
   ],
   "metadata": {
    "collapsed": false
   }
  },
  {
   "cell_type": "code",
   "execution_count": 9,
   "outputs": [
    {
     "data": {
      "text/plain": "55"
     },
     "execution_count": 9,
     "metadata": {},
     "output_type": "execute_result"
    }
   ],
   "source": [
    "num = int(input())\n",
    "\n",
    "def tile_count(n):\n",
    "    cache = [0 for i in range(1001)]\n",
    "    cache[1] = 1\n",
    "    cache[2] = 2\n",
    "    for i in range(998):\n",
    "        cache[i+3] = cache[i+1] + cache[i+2]\n",
    "    return cache[n] % 10007\n",
    "\n",
    "print(tile_count(num))"
   ],
   "metadata": {
    "collapsed": false,
    "pycharm": {
     "name": "#%%\n"
    }
   }
  },
  {
   "cell_type": "markdown",
   "source": [
    "## 백준 9461\n",
    "https://www.acmicpc.net/problem/9461"
   ],
   "metadata": {
    "collapsed": false
   }
  },
  {
   "cell_type": "code",
   "execution_count": 13,
   "outputs": [
    {
     "name": "stdout",
     "output_type": "stream",
     "text": [
      "1\n",
      "3\n"
     ]
    }
   ],
   "source": [
    "t = int(input())\n",
    "cache = [0] * 101\n",
    "cache[1] = 1\n",
    "cache[2] = 1\n",
    "cache[3] = 1\n",
    "for i in range(1, 98):\n",
    "    cache[i+3] = cache[i] + cache[i+1]\n",
    "\n",
    "for j in range(t):\n",
    "    num = int(input())\n",
    "    print(cache[num])"
   ],
   "metadata": {
    "collapsed": false,
    "pycharm": {
     "name": "#%%\n"
    }
   }
  },
  {
   "cell_type": "markdown",
   "source": [
    "# 백준 1904\n",
    "<https://www.acmicpc.net/problem/1904>"
   ],
   "metadata": {
    "collapsed": false
   }
  },
  {
   "cell_type": "code",
   "execution_count": 2,
   "outputs": [
    {
     "name": "stdout",
     "output_type": "stream",
     "text": [
      "5\n"
     ]
    }
   ],
   "source": [
    "n = int(input())\n",
    "cache = [0] * 1000001\n",
    "cache[1], cache[2] = 1, 2\n",
    "for i in range(1, n - 1):\n",
    "    cache[i + 2] = (cache[i] + cache[i + 1]) % 15746\n",
    "\n",
    "print(cache[n])"
   ],
   "metadata": {
    "collapsed": false,
    "pycharm": {
     "name": "#%%\n"
    }
   }
  },
  {
   "cell_type": "markdown",
   "source": [
    "# *백준 12865\n",
    "<https://www.acmicpc.net/problem/12865>"
   ],
   "metadata": {
    "collapsed": false
   }
  },
  {
   "cell_type": "code",
   "execution_count": 4,
   "outputs": [
    {
     "name": "stdout",
     "output_type": "stream",
     "text": [
      "[(5, 2.4), (6, 2.1666666666666665), (4, 2.0), (3, 2.0)]\n",
      "25\n"
     ]
    }
   ],
   "source": [
    "# 2차원 배열로 문제 풀이\n",
    "n, k = map(int, input().split())\n",
    "dp = [[0] * (k + 1) for _ in range(n + 1)]\n",
    "\n",
    "for i in range(1, n + 1):\n",
    "    weight, value = map(int, input().split())\n",
    "    for j in range(1, k + 1):\n",
    "        if j < weight:\n",
    "            dp[i][j] = dp[i - 1][j]\n",
    "        else:\n",
    "            dp[i][j] = max(dp[i - 1][j], dp[i - 1][j - weight] + value)\n",
    "\n",
    "print(dp[n][k])"
   ],
   "metadata": {
    "collapsed": false,
    "pycharm": {
     "name": "#%%\n"
    }
   }
  },
  {
   "cell_type": "markdown",
   "source": [
    "# *백준 11053\n",
    "<https://www.acmicpc.net/problem/11053>"
   ],
   "metadata": {
    "collapsed": false
   }
  },
  {
   "cell_type": "code",
   "execution_count": 5,
   "outputs": [
    {
     "name": "stdout",
     "output_type": "stream",
     "text": [
      "4\n"
     ]
    }
   ],
   "source": [
    "n = int(input())\n",
    "data_list = list(map(int, input().split()))\n",
    "\n",
    "result, max_value = 0, 0\n",
    "for data in data_list:\n",
    "    if data > max_value:\n",
    "        max_value = data\n",
    "        result += 1\n",
    "\n",
    "print(result)"
   ],
   "metadata": {
    "collapsed": false,
    "pycharm": {
     "name": "#%%\n"
    }
   }
  },
  {
   "cell_type": "code",
   "execution_count": null,
   "outputs": [],
   "source": [
    "n = int(input())\n",
    "array = list(map(int, input().split()))\n",
    "dp = [1] * n\n",
    "\n",
    "for i in range(1, n):\n",
    "    for j in range(0, i):\n",
    "        if array[i] < array[j]:\n",
    "            dp[i] = max(dp[i], dp[j] + 1)\n",
    "\n",
    "print(max(dp))"
   ],
   "metadata": {
    "collapsed": false,
    "pycharm": {
     "name": "#%%\n"
    }
   }
  }
 ],
 "metadata": {
  "kernelspec": {
   "display_name": "Python 3",
   "language": "python",
   "name": "python3"
  },
  "language_info": {
   "codemirror_mode": {
    "name": "ipython",
    "version": 2
   },
   "file_extension": ".py",
   "mimetype": "text/x-python",
   "name": "python",
   "nbconvert_exporter": "python",
   "pygments_lexer": "ipython2",
   "version": "2.7.6"
  }
 },
 "nbformat": 4,
 "nbformat_minor": 0
}