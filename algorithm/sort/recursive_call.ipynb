{
 "cells": [
  {
   "cell_type": "markdown",
   "source": [
    "# 재귀 용법(Recursive call)\n",
    "* 함수 안에서 동일한 함수를 호출하는 형태"
   ],
   "metadata": {
    "collapsed": false
   }
  },
  {
   "cell_type": "markdown",
   "source": [
    "## ex. 팩토리얼 함수 만들기"
   ],
   "metadata": {
    "collapsed": false
   }
  },
  {
   "cell_type": "code",
   "execution_count": 1,
   "metadata": {
    "collapsed": true
   },
   "outputs": [],
   "source": [
    "def factorial(num):\n",
    "    if num > 1:\n",
    "        return num * factorial(num - 1)\n",
    "    else:\n",
    "        return num"
   ]
  },
  {
   "cell_type": "code",
   "execution_count": 2,
   "outputs": [
    {
     "name": "stdout",
     "output_type": "stream",
     "text": [
      "0\n",
      "1\n",
      "2\n",
      "6\n",
      "24\n",
      "120\n",
      "720\n",
      "5040\n",
      "40320\n",
      "362880\n"
     ]
    }
   ],
   "source": [
    "for num in range(10):\n",
    "    print(factorial(num))"
   ],
   "metadata": {
    "collapsed": false,
    "pycharm": {
     "name": "#%%\n"
    }
   }
  },
  {
   "cell_type": "markdown",
   "source": [
    "## ex. 1부터 n까지 곱이 출력하는 함수"
   ],
   "metadata": {
    "collapsed": false
   }
  },
  {
   "cell_type": "code",
   "execution_count": 3,
   "outputs": [
    {
     "data": {
      "text/plain": "3628800"
     },
     "execution_count": 3,
     "metadata": {},
     "output_type": "execute_result"
    }
   ],
   "source": [
    "def multiple(num):\n",
    "    if num > 1:\n",
    "        return num * multiple(num - 1)\n",
    "    else:\n",
    "        return num\n",
    "\n",
    "multiple(10)"
   ],
   "metadata": {
    "collapsed": false,
    "pycharm": {
     "name": "#%%\n"
    }
   }
  },
  {
   "cell_type": "markdown",
   "source": [
    "## ex. 숫자가 들어있는 리스트가 주어졌을 때, 리스트의 합을 리턴하는 함수"
   ],
   "metadata": {
    "collapsed": false
   }
  },
  {
   "cell_type": "code",
   "execution_count": 4,
   "outputs": [
    {
     "data": {
      "text/plain": "380"
     },
     "execution_count": 4,
     "metadata": {},
     "output_type": "execute_result"
    }
   ],
   "source": [
    "def sum_list(data):\n",
    "    if len(data) <= 1:\n",
    "        return data[0]\n",
    "    return data[0] + sum_list(data[1:])\n",
    "\n",
    "import random\n",
    "sample = random.sample(range(100), 10)\n",
    "sum_list(sample)"
   ],
   "metadata": {
    "collapsed": false,
    "pycharm": {
     "name": "#%%\n"
    }
   }
  },
  {
   "cell_type": "markdown",
   "source": [
    "## ex. 회문(palindrome)를 판별할 수 있는 함수"
   ],
   "metadata": {
    "collapsed": false
   }
  },
  {
   "cell_type": "code",
   "execution_count": 5,
   "outputs": [],
   "source": [
    "def is_palindrome(string):\n",
    "    if len(string) <= 1:\n",
    "        return True\n",
    "    if string[0] == string[-1]:\n",
    "        return is_palindrome(string[1:-1])\n",
    "    else:\n",
    "        return False"
   ],
   "metadata": {
    "collapsed": false,
    "pycharm": {
     "name": "#%%\n"
    }
   }
  },
  {
   "cell_type": "markdown",
   "source": [
    "## ex. 연습\n",
    "1. 정수 n에 대해\n",
    "2. n이 홀수이면 3 X n + 1 을 하고,\n",
    "3. n이 짝수이면 n 을 2로 나눕니다.\n",
    "4. 이렇게 계속 진행해서 n 이 결국 1이 될 때까지 2와 3의 과정을 반복합니다."
   ],
   "metadata": {
    "collapsed": false
   }
  },
  {
   "cell_type": "code",
   "execution_count": 6,
   "outputs": [
    {
     "name": "stdout",
     "output_type": "stream",
     "text": [
      "3\n",
      "10\n",
      "5\n",
      "16\n",
      "8\n",
      "4\n",
      "2\n",
      "1\n"
     ]
    },
    {
     "data": {
      "text/plain": "1"
     },
     "execution_count": 6,
     "metadata": {},
     "output_type": "execute_result"
    }
   ],
   "source": [
    "def func(n):\n",
    "    print(n)\n",
    "    if n <= 1:\n",
    "        return n\n",
    "    elif (n % 2) == 1:\n",
    "        return func(3 * n + 1)\n",
    "    else:\n",
    "        return func(int(n / 2))\n",
    "\n",
    "func(3)"
   ],
   "metadata": {
    "collapsed": false,
    "pycharm": {
     "name": "#%%\n"
    }
   }
  },
  {
   "cell_type": "markdown",
   "source": [
    "## ex. f(n)은 f(n-1) + f(n-2) + f(n-3) 과 동일하다는 패턴 찾기"
   ],
   "metadata": {
    "collapsed": false
   }
  },
  {
   "cell_type": "code",
   "execution_count": 7,
   "outputs": [
    {
     "data": {
      "text/plain": "13"
     },
     "execution_count": 7,
     "metadata": {},
     "output_type": "execute_result"
    }
   ],
   "source": [
    "def func(n):\n",
    "    if n == 1:\n",
    "        return 1\n",
    "    elif n == 2:\n",
    "        return 2\n",
    "    elif n == 3:\n",
    "        return 4\n",
    "\n",
    "    return func(n - 1) + func(n - 2) + func(n - 3)\n",
    "\n",
    "func(5)"
   ],
   "metadata": {
    "collapsed": false,
    "pycharm": {
     "name": "#%%\n"
    }
   }
  }
 ],
 "metadata": {
  "kernelspec": {
   "display_name": "Python 3",
   "language": "python",
   "name": "python3"
  },
  "language_info": {
   "codemirror_mode": {
    "name": "ipython",
    "version": 2
   },
   "file_extension": ".py",
   "mimetype": "text/x-python",
   "name": "python",
   "nbconvert_exporter": "python",
   "pygments_lexer": "ipython2",
   "version": "2.7.6"
  }
 },
 "nbformat": 4,
 "nbformat_minor": 0
}