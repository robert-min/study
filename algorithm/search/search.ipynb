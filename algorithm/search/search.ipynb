{
 "cells": [
  {
   "cell_type": "markdown",
   "source": [
    "# 순차 탐색(Sequential Search)\n",
    "* 하나하나 비교해서 원하는 데이터를 찾는 방법\n",
    "* 시간복잡도 O(N)"
   ],
   "metadata": {
    "collapsed": false
   }
  },
  {
   "cell_type": "code",
   "execution_count": 9,
   "metadata": {
    "collapsed": true
   },
   "outputs": [
    {
     "data": {
      "text/plain": "[3, 16, 50, 87, 46, 94, 34, 22, 4, 72]"
     },
     "execution_count": 9,
     "metadata": {},
     "output_type": "execute_result"
    }
   ],
   "source": [
    "# 샘플 데이터\n",
    "import random\n",
    "\n",
    "data = random.sample(range(100), 10)\n",
    "data"
   ]
  },
  {
   "cell_type": "code",
   "execution_count": 2,
   "outputs": [],
   "source": [
    "def sequential_search(data, search_data):\n",
    "    for i in range(len(data)):\n",
    "        if data[i] == search_data:\n",
    "            return True\n",
    "    return False"
   ],
   "metadata": {
    "collapsed": false,
    "pycharm": {
     "name": "#%%\n"
    }
   }
  },
  {
   "cell_type": "code",
   "execution_count": 3,
   "outputs": [
    {
     "data": {
      "text/plain": "True"
     },
     "execution_count": 3,
     "metadata": {},
     "output_type": "execute_result"
    }
   ],
   "source": [
    "sequential_search(data, 96)"
   ],
   "metadata": {
    "collapsed": false,
    "pycharm": {
     "name": "#%%\n"
    }
   }
  },
  {
   "cell_type": "markdown",
   "source": [
    "# 이진탐색(binary search)\n",
    "* 데이터가 정렬된 상태에서 데이터를 두개로 나눠서 찾음\n",
    "* 시간복잡도 O(logn)"
   ],
   "metadata": {
    "collapsed": false
   }
  },
  {
   "cell_type": "code",
   "execution_count": 22,
   "outputs": [],
   "source": [
    "def binary_search(data, search_data):\n",
    "    print(data)\n",
    "    # 종료조건\n",
    "    if len(data) == 1 and data[0] == search_data:\n",
    "        return True\n",
    "    if len(data) == 1 and data[0] != search_data:\n",
    "        return False\n",
    "    if len(data) == 0:\n",
    "        return False\n",
    "\n",
    "    medium = len(data) // 2\n",
    "    # if search_data < data[medium]:\n",
    "    #     return binary_search(data[:medium], search_data)\n",
    "    # elif search_data > data[medium]:\n",
    "    #     return binary_search(data[medium:], search_data)\n",
    "    # else:\n",
    "    #     return True\n",
    "\n",
    "    # 코드 개선\n",
    "    if search_data == data[medium]:\n",
    "        return True\n",
    "    else:\n",
    "        if search_data < data[medium]:\n",
    "            return binary_search(data[:medium], search_data)\n",
    "        else:\n",
    "            return binary_search(data[medium+1:], search_data)"
   ],
   "metadata": {
    "collapsed": false,
    "pycharm": {
     "name": "#%%\n"
    }
   }
  },
  {
   "cell_type": "code",
   "execution_count": 15,
   "outputs": [],
   "source": [
    "data.sort()"
   ],
   "metadata": {
    "collapsed": false,
    "pycharm": {
     "name": "#%%\n"
    }
   }
  },
  {
   "cell_type": "code",
   "execution_count": 23,
   "outputs": [
    {
     "name": "stdout",
     "output_type": "stream",
     "text": [
      "[3, 4, 16, 22, 34, 46, 50, 72, 87, 94]\n",
      "[50, 72, 87, 94]\n",
      "[50, 72]\n"
     ]
    },
    {
     "data": {
      "text/plain": "True"
     },
     "execution_count": 23,
     "metadata": {},
     "output_type": "execute_result"
    }
   ],
   "source": [
    "binary_search(data, 72)"
   ],
   "metadata": {
    "collapsed": false,
    "pycharm": {
     "name": "#%%\n"
    }
   }
  },
  {
   "cell_type": "markdown",
   "source": [
    "# 백준 1920\n",
    "[https://www.acmicpc.net/problem/1920](https://www.acmicpc.net/problem/1920)"
   ],
   "metadata": {
    "collapsed": false
   }
  },
  {
   "cell_type": "code",
   "execution_count": 33,
   "outputs": [
    {
     "name": "stdout",
     "output_type": "stream",
     "text": [
      "1\n",
      "1\n",
      "0\n",
      "0\n",
      "1\n"
     ]
    }
   ],
   "source": [
    "\n",
    "\n",
    "# N = 5\n",
    "# n_data = [4, 1, 5, 2, 3]\n",
    "# M = 5\n",
    "# m_data = [1, 3, 7, 9, 5]\n",
    "\n",
    "N = int(input())\n",
    "n_data = list(map(int, input().split()))\n",
    "M = int(input())\n",
    "m_data = list(map(int, input().split()))\n",
    "\n",
    "def binary_search(n_data, search):\n",
    "    if len(n_data) == 0:\n",
    "        return 0\n",
    "    elif len(n_data) == 1:\n",
    "        if data[0] == search:\n",
    "            return 1\n",
    "        else:\n",
    "            return 0\n",
    "\n",
    "    medium = len(n_data) // 2\n",
    "    if n_data[medium] == search:\n",
    "        return 1\n",
    "    else:\n",
    "        if n_data[medium] > search:\n",
    "            return binary_search(n_data[:medium], search)\n",
    "        else:\n",
    "            return binary_search(n_data[medium:], search)\n",
    "\n",
    "for i in m_data:\n",
    "    print(binary_search(n_data, i))"
   ],
   "metadata": {
    "collapsed": false,
    "pycharm": {
     "name": "#%%\n"
    }
   }
  },
  {
   "cell_type": "code",
   "execution_count": null,
   "outputs": [],
   "source": [],
   "metadata": {
    "collapsed": false,
    "pycharm": {
     "name": "#%%\n"
    }
   }
  }
 ],
 "metadata": {
  "kernelspec": {
   "display_name": "Python 3",
   "language": "python",
   "name": "python3"
  },
  "language_info": {
   "codemirror_mode": {
    "name": "ipython",
    "version": 2
   },
   "file_extension": ".py",
   "mimetype": "text/x-python",
   "name": "python",
   "nbconvert_exporter": "python",
   "pygments_lexer": "ipython2",
   "version": "2.7.6"
  }
 },
 "nbformat": 4,
 "nbformat_minor": 0
}