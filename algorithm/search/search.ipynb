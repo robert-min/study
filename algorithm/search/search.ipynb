{
 "cells": [
  {
   "cell_type": "markdown",
   "source": [
    "# 순차 탐색(Sequential Search)\n",
    "* 하나하나 비교해서 원하는 데이터를 찾는 방법\n",
    "* 시간복잡도 O(N)"
   ],
   "metadata": {
    "collapsed": false
   }
  },
  {
   "cell_type": "code",
   "execution_count": 9,
   "metadata": {
    "collapsed": true
   },
   "outputs": [
    {
     "data": {
      "text/plain": "[3, 16, 50, 87, 46, 94, 34, 22, 4, 72]"
     },
     "execution_count": 9,
     "metadata": {},
     "output_type": "execute_result"
    }
   ],
   "source": [
    "# 샘플 데이터\n",
    "import random\n",
    "\n",
    "data = random.sample(range(100), 10)\n",
    "data"
   ]
  },
  {
   "cell_type": "code",
   "execution_count": 2,
   "outputs": [],
   "source": [
    "def sequential_search(data, search_data):\n",
    "    for i in range(len(data)):\n",
    "        if data[i] == search_data:\n",
    "            return True\n",
    "    return False"
   ],
   "metadata": {
    "collapsed": false,
    "pycharm": {
     "name": "#%%\n"
    }
   }
  },
  {
   "cell_type": "code",
   "execution_count": 3,
   "outputs": [
    {
     "data": {
      "text/plain": "True"
     },
     "execution_count": 3,
     "metadata": {},
     "output_type": "execute_result"
    }
   ],
   "source": [
    "sequential_search(data, 96)"
   ],
   "metadata": {
    "collapsed": false,
    "pycharm": {
     "name": "#%%\n"
    }
   }
  },
  {
   "cell_type": "markdown",
   "source": [
    "# 이진탐색(binary search)\n",
    "* 데이터가 정렬된 상태에서 데이터를 두개로 나눠서 찾음\n",
    "* 시간복잡도 O(logn)"
   ],
   "metadata": {
    "collapsed": false
   }
  },
  {
   "cell_type": "code",
   "execution_count": 22,
   "outputs": [],
   "source": [
    "def binary_search(data, search_data):\n",
    "    print(data)\n",
    "    # 종료조건\n",
    "    if len(data) == 1 and data[0] == search_data:\n",
    "        return True\n",
    "    if len(data) == 1 and data[0] != search_data:\n",
    "        return False\n",
    "    if len(data) == 0:\n",
    "        return False\n",
    "\n",
    "    medium = len(data) // 2\n",
    "    # if search_data < data[medium]:\n",
    "    #     return binary_search(data[:medium], search_data)\n",
    "    # elif search_data > data[medium]:\n",
    "    #     return binary_search(data[medium:], search_data)\n",
    "    # else:\n",
    "    #     return True\n",
    "\n",
    "    # 코드 개선\n",
    "    if search_data == data[medium]:\n",
    "        return True\n",
    "    else:\n",
    "        if search_data < data[medium]:\n",
    "            return binary_search(data[:medium], search_data)\n",
    "        else:\n",
    "            return binary_search(data[medium+1:], search_data)"
   ],
   "metadata": {
    "collapsed": false,
    "pycharm": {
     "name": "#%%\n"
    }
   }
  },
  {
   "cell_type": "code",
   "execution_count": 15,
   "outputs": [],
   "source": [
    "data.sort()"
   ],
   "metadata": {
    "collapsed": false,
    "pycharm": {
     "name": "#%%\n"
    }
   }
  },
  {
   "cell_type": "code",
   "execution_count": 23,
   "outputs": [
    {
     "name": "stdout",
     "output_type": "stream",
     "text": [
      "[3, 4, 16, 22, 34, 46, 50, 72, 87, 94]\n",
      "[50, 72, 87, 94]\n",
      "[50, 72]\n"
     ]
    },
    {
     "data": {
      "text/plain": "True"
     },
     "execution_count": 23,
     "metadata": {},
     "output_type": "execute_result"
    }
   ],
   "source": [
    "binary_search(data, 72)"
   ],
   "metadata": {
    "collapsed": false,
    "pycharm": {
     "name": "#%%\n"
    }
   }
  },
  {
   "cell_type": "markdown",
   "source": [
    "# 백준 1920\n",
    "[https://www.acmicpc.net/problem/1920](https://www.acmicpc.net/problem/1920)"
   ],
   "metadata": {
    "collapsed": false
   }
  },
  {
   "cell_type": "code",
   "execution_count": 33,
   "outputs": [
    {
     "name": "stdout",
     "output_type": "stream",
     "text": [
      "1\n",
      "1\n",
      "0\n",
      "0\n",
      "1\n"
     ]
    }
   ],
   "source": [
    "\n",
    "\n",
    "# N = 5\n",
    "# n_data = [4, 1, 5, 2, 3]\n",
    "# M = 5\n",
    "# m_data = [1, 3, 7, 9, 5]\n",
    "\n",
    "N = int(input())\n",
    "n_data = list(map(int, input().split()))\n",
    "M = int(input())\n",
    "m_data = list(map(int, input().split()))\n",
    "\n",
    "def binary_search(n_data, search):\n",
    "    if len(n_data) == 0:\n",
    "        return 0\n",
    "    elif len(n_data) == 1:\n",
    "        if data[0] == search:\n",
    "            return 1\n",
    "        else:\n",
    "            return 0\n",
    "\n",
    "    medium = len(n_data) // 2\n",
    "    if n_data[medium] == search:\n",
    "        return 1\n",
    "    else:\n",
    "        if n_data[medium] > search:\n",
    "            return binary_search(n_data[:medium], search)\n",
    "        else:\n",
    "            return binary_search(n_data[medium:], search)\n",
    "\n",
    "for i in m_data:\n",
    "    print(binary_search(n_data, i))"
   ],
   "metadata": {
    "collapsed": false,
    "pycharm": {
     "name": "#%%\n"
    }
   }
  },
  {
   "cell_type": "markdown",
   "source": [
    "\n",
    "# 백준 1543\n",
    "<https://www.acmicpc.net/problem/1543>"
   ],
   "metadata": {
    "collapsed": false
   }
  },
  {
   "cell_type": "code",
   "execution_count": 5,
   "outputs": [
    {
     "name": "stdout",
     "output_type": "stream",
     "text": [
      "2\n"
     ]
    }
   ],
   "source": [
    "input_data = input()\n",
    "word = input()\n",
    "\n",
    "index, result = 0, 0\n",
    "\n",
    "while len(input_data) - index >= len(word):\n",
    "    if input_data[index:index + len(word)] == word:\n",
    "        result += 1\n",
    "        index += len(word)\n",
    "    else:\n",
    "        index += 1\n",
    "print(result)"
   ],
   "metadata": {
    "collapsed": false,
    "pycharm": {
     "name": "#%%\n"
    }
   }
  },
  {
   "cell_type": "markdown",
   "source": [
    "# 백준 1568\n",
    "<https://www.acmicpc.net/problem/1568>"
   ],
   "metadata": {
    "collapsed": false
   }
  },
  {
   "cell_type": "code",
   "execution_count": 8,
   "outputs": [
    {
     "name": "stdout",
     "output_type": "stream",
     "text": [
      "3\n"
     ]
    }
   ],
   "source": [
    "n = int(input())\n",
    "index, result = 1, 0\n",
    "while n != 0:\n",
    "    if n >= index:\n",
    "        n -= index\n",
    "        index += 1\n",
    "        result += 1\n",
    "    else:\n",
    "        index = 1\n",
    "print(result)"
   ],
   "metadata": {
    "collapsed": false,
    "pycharm": {
     "name": "#%%\n"
    }
   }
  },
  {
   "cell_type": "markdown",
   "source": [
    "# 백준 1302\n",
    "<https://www.acmicpc.net/problem/1302>"
   ],
   "metadata": {
    "collapsed": false
   }
  },
  {
   "cell_type": "code",
   "execution_count": 24,
   "outputs": [
    {
     "ename": "ValueError",
     "evalue": "invalid literal for int() with base 10: ''",
     "output_type": "error",
     "traceback": [
      "\u001B[0;31m---------------------------------------------------------------------------\u001B[0m",
      "\u001B[0;31mValueError\u001B[0m                                Traceback (most recent call last)",
      "\u001B[0;32m/var/folders/mc/dq2kv5b10qjd6sq35tn_rvph0000gn/T/ipykernel_18542/2980219682.py\u001B[0m in \u001B[0;36m<module>\u001B[0;34m\u001B[0m\n\u001B[0;32m----> 1\u001B[0;31m \u001B[0mn\u001B[0m \u001B[0;34m=\u001B[0m \u001B[0mint\u001B[0m\u001B[0;34m(\u001B[0m\u001B[0minput\u001B[0m\u001B[0;34m(\u001B[0m\u001B[0;34m)\u001B[0m\u001B[0;34m)\u001B[0m\u001B[0;34m\u001B[0m\u001B[0;34m\u001B[0m\u001B[0m\n\u001B[0m\u001B[1;32m      2\u001B[0m \u001B[0;34m\u001B[0m\u001B[0m\n\u001B[1;32m      3\u001B[0m \u001B[0mbooks\u001B[0m \u001B[0;34m=\u001B[0m \u001B[0mdict\u001B[0m\u001B[0;34m(\u001B[0m\u001B[0;34m)\u001B[0m\u001B[0;34m\u001B[0m\u001B[0;34m\u001B[0m\u001B[0m\n\u001B[1;32m      4\u001B[0m \u001B[0;32mfor\u001B[0m \u001B[0m_\u001B[0m \u001B[0;32min\u001B[0m \u001B[0mrange\u001B[0m\u001B[0;34m(\u001B[0m\u001B[0mn\u001B[0m\u001B[0;34m)\u001B[0m\u001B[0;34m:\u001B[0m\u001B[0;34m\u001B[0m\u001B[0;34m\u001B[0m\u001B[0m\n\u001B[1;32m      5\u001B[0m     \u001B[0mname\u001B[0m \u001B[0;34m=\u001B[0m \u001B[0mstr\u001B[0m\u001B[0;34m(\u001B[0m\u001B[0minput\u001B[0m\u001B[0;34m(\u001B[0m\u001B[0;34m)\u001B[0m\u001B[0;34m)\u001B[0m\u001B[0;34m\u001B[0m\u001B[0;34m\u001B[0m\u001B[0m\n",
      "\u001B[0;31mValueError\u001B[0m: invalid literal for int() with base 10: ''"
     ]
    }
   ],
   "source": [
    "n = int(input())\n",
    "\n",
    "books = dict()\n",
    "for _ in range(n):\n",
    "    name = str(input())\n",
    "    if name in books.keys():\n",
    "        books[name] += 1\n",
    "    else:\n",
    "        books[name] = 1\n",
    "\n",
    "# max 같을 때 오류 발생 바로 sorted 하면 안됨\n",
    "# books = sorted(books, key=lambda x : x[1], reverse=True)\n",
    "# print(books)\n",
    "\n",
    "target = max(books.values())\n",
    "array = []\n",
    "\n",
    "for book, number in books.items():\n",
    "    if number == target:\n",
    "        array.append(book)\n",
    "print(sorted(array)[0])"
   ],
   "metadata": {
    "collapsed": false,
    "pycharm": {
     "name": "#%%\n"
    }
   }
  },
  {
   "cell_type": "markdown",
   "source": [
    "# 백준 1668\n",
    "<https://www.acmicpc.net/problem/1668>"
   ],
   "metadata": {
    "collapsed": false
   }
  },
  {
   "cell_type": "code",
   "execution_count": 22,
   "outputs": [
    {
     "name": "stdout",
     "output_type": "stream",
     "text": [
      "5\n",
      "4\n",
      "3\n",
      "2\n",
      "1\n",
      "0\n"
     ]
    }
   ],
   "source": [
    "for i in range(5, -1, -1):\n",
    "    print(i)"
   ],
   "metadata": {
    "collapsed": false,
    "pycharm": {
     "name": "#%%\n"
    }
   }
  },
  {
   "cell_type": "code",
   "execution_count": 23,
   "outputs": [
    {
     "name": "stdout",
     "output_type": "stream",
     "text": [
      "5\n",
      "1\n"
     ]
    }
   ],
   "source": [
    "n = int(input())\n",
    "\n",
    "array = list()\n",
    "for _ in range(n):\n",
    "    array.append(int(input()))\n",
    "\n",
    "left, max = 0, 0\n",
    "for i in range(len(array)):\n",
    "    if max < array[i]:\n",
    "        max = array[i]\n",
    "        left += 1\n",
    "\n",
    "right, max = 0, 0\n",
    "for j in range(len(array)-1, -1, -1):\n",
    "    if max < array[j]:\n",
    "        max = array[j]\n",
    "        right += 1\n",
    "print(left)\n",
    "print(right)"
   ],
   "metadata": {
    "collapsed": false,
    "pycharm": {
     "name": "#%%\n"
    }
   }
  },
  {
   "cell_type": "markdown",
   "source": [
    "# 백준 1236\n",
    "<https://www.acmicpc.net/problem/1236>"
   ],
   "metadata": {
    "collapsed": false
   }
  },
  {
   "cell_type": "code",
   "execution_count": 26,
   "outputs": [
    {
     "ename": "TypeError",
     "evalue": "'int' object is not callable",
     "output_type": "error",
     "traceback": [
      "\u001B[0;31m---------------------------------------------------------------------------\u001B[0m",
      "\u001B[0;31mTypeError\u001B[0m                                 Traceback (most recent call last)",
      "\u001B[0;32m/var/folders/mc/dq2kv5b10qjd6sq35tn_rvph0000gn/T/ipykernel_18542/3923728146.py\u001B[0m in \u001B[0;36m<module>\u001B[0;34m\u001B[0m\n\u001B[1;32m     13\u001B[0m             \u001B[0mcol\u001B[0m \u001B[0;34m+=\u001B[0m \u001B[0;36m1\u001B[0m\u001B[0;34m\u001B[0m\u001B[0;34m\u001B[0m\u001B[0m\n\u001B[1;32m     14\u001B[0m \u001B[0;34m\u001B[0m\u001B[0m\n\u001B[0;32m---> 15\u001B[0;31m \u001B[0mprint\u001B[0m\u001B[0;34m(\u001B[0m\u001B[0mmax\u001B[0m\u001B[0;34m(\u001B[0m\u001B[0mrow\u001B[0m\u001B[0;34m,\u001B[0m \u001B[0mcol\u001B[0m\u001B[0;34m)\u001B[0m\u001B[0;34m)\u001B[0m\u001B[0;34m\u001B[0m\u001B[0;34m\u001B[0m\u001B[0m\n\u001B[0m",
      "\u001B[0;31mTypeError\u001B[0m: 'int' object is not callable"
     ]
    }
   ],
   "source": [
    "N, M = map(int, input().split(\" \"))\n",
    "array = list()\n",
    "\n",
    "for _ in range(n):\n",
    "    array.append(input())\n",
    "\n",
    "row = [0] * N\n",
    "column = [0] * M\n",
    "\n",
    "for i in range(N):\n",
    "    for j in range(M):\n",
    "        if array[i][j] == \"X\":\n",
    "            row[i] = 1\n",
    "            column[i] = 1\n",
    "\n",
    "row_count = 0\n",
    "for i in range(N):\n",
    "    if row[i] == 0:\n",
    "        row_count += 1\n",
    "\n",
    "column_count = 0\n",
    "for j in range(M):\n",
    "    if column[j] == 0:\n",
    "        column_count += 1\n",
    "\n",
    "print(max(row_count, column_count))"
   ],
   "metadata": {
    "collapsed": false,
    "pycharm": {
     "name": "#%%\n"
    }
   }
  },
  {
   "cell_type": "code",
   "execution_count": null,
   "outputs": [],
   "source": [],
   "metadata": {
    "collapsed": false,
    "pycharm": {
     "name": "#%%\n"
    }
   }
  }
 ],
 "metadata": {
  "kernelspec": {
   "display_name": "Python 3",
   "language": "python",
   "name": "python3"
  },
  "language_info": {
   "codemirror_mode": {
    "name": "ipython",
    "version": 2
   },
   "file_extension": ".py",
   "mimetype": "text/x-python",
   "name": "python",
   "nbconvert_exporter": "python",
   "pygments_lexer": "ipython2",
   "version": "2.7.6"
  }
 },
 "nbformat": 4,
 "nbformat_minor": 0
}