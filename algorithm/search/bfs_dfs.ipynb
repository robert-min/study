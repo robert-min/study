{
 "cells": [
  {
   "cell_type": "markdown",
   "source": [
    "# BFS(너비 우선 탐색)\n",
    "* 정점들과 같은 레벨에 있는 노드 탐색\n",
    "* 시간 복잡도 : O(V+E) 노드 수 + 간선 수"
   ],
   "metadata": {
    "collapsed": false
   }
  },
  {
   "cell_type": "code",
   "execution_count": 1,
   "metadata": {
    "collapsed": true
   },
   "outputs": [
    {
     "data": {
      "text/plain": "{'A': ['B', 'C'],\n 'B': ['A', 'D'],\n 'C': ['A', 'G', 'H', 'I'],\n 'D': ['B', 'E', 'F'],\n 'E': ['D'],\n 'F': ['D'],\n 'G': ['C'],\n 'H': ['C'],\n 'I': ['C', 'J'],\n 'J': ['I']}"
     },
     "execution_count": 1,
     "metadata": {},
     "output_type": "execute_result"
    }
   ],
   "source": [
    "# 데이터 예제\n",
    "graph = dict()\n",
    "\n",
    "graph['A'] = ['B', 'C']\n",
    "graph['B'] = ['A', 'D']\n",
    "graph['C'] = ['A', 'G', 'H', 'I']\n",
    "graph['D'] = ['B', 'E', 'F']\n",
    "graph['E'] = ['D']\n",
    "graph['F'] = ['D']\n",
    "graph['G'] = ['C']\n",
    "graph['H'] = ['C']\n",
    "graph['I'] = ['C', 'J']\n",
    "graph['J'] = ['I']\n",
    "\n",
    "graph"
   ]
  },
  {
   "cell_type": "code",
   "execution_count": 3,
   "outputs": [
    {
     "name": "stdout",
     "output_type": "stream",
     "text": [
      "A ['B', 'C']\n",
      "B ['A', 'D']\n",
      "C ['A', 'G', 'H', 'I']\n",
      "A ['B', 'C']\n",
      "D ['B', 'E', 'F']\n",
      "A ['B', 'C']\n",
      "G ['C']\n",
      "H ['C']\n",
      "I ['C', 'J']\n",
      "B ['A', 'D']\n",
      "E ['D']\n",
      "F ['D']\n",
      "C ['A', 'G', 'H', 'I']\n",
      "C ['A', 'G', 'H', 'I']\n",
      "C ['A', 'G', 'H', 'I']\n",
      "J ['I']\n",
      "D ['B', 'E', 'F']\n",
      "D ['B', 'E', 'F']\n",
      "I ['C', 'J']\n"
     ]
    },
    {
     "data": {
      "text/plain": "['A', 'B', 'C', 'D', 'G', 'H', 'I', 'E', 'F', 'J']"
     },
     "execution_count": 3,
     "metadata": {},
     "output_type": "execute_result"
    }
   ],
   "source": [
    "def bfs(graph, start):\n",
    "    visited, need_visit = list(), list()\n",
    "\n",
    "    need_visit.append(start)\n",
    "\n",
    "    while need_visit:\n",
    "        node = need_visit.pop(0)    # need_visit 첫번째 Queue 방식\n",
    "        # print(node, graph[node])\n",
    "        if node not in visited:\n",
    "            visited.append(node)\n",
    "            need_visit.extend(graph[node])  # 해당 노드의 value 값 need_visit에 넣기\n",
    "    return visited\n",
    "\n",
    "bfs(graph, \"A\")"
   ],
   "metadata": {
    "collapsed": false,
    "pycharm": {
     "name": "#%%\n"
    }
   }
  },
  {
   "cell_type": "markdown",
   "source": [
    "# DFS(깊이 우선 탐색)\n",
    "* 정점의 자식들을 먼저 탐색하는 방식\n",
    "* 시간 복잡도 : O(V+E)"
   ],
   "metadata": {
    "collapsed": false
   }
  },
  {
   "cell_type": "code",
   "execution_count": 4,
   "outputs": [
    {
     "data": {
      "text/plain": "['A', 'C', 'I', 'J', 'H', 'G', 'B', 'D', 'F', 'E']"
     },
     "execution_count": 4,
     "metadata": {},
     "output_type": "execute_result"
    }
   ],
   "source": [
    "def dfs(graph, start):\n",
    "    visited, need_visit = list(), list()\n",
    "    need_visit.append(start)\n",
    "\n",
    "    while need_visit:\n",
    "        node = need_visit.pop()\n",
    "        if node not in visited:\n",
    "            visited.append(node)\n",
    "            need_visit.extend(graph[node])\n",
    "\n",
    "    return visited\n",
    "\n",
    "dfs(graph, \"A\")"
   ],
   "metadata": {
    "collapsed": false,
    "pycharm": {
     "name": "#%%\n"
    }
   }
  },
  {
   "cell_type": "markdown",
   "source": [
    "# 탐욕 알고리즘\n",
    "* 최적에 가가운 해를 구하기 위해 사용"
   ],
   "metadata": {
    "collapsed": false
   }
  },
  {
   "cell_type": "markdown",
   "source": [
    "## Ex. 동전 문제"
   ],
   "metadata": {
    "collapsed": false
   }
  },
  {
   "cell_type": "code",
   "execution_count": 5,
   "outputs": [],
   "source": [
    "value = 4720\n",
    "coin = [1, 100, 500, 50]"
   ],
   "metadata": {
    "collapsed": false,
    "pycharm": {
     "name": "#%%\n"
    }
   }
  },
  {
   "cell_type": "code",
   "execution_count": 6,
   "outputs": [
    {
     "data": {
      "text/plain": "31"
     },
     "execution_count": 6,
     "metadata": {},
     "output_type": "execute_result"
    }
   ],
   "source": [
    "def min_coin_count(coin_list, value):\n",
    "    total = 0\n",
    "    coin.sort(reverse=True)\n",
    "    for i in coin_list:\n",
    "        coin_num = value // i\n",
    "        total += coin_num\n",
    "        value -= coin_num * i\n",
    "    return total\n",
    "\n",
    "min_coin_count(coin, value)"
   ],
   "metadata": {
    "collapsed": false,
    "pycharm": {
     "name": "#%%\n"
    }
   }
  },
  {
   "cell_type": "markdown",
   "source": [
    "## 배낭 문제"
   ],
   "metadata": {
    "collapsed": false
   }
  },
  {
   "cell_type": "code",
   "execution_count": 14,
   "outputs": [
    {
     "data": {
      "text/plain": "(24.5, [[10, 10, 1], [15, 12, 1], [20, 10, 0.25]])"
     },
     "execution_count": 14,
     "metadata": {},
     "output_type": "execute_result"
    }
   ],
   "source": [
    "data = [(10, 10), (15, 12), (20, 10), (25, 8), (30, 5)]\n",
    "limit_w = 30\n",
    "\n",
    "# value 가 최대\n",
    "def max_value(data_list, limit):\n",
    "    data_list = sorted(data_list, key=lambda x : x[1] / x[0], reverse=True) # 무게대비 가치가 큰거 부터\n",
    "    total_value = 0\n",
    "    details = list()\n",
    "    for data in data_list:\n",
    "        if limit - data[0] >= 0:\n",
    "            limit -= data[0]\n",
    "            total_value += data[1]\n",
    "            details.append([data[0], data[1], 1])\n",
    "        else:\n",
    "            fraction = limit / data[0]\n",
    "            total_value += data[1] * fraction\n",
    "            details.append([data[0], data[1], fraction])\n",
    "            break\n",
    "    return total_value, details\n",
    "\n",
    "max_value(data, limit_w)"
   ],
   "metadata": {
    "collapsed": false,
    "pycharm": {
     "name": "#%%\n"
    }
   }
  },
  {
   "cell_type": "markdown",
   "source": [
    "# 다익스트라 알고리즘(단일 출발 최단경로 알고리즘)\n",
    "* 하나의 정점에서 다른 모든 정점 간의 가장 짧은 거리를 구하는 문제\n",
    "* 우선순위 Queue 알고리즘 활용"
   ],
   "metadata": {
    "collapsed": false
   }
  },
  {
   "cell_type": "code",
   "execution_count": 16,
   "outputs": [],
   "source": [
    "# 예시 데이터\n",
    "graph = {\n",
    "    'A': {'B': 8, 'C': 1, 'D': 2},\n",
    "    'B': {},\n",
    "    'C': {'B': 5, 'D': 2},\n",
    "    'D': {'E': 3, 'F': 5},\n",
    "    'E': {'F': 1},\n",
    "    'F': {'A': 5}\n",
    "}"
   ],
   "metadata": {
    "collapsed": false,
    "pycharm": {
     "name": "#%%\n"
    }
   }
  },
  {
   "cell_type": "code",
   "execution_count": 18,
   "outputs": [
    {
     "data": {
      "text/plain": "{'A': 0, 'B': 6, 'C': 1, 'D': 2, 'E': 5, 'F': 6}"
     },
     "execution_count": 18,
     "metadata": {},
     "output_type": "execute_result"
    }
   ],
   "source": [
    "import heapq\n",
    "\n",
    "def dijkstra(graph, start):\n",
    "\n",
    "    # 데이터 초기화\n",
    "    distances = {node: float(\"inf\") for node in graph}\n",
    "    distances[start] = 0    # 그래프 시작 정점 거리 0\n",
    "    queue = []  # 정점이 저장될 queue <- queue에 데이터가 없으면 종료\n",
    "    heapq.heappush(queue, [distances[start], start])\n",
    "\n",
    "    while queue:\n",
    "        current_distance, current_node = heapq.heappop(queue)\n",
    "\n",
    "        # 더 짧은 경로 있으면 무시\n",
    "        if distances[current_node] < current_distance:\n",
    "            continue\n",
    "\n",
    "        for adj, weight in graph[current_node].items():\n",
    "            distance = current_distance + weight\n",
    "\n",
    "            if distance < distances[adj]:\n",
    "                distances[adj] = distance\n",
    "                heapq.heappush(queue, [distance, adj])\n",
    "\n",
    "    return distances\n",
    "\n",
    "\n",
    "dijkstra(graph, \"A\")"
   ],
   "metadata": {
    "collapsed": false,
    "pycharm": {
     "name": "#%%\n"
    }
   }
  },
  {
   "cell_type": "markdown",
   "source": [
    "# 백준 1939\n",
    "<https://www.acmicpc.net/problem/1939>"
   ],
   "metadata": {
    "collapsed": false
   }
  },
  {
   "cell_type": "code",
   "execution_count": null,
   "outputs": [],
   "source": [],
   "metadata": {
    "collapsed": false,
    "pycharm": {
     "name": "#%%\n"
    }
   }
  },
  {
   "cell_type": "markdown",
   "source": [
    "# 백준 1991\n",
    "<https://www.acmicpc.net/problem/1991>"
   ],
   "metadata": {
    "collapsed": false
   }
  },
  {
   "cell_type": "code",
   "execution_count": 6,
   "outputs": [
    {
     "ename": "AttributeError",
     "evalue": "'str' object has no attribute 'data'",
     "output_type": "error",
     "traceback": [
      "\u001B[0;31m---------------------------------------------------------------------------\u001B[0m",
      "\u001B[0;31mAttributeError\u001B[0m                            Traceback (most recent call last)",
      "\u001B[0;32m/var/folders/mc/dq2kv5b10qjd6sq35tn_rvph0000gn/T/ipykernel_23507/3797681380.py\u001B[0m in \u001B[0;36m<module>\u001B[0;34m\u001B[0m\n\u001B[1;32m     36\u001B[0m     \u001B[0mgraph\u001B[0m\u001B[0;34m[\u001B[0m\u001B[0mdata\u001B[0m\u001B[0;34m]\u001B[0m \u001B[0;34m=\u001B[0m \u001B[0mNode\u001B[0m\u001B[0;34m(\u001B[0m\u001B[0mdata\u001B[0m\u001B[0;34m,\u001B[0m \u001B[0mleft_node\u001B[0m\u001B[0;34m,\u001B[0m \u001B[0mright_node\u001B[0m\u001B[0;34m)\u001B[0m\u001B[0;34m\u001B[0m\u001B[0;34m\u001B[0m\u001B[0m\n\u001B[1;32m     37\u001B[0m \u001B[0;34m\u001B[0m\u001B[0m\n\u001B[0;32m---> 38\u001B[0;31m \u001B[0mprint\u001B[0m\u001B[0;34m(\u001B[0m\u001B[0mpre_order\u001B[0m\u001B[0;34m(\u001B[0m\u001B[0;34m\"A\"\u001B[0m\u001B[0;34m)\u001B[0m\u001B[0;34m)\u001B[0m\u001B[0;34m\u001B[0m\u001B[0;34m\u001B[0m\u001B[0m\n\u001B[0m\u001B[1;32m     39\u001B[0m \u001B[0mprint\u001B[0m\u001B[0;34m(\u001B[0m\u001B[0;34m)\u001B[0m\u001B[0;34m\u001B[0m\u001B[0;34m\u001B[0m\u001B[0m\n\u001B[1;32m     40\u001B[0m \u001B[0mprint\u001B[0m\u001B[0;34m(\u001B[0m\u001B[0mmid_order\u001B[0m\u001B[0;34m(\u001B[0m\u001B[0;34m\"A\"\u001B[0m\u001B[0;34m)\u001B[0m\u001B[0;34m)\u001B[0m\u001B[0;34m\u001B[0m\u001B[0;34m\u001B[0m\u001B[0m\n",
      "\u001B[0;32m/var/folders/mc/dq2kv5b10qjd6sq35tn_rvph0000gn/T/ipykernel_23507/3797681380.py\u001B[0m in \u001B[0;36mpre_order\u001B[0;34m(node)\u001B[0m\n\u001B[1;32m      7\u001B[0m \u001B[0;31m# 전위순회 : route -left- right\u001B[0m\u001B[0;34m\u001B[0m\u001B[0;34m\u001B[0m\u001B[0;34m\u001B[0m\u001B[0m\n\u001B[1;32m      8\u001B[0m \u001B[0;32mdef\u001B[0m \u001B[0mpre_order\u001B[0m\u001B[0;34m(\u001B[0m\u001B[0mnode\u001B[0m\u001B[0;34m)\u001B[0m\u001B[0;34m:\u001B[0m\u001B[0;34m\u001B[0m\u001B[0;34m\u001B[0m\u001B[0m\n\u001B[0;32m----> 9\u001B[0;31m     \u001B[0mprint\u001B[0m\u001B[0;34m(\u001B[0m\u001B[0mnode\u001B[0m\u001B[0;34m.\u001B[0m\u001B[0mdata\u001B[0m\u001B[0;34m,\u001B[0m \u001B[0mend\u001B[0m\u001B[0;34m=\u001B[0m\u001B[0;34m\"\"\u001B[0m\u001B[0;34m)\u001B[0m\u001B[0;34m\u001B[0m\u001B[0;34m\u001B[0m\u001B[0m\n\u001B[0m\u001B[1;32m     10\u001B[0m     \u001B[0;32mif\u001B[0m \u001B[0mnode\u001B[0m\u001B[0;34m.\u001B[0m\u001B[0mleft_node\u001B[0m \u001B[0;34m!=\u001B[0m \u001B[0;34m\".\"\u001B[0m\u001B[0;34m:\u001B[0m\u001B[0;34m\u001B[0m\u001B[0;34m\u001B[0m\u001B[0m\n\u001B[1;32m     11\u001B[0m         \u001B[0mpre_order\u001B[0m\u001B[0;34m(\u001B[0m\u001B[0mgraph\u001B[0m\u001B[0;34m[\u001B[0m\u001B[0mnode\u001B[0m\u001B[0;34m.\u001B[0m\u001B[0mleft_node\u001B[0m\u001B[0;34m]\u001B[0m\u001B[0;34m)\u001B[0m\u001B[0;34m\u001B[0m\u001B[0;34m\u001B[0m\u001B[0m\n",
      "\u001B[0;31mAttributeError\u001B[0m: 'str' object has no attribute 'data'"
     ]
    }
   ],
   "source": [
    "class Node:\n",
    "    def __init__(self, data, left_node, right_node):\n",
    "        self.data = data\n",
    "        self.left_node = left_node\n",
    "        self.right_node = right_node\n",
    "\n",
    "# 전위순회 : route -left- right\n",
    "def pre_order(node):\n",
    "    print(node.data, end=\"\")\n",
    "    if node.left_node != \".\":\n",
    "        pre_order(graph[node.left_node])\n",
    "    if node.right_node != \".\":\n",
    "        pre_order(graph[node.right_node])\n",
    "\n",
    "# 중위순회 : left -route -right\n",
    "def mid_order(node):\n",
    "    if node.left_node != \".\":\n",
    "        mid_order(graph[node.left_node])\n",
    "    print(node.data, end=\"\")\n",
    "    if node.right_node != \"\":\n",
    "        mid_order(graph[node.right_node])\n",
    "\n",
    "# 후위순회 : left - right- route\n",
    "def back_order(node):\n",
    "    if node.left_node != \".\":\n",
    "        back_order(graph[node.left_node])\n",
    "    if node.right_node != \".\":\n",
    "        back_order(graph[node.right_node])\n",
    "    print(node.data, end=\"\")\n",
    "\n",
    "# data\n",
    "n = int(input())\n",
    "graph = dict()\n",
    "for i in range(n):\n",
    "    data, left_node, right_node = input().split()\n",
    "    graph[data] = Node(data, left_node, right_node)\n",
    "\n",
    "pre_order(graph[\"A\"])\n",
    "print()\n",
    "mid_order(graph[\"A\"])\n",
    "print()\n",
    "back_order(graph[\"A\"])"
   ],
   "metadata": {
    "collapsed": false,
    "pycharm": {
     "name": "#%%\n"
    }
   }
  },
  {
   "cell_type": "code",
   "execution_count": 3,
   "outputs": [
    {
     "data": {
      "text/plain": "['A', 'B', 'D', 'C', 'E', 'F', 'G']"
     },
     "execution_count": 3,
     "metadata": {},
     "output_type": "execute_result"
    }
   ],
   "source": [
    "# data\n",
    "graph = dict()\n",
    "graph[\"A\"] = [\"B\", \"C\"]\n",
    "graph[\"B\"] = [\"D\", \".\"]\n",
    "graph[\"C\"] = [\"E\", \"F\"]\n",
    "graph[\"E\"] = [\".\", \".\"]\n",
    "graph[\"F\"] = [\".\", \"G\"]\n",
    "graph[\"D\"] = [\".\", \".\"]\n",
    "graph[\"G\"] = [\".\", \".\"]\n",
    "\n",
    "# 전위순회\n",
    "def dfs(graph, start):\n",
    "    visited, need_visit = list(), list()\n",
    "    need_visit.append(start)\n",
    "\n",
    "    while need_visit:\n",
    "        node = need_visit.pop()\n",
    "        if node not in visited:\n",
    "            visited.append(node)\n",
    "            if graph[node]:\n",
    "                graph[node].sort(reverse=True)\n",
    "            else:\n",
    "                pass\n",
    "            need_visit.extend(graph[node])\n",
    "    return visited\n",
    "\n",
    "dfs(graph, \"A\")"
   ],
   "metadata": {
    "collapsed": false,
    "pycharm": {
     "name": "#%%\n"
    }
   }
  },
  {
   "cell_type": "markdown",
   "source": [
    "# 백준 2250\n",
    "<https://www.acmicpc.net/problem/2250>"
   ],
   "metadata": {
    "collapsed": false
   }
  },
  {
   "cell_type": "code",
   "execution_count": null,
   "outputs": [],
   "source": [
    "# 노드 입력\n",
    "class Node:\n",
    "    def __init__(self, number, left_node, right_node):\n",
    "        self.parent = -1\n",
    "        self.number = number\n",
    "        self.left_node = left_node\n",
    "        self.right_node = right_node\n",
    "\n",
    "# 중앙순회\n",
    "def in_order(node, level):\n",
    "    global level_depth, x\n",
    "    level_depth = max(level_depth, level)\n",
    "    if node.left_node != -1\n",
    "        in_order(tree[node.left_node], level + 1)\n",
    "    level_min[level] = min(level_min[level], x)\n",
    "    level_max[level] = max(level_max[level], x)\n",
    "    x += 1\n",
    "    if node.right_node != -1:\n",
    "        in_order(tree[node.right_node], level + 1)\n",
    "\n",
    "# 트리 초기화\n",
    "n = int(input())\n",
    "tree = dict()\n",
    "level_min = [n]\n",
    "level_max = [0]\n",
    "root = -1\n",
    "x = 1\n",
    "level_depth = 1\n",
    "\n",
    "for i in range(1, n+1):\n",
    "    tree[i] = Node(i, -1, -1)\n",
    "    level_min.append(n)\n",
    "    level_depth.append(0)\n",
    "\n",
    "# 자식노드와 부모노드 연결\n",
    "for _ in range(n):\n",
    "    number, left_node, right_node = map(int, input().split())\n",
    "    tree[number].left_node = left_node\n",
    "    tree[number].right_node = right_node\n",
    "    if left_node != -1:\n",
    "        tree[left_node].parent = number\n",
    "    if right_node != -1:\n",
    "        tree[right_node].parent = number\n",
    "\n",
    "\n",
    "# 루트 노드 찾기\n",
    "for i in range(1, n + 1):\n",
    "    if tree[i].parent == -1:\n",
    "        root = i\n",
    "\n",
    "# 루트노드로 중앙순회(left - root - right)\n",
    "in_order(tree[root], 1)\n",
    "\n",
    "# 결과 출력\n",
    "result_level = 1\n",
    "result_width = level_max[1] - level_max[1] + 1\n",
    "for i in range(2, level_depth + 1):\n",
    "    width = level_max[i] - level_min[i] + 1\n",
    "    if result_width < width:\n",
    "        result_level = i\n",
    "        result_width = width\n",
    "\n",
    "print(result_level, result_width)"
   ],
   "metadata": {
    "collapsed": false,
    "pycharm": {
     "name": "#%%\n"
    }
   }
  },
  {
   "cell_type": "markdown",
   "source": [
    "# 백준 1260\n",
    "<https://www.acmicpc.net/problem/1260>"
   ],
   "metadata": {
    "collapsed": false
   }
  },
  {
   "cell_type": "code",
   "execution_count": 9,
   "outputs": [
    {
     "name": "stdout",
     "output_type": "stream",
     "text": [
      "1243\n",
      "1 2 3 4 "
     ]
    }
   ],
   "source": [
    "from collections import deque\n",
    "\n",
    "# DFS\n",
    "def dfs(start):\n",
    "    print(start, end=\" \")\n",
    "    visited[start] = True\n",
    "    for i in adj[start]:\n",
    "        if not(visited[i]):\n",
    "            dfs(i)\n",
    "\n",
    "# BFS\n",
    "def bfs(start):\n",
    "    q = deque([start])\n",
    "    while q:\n",
    "        start = q.popleft()\n",
    "        if not (visited[start]):\n",
    "            visited[start] = True\n",
    "            print(start, end=\" \")\n",
    "            for i in adj[start]:\n",
    "                if not visited[i]:\n",
    "                    q.append(i)\n",
    "\n",
    "# 입력 -> 딕셔너리로 저장하면 sort 할 방법이 없음\n",
    "n, m, start = 4, 5, 1\n",
    "adj = [[] for _ in range(n + 1)]\n",
    "for _ in range(m):\n",
    "    node1, node2 = map(int, input().split())\n",
    "    adj[node1].append(node2)\n",
    "    adj[node2].append(node1)\n",
    "\n",
    "for e in adj:\n",
    "    e.sort()\n",
    "\n",
    "# 출력\n",
    "visited = [False] * (n + 1)\n",
    "dfs(start)\n",
    "print()\n",
    "visited = [False] * (n + 1)\n",
    "bfs(start)"
   ],
   "metadata": {
    "collapsed": false,
    "pycharm": {
     "name": "#%%\n"
    }
   }
  },
  {
   "cell_type": "markdown",
   "source": [
    "# 백준 1697\n",
    "<https://www.acmicpc.net/problem/1697>"
   ],
   "metadata": {
    "collapsed": false
   }
  },
  {
   "cell_type": "code",
   "execution_count": 11,
   "outputs": [
    {
     "name": "stdout",
     "output_type": "stream",
     "text": [
      "4\n"
     ]
    }
   ],
   "source": [
    "from _collections import deque\n",
    "\n",
    "def bfs():\n",
    "    q = deque([n])\n",
    "    while q:\n",
    "        now_pos = q.popleft()\n",
    "        if now_pos == k:\n",
    "            return array[now_pos]\n",
    "        for next_pos in (now_pos - 1, now_pos + 1, now_pos * 2):\n",
    "            if 0 <= next_pos < MAX and not array[next_pos]:\n",
    "                array[next_pos] = array[now_pos] + 1\n",
    "                q.append(next_pos)\n",
    "\n",
    "\n",
    "MAX = 100001\n",
    "n, k = map(int, input().split())\n",
    "array = [0] * MAX\n",
    "\n",
    "print(bfs())"
   ],
   "metadata": {
    "collapsed": false,
    "pycharm": {
     "name": "#%%\n"
    }
   }
  },
  {
   "cell_type": "markdown",
   "source": [
    "# 백준 2606\n",
    "<https://www.acmicpc.net/problem/2606>"
   ],
   "metadata": {
    "collapsed": false
   }
  },
  {
   "cell_type": "code",
   "execution_count": 4,
   "outputs": [
    {
     "name": "stdout",
     "output_type": "stream",
     "text": [
      "4\n"
     ]
    }
   ],
   "source": [
    "\n",
    "# 입력\n",
    "n = int(input())\n",
    "m = int(input())\n",
    "graph = [[] for _ in range(n + 1)]\n",
    "\n",
    "for _ in range(m):\n",
    "    node1, node2 = map(int, input().split())\n",
    "    graph[node1].append(node2)\n",
    "    graph[node2].append(node1)\n",
    "\n",
    "visited = [False] * (n + 1)\n",
    "count = 0\n",
    "\n",
    "# bfs\n",
    "def dfs(now_pos):\n",
    "    global count\n",
    "    count += 1\n",
    "    visited[now_pos] = True\n",
    "    for next_pos in graph[now_pos]:\n",
    "        if not visited[next_pos]:\n",
    "            dfs(next_pos)\n",
    "\n",
    "# 출력\n",
    "dfs(1)\n",
    "print(count - 1)"
   ],
   "metadata": {
    "collapsed": false,
    "pycharm": {
     "name": "#%%\n"
    }
   }
  },
  {
   "cell_type": "markdown",
   "source": [
    "# 백준 1012\n",
    "<https://www.acmicpc.net/problem/1012>"
   ],
   "metadata": {
    "collapsed": false
   }
  },
  {
   "cell_type": "code",
   "execution_count": null,
   "outputs": [],
   "source": [
    "# 재귀함수 제한을 풀기 위#\n",
    "import sys\n",
    "sys.setrecursionlimit(100000)\n",
    "\n",
    "def dfs(x, y):\n",
    "    visited[x][y] = True\n",
    "    directions = [(-1, 0), (1, 0), (0, -1), (0, 1)]\n",
    "    for dx, dy in directions:\n",
    "        nx, ny = x + dx, y + dy\n",
    "        if nx < 0 or nx >= n or ny <0 or ny >= m:\n",
    "            continue\n",
    "        if array[nx][ny] and not visited[nx][ny]:\n",
    "            dfs(nx, ny)\n",
    "\n",
    "for _ in range(int(input())):\n",
    "    m, n, k = map(int, input().split())\n",
    "    array = [[0] * m for _ in range(n)]\n",
    "    visited = [[False] * m for _ in range(n)]\n",
    "\n",
    "    for _ in range(k):\n",
    "        y, x = map(int, input().split())\n",
    "        array[y][x] = 1\n",
    "    result = 0\n",
    "    for i in range(n):\n",
    "        for j in range(m):\n",
    "            if array[i][j] and not visited[i][j]:\n",
    "                dfs(i , j)\n",
    "                result += 1\n",
    "    print(result)"
   ],
   "metadata": {
    "collapsed": false,
    "pycharm": {
     "name": "#%%\n"
    }
   }
  },
  {
   "cell_type": "markdown",
   "source": [
    "# 백준 1325\n",
    "<https://www.acmicpc.net/problem/1325>"
   ],
   "metadata": {
    "collapsed": false,
    "pycharm": {
     "name": "#%% md\n"
    }
   }
  },
  {
   "cell_type": "code",
   "execution_count": null,
   "outputs": [],
   "source": [
    "from collections import deque\n",
    "# 입력\n",
    "n, m = map(int, input().split())\n",
    "adj = [[] for _ in range(n+1)]\n",
    "\n",
    "for _ in range(m):\n",
    "    node1, node2 = map(int, input().split())\n",
    "    adj[node2].append(node1)\n",
    "\n",
    "# bfs\n",
    "def bfs(v):\n",
    "    q = deque([v])\n",
    "    visited = [False] * (n+1)\n",
    "    visited[v] = True\n",
    "    count = 1\n",
    "    while q:\n",
    "        v = q.popleft()\n",
    "        for e in adj[v]:\n",
    "            if not visited[e]:\n",
    "                q.append(e)\n",
    "                visited[e] = True\n",
    "                count += 1\n",
    "    return count\n",
    "\n",
    "result = list()\n",
    "max_value = -1\n",
    "for i in range(1, n + 1):\n",
    "    c = bfs(i)\n",
    "    if c > max_value:\n",
    "        result = [i]\n",
    "        max_value = c\n",
    "    elif c == max_value:\n",
    "        result.append(i)\n",
    "        max_value = c\n",
    "\n",
    "for e in result:\n",
    "    print(e, end=\" \")\n",
    "\n",
    "\n",
    "# 출력(오름차순)"
   ],
   "metadata": {
    "collapsed": false,
    "pycharm": {
     "name": "#%%\n"
    }
   }
  },
  {
   "cell_type": "markdown",
   "source": [
    "# 백준 10282\n",
    "<https://www.acmicpc.net/problem/10282>"
   ],
   "metadata": {
    "collapsed": false
   }
  },
  {
   "cell_type": "code",
   "execution_count": null,
   "outputs": [],
   "source": [
    "import heapq\n",
    "import sys\n",
    "input = sys.stdin.readline\n",
    "\n",
    "def dijkstra(start):\n",
    "    heap_data = list()\n",
    "    heapq.heappush(heap_data, (0, start))\n",
    "    distance[start] = 0\n",
    "    while heap_data:\n",
    "        dist, now = heapq.heappop(heap_data)\n",
    "        if distance[now] < dist:\n",
    "            continue\n",
    "        for i in adj[now]:\n",
    "            cost = dist + i[1]\n",
    "            if distance[i[0]] > cost:\n",
    "                distance[i[0]] = cost\n",
    "                heapq.heappush(heap_data, (cost, i[0]))\n",
    "\n",
    "for _ in range(int(input())):\n",
    "    n, m, start = map(int, input().split())\n",
    "    adj = [[] for _ in range(n+1)]\n",
    "    distance = [1e9] * (n + 1)\n",
    "    for _ in range(m):\n",
    "        x, y, cost = map(int, input().split())\n",
    "        adj[y].append((x, cost))\n",
    "    dijkstra(start)\n",
    "    count = 0\n",
    "    max_distance = 0\n",
    "    for i in distance:\n",
    "        if i != 1e9:\n",
    "            count += 1\n",
    "            if i > max_distance:\n",
    "                max_distance = i\n",
    "print(count, max_distance)"
   ],
   "metadata": {
    "collapsed": false,
    "pycharm": {
     "name": "#%%\n"
    }
   }
  },
  {
   "cell_type": "code",
   "execution_count": null,
   "outputs": [],
   "source": [
    "import heapq\n",
    "\n",
    "def dijkstra(graph, start):\n",
    "\n",
    "    # 데이터 초기화\n",
    "    distances = {node: float(\"inf\") for node in graph}\n",
    "    distances[start] = 0    # 그래프 시작 정점 거리 0\n",
    "    queue = []  # 정점이 저장될 queue <- queue에 데이터가 없으면 종료\n",
    "    heapq.heappush(queue, [distances[start], start])\n",
    "\n",
    "    while queue:\n",
    "        current_distance, current_node = heapq.heappop(queue)\n",
    "\n",
    "        # 더 짧은 경로 있으면 무시\n",
    "        if distances[current_node] < current_distance:\n",
    "            continue\n",
    "\n",
    "        for adj, weight in graph[current_node].items():\n",
    "            distance = current_distance + weight\n",
    "\n",
    "            if distance < distances[adj]:\n",
    "                distances[adj] = distance\n",
    "                heapq.heappush(queue, [distance, adj])\n",
    "\n",
    "    return distances\n",
    "\n",
    "\n",
    "dijkstra(graph, \"A\")"
   ],
   "metadata": {
    "collapsed": false,
    "pycharm": {
     "name": "#%%\n"
    }
   }
  }
 ],
 "metadata": {
  "kernelspec": {
   "display_name": "Python 3",
   "language": "python",
   "name": "python3"
  },
  "language_info": {
   "codemirror_mode": {
    "name": "ipython",
    "version": 2
   },
   "file_extension": ".py",
   "mimetype": "text/x-python",
   "name": "python",
   "nbconvert_exporter": "python",
   "pygments_lexer": "ipython2",
   "version": "2.7.6"
  }
 },
 "nbformat": 4,
 "nbformat_minor": 0
}