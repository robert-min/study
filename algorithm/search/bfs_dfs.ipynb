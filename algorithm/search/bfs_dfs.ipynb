{
 "cells": [
  {
   "cell_type": "markdown",
   "source": [
    "# BFS(너비 우선 탐색)\n",
    "* 정점들과 같은 레벨에 있는 노드 탐색\n",
    "* 시간 복잡도 : O(V+E) 노드 수 + 간선 수"
   ],
   "metadata": {
    "collapsed": false
   }
  },
  {
   "cell_type": "code",
   "execution_count": 1,
   "metadata": {
    "collapsed": true
   },
   "outputs": [
    {
     "data": {
      "text/plain": "{'A': ['B', 'C'],\n 'B': ['A', 'D'],\n 'C': ['A', 'G', 'H', 'I'],\n 'D': ['B', 'E', 'F'],\n 'E': ['D'],\n 'F': ['D'],\n 'G': ['C'],\n 'H': ['C'],\n 'I': ['C', 'J'],\n 'J': ['I']}"
     },
     "execution_count": 1,
     "metadata": {},
     "output_type": "execute_result"
    }
   ],
   "source": [
    "# 데이터 예제\n",
    "graph = dict()\n",
    "\n",
    "graph['A'] = ['B', 'C']\n",
    "graph['B'] = ['A', 'D']\n",
    "graph['C'] = ['A', 'G', 'H', 'I']\n",
    "graph['D'] = ['B', 'E', 'F']\n",
    "graph['E'] = ['D']\n",
    "graph['F'] = ['D']\n",
    "graph['G'] = ['C']\n",
    "graph['H'] = ['C']\n",
    "graph['I'] = ['C', 'J']\n",
    "graph['J'] = ['I']\n",
    "\n",
    "graph"
   ]
  },
  {
   "cell_type": "code",
   "execution_count": 3,
   "outputs": [
    {
     "name": "stdout",
     "output_type": "stream",
     "text": [
      "A ['B', 'C']\n",
      "B ['A', 'D']\n",
      "C ['A', 'G', 'H', 'I']\n",
      "A ['B', 'C']\n",
      "D ['B', 'E', 'F']\n",
      "A ['B', 'C']\n",
      "G ['C']\n",
      "H ['C']\n",
      "I ['C', 'J']\n",
      "B ['A', 'D']\n",
      "E ['D']\n",
      "F ['D']\n",
      "C ['A', 'G', 'H', 'I']\n",
      "C ['A', 'G', 'H', 'I']\n",
      "C ['A', 'G', 'H', 'I']\n",
      "J ['I']\n",
      "D ['B', 'E', 'F']\n",
      "D ['B', 'E', 'F']\n",
      "I ['C', 'J']\n"
     ]
    },
    {
     "data": {
      "text/plain": "['A', 'B', 'C', 'D', 'G', 'H', 'I', 'E', 'F', 'J']"
     },
     "execution_count": 3,
     "metadata": {},
     "output_type": "execute_result"
    }
   ],
   "source": [
    "def bfs(graph, start):\n",
    "    visited, need_visit = list(), list()\n",
    "\n",
    "    need_visit.append(start)\n",
    "\n",
    "    while need_visit:\n",
    "        node = need_visit.pop(0)    # need_visit 첫번째 Queue 방식\n",
    "        # print(node, graph[node])\n",
    "        if node not in visited:\n",
    "            visited.append(node)\n",
    "            need_visit.extend(graph[node])  # 해당 노드의 value 값 need_visit에 넣기\n",
    "    return visited\n",
    "\n",
    "bfs(graph, \"A\")"
   ],
   "metadata": {
    "collapsed": false,
    "pycharm": {
     "name": "#%%\n"
    }
   }
  },
  {
   "cell_type": "markdown",
   "source": [
    "# DFS(깊이 우선 탐색)\n",
    "* 정점의 자식들을 먼저 탐색하는 방식\n",
    "* 시간 복잡도 : O(V+E)"
   ],
   "metadata": {
    "collapsed": false
   }
  },
  {
   "cell_type": "code",
   "execution_count": 4,
   "outputs": [
    {
     "data": {
      "text/plain": "['A', 'C', 'I', 'J', 'H', 'G', 'B', 'D', 'F', 'E']"
     },
     "execution_count": 4,
     "metadata": {},
     "output_type": "execute_result"
    }
   ],
   "source": [
    "def dfs(graph, start):\n",
    "    visited, need_visit = list(), list()\n",
    "    need_visit.append(start)\n",
    "\n",
    "    while need_visit:\n",
    "        node = need_visit.pop()\n",
    "        if node not in visited:\n",
    "            visited.append(node)\n",
    "            need_visit.extend(graph[node])\n",
    "\n",
    "    return visited\n",
    "\n",
    "dfs(graph, \"A\")"
   ],
   "metadata": {
    "collapsed": false,
    "pycharm": {
     "name": "#%%\n"
    }
   }
  },
  {
   "cell_type": "markdown",
   "source": [
    "# 탐욕 알고리즘\n",
    "* 최적에 가가운 해를 구하기 위해 사용"
   ],
   "metadata": {
    "collapsed": false
   }
  },
  {
   "cell_type": "markdown",
   "source": [
    "## Ex. 동전 문제"
   ],
   "metadata": {
    "collapsed": false
   }
  },
  {
   "cell_type": "code",
   "execution_count": 5,
   "outputs": [],
   "source": [
    "value = 4720\n",
    "coin = [1, 100, 500, 50]"
   ],
   "metadata": {
    "collapsed": false,
    "pycharm": {
     "name": "#%%\n"
    }
   }
  },
  {
   "cell_type": "code",
   "execution_count": 6,
   "outputs": [
    {
     "data": {
      "text/plain": "31"
     },
     "execution_count": 6,
     "metadata": {},
     "output_type": "execute_result"
    }
   ],
   "source": [
    "def min_coin_count(coin_list, value):\n",
    "    total = 0\n",
    "    coin.sort(reverse=True)\n",
    "    for i in coin_list:\n",
    "        coin_num = value // i\n",
    "        total += coin_num\n",
    "        value -= coin_num * i\n",
    "    return total\n",
    "\n",
    "min_coin_count(coin, value)"
   ],
   "metadata": {
    "collapsed": false,
    "pycharm": {
     "name": "#%%\n"
    }
   }
  },
  {
   "cell_type": "markdown",
   "source": [
    "## 배낭 문제"
   ],
   "metadata": {
    "collapsed": false
   }
  },
  {
   "cell_type": "code",
   "execution_count": 14,
   "outputs": [
    {
     "data": {
      "text/plain": "(24.5, [[10, 10, 1], [15, 12, 1], [20, 10, 0.25]])"
     },
     "execution_count": 14,
     "metadata": {},
     "output_type": "execute_result"
    }
   ],
   "source": [
    "data = [(10, 10), (15, 12), (20, 10), (25, 8), (30, 5)]\n",
    "limit_w = 30\n",
    "\n",
    "# value 가 최대\n",
    "def max_value(data_list, limit):\n",
    "    data_list = sorted(data_list, key=lambda x : x[1] / x[0], reverse=True) # 무게대비 가치가 큰거 부터\n",
    "    total_value = 0\n",
    "    details = list()\n",
    "    for data in data_list:\n",
    "        if limit - data[0] >= 0:\n",
    "            limit -= data[0]\n",
    "            total_value += data[1]\n",
    "            details.append([data[0], data[1], 1])\n",
    "        else:\n",
    "            fraction = limit / data[0]\n",
    "            total_value += data[1] * fraction\n",
    "            details.append([data[0], data[1], fraction])\n",
    "            break\n",
    "    return total_value, details\n",
    "\n",
    "max_value(data, limit_w)"
   ],
   "metadata": {
    "collapsed": false,
    "pycharm": {
     "name": "#%%\n"
    }
   }
  },
  {
   "cell_type": "markdown",
   "source": [
    "# 다익스트라 알고리즘(단일 출발 최단경로 알고리즘)\n",
    "* 하나의 정점에서 다른 모든 정점 간의 가장 짧은 거리를 구하는 문제\n",
    "* 우선순위 Queue 알고리즘 활용"
   ],
   "metadata": {
    "collapsed": false
   }
  },
  {
   "cell_type": "code",
   "execution_count": 16,
   "outputs": [],
   "source": [
    "# 예시 데이터\n",
    "graph = {\n",
    "    'A': {'B': 8, 'C': 1, 'D': 2},\n",
    "    'B': {},\n",
    "    'C': {'B': 5, 'D': 2},\n",
    "    'D': {'E': 3, 'F': 5},\n",
    "    'E': {'F': 1},\n",
    "    'F': {'A': 5}\n",
    "}"
   ],
   "metadata": {
    "collapsed": false,
    "pycharm": {
     "name": "#%%\n"
    }
   }
  },
  {
   "cell_type": "code",
   "execution_count": 18,
   "outputs": [
    {
     "data": {
      "text/plain": "{'A': 0, 'B': 6, 'C': 1, 'D': 2, 'E': 5, 'F': 6}"
     },
     "execution_count": 18,
     "metadata": {},
     "output_type": "execute_result"
    }
   ],
   "source": [
    "import heapq\n",
    "\n",
    "def dijkstra(graph, start):\n",
    "\n",
    "    # 데이터 초기화\n",
    "    distances = {node: float(\"inf\") for node in graph}\n",
    "    distances[start] = 0    # 그래프 시작 정점 거리 0\n",
    "    queue = []  # 정점이 저장될 queue <- queue에 데이터가 없으면 종료\n",
    "    heapq.heappush(queue, [distances[start], start])\n",
    "\n",
    "    while queue:\n",
    "        current_distance, current_node = heapq.heappop(queue)\n",
    "\n",
    "        # 더 짧은 경로 있으면 무시\n",
    "        if distances[current_node] < current_distance:\n",
    "            continue\n",
    "\n",
    "        for adj, weight in graph[current_node].items():\n",
    "            distance = current_distance + weight\n",
    "\n",
    "            if distance < distances[adj]:\n",
    "                distances[adj] = distance\n",
    "                heapq.heappush(queue, [distance, adj])\n",
    "\n",
    "    return distances\n",
    "\n",
    "\n",
    "dijkstra(graph, \"A\")"
   ],
   "metadata": {
    "collapsed": false,
    "pycharm": {
     "name": "#%%\n"
    }
   }
  },
  {
   "cell_type": "code",
   "execution_count": null,
   "outputs": [],
   "source": [],
   "metadata": {
    "collapsed": false,
    "pycharm": {
     "name": "#%%\n"
    }
   }
  }
 ],
 "metadata": {
  "kernelspec": {
   "display_name": "Python 3",
   "language": "python",
   "name": "python3"
  },
  "language_info": {
   "codemirror_mode": {
    "name": "ipython",
    "version": 2
   },
   "file_extension": ".py",
   "mimetype": "text/x-python",
   "name": "python",
   "nbconvert_exporter": "python",
   "pygments_lexer": "ipython2",
   "version": "2.7.6"
  }
 },
 "nbformat": 4,
 "nbformat_minor": 0
}