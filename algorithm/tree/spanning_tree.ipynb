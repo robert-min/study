{
 "cells": [
  {
   "cell_type": "markdown",
   "source": [
    "# Kruskal's alogrithm\n",
    "조건\n",
    "1. 모든 노드 독립(초기화)\n",
    "2. 가중치 기준 정렬(작은순) -> 가장 작은 가중치 노드부터 비교\n",
    "3. 두 노드의 최상위 노드(부모 노드)를 확인 -> 서로 다를 경우 두 노드 확인(사이틀X)\n",
    "\n",
    "시간복잡도 : O(ElogE)"
   ],
   "metadata": {
    "collapsed": false
   }
  },
  {
   "cell_type": "code",
   "execution_count": 2,
   "metadata": {
    "collapsed": true
   },
   "outputs": [],
   "source": [
    "# 데이터\n",
    "graph = {\n",
    "    'node': ['A', 'B', 'C', 'D', 'E', 'F', 'G'],\n",
    "    'datas': [\n",
    "        (7, 'A', 'B'),\n",
    "        (5, 'A', 'D'),\n",
    "        (7, 'B', 'A'),\n",
    "        (8, 'B', 'C'),\n",
    "        (9, 'B', 'D'),\n",
    "        (7, 'B', 'E'),\n",
    "        (8, 'C', 'B'),\n",
    "        (5, 'C', 'E'),\n",
    "        (5, 'D', 'A'),\n",
    "        (9, 'D', 'B'),\n",
    "        (7, 'D', 'E'),\n",
    "        (6, 'D', 'F'),\n",
    "        (7, 'E', 'B'),\n",
    "        (5, 'E', 'C'),\n",
    "        (7, 'E', 'D'),\n",
    "        (8, 'E', 'F'),\n",
    "        (9, 'E', 'G'),\n",
    "        (6, 'F', 'D'),\n",
    "        (8, 'F', 'E'),\n",
    "        (11, 'F', 'G'),\n",
    "        (9, 'G', 'E'),\n",
    "        (11, 'G', 'F')\n",
    "    ]\n",
    "}"
   ]
  },
  {
   "cell_type": "code",
   "execution_count": 5,
   "outputs": [
    {
     "data": {
      "text/plain": "[(5, 'A', 'D'),\n (5, 'C', 'E'),\n (6, 'D', 'F'),\n (7, 'A', 'B'),\n (7, 'B', 'E'),\n (9, 'E', 'G')]"
     },
     "execution_count": 5,
     "metadata": {},
     "output_type": "execute_result"
    }
   ],
   "source": [
    "# 부모 노드를 찾는 코드\n",
    "def find(node):\n",
    "    # path compression\n",
    "    if parent[node] != node:\n",
    "        parent[node] = find(parent[node])\n",
    "    return parent[node]\n",
    "\n",
    "# 노드를 결합하는 코드\n",
    "def union(node_s, node_e):\n",
    "    root1 = find(node_s)\n",
    "    root2 = find(node_e)\n",
    "\n",
    "    # union-by-rank\n",
    "    if rank[root1] > rank[root2]:\n",
    "        parent[root2] = root1\n",
    "    else:\n",
    "        parent[root1] = root2\n",
    "        if rank[root1] == rank[root2]:\n",
    "            rank[root2] += 1\n",
    "\n",
    "parent, rank = dict(), dict()\n",
    "def make_set(node):\n",
    "    parent[node] = node\n",
    "    rank[node] = 0\n",
    "\n",
    "def kruskal(graph):\n",
    "    # 결과값\n",
    "    mst = list()\n",
    "\n",
    "    # 초기화\n",
    "    for node in graph[\"node\"]:\n",
    "        make_set(node)\n",
    "\n",
    "    # 가중치로 sorting\n",
    "    datas = graph[\"datas\"]\n",
    "    datas.sort()\n",
    "\n",
    "    # 각 노드 연결\n",
    "    for data in datas:\n",
    "        weight, node_s, node_e = data\n",
    "        # 부모노드 찾아서 다를 경우 연결\n",
    "        # 열결된 결과만 저장\n",
    "        if find(node_s) != find(node_e):\n",
    "            union(node_s, node_e)\n",
    "            mst.append(data)\n",
    "\n",
    "    return mst\n",
    "\n",
    "# test\n",
    "kruskal(graph)"
   ],
   "metadata": {
    "collapsed": false,
    "pycharm": {
     "name": "#%%\n"
    }
   }
  },
  {
   "cell_type": "markdown",
   "source": [
    "# Prim's Algorithm\n",
    "\n",
    "시간복잡도 : O(ElogE)"
   ],
   "metadata": {
    "collapsed": false
   }
  },
  {
   "cell_type": "code",
   "execution_count": 6,
   "outputs": [],
   "source": [
    "datas = [\n",
    "    (7, 'A', 'B'), (5, 'A', 'D'),\n",
    "    (8, 'B', 'C'), (9, 'B', 'D'), (7, 'B', 'E'),\n",
    "    (5, 'C', 'E'),\n",
    "    (7, 'D', 'E'), (6, 'D', 'F'),\n",
    "    (8, 'E', 'F'), (9, 'E', 'G'),\n",
    "    (11, 'F', 'G')\n",
    "]"
   ],
   "metadata": {
    "collapsed": false,
    "pycharm": {
     "name": "#%%\n"
    }
   }
  },
  {
   "cell_type": "code",
   "execution_count": 8,
   "outputs": [
    {
     "data": {
      "text/plain": "[(5, 'A', 'D'),\n (6, 'D', 'F'),\n (7, 'A', 'B'),\n (7, 'B', 'E'),\n (8, 'B', 'C'),\n (9, 'E', 'G')]"
     },
     "execution_count": 8,
     "metadata": {},
     "output_type": "execute_result"
    }
   ],
   "source": [
    "from collections import defaultdict\n",
    "from heapq import *\n",
    "\n",
    "def prim(start_node, datas):\n",
    "    # 결과값\n",
    "    mst = list()\n",
    "    # 노드 기준 인접한 데이터 입력\n",
    "    adjacent_datas = defaultdict(list)\n",
    "    for weight, n1, n2 in datas:\n",
    "        adjacent_datas[n1].append((weight, n1, n2))\n",
    "        adjacent_datas[n2].append((weight, n1, n2))\n",
    "\n",
    "    # 연결된 노드 집합\n",
    "    connection_nodes = set(start_node)\n",
    "    min_weight_list = adjacent_datas[start_node]\n",
    "    heapify(min_weight_list)\n",
    "\n",
    "    while min_weight_list:\n",
    "        weight, n1, n2, = heappop(min_weight_list)\n",
    "        if n2 not in connection_nodes:\n",
    "            connection_nodes.add(n2)\n",
    "            mst.append((weight, n1, n2))\n",
    "\n",
    "            for data in adjacent_datas[n2]:\n",
    "                if data[2] not in connection_nodes:\n",
    "                    heappush(min_weight_list, data)\n",
    "\n",
    "    return mst\n",
    "\n",
    "prim(\"A\", datas)"
   ],
   "metadata": {
    "collapsed": false,
    "pycharm": {
     "name": "#%%\n"
    }
   }
  },
  {
   "cell_type": "code",
   "execution_count": 9,
   "outputs": [],
   "source": [
    "graph = {\n",
    "    'A': {'B': 7, 'D': 5},\n",
    "    'B': {'A': 7, 'D': 9, 'C': 8, 'E': 7},\n",
    "    'C': {'B': 8, 'E': 5},\n",
    "    'D': {'A': 5, 'B': 9, 'E': 7, 'F': 6},\n",
    "    'E': {'B': 7, 'C': 5, 'D': 7, 'F': 8, 'G': 9},\n",
    "    'F': {'D': 6, 'E': 8, 'G': 11},\n",
    "    'G': {'E': 9, 'F': 11}\n",
    "}"
   ],
   "metadata": {
    "collapsed": false,
    "pycharm": {
     "name": "#%%\n"
    }
   }
  },
  {
   "cell_type": "code",
   "execution_count": 13,
   "outputs": [
    {
     "name": "stdout",
     "output_type": "stream",
     "text": [
      "[['A', 'A', 0], ['A', 'D', 5], ['D', 'F', 6], ['A', 'B', 7], ['D', 'E', 7], ['E', 'C', 5], ['E', 'G', 9]]\n"
     ]
    }
   ],
   "source": [
    "from heapdict import heapdict\n",
    "\n",
    "def prim(graph, start_node):\n",
    "    mst, keys, pi, total_weight = list(), heapdict(), dict(), 0\n",
    "\n",
    "    for node in graph.keys():\n",
    "        keys[node] = float(\"inf\")\n",
    "        pi[node] = None\n",
    "\n",
    "    keys[start_node], pi[start_node] = 0, start_node\n",
    "\n",
    "    while keys:\n",
    "        current_node, current_key = keys.popitem()\n",
    "        mst.append([pi[current_node], current_node, current_key])\n",
    "        total_weight += current_key\n",
    "        for adjacent, weight in graph[current_node].items():\n",
    "            if adjacent in keys and weight < keys[adjacent]:\n",
    "                keys[adjacent] = weight\n",
    "                pi[adjacent] = current_node\n",
    "\n",
    "    return mst, total_weight\n",
    "\n",
    "mst, total_weight = prim(graph, \"A\")\n",
    "print(mst)"
   ],
   "metadata": {
    "collapsed": false,
    "pycharm": {
     "name": "#%%\n"
    }
   }
  },
  {
   "cell_type": "code",
   "execution_count": null,
   "outputs": [],
   "source": [],
   "metadata": {
    "collapsed": false,
    "pycharm": {
     "name": "#%%\n"
    }
   }
  }
 ],
 "metadata": {
  "kernelspec": {
   "display_name": "Python 3",
   "language": "python",
   "name": "python3"
  },
  "language_info": {
   "codemirror_mode": {
    "name": "ipython",
    "version": 2
   },
   "file_extension": ".py",
   "mimetype": "text/x-python",
   "name": "python",
   "nbconvert_exporter": "python",
   "pygments_lexer": "ipython2",
   "version": "2.7.6"
  }
 },
 "nbformat": 4,
 "nbformat_minor": 0
}