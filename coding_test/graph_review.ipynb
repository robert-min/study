{
 "cells": [
  {
   "cell_type": "markdown",
   "source": [
    "<https://www.acmicpc.net/problem/10282>"
   ],
   "metadata": {
    "collapsed": false
   }
  },
  {
   "cell_type": "code",
   "execution_count": null,
   "metadata": {
    "collapsed": true
   },
   "outputs": [],
   "source": [
    "import heapq\n",
    "def dijkstra(start):\n",
    "    heap_data = list()\n",
    "    heapq.heappush(heap_data, (0, start))\n",
    "    distances[start] = 0\n",
    "    while heap_data:\n",
    "        dist, now = heapq.heappop(heap_data)\n",
    "        if distances[now] < dist:\n",
    "            continue\n",
    "\n",
    "        for i in adj[now]:\n",
    "            cost = dist + i[1]\n",
    "            if distances[i[0]] > cost:\n",
    "                distances[i[0]] = cost\n",
    "                heapq.heappush(heap_data, (cost, i[0]))\n",
    "\n",
    "for _ in range(int(input())):\n",
    "    n, d, start = map(int, input().split())\n",
    "    adj = [[] for _ in range(n + 1)]\n",
    "    distances = [1e9] * (n + 1)\n",
    "\n",
    "    for _ in range(d):\n",
    "        x, y, cost = map(int, input().split())\n",
    "        adj[y].append((x, cost))\n",
    "\n",
    "    dijkstra(start)\n",
    "\n",
    "    # 출력\n",
    "    count = 0\n",
    "    max_distance = 0\n",
    "    for i in distances:\n",
    "        if i != 1e9:\n",
    "            count += 1\n",
    "            if i > max_distance:\n",
    "                max_distance = i\n",
    "\n",
    "    print(count, max_distance)"
   ]
  },
  {
   "cell_type": "markdown",
   "source": [
    "<https://www.acmicpc.net/problem/5719>"
   ],
   "metadata": {
    "collapsed": false
   }
  },
  {
   "cell_type": "code",
   "execution_count": null,
   "outputs": [],
   "source": [
    "import heapq\n",
    "from collections import deque\n",
    "\n",
    "def dijkstra(start):\n",
    "    h_data = list()\n",
    "    heapq.heappush(h_data, (0, start))\n",
    "    distances[start] = 0\n",
    "    while h_data:\n",
    "        dist, now = heapq.heappop(h_data)\n",
    "        if distances[now] < dist:\n",
    "            continue\n",
    "\n",
    "        for next in adj[now]:\n",
    "            sum_dist = dist + next[1]\n",
    "            if distances[next[0]] > sum_dist and not dropped[now][next[0]]:\n",
    "                distances[next[0]] = sum_dist\n",
    "                heapq.heappush(h_data, (sum_dist, next[0]))\n",
    "\n",
    "def bfs():\n",
    "    q = deque()\n",
    "    q.append(end)\n",
    "    while q:\n",
    "        now = q.popleft()\n",
    "        if now == start:\n",
    "            continue\n",
    "        for prev, cost in reverse_adj[now]:\n",
    "            if distances[now] == distances[prev] + cost:\n",
    "                dropped[prev][now] = True\n",
    "                q.append(prev)\n",
    "\n",
    "\n",
    "while True:\n",
    "    n, m = map(int, input().split())\n",
    "    # 종료조건\n",
    "    if n == 0:\n",
    "        break\n",
    "\n",
    "    start, end = map(int, input().split())\n",
    "\n",
    "    adj = [[] for _ in range(n + 1)]\n",
    "    reverse_adj = [[] for _ in range(n + 1)]\n",
    "    for _ in range(m):\n",
    "        u, v, length = map(int, input().split())\n",
    "        adj[u].append((v, length))\n",
    "        reverse_adj[v].append((u, length))\n",
    "    dropped = [[False] * (n + 1) for _ in range(n + 1)]\n",
    "\n",
    "    distances = [1e9] * (n + 1)\n",
    "    dijkstra(start)\n",
    "    bfs()\n",
    "    distances = [1e9] * (n + 1)\n",
    "    dijkstra(start)\n",
    "    if distances[end] != 1e9:\n",
    "        print(distances[end])\n",
    "    else:\n",
    "        print(-1)"
   ],
   "metadata": {
    "collapsed": false,
    "pycharm": {
     "name": "#%%\n"
    }
   }
  },
  {
   "cell_type": "markdown",
   "source": [
    "<https://www.acmicpc.net/problem/1774>"
   ],
   "metadata": {
    "collapsed": false
   }
  },
  {
   "cell_type": "code",
   "execution_count": null,
   "outputs": [],
   "source": [
    "import math\n",
    "import sys\n",
    "input = sys.stdin.readline\n",
    "\n",
    "def get_distance(p1, p2):\n",
    "    a = p1[0] - p2[0]\n",
    "    b = p1[1] - p2[1]\n",
    "    return math.sqrt((a * a) + (b * b))\n",
    "\n",
    "def get_parent(parent, n):\n",
    "    if parent[n] == n:\n",
    "        return n\n",
    "    return get_parent(parent, parent[n])\n",
    "\n",
    "def union_parent(parent, a, b):\n",
    "    a = get_parent(parent, a)\n",
    "    b = get_parent(parent, b)\n",
    "    if a < b:\n",
    "        parent[b] = a\n",
    "    else:\n",
    "        parent[a] = b\n",
    "\n",
    "def find_parent(parent, a, b):\n",
    "    a = get_parent(parent, a)\n",
    "    b = get_parent(parent, b)\n",
    "    if a == b:\n",
    "        return True\n",
    "    else:\n",
    "        return False\n",
    "\n",
    "parent = dict()\n",
    "edges, locations = list(), list()\n",
    "\n",
    "n, m = map(int, input().split())\n",
    "for _ in range(n):\n",
    "    x, y = map(int, input().split())\n",
    "    locations.append((x, y))\n",
    "\n",
    "length = len(locations)\n",
    "\n",
    "# 각 신과의 거리 그래프 만들기\n",
    "for i in range(length - 1):\n",
    "    for j in range(i + 1, length):\n",
    "        edges.append((i + 1, j + 1, get_distance(locations[i], locations[j])))\n",
    "\n",
    "# 부모 초기화\n",
    "for i in range(1, n + 1):\n",
    "    parent[i] = i\n",
    "\n",
    "# 이미 연결된 신\n",
    "for i in range(m):\n",
    "    a, b = map(int, input().split())\n",
    "    union_parent(parent, a, b)\n",
    "\n",
    "# edges 정렬\n",
    "edges.sort(key=lambda data: data[2])\n",
    "\n",
    "# 결과 출력\n",
    "result = 0\n",
    "for a, b, cost in edges:\n",
    "    if not find_parent(parent, a, b):\n",
    "        union_parent(parent, a, b)\n",
    "        result += cost\n",
    "\n",
    "print(\"%0.2f\" % result)"
   ],
   "metadata": {
    "collapsed": false,
    "pycharm": {
     "name": "#%%\n"
    }
   }
  }
 ],
 "metadata": {
  "kernelspec": {
   "display_name": "Python 3",
   "language": "python",
   "name": "python3"
  },
  "language_info": {
   "codemirror_mode": {
    "name": "ipython",
    "version": 2
   },
   "file_extension": ".py",
   "mimetype": "text/x-python",
   "name": "python",
   "nbconvert_exporter": "python",
   "pygments_lexer": "ipython2",
   "version": "2.7.6"
  }
 },
 "nbformat": 4,
 "nbformat_minor": 0
}