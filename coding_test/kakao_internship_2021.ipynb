{
 "cells": [
  {
   "cell_type": "markdown",
   "source": [
    "# 1번문제 문자 숫자"
   ],
   "metadata": {
    "collapsed": false
   }
  },
  {
   "cell_type": "code",
   "execution_count": null,
   "metadata": {
    "collapsed": true
   },
   "outputs": [],
   "source": [
    "def solution(s):\n",
    "    words = ['zero', 'one', 'two', 'three', 'four', 'five', 'six', 'seven', 'eight', 'nine']\n",
    "    array = list()\n",
    "    temp = \"\"\n",
    "    for i in s:\n",
    "        if (i.isdigit()):\n",
    "            array.append(i)\n",
    "        else:\n",
    "            temp = temp + i\n",
    "        if temp in words:\n",
    "            array.append(temp)\n",
    "            temp = \"\"\n",
    "\n",
    "    answer = \"\"\n",
    "    for j in array:\n",
    "        if j.isdigit():\n",
    "            answer = answer + j\n",
    "        for i, word in enumerate(words):\n",
    "            if j == word:\n",
    "                answer = answer + j.replace(word, str(i))\n",
    "\n",
    "    return int(answer)\n",
    "\n",
    "print(solution(\"23four5six7\"))"
   ]
  },
  {
   "cell_type": "markdown",
   "source": [
    "# 2번문제 거리두기 확인하기"
   ],
   "metadata": {
    "collapsed": false
   }
  },
  {
   "cell_type": "code",
   "execution_count": null,
   "outputs": [],
   "source": [
    "# 대기실마다 확인하면서 \"P\"인 곳에서 bfs 호출\n",
    "# bfs 함수에서 좌표 및 거리를 큐에 넣음\n",
    "## 거리가 2 미만이고 다음 방문할 곳이 \"O\"라면 큐에 넣음\n",
    "## 거리가 2 미만이고 다음 방문할 곳이 \"P\"라면 False\n",
    "## 거리가 2면 중지\n",
    "from collections import deque\n",
    "\n",
    "dx = [-1, 1, 0, 0]\n",
    "dy = [0, 0, -1, 1]\n",
    "def bfs(array, x, y):\n",
    "    visited = [[False] * 5 for _ in range(5)]\n",
    "    q = deque()\n",
    "    q.append((x, y, 0))\n",
    "    visited[x][y] = True\n",
    "    while q:\n",
    "        x, y, cost = q.popleft()\n",
    "        if cost == 2:\n",
    "            continue\n",
    "        for i in range(4):\n",
    "            nx = x + dx[i]\n",
    "            ny = y + dy[i]\n",
    "            if 0 <= nx < 5 and 0 <= ny < 5:\n",
    "                if visited[nx][ny]:\n",
    "                    continue\n",
    "                if array[nx][ny] == \"P\":\n",
    "                    return False\n",
    "                if array[nx][ny] == \"O\":\n",
    "                    q.append((nx, ny, cost + 1))\n",
    "                    visited[nx][ny] = True\n",
    "    return True\n",
    "\n",
    "def solution(places):\n",
    "    answer = []\n",
    "\n",
    "    for place in places:\n",
    "        array = [list(place[i]) for i in range(5)]\n",
    "        flag = True\n",
    "\n",
    "        for i in range(5):\n",
    "            for j in range(5):\n",
    "                if array[i][j] == \"P\":\n",
    "                    if not bfs(array, i, j):\n",
    "                        flag = False\n",
    "            if not flag:\n",
    "                break\n",
    "\n",
    "        if flag:\n",
    "            answer.append(1)\n",
    "        else:\n",
    "            answer.append(0)\n",
    "\n",
    "    return answer\n",
    "\n"
   ],
   "metadata": {
    "collapsed": false,
    "pycharm": {
     "name": "#%%\n"
    }
   }
  },
  {
   "cell_type": "code",
   "execution_count": null,
   "outputs": [],
   "source": [
    "# 너무 복잡하게 접근했던 것 같음 ㅠㅠ\n",
    "dx = [-1, 1, 0, 0, -1, 1, 1, -1]\n",
    "dy = [0, 0, -1, 1, -1, 1, -1, 1]\n",
    "\n",
    "def dfs(x, y):\n",
    "    visited[x][y] = True\n",
    "    for i in range(4):\n",
    "        nx = x + dx[i]\n",
    "        ny = y + dy[i]\n",
    "        if nx < 0 or nx > 5 or ny < 0 or ny > 5:\n",
    "            continue\n",
    "        if array[nx][ny] == \"P\":\n",
    "            return False\n",
    "        elif not visited[nx][ny]:\n",
    "            dfs(nx, ny)\n",
    "\n",
    "    for j in range(4, 8):\n",
    "        if array[nx][ny] != \"P\":\n",
    "            continue\n",
    "        elif array[nx][ny] == \"P\" and array[x][ny] == \"X\" and array[nx][y] == \"X\":\n",
    "            if not visited[nx][ny]:\n",
    "                dfs(nx, ny)\n",
    "        else:\n",
    "            return False\n",
    "    return True\n",
    "\n",
    "\n",
    "\n",
    "\n",
    "answer = []\n",
    "for place in places:\n",
    "    visited = [[False] * 5 for _ in range(5)]\n",
    "    array = list()\n",
    "    flag = True\n",
    "\n",
    "    for i in place:\n",
    "        array.append(list(i))\n",
    "\n",
    "    for i in range(5):\n",
    "        for j in range(5):\n",
    "            if array[i][j] == \"P\" and not visited:\n",
    "                if dfs(i, j):\n",
    "                    flag = False\n",
    "        if not flag:\n",
    "            break\n",
    "\n",
    "    if flag:\n",
    "        answer.append(1)\n",
    "    else:\n",
    "        answer.append(0)\n",
    "\n",
    "print(answer)"
   ],
   "metadata": {
    "collapsed": false,
    "pycharm": {
     "name": "#%%\n"
    }
   }
  },
  {
   "cell_type": "code",
   "execution_count": null,
   "outputs": [],
   "source": [],
   "metadata": {
    "collapsed": false,
    "pycharm": {
     "name": "#%%\n"
    }
   }
  }
 ],
 "metadata": {
  "kernelspec": {
   "display_name": "Python 3",
   "language": "python",
   "name": "python3"
  },
  "language_info": {
   "codemirror_mode": {
    "name": "ipython",
    "version": 2
   },
   "file_extension": ".py",
   "mimetype": "text/x-python",
   "name": "python",
   "nbconvert_exporter": "python",
   "pygments_lexer": "ipython2",
   "version": "2.7.6"
  }
 },
 "nbformat": 4,
 "nbformat_minor": 0
}