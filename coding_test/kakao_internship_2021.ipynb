{
 "cells": [
  {
   "cell_type": "markdown",
   "source": [
    "# 1번문제 문자 숫자"
   ],
   "metadata": {
    "collapsed": false
   }
  },
  {
   "cell_type": "code",
   "execution_count": null,
   "metadata": {
    "collapsed": true
   },
   "outputs": [],
   "source": [
    "def solution(s):\n",
    "    words = ['zero', 'one', 'two', 'three', 'four', 'five', 'six', 'seven', 'eight', 'nine']\n",
    "    array = list()\n",
    "    temp = \"\"\n",
    "    for i in s:\n",
    "        if (i.isdigit()):\n",
    "            array.append(i)\n",
    "        else:\n",
    "            temp = temp + i\n",
    "        if temp in words:\n",
    "            array.append(temp)\n",
    "            temp = \"\"\n",
    "\n",
    "    answer = \"\"\n",
    "    for j in array:\n",
    "        if j.isdigit():\n",
    "            answer = answer + j\n",
    "        for i, word in enumerate(words):\n",
    "            if j == word:\n",
    "                answer = answer + j.replace(word, str(i))\n",
    "\n",
    "    return int(answer)\n",
    "\n",
    "print(solution(\"23four5six7\"))"
   ]
  },
  {
   "cell_type": "markdown",
   "source": [
    "# 2번문제 거리두기 확인하기"
   ],
   "metadata": {
    "collapsed": false
   }
  },
  {
   "cell_type": "code",
   "execution_count": null,
   "outputs": [],
   "source": [
    "# 대기실마다 확인하면서 \"P\"인 곳에서 bfs 호출\n",
    "# bfs 함수에서 좌표 및 거리를 큐에 넣음\n",
    "## 거리가 2 미만이고 다음 방문할 곳이 \"O\"라면 큐에 넣음\n",
    "## 거리가 2 미만이고 다음 방문할 곳이 \"P\"라면 False\n",
    "## 거리가 2면 중지\n",
    "from collections import deque\n",
    "\n",
    "dx = [-1, 1, 0, 0]\n",
    "dy = [0, 0, -1, 1]\n",
    "def bfs(array, x, y):\n",
    "    visited = [[False] * 5 for _ in range(5)]\n",
    "    q = deque()\n",
    "    q.append((x, y, 0))\n",
    "    visited[x][y] = True\n",
    "    while q:\n",
    "        x, y, cost = q.popleft()\n",
    "        if cost == 2:\n",
    "            continue\n",
    "        for i in range(4):\n",
    "            nx = x + dx[i]\n",
    "            ny = y + dy[i]\n",
    "            if 0 <= nx < 5 and 0 <= ny < 5:\n",
    "                if visited[nx][ny]:\n",
    "                    continue\n",
    "                if array[nx][ny] == \"P\":\n",
    "                    return False\n",
    "                if array[nx][ny] == \"O\":\n",
    "                    q.append((nx, ny, cost + 1))\n",
    "                    visited[nx][ny] = True\n",
    "    return True\n",
    "\n",
    "def solution(places):\n",
    "    answer = []\n",
    "\n",
    "    for place in places:\n",
    "        array = [list(place[i]) for i in range(5)]\n",
    "        flag = True\n",
    "\n",
    "        for i in range(5):\n",
    "            for j in range(5):\n",
    "                if array[i][j] == \"P\":\n",
    "                    if not bfs(array, i, j):\n",
    "                        flag = False\n",
    "            if not flag:\n",
    "                break\n",
    "\n",
    "        if flag:\n",
    "            answer.append(1)\n",
    "        else:\n",
    "            answer.append(0)\n",
    "\n",
    "    return answer\n",
    "\n"
   ],
   "metadata": {
    "collapsed": false,
    "pycharm": {
     "name": "#%%\n"
    }
   }
  },
  {
   "cell_type": "code",
   "execution_count": null,
   "outputs": [],
   "source": [
    "# 너무 복잡하게 접근했던 것 같음 ㅠㅠ\n",
    "dx = [-1, 1, 0, 0, -1, 1, 1, -1]\n",
    "dy = [0, 0, -1, 1, -1, 1, -1, 1]\n",
    "\n",
    "def dfs(x, y):\n",
    "    visited[x][y] = True\n",
    "    for i in range(4):\n",
    "        nx = x + dx[i]\n",
    "        ny = y + dy[i]\n",
    "        if nx < 0 or nx > 5 or ny < 0 or ny > 5:\n",
    "            continue\n",
    "        if array[nx][ny] == \"P\":\n",
    "            return False\n",
    "        elif not visited[nx][ny]:\n",
    "            dfs(nx, ny)\n",
    "\n",
    "    for j in range(4, 8):\n",
    "        if array[nx][ny] != \"P\":\n",
    "            continue\n",
    "        elif array[nx][ny] == \"P\" and array[x][ny] == \"X\" and array[nx][y] == \"X\":\n",
    "            if not visited[nx][ny]:\n",
    "                dfs(nx, ny)\n",
    "        else:\n",
    "            return False\n",
    "    return True\n",
    "\n",
    "\n",
    "\n",
    "\n",
    "answer = []\n",
    "for place in places:\n",
    "    visited = [[False] * 5 for _ in range(5)]\n",
    "    array = list()\n",
    "    flag = True\n",
    "\n",
    "    for i in place:\n",
    "        array.append(list(i))\n",
    "\n",
    "    for i in range(5):\n",
    "        for j in range(5):\n",
    "            if array[i][j] == \"P\" and not visited:\n",
    "                if dfs(i, j):\n",
    "                    flag = False\n",
    "        if not flag:\n",
    "            break\n",
    "\n",
    "    if flag:\n",
    "        answer.append(1)\n",
    "    else:\n",
    "        answer.append(0)\n",
    "\n",
    "print(answer)"
   ],
   "metadata": {
    "collapsed": false,
    "pycharm": {
     "name": "#%%\n"
    }
   }
  },
  {
   "cell_type": "markdown",
   "source": [
    "# 3번문제 표 편집"
   ],
   "metadata": {
    "collapsed": false
   }
  },
  {
   "cell_type": "code",
   "execution_count": null,
   "outputs": [],
   "source": [
    "# 효율성을 위해 링크드리스트 활용\n",
    "from collections import deque\n",
    "# 노드 생성\n",
    "class Node:\n",
    "    def __init__(self):\n",
    "        self.prev = -1\n",
    "        self.next = -1\n",
    "        self.is_delete = False  # 삭제 여부 판단\n",
    "\n",
    "def solution(n, k, cmd):\n",
    "    # 링크드 리스트 초기화\n",
    "    node_list = [Node() for _ in range(n)]\n",
    "    for i in range(n - 1):\n",
    "        node_list[i].next = i + 1\n",
    "        node_list[i + 1].prev = i\n",
    "\n",
    "    # 삭제된 노드 저장할 스택\n",
    "    del_stack = deque()\n",
    "\n",
    "    # 명령어 처리\n",
    "    cur = k\n",
    "    for c in cmd:\n",
    "        if len(c) > 1:\n",
    "            c, move_size = c.split(\" \")\n",
    "            move_size = int(move_size)\n",
    "\n",
    "        # U\n",
    "        if c == \"U\":\n",
    "            for i in range(move_size):\n",
    "                cur = node_list[cur].prev\n",
    "\n",
    "        # D\n",
    "        if c == \"D\":\n",
    "            for i in range(move_size):\n",
    "                cur = node_list[cur].next\n",
    "\n",
    "        # C\n",
    "        if c == \"C\":\n",
    "            node_list[cur].is_delete = True\n",
    "            del_stack.append(cur)\n",
    "            prev_node = node_list[cur].prev\n",
    "            next_node = node_list[cur].next\n",
    "\n",
    "            if prev_node != -1:\n",
    "                node_list[prev_node].next = next_node\n",
    "            if next_node != -1:\n",
    "                node_list[next_node].prev = prev_node\n",
    "            else:\n",
    "                cur = prev_node\n",
    "\n",
    "        # Z\n",
    "        if c == \"Z\":\n",
    "            del_node = del_stack.pop()\n",
    "            node_list[del_node].is_delete = False\n",
    "            prev_node = node_list[del_node].prev\n",
    "            next_node = node_list[del_node].next\n",
    "\n",
    "            if prev_node != -1:\n",
    "                node_list[prev_node].next = del_node\n",
    "            if next_node != -1:\n",
    "                node_list[next_node].prev = del_node\n",
    "\n",
    "    # 출력\n",
    "    answer = ''\n",
    "    for i in range(n):\n",
    "        if node_list[i].is_delete:\n",
    "            answer = answer + \"X\"\n",
    "        else:\n",
    "            answer = answer + \"O\"\n",
    "    return answer\n"
   ],
   "metadata": {
    "collapsed": false,
    "pycharm": {
     "name": "#%%\n"
    }
   }
  },
  {
   "cell_type": "code",
   "execution_count": null,
   "outputs": [],
   "source": [
    "# 시간초과\n",
    "n, k = 8, 2\n",
    "cmd = [\"D 2\",\"C\",\"U 3\",\"C\",\"D 4\",\"C\",\"U 2\",\"Z\",\"Z\"]\n",
    "\n",
    "data = [0] * n\n",
    "now_index = k\n",
    "num = 0\n",
    "save = list()\n",
    "for order in cmd:\n",
    "    if order.find(\"U\") == 0:\n",
    "        num = int(order.strip()[-1])\n",
    "        now_index = now_index - num\n",
    "    if order.find(\"D\") == 0:\n",
    "        num = int(order.strip()[-1])\n",
    "        now_index = now_index + num\n",
    "    if order == \"C\":\n",
    "        save.append(now_index)\n",
    "        del data[now_index]\n",
    "    if order == \"Z\":\n",
    "        index = save.pop()\n",
    "        data.insert(index, 0)\n",
    "\n",
    "print(save)\n",
    "answer = \"O\" * n\n",
    "for i in save:\n",
    "    answer = answer[:i] + \"X\" + answer[i+1:]\n",
    "\n",
    "print(answer)"
   ],
   "metadata": {
    "collapsed": false,
    "pycharm": {
     "name": "#%%\n"
    }
   }
  }
 ],
 "metadata": {
  "kernelspec": {
   "display_name": "Python 3",
   "language": "python",
   "name": "python3"
  },
  "language_info": {
   "codemirror_mode": {
    "name": "ipython",
    "version": 2
   },
   "file_extension": ".py",
   "mimetype": "text/x-python",
   "name": "python",
   "nbconvert_exporter": "python",
   "pygments_lexer": "ipython2",
   "version": "2.7.6"
  }
 },
 "nbformat": 4,
 "nbformat_minor": 0
}