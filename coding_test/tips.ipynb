{
 "cells": [
  {
   "cell_type": "markdown",
   "source": [
    "# 패캠 - 실전코딩테스트"
   ],
   "metadata": {
    "collapsed": false
   }
  },
  {
   "cell_type": "markdown",
   "source": [
    "## Min-Max\n",
    "<https://www.acmicpc.net/problem/15969>"
   ],
   "metadata": {
    "collapsed": false
   }
  },
  {
   "cell_type": "code",
   "execution_count": null,
   "metadata": {
    "collapsed": true
   },
   "outputs": [],
   "source": [
    "n = int(input())\n",
    "data = list(map(int, input().split()))\n",
    "\n",
    "data.sort()\n",
    "min_value, max_value = data[0], data[-1]\n",
    "\n",
    "result = max_value - min_value\n",
    "print(result)"
   ]
  },
  {
   "cell_type": "markdown",
   "source": [
    "## index 활용\n",
    "<https://www.acmicpc.net/problem/10539>"
   ],
   "metadata": {
    "collapsed": false
   }
  },
  {
   "cell_type": "code",
   "execution_count": null,
   "outputs": [],
   "source": [
    "n = int(input())\n",
    "datas = list(map(int, input().split()))\n",
    "\n",
    "a = 0\n",
    "for index, data in enumerate(datas):\n",
    "    temp = data * (index + 1)\n",
    "    print(temp - a, end=\" \")\n",
    "    a = temp"
   ],
   "metadata": {
    "collapsed": false,
    "pycharm": {
     "name": "#%%\n"
    }
   }
  },
  {
   "cell_type": "markdown",
   "source": [
    "# 붙어있는 Index 계산 & 아스키코드 활용\n",
    "<https://www.acmicpc.net/problem/17269>"
   ],
   "metadata": {
    "collapsed": false
   }
  },
  {
   "cell_type": "code",
   "execution_count": null,
   "outputs": [],
   "source": [
    "n, m = map(int, input().split())\n",
    "a, b = input().split()\n",
    "\n",
    "word_count = [3, 2, 1, 2, 4, 3, 1, 3, 1, 1, 3, 1, 3, 2, 1, 2, 2, 2, 1, 2, 1, 1, 1, 2, 2, 1]\n",
    "\n",
    "# 길이 비교\n",
    "if len(a) > len(b):\n",
    "    length = len(b)\n",
    "else:\n",
    "    length = len(a)\n",
    "\n",
    "total = \"\"\n",
    "for i in range(length):\n",
    "    total = total + a[i] + b[i]\n",
    "\n",
    "total = total + a[length:] + b[length:]\n",
    "\n",
    "data = list()\n",
    "for alphabet in total:\n",
    "    data.append(word_count[ord(alphabet) - 65])\n",
    "\n",
    "\n",
    "for i in range(n+m-2):\n",
    "    for j in range(n+m-1-i):\n",
    "        data[j] += data[j + 1]\n",
    "\n",
    "print(\"{}%\".format(data[0] % 10*10 + data[1] % 10))"
   ],
   "metadata": {
    "collapsed": false,
    "pycharm": {
     "name": "#%%\n"
    }
   }
  },
  {
   "cell_type": "markdown",
   "source": [
    "<https://www.acmicpc.net/problem/17389>"
   ],
   "metadata": {
    "collapsed": false
   }
  },
  {
   "cell_type": "code",
   "execution_count": null,
   "outputs": [],
   "source": [
    "n = int(input())\n",
    "s = input()\n",
    "\n",
    "result, bonus = 0, 0\n",
    "for idx, answer in enumerate(s):\n",
    "    if answer == \"O\":\n",
    "        result, bonus = result + idx + 1 + bonus, bonus + 1\n",
    "    else:\n",
    "        bonus = 0\n",
    "print(result)"
   ],
   "metadata": {
    "collapsed": false,
    "pycharm": {
     "name": "#%%\n"
    }
   }
  },
  {
   "cell_type": "code",
   "execution_count": null,
   "outputs": [],
   "source": [
    "n = int(input())\n",
    "s = input()\n",
    "\n",
    "result, bonus = 0, 0\n",
    "for index, answer in enumerate(s):\n",
    "    if answer == \"O\" and bonus  == 0:\n",
    "        result += (index + 1)\n",
    "        bonus += 1\n",
    "    elif answer == \"O\" and bonus > 0:\n",
    "        result += (index + 1)\n",
    "        result += bonus\n",
    "        bonus += 1\n",
    "    else:\n",
    "        bonus = 0\n",
    "\n",
    "print(result)"
   ],
   "metadata": {
    "collapsed": false,
    "pycharm": {
     "name": "#%%\n"
    }
   }
  },
  {
   "cell_type": "markdown",
   "source": [
    "## dict get method(딕셔너리에 없는 데이터를 출력\n",
    "<https://www.acmicpc.net/problem/1920>"
   ],
   "metadata": {
    "collapsed": false
   }
  },
  {
   "cell_type": "code",
   "execution_count": null,
   "outputs": [],
   "source": [
    "N, A = int(input()), {i: 1 for i in map(int, input().split())}\n",
    "M = input()\n",
    "for i in list(map(int, input().split())):\n",
    "    print(A.get(i, 0))"
   ],
   "metadata": {
    "collapsed": false,
    "pycharm": {
     "name": "#%%\n"
    }
   }
  },
  {
   "cell_type": "markdown",
   "source": [
    "## defaultdict & dict 안 리스트 정렬(Sorted\n",
    "<https://www.acmicpc.net/problem/16165>"
   ],
   "metadata": {
    "collapsed": false
   }
  },
  {
   "cell_type": "code",
   "execution_count": null,
   "outputs": [],
   "source": [
    "from collections import defaultdict\n",
    "N, M = map(int, input().split())\n",
    "\n",
    "# 데이터 입력\n",
    "data = defaultdict(list)\n",
    "for _ in range(N):\n",
    "    group_name = input()\n",
    "    group_num = int(input())\n",
    "    for _ in range(group_num):\n",
    "        data[group_name].append(input())\n",
    "\n",
    "# 사전 순으로 정렬\n",
    "for key, value in data.items():\n",
    "    data[key] = sorted(value)\n",
    "\n",
    "# 문제\n",
    "for _ in range(M):\n",
    "    question, type = input(), int(input())\n",
    "    if type == 0:\n",
    "        for i in data.get(question): print(i)\n",
    "    else:\n",
    "        for key in data.keys():\n",
    "            if question in data[key]: print(key)"
   ],
   "metadata": {
    "collapsed": false,
    "pycharm": {
     "name": "#%%\n"
    }
   }
  },
  {
   "cell_type": "markdown",
   "source": [
    "## 함수로 나누어서 풀기\n",
    "<https://www.acmicpc.net/problem/9037>"
   ],
   "metadata": {
    "collapsed": false
   }
  },
  {
   "cell_type": "code",
   "execution_count": null,
   "outputs": [],
   "source": [
    "def check(N, candy):\n",
    "    for i in range(N):\n",
    "        if candy[i] % 2 == 1:\n",
    "            candy[i] += 1\n",
    "    return len(set(candy)) == 1\n",
    "\n",
    "def teacher(N, candy):\n",
    "    tmp_list = [0 for i in range(N)]\n",
    "    for idx in range(N):\n",
    "        if candy[idx] % 2 :\n",
    "            candy[idx] += 1\n",
    "        candy[idx] //= 2\n",
    "        tmp_list[(idx+1) % N] = candy[idx]\n",
    "\n",
    "    for idx in range(N):\n",
    "        candy[idx] += tmp_list[idx]\n",
    "    return candy\n",
    "\n",
    "def process():\n",
    "    N, candy = int(input()), list(map(int, input().split()))\n",
    "    count = 0\n",
    "    while not check(N, candy):\n",
    "        count += 1\n",
    "        candy = teacher(N, candy)\n",
    "    print(count)\n",
    "\n",
    "\n",
    "for _ in range(int(input())):\n",
    "    process()\n"
   ],
   "metadata": {
    "collapsed": false,
    "pycharm": {
     "name": "#%%\n"
    }
   }
  },
  {
   "cell_type": "markdown",
   "source": [
    "## 반복되는 index 번호 활용(% 나머지)\n",
    "<https://www.acmicpc.net/problem/16769>"
   ],
   "metadata": {
    "collapsed": false
   }
  },
  {
   "cell_type": "code",
   "execution_count": null,
   "outputs": [],
   "source": [
    "capacities, milkes = list(), list()\n",
    "for _ in range(3):\n",
    "    a, b = map(int, input().split())\n",
    "    capacities.append(a)\n",
    "    milkes.append(b)\n",
    "\n",
    "\n",
    "for i in range(100):\n",
    "    idx = i % 3 # 0, 1, 2\n",
    "    next = (idx + 1) % 3\n",
    "    milkes[idx], milkes[next] = max(milkes[idx] - (capacities[next] - milkes[next]), 0), min(capacities[next], milkes[next] + milkes[idx])\n",
    "\n",
    "for i in milkes:\n",
    "    print(i)"
   ],
   "metadata": {
    "collapsed": false,
    "pycharm": {
     "name": "#%%\n"
    }
   }
  },
  {
   "cell_type": "markdown",
   "source": [
    "## 함수를 활용해 반복되는 값 깔끔한 코드로 처리\n",
    "<https://www.acmicpc.net/problem/2484>"
   ],
   "metadata": {
    "collapsed": false
   }
  },
  {
   "cell_type": "code",
   "execution_count": null,
   "outputs": [],
   "source": [
    "N = int(input())\n",
    "\n",
    "def money():\n",
    "    dice_lst = sorted(list(map(int, input().split())))\n",
    "    temp = 0\n",
    "    reward = 0\n",
    "\n",
    "    if len(set(dice_lst)) == 1:\n",
    "        reward += 50000 + dice_lst[0] * 5000\n",
    "    elif len(set(dice_lst)) == 2:\n",
    "        if dice_lst[1] == dice_lst[2]:\n",
    "            reward += 10000 + dice_lst[1] * 1000\n",
    "        else:\n",
    "            reward += 2000 + dice_lst[0] * 500 + dice_lst[-1] * 500\n",
    "    elif len(set(dice_lst)) == 3:\n",
    "        for i in dice_lst:\n",
    "            if temp == i:\n",
    "                break\n",
    "            else:\n",
    "                temp = i\n",
    "        reward += 1000 + temp * 100\n",
    "    else:\n",
    "        reward += dice_lst[-1] * 100\n",
    "    return reward\n",
    "\n",
    "\n",
    "print(max(money() for i in range(N)))\n"
   ],
   "metadata": {
    "collapsed": false,
    "pycharm": {
     "name": "#%%\n"
    }
   }
  },
  {
   "cell_type": "markdown",
   "source": [
    "## 가위 -> 바위 -> 보 처럼 상관관계가 있을 경우 index를 활용해 간단하게 처리\n",
    "<https://www.acmicpc.net/problem/16675>"
   ],
   "metadata": {
    "collapsed": false
   }
  },
  {
   "cell_type": "code",
   "execution_count": null,
   "outputs": [],
   "source": [
    "ML, MR, TL, TR = ('SPR'.index(i) for i in input().split())\n",
    "# 0, 1, 2\n",
    "# find 사용해도 좋음\n",
    "\n",
    "if ML == MR and (ML+2) % 3 in [TL, TR]:\n",
    "    print(\"TK\")\n",
    "elif TL == TR and (TL+2) % 3 in [ML, MR]:\n",
    "    print(\"MS\")\n",
    "else:\n",
    "    print(\"?\")"
   ],
   "metadata": {
    "collapsed": false,
    "pycharm": {
     "name": "#%%\n"
    }
   }
  },
  {
   "cell_type": "markdown",
   "source": [
    "## 방향 벡터"
   ],
   "metadata": {
    "collapsed": false
   }
  },
  {
   "cell_type": "code",
   "execution_count": null,
   "outputs": [],
   "source": [
    "dx = [-1, 1, 0, 0]\n",
    "dy = [0, 0, 1, -1]\n",
    "#반시계방향\n",
    "dx = [0, -1, 0, 1]\n",
    "dy = [1, 0, -1, 0]\n",
    "# 시계방향\n",
    "dx = [0, 1, 0, -1]\n",
    "dy = [1, 0, -1, 0]"
   ],
   "metadata": {
    "collapsed": false,
    "pycharm": {
     "name": "#%%\n"
    }
   }
  },
  {
   "cell_type": "markdown",
   "source": [
    "<https://www.acmicpc.net/problem/16956>"
   ],
   "metadata": {
    "collapsed": false
   }
  },
  {
   "cell_type": "code",
   "execution_count": null,
   "outputs": [],
   "source": [
    "dx = [-1, 1, 0, 0]\n",
    "dy = [0, 0, -1, 1]\n",
    "\n",
    "# 늑대와 양이 붙어있는 경우\n",
    "def check(x, y):\n",
    "    for i in range(4):\n",
    "        nx = x + dx[i]\n",
    "        ny = y + dy[i]\n",
    "        if nx < 0 or nx >= R or ny < 0 or ny >= C:\n",
    "            pass\n",
    "        elif array[nx][ny] == \"S\":\n",
    "            return False\n",
    "        else:\n",
    "            array[nx][ny] = \"D\"\n",
    "    return True\n",
    "\n",
    "\n",
    "# 입력\n",
    "R, C = map(int, input().split())\n",
    "array = list()\n",
    "for _ in range(R):\n",
    "    array.append(list(input()))\n",
    "\n",
    "# 모든 행과 열 Check\n",
    "check_point = True\n",
    "for i in range(R):\n",
    "    for j in range(C):\n",
    "        # 늑대를 기준으로\n",
    "        if array[i][j] == \"W\":\n",
    "            if not check(i, j):\n",
    "                check_point = False\n",
    "                break\n",
    "    if not check_point:\n",
    "        break\n",
    "\n",
    "if check_point:\n",
    "    print(1)\n",
    "    for i in array:\n",
    "        print(\"\".join(i))\n",
    "else:\n",
    "    print(0)"
   ],
   "metadata": {
    "collapsed": false,
    "pycharm": {
     "name": "#%%\n"
    }
   }
  },
  {
   "cell_type": "markdown",
   "source": [
    "# 방향벡터 코드 처리 -> 반복문 최소화할 때 하나의 i 값으로 i*i로  계산후 몫과 나머지 활용\n",
    "<https://www.acmicpc.net/problem/14620>"
   ],
   "metadata": {
    "collapsed": false
   }
  },
  {
   "cell_type": "code",
   "execution_count": null,
   "outputs": [],
   "source": [
    "dx = [-1, 1, 0, 0]\n",
    "dy = [0, 0, -1, 1]\n",
    "\n",
    "# 각 지점당 꽃심을 때 비용\n",
    "def count_bill(x, y):\n",
    "    temp = map_bill[x][y]\n",
    "    for i in range(4):\n",
    "        nx = x + dx[i]\n",
    "        ny = y + dy[i]\n",
    "        if nx < 0 or nx >= N or ny < 0 or ny >= N:\n",
    "            pass\n",
    "        else:\n",
    "            temp += map_bill[nx][ny]\n",
    "    bill_result[x][y] = temp\n",
    "    return temp\n",
    "\n",
    "# 꽃 심음\n",
    "def plant(x, y):\n",
    "    bill_result[x][y] = False\n",
    "    for i in range(4):\n",
    "        nx = x + dx[i]\n",
    "        ny = y + dy[i]\n",
    "        if nx < 0 or nx >= N or ny < 0 or ny >= N:\n",
    "            pass\n",
    "        else:\n",
    "            bill_result[nx][ny] = False\n",
    "\n",
    "def check(x, y):\n",
    "    flag = True\n",
    "    if not bill_result[x][y]:\n",
    "        flag =  False\n",
    "    for i in range(4):\n",
    "        nx = x + dx[i]\n",
    "        ny = y + dy[i]\n",
    "        if nx < 0 or nx >= N or ny < 0 or ny >= N:\n",
    "            pass\n",
    "        else:\n",
    "            if not bill_result[nx][ny]:\n",
    "                flag = False\n",
    "    return flag\n",
    "\n",
    "# 입력\n",
    "N = int(input())\n",
    "map_bill = list()\n",
    "for _ in range(N):\n",
    "    map_bill.append(list(map(int, input().split())))\n",
    "\n",
    "bill_result = [[0] * N for i in range(N)]\n",
    "\n",
    "\n",
    "\n",
    "# 3회 반복(이미 심은 지점 False 처리)\n",
    "result = 0\n",
    "for _ in range(3):\n",
    "    min_value = 201\n",
    "    min_x, min_y = 0, 0\n",
    "    # 모든 지점 확인\n",
    "    for j in range(N):\n",
    "        for k in range(N):\n",
    "            value = count_bill(j, k)\n",
    "            if value < min_value and check(j, k):\n",
    "                min_value = min(min_value, value)\n",
    "                min_x, min_y = j, k\n",
    "\n",
    "    print(min_value)\n",
    "    # 꽃 심음\n",
    "    result += min_value\n",
    "    plant(min_x, min_y)\n",
    "\n",
    "# 출력\n",
    "print(result)"
   ],
   "metadata": {
    "collapsed": false,
    "pycharm": {
     "name": "#%%\n"
    }
   }
  },
  {
   "cell_type": "code",
   "execution_count": null,
   "outputs": [],
   "source": [
    "N = int(input())\n",
    "G = [list(map(int, input().split()))for i in range(N)]\n",
    "\n",
    "dx, dy = [0, 0, 1, -1, 0], [-1, 1, 0, 0, 0]\n",
    "\n",
    "def ck(lst):    # a, b, c\n",
    "    ret = 0\n",
    "    flow = list()\n",
    "    for flower in lst:\n",
    "        x = flower // N\n",
    "        y = flower % N\n",
    "        if x == 0 or x == N - 1 or y == 0 or y == N - 1:\n",
    "            return 10000\n",
    "\n",
    "        for w in range(4):\n",
    "            flow.append((x + dx[w], y + dy[w]))\n",
    "            ret += G[x+dx[w]][y+dy[w]]\n",
    "    if len(set(flow)) != 15:\n",
    "        return 10000\n",
    "    return ret\n",
    "\n",
    "ans = 10000\n",
    "\n",
    "for i in range(N*N):\n",
    "    for j in range(i + 1, N*N):\n",
    "        for k in range(j + 1, N*N):\n",
    "            ans = min(ans, ck([i, j, k]))\n",
    "\n",
    "print(ans)\n"
   ],
   "metadata": {
    "collapsed": false,
    "pycharm": {
     "name": "#%%\n"
    }
   }
  }
 ],
 "metadata": {
  "kernelspec": {
   "display_name": "Python 3",
   "language": "python",
   "name": "python3"
  },
  "language_info": {
   "codemirror_mode": {
    "name": "ipython",
    "version": 2
   },
   "file_extension": ".py",
   "mimetype": "text/x-python",
   "name": "python",
   "nbconvert_exporter": "python",
   "pygments_lexer": "ipython2",
   "version": "2.7.6"
  }
 },
 "nbformat": 4,
 "nbformat_minor": 0
}