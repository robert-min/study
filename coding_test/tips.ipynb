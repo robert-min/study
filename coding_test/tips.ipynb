{
 "cells": [
  {
   "cell_type": "markdown",
   "source": [
    "# 패캠 - 실전코딩테스트"
   ],
   "metadata": {
    "collapsed": false
   }
  },
  {
   "cell_type": "markdown",
   "source": [
    "## Min-Max\n",
    "<https://www.acmicpc.net/problem/15969>"
   ],
   "metadata": {
    "collapsed": false
   }
  },
  {
   "cell_type": "code",
   "execution_count": null,
   "metadata": {
    "collapsed": true
   },
   "outputs": [],
   "source": [
    "n = int(input())\n",
    "data = list(map(int, input().split()))\n",
    "\n",
    "data.sort()\n",
    "min_value, max_value = data[0], data[-1]\n",
    "\n",
    "result = max_value - min_value\n",
    "print(result)"
   ]
  },
  {
   "cell_type": "markdown",
   "source": [
    "## index 활용\n",
    "<https://www.acmicpc.net/problem/10539>"
   ],
   "metadata": {
    "collapsed": false
   }
  },
  {
   "cell_type": "code",
   "execution_count": null,
   "outputs": [],
   "source": [
    "n = int(input())\n",
    "datas = list(map(int, input().split()))\n",
    "\n",
    "a = 0\n",
    "for index, data in enumerate(datas):\n",
    "    temp = data * (index + 1)\n",
    "    print(temp - a, end=\" \")\n",
    "    a = temp"
   ],
   "metadata": {
    "collapsed": false,
    "pycharm": {
     "name": "#%%\n"
    }
   }
  },
  {
   "cell_type": "markdown",
   "source": [
    "# 붙어있는 Index 계산 & 아스키코드 활용\n",
    "<https://www.acmicpc.net/problem/17269>"
   ],
   "metadata": {
    "collapsed": false
   }
  },
  {
   "cell_type": "code",
   "execution_count": null,
   "outputs": [],
   "source": [
    "n, m = map(int, input().split())\n",
    "a, b = input().split()\n",
    "\n",
    "word_count = [3, 2, 1, 2, 4, 3, 1, 3, 1, 1, 3, 1, 3, 2, 1, 2, 2, 2, 1, 2, 1, 1, 1, 2, 2, 1]\n",
    "\n",
    "# 길이 비교\n",
    "if len(a) > len(b):\n",
    "    length = len(b)\n",
    "else:\n",
    "    length = len(a)\n",
    "\n",
    "total = \"\"\n",
    "for i in range(length):\n",
    "    total = total + a[i] + b[i]\n",
    "\n",
    "total = total + a[length:] + b[length:]\n",
    "\n",
    "data = list()\n",
    "for alphabet in total:\n",
    "    data.append(word_count[ord(alphabet) - 65])\n",
    "\n",
    "\n",
    "for i in range(n+m-2):\n",
    "    for j in range(n+m-1-i):\n",
    "        data[j] += data[j + 1]\n",
    "\n",
    "print(\"{}%\".format(data[0] % 10*10 + data[1] % 10))"
   ],
   "metadata": {
    "collapsed": false,
    "pycharm": {
     "name": "#%%\n"
    }
   }
  },
  {
   "cell_type": "markdown",
   "source": [
    "<https://www.acmicpc.net/problem/17389>"
   ],
   "metadata": {
    "collapsed": false
   }
  },
  {
   "cell_type": "code",
   "execution_count": null,
   "outputs": [],
   "source": [
    "n = int(input())\n",
    "s = input()\n",
    "\n",
    "result, bonus = 0, 0\n",
    "for idx, answer in enumerate(s):\n",
    "    if answer == \"O\":\n",
    "        result, bonus = result + idx + 1 + bonus, bonus + 1\n",
    "    else:\n",
    "        bonus = 0\n",
    "print(result)"
   ],
   "metadata": {
    "collapsed": false,
    "pycharm": {
     "name": "#%%\n"
    }
   }
  },
  {
   "cell_type": "code",
   "execution_count": null,
   "outputs": [],
   "source": [
    "n = int(input())\n",
    "s = input()\n",
    "\n",
    "result, bonus = 0, 0\n",
    "for index, answer in enumerate(s):\n",
    "    if answer == \"O\" and bonus  == 0:\n",
    "        result += (index + 1)\n",
    "        bonus += 1\n",
    "    elif answer == \"O\" and bonus > 0:\n",
    "        result += (index + 1)\n",
    "        result += bonus\n",
    "        bonus += 1\n",
    "    else:\n",
    "        bonus = 0\n",
    "\n",
    "print(result)"
   ],
   "metadata": {
    "collapsed": false,
    "pycharm": {
     "name": "#%%\n"
    }
   }
  }
 ],
 "metadata": {
  "kernelspec": {
   "display_name": "Python 3",
   "language": "python",
   "name": "python3"
  },
  "language_info": {
   "codemirror_mode": {
    "name": "ipython",
    "version": 2
   },
   "file_extension": ".py",
   "mimetype": "text/x-python",
   "name": "python",
   "nbconvert_exporter": "python",
   "pygments_lexer": "ipython2",
   "version": "2.7.6"
  }
 },
 "nbformat": 4,
 "nbformat_minor": 0
}