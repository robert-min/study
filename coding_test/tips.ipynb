{
 "cells": [
  {
   "cell_type": "markdown",
   "source": [
    "# 패캠 - 실전코딩테스트"
   ],
   "metadata": {
    "collapsed": false
   }
  },
  {
   "cell_type": "markdown",
   "source": [
    "## Min-Max\n",
    "<https://www.acmicpc.net/problem/15969>"
   ],
   "metadata": {
    "collapsed": false
   }
  },
  {
   "cell_type": "code",
   "execution_count": null,
   "metadata": {
    "collapsed": true
   },
   "outputs": [],
   "source": [
    "n = int(input())\n",
    "data = list(map(int, input().split()))\n",
    "\n",
    "data.sort()\n",
    "min_value, max_value = data[0], data[-1]\n",
    "\n",
    "result = max_value - min_value\n",
    "print(result)"
   ]
  },
  {
   "cell_type": "markdown",
   "source": [
    "## index 활용\n",
    "<https://www.acmicpc.net/problem/10539>"
   ],
   "metadata": {
    "collapsed": false
   }
  },
  {
   "cell_type": "code",
   "execution_count": null,
   "outputs": [],
   "source": [
    "n = int(input())\n",
    "datas = list(map(int, input().split()))\n",
    "\n",
    "a = 0\n",
    "for index, data in enumerate(datas):\n",
    "    temp = data * (index + 1)\n",
    "    print(temp - a, end=\" \")\n",
    "    a = temp"
   ],
   "metadata": {
    "collapsed": false,
    "pycharm": {
     "name": "#%%\n"
    }
   }
  },
  {
   "cell_type": "markdown",
   "source": [
    "# 붙어있는 Index 계산 & 아스키코드 활용\n",
    "<https://www.acmicpc.net/problem/17269>"
   ],
   "metadata": {
    "collapsed": false
   }
  },
  {
   "cell_type": "code",
   "execution_count": null,
   "outputs": [],
   "source": [
    "n, m = map(int, input().split())\n",
    "a, b = input().split()\n",
    "\n",
    "word_count = [3, 2, 1, 2, 4, 3, 1, 3, 1, 1, 3, 1, 3, 2, 1, 2, 2, 2, 1, 2, 1, 1, 1, 2, 2, 1]\n",
    "\n",
    "# 길이 비교\n",
    "if len(a) > len(b):\n",
    "    length = len(b)\n",
    "else:\n",
    "    length = len(a)\n",
    "\n",
    "total = \"\"\n",
    "for i in range(length):\n",
    "    total = total + a[i] + b[i]\n",
    "\n",
    "total = total + a[length:] + b[length:]\n",
    "\n",
    "data = list()\n",
    "for alphabet in total:\n",
    "    data.append(word_count[ord(alphabet) - 65])\n",
    "\n",
    "\n",
    "for i in range(n+m-2):\n",
    "    for j in range(n+m-1-i):\n",
    "        data[j] += data[j + 1]\n",
    "\n",
    "print(\"{}%\".format(data[0] % 10*10 + data[1] % 10))"
   ],
   "metadata": {
    "collapsed": false,
    "pycharm": {
     "name": "#%%\n"
    }
   }
  },
  {
   "cell_type": "markdown",
   "source": [
    "<https://www.acmicpc.net/problem/17389>"
   ],
   "metadata": {
    "collapsed": false
   }
  },
  {
   "cell_type": "code",
   "execution_count": null,
   "outputs": [],
   "source": [
    "n = int(input())\n",
    "s = input()\n",
    "\n",
    "result, bonus = 0, 0\n",
    "for idx, answer in enumerate(s):\n",
    "    if answer == \"O\":\n",
    "        result, bonus = result + idx + 1 + bonus, bonus + 1\n",
    "    else:\n",
    "        bonus = 0\n",
    "print(result)"
   ],
   "metadata": {
    "collapsed": false,
    "pycharm": {
     "name": "#%%\n"
    }
   }
  },
  {
   "cell_type": "code",
   "execution_count": null,
   "outputs": [],
   "source": [
    "n = int(input())\n",
    "s = input()\n",
    "\n",
    "result, bonus = 0, 0\n",
    "for index, answer in enumerate(s):\n",
    "    if answer == \"O\" and bonus  == 0:\n",
    "        result += (index + 1)\n",
    "        bonus += 1\n",
    "    elif answer == \"O\" and bonus > 0:\n",
    "        result += (index + 1)\n",
    "        result += bonus\n",
    "        bonus += 1\n",
    "    else:\n",
    "        bonus = 0\n",
    "\n",
    "print(result)"
   ],
   "metadata": {
    "collapsed": false,
    "pycharm": {
     "name": "#%%\n"
    }
   }
  },
  {
   "cell_type": "markdown",
   "source": [
    "## dict get method(딕셔너리에 없는 데이터를 출력\n",
    "<https://www.acmicpc.net/problem/1920>"
   ],
   "metadata": {
    "collapsed": false
   }
  },
  {
   "cell_type": "code",
   "execution_count": null,
   "outputs": [],
   "source": [
    "N, A = int(input()), {i: 1 for i in map(int, input().split())}\n",
    "M = input()\n",
    "for i in list(map(int, input().split())):\n",
    "    print(A.get(i, 0))"
   ],
   "metadata": {
    "collapsed": false,
    "pycharm": {
     "name": "#%%\n"
    }
   }
  },
  {
   "cell_type": "markdown",
   "source": [
    "## defaultdict & dict 안 리스트 정렬(Sorted\n",
    "<https://www.acmicpc.net/problem/16165>"
   ],
   "metadata": {
    "collapsed": false
   }
  },
  {
   "cell_type": "code",
   "execution_count": null,
   "outputs": [],
   "source": [
    "from collections import defaultdict\n",
    "N, M = map(int, input().split())\n",
    "\n",
    "# 데이터 입력\n",
    "data = defaultdict(list)\n",
    "for _ in range(N):\n",
    "    group_name = input()\n",
    "    group_num = int(input())\n",
    "    for _ in range(group_num):\n",
    "        data[group_name].append(input())\n",
    "\n",
    "# 사전 순으로 정렬\n",
    "for key, value in data.items():\n",
    "    data[key] = sorted(value)\n",
    "\n",
    "# 문제\n",
    "for _ in range(M):\n",
    "    question, type = input(), int(input())\n",
    "    if type == 0:\n",
    "        for i in data.get(question): print(i)\n",
    "    else:\n",
    "        for key in data.keys():\n",
    "            if question in data[key]: print(key)"
   ],
   "metadata": {
    "collapsed": false,
    "pycharm": {
     "name": "#%%\n"
    }
   }
  },
  {
   "cell_type": "markdown",
   "source": [
    "## 함수로 나누어서 풀기\n",
    "<https://www.acmicpc.net/problem/9037>"
   ],
   "metadata": {
    "collapsed": false
   }
  },
  {
   "cell_type": "code",
   "execution_count": null,
   "outputs": [],
   "source": [
    "def check(N, candy):\n",
    "    for i in range(N):\n",
    "        if candy[i] % 2 == 1:\n",
    "            candy[i] += 1\n",
    "    return len(set(candy)) == 1\n",
    "\n",
    "def teacher(N, candy):\n",
    "    tmp_list = [0 for i in range(N)]\n",
    "    for idx in range(N):\n",
    "        if candy[idx] % 2 :\n",
    "            candy[idx] += 1\n",
    "        candy[idx] //= 2\n",
    "        tmp_list[(idx+1) % N] = candy[idx]\n",
    "\n",
    "    for idx in range(N):\n",
    "        candy[idx] += tmp_list[idx]\n",
    "    return candy\n",
    "\n",
    "def process():\n",
    "    N, candy = int(input()), list(map(int, input().split()))\n",
    "    count = 0\n",
    "    while not check(N, candy):\n",
    "        count += 1\n",
    "        candy = teacher(N, candy)\n",
    "    print(count)\n",
    "\n",
    "\n",
    "for _ in range(int(input())):\n",
    "    process()\n",
    "\n"
   ],
   "metadata": {
    "collapsed": false,
    "pycharm": {
     "name": "#%%\n"
    }
   }
  }
 ],
 "metadata": {
  "kernelspec": {
   "display_name": "Python 3",
   "language": "python",
   "name": "python3"
  },
  "language_info": {
   "codemirror_mode": {
    "name": "ipython",
    "version": 2
   },
   "file_extension": ".py",
   "mimetype": "text/x-python",
   "name": "python",
   "nbconvert_exporter": "python",
   "pygments_lexer": "ipython2",
   "version": "2.7.6"
  }
 },
 "nbformat": 4,
 "nbformat_minor": 0
}