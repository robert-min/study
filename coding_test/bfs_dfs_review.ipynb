{
 "cells": [
  {
   "cell_type": "markdown",
   "source": [
    "<https://www.acmicpc.net/problem/1260>"
   ],
   "metadata": {
    "collapsed": false
   }
  },
  {
   "cell_type": "code",
   "execution_count": null,
   "metadata": {
    "collapsed": true
   },
   "outputs": [],
   "source": [
    "# 입력\n",
    "n, m, v = map(int, input().split(\" \"))\n",
    "adj = [[] for _ in range(n+1)]\n",
    "\n",
    "for _ in range(m):\n",
    "    node1, node2 = map(int, input().split(\" \"))\n",
    "    adj[node1].append(node2)\n",
    "    adj[node2].append(node1)\n",
    "\n",
    "for a in adj:\n",
    "    a.sort()\n",
    "\n",
    "# DFS\n",
    "def dfs(start):\n",
    "    print(start, end=\" \")\n",
    "    visited[start] = True\n",
    "    for i in adj[start]:\n",
    "        if not visited[i]:\n",
    "            dfs(i)\n",
    "\n",
    "\n",
    "# BFS\n",
    "from collections import deque\n",
    "def bfs(start):\n",
    "    q = deque([start])\n",
    "    while q:\n",
    "        node = q.popleft()\n",
    "        if not visited[node]:\n",
    "            print(node, end=\" \")\n",
    "            visited[node] = True\n",
    "            for i in adj[node]:\n",
    "                if not visited[i]:\n",
    "                    q.append(i)\n",
    "\n",
    "\n",
    "# 출력\n",
    "visited = [False] * (n + 1)\n",
    "dfs(v)\n",
    "print()\n",
    "visited = [False] * (n + 1)\n",
    "bfs(v)"
   ]
  },
  {
   "cell_type": "markdown",
   "source": [
    "<https://www.acmicpc.net/problem/1697>"
   ],
   "metadata": {
    "collapsed": false
   }
  },
  {
   "cell_type": "code",
   "execution_count": null,
   "outputs": [],
   "source": [
    "from collections import deque\n",
    "# 입력\n",
    "n, k = map(int, input().split())\n",
    "\n",
    "# bfs\n",
    "def bfs(n):\n",
    "    q = deque([n])\n",
    "    while q:\n",
    "        now_pos = q.popleft()\n",
    "        # 종료 조건\n",
    "        if now_pos == k:\n",
    "            return array[now_pos]\n",
    "        for next_pos in [now_pos - 1, now_pos + 1, now_pos * 2]:\n",
    "            if (0 <= next_pos < MAX) and array[next_pos] == 0:\n",
    "                array[next_pos] = array[now_pos] + 1\n",
    "                q.append(next_pos)\n",
    "\n",
    "# 출력\n",
    "MAX = 100001\n",
    "array = [0] * MAX\n",
    "print(bfs(n))"
   ],
   "metadata": {
    "collapsed": false,
    "pycharm": {
     "name": "#%%\n"
    }
   }
  },
  {
   "cell_type": "markdown",
   "source": [
    "<https://www.acmicpc.net/problem/2606>"
   ],
   "metadata": {
    "collapsed": false
   }
  },
  {
   "cell_type": "code",
   "execution_count": null,
   "outputs": [],
   "source": [
    "from collections import deque\n",
    "# 입력\n",
    "n = int(input())\n",
    "m = int(input())\n",
    "adj = [[] for _ in range(n + 1)]\n",
    "for _ in range(m):\n",
    "    node1, node2 = map(int, input().split())\n",
    "    adj[node1].append(node2)\n",
    "    adj[node2].append(node1)\n",
    "\n",
    "# bfs\n",
    "visited = [False] * 101\n",
    "def bfs(start):\n",
    "    q = deque([start])\n",
    "    count = 0\n",
    "    while q:\n",
    "        node = q.popleft()\n",
    "        if visited[node] == False:\n",
    "            visited[node] = True\n",
    "            count += 1\n",
    "            for i in adj[node]:\n",
    "                q.append(i)\n",
    "    return count - 1\n",
    "\n",
    "# 출력\n",
    "print(bfs(1))"
   ],
   "metadata": {
    "collapsed": false,
    "pycharm": {
     "name": "#%%\n"
    }
   }
  },
  {
   "cell_type": "markdown",
   "source": [
    "<https://www.acmicpc.net/problem/1012>"
   ],
   "metadata": {
    "collapsed": false
   }
  },
  {
   "cell_type": "code",
   "execution_count": null,
   "outputs": [],
   "source": [
    "import sys\n",
    "sys.setrecursionlimit(100000)\n",
    "def dfs(x, y):\n",
    "    visited[x][y] = True\n",
    "    directions = [(-1, 0), (1, 0), (0, -1), (0, 1)]\n",
    "    for dx, dy in directions:\n",
    "        nx, ny = x + dx, y + dy\n",
    "        if nx < 0 or nx >= n or ny < 0 or ny >= m:\n",
    "            continue\n",
    "        if array[nx][ny] and not visited[nx][ny]:\n",
    "            dfs(nx, ny)\n",
    "\n",
    "for _ in range(int(input())):\n",
    "    m, n, k = map(int, input().split())\n",
    "    array = [[0] * m for _ in range(n)]\n",
    "    visited = [[False] * m for _ in range(n)]\n",
    "\n",
    "    for _ in range(k):\n",
    "        y, x = map(int, input().split())\n",
    "        array[x][y] = 1\n",
    "\n",
    "    result = 0\n",
    "    for i in range(n):\n",
    "        for j in range(m):\n",
    "            if array[i][j] and not visited[i][j]:\n",
    "                dfs(i, j)\n",
    "                result += 1\n",
    "\n",
    "print(result)"
   ],
   "metadata": {
    "collapsed": false,
    "pycharm": {
     "name": "#%%\n"
    }
   }
  },
  {
   "cell_type": "code",
   "execution_count": null,
   "outputs": [],
   "source": [
    "t = int(input())\n",
    "dx = [1, -1, 0, 0]\n",
    "dy = [0, 0, -1, 1]\n",
    "def bfs(x, y):\n",
    "    queue = [[x, y]]\n",
    "    while queue:\n",
    "        a, b = queue[0][0], queue[0][1]\n",
    "        del queue[0]\n",
    "        for i in range(4):\n",
    "            q = a + dx[i]\n",
    "            w = b + dy[i]\n",
    "            if 0 <= q < n and 0 <= w < m and s[q][w] == 1:\n",
    "                s[q][w] = 0\n",
    "                queue.append([q, w])\n",
    "\n",
    "for i in range(t):\n",
    "    m, n, k = map(int, input().split())\n",
    "    s = [[0] * m for i in range(n)]\n",
    "    cnt = 0\n",
    "    for j in range(k):\n",
    "        a, b = map(int, input().split())\n",
    "        s[b][a] = 1\n",
    "    for q in range(n):\n",
    "        for w in range(m):\n",
    "            if s[q][w] == 1:\n",
    "                bfs(q, w)\n",
    "                s[q][w] = 0\n",
    "                cnt += 1\n",
    "    print(cnt)"
   ],
   "metadata": {
    "collapsed": false,
    "pycharm": {
     "name": "#%%\n"
    }
   }
  },
  {
   "cell_type": "markdown",
   "source": [
    "<https://www.acmicpc.net/problem/1325>"
   ],
   "metadata": {
    "collapsed": false
   }
  },
  {
   "cell_type": "code",
   "execution_count": null,
   "outputs": [],
   "source": [
    "from collections import deque\n",
    "\n",
    "# 입력\n",
    "n, m = map(int, input().split())\n",
    "adj = [[] for _ in range(n + 1)]\n",
    "for _ in range(m):\n",
    "    node1, node2 = map(int, input().split())\n",
    "    adj[node2].append(node1)\n",
    "\n",
    "# bfs\n",
    "def bfs(start):\n",
    "    q = deque([start])\n",
    "    visited = [False] * (n + 1)\n",
    "    visited[start] = True\n",
    "    count = 1\n",
    "    while q:\n",
    "        node = q.popleft()\n",
    "        for a in adj[node]:\n",
    "            if not visited[a]:\n",
    "                q.append(a)\n",
    "                visited[a] = True\n",
    "                count += 1\n",
    "    return count\n",
    "\n",
    "# 출력\n",
    "result = []\n",
    "max_value = -1\n",
    "for i in range(1, n + 1):\n",
    "    value = bfs(i)\n",
    "    if value > max_value:\n",
    "        result = [i]\n",
    "        max_value = value\n",
    "    elif value == max_value:\n",
    "        result.append(i)\n",
    "        max_value = value\n",
    "\n",
    "for e in result:\n",
    "    print(e, end=\" \")"
   ],
   "metadata": {
    "collapsed": false,
    "pycharm": {
     "name": "#%%\n"
    }
   }
  },
  {
   "cell_type": "markdown",
   "source": [
    "# 프로그래머스 네트워크"
   ],
   "metadata": {
    "collapsed": false
   }
  },
  {
   "cell_type": "code",
   "execution_count": null,
   "outputs": [],
   "source": [
    "def dfs(node, computers, visited):\n",
    "    visited[node] = True\n",
    "\n",
    "    # 탐색할 노드 찾고 재귀함수\n",
    "    for i, neighbor in enumerate(computers[node]):\n",
    "        # 인접노드 중 자기 자신 X, 아직 방문하지 않은 노드\n",
    "        if neighbor > 0 and i != node and visited[i] == False:\n",
    "            dfs(i, computers, visited)\n",
    "    return  visited\n",
    "\n",
    "def solution(n , computers):\n",
    "    answer = 1\n",
    "    visited = [False] * n\n",
    "    start = 0\n",
    "\n",
    "    # 모두 방문\n",
    "    while True:\n",
    "        visited = dfs(start, computers, visited)\n",
    "        if False in visited:\n",
    "            start = visited.index(False)    # False가 있는 인덱스 번호를 start 로 list.index()\n",
    "            answer += 1\n",
    "        else:\n",
    "            break\n",
    "    return answer\n"
   ],
   "metadata": {
    "collapsed": false,
    "pycharm": {
     "name": "#%%\n"
    }
   }
  },
  {
   "cell_type": "code",
   "execution_count": null,
   "outputs": [],
   "source": [
    "\n",
    "def solution(n, computers):\n",
    "    answer = 0\n",
    "    visited = [[0] * n for _ in range(n)]\n",
    "    directions = [(-1, 0), (1, 0), (0, -1), (0, 1)]\n",
    "\n",
    "    # dfs\n",
    "    def dfs(x, y):\n",
    "        visited[x][y] = 1\n",
    "        for dx, dy in directions:\n",
    "            nx = x + dx\n",
    "            ny = y + dy\n",
    "            if nx < 0 or nx >= n or ny < 0 or ny >= n:\n",
    "                continue\n",
    "            if computers[nx][ny] and not visited[nx][ny]:\n",
    "                dfs(nx, ny)\n",
    "\n",
    "    # 출력\n",
    "    for i in range(n):\n",
    "        for j in range(n):\n",
    "            if computers[i][j] and not visited[i][j]:\n",
    "                dfs(i, j)\n",
    "                answer += 1\n",
    "\n",
    "    return answer"
   ],
   "metadata": {
    "collapsed": false,
    "pycharm": {
     "name": "#%%\n"
    }
   }
  },
  {
   "cell_type": "code",
   "execution_count": null,
   "outputs": [],
   "source": [
    "def solution(n, computers):\n",
    "\n",
    "    answer = 0\n",
    "    visited = [[0] * n for _ in range(n)]\n",
    "    directions = [(-1, 0), (1, 0), (0, -1), (0, 1)]\n",
    "\n",
    "    # bfs\n",
    "    def bfs(x, y):\n",
    "        q = [[x, y]]\n",
    "        while q:\n",
    "            x, y = q[0][0], q[0][1]\n",
    "            del q[0]\n",
    "            for dx, dy in directions:\n",
    "                nx = x + dx\n",
    "                ny = y + dy\n",
    "                if 0 <= nx < n and 0 <= ny < n and computers[nx][ny]:\n",
    "                    computers[nx][ny] = 0\n",
    "                    q.append([nx, ny])\n",
    "\n",
    "\n",
    "    # 출력\n",
    "    for i in range(n):\n",
    "        for j in range(n):\n",
    "            if computers[i][j] and not visited[i][j]:\n",
    "                bfs(i, j)\n",
    "                answer += 1\n",
    "\n",
    "    return answer\n",
    "\n",
    "\n",
    "print(solution(3, [[1, 1, 0], [1, 1, 0], [0, 0, 1]]))"
   ],
   "metadata": {
    "collapsed": false,
    "pycharm": {
     "name": "#%%\n"
    }
   }
  },
  {
   "cell_type": "markdown",
   "source": [
    "# 프로그래머스 여행경로"
   ],
   "metadata": {
    "collapsed": false
   }
  },
  {
   "cell_type": "code",
   "execution_count": null,
   "outputs": [],
   "source": [
    "#stack 활용\n",
    "from collections import defaultdict\n",
    "\n",
    "def solution(tickets):\n",
    "    answer = []\n",
    "    routes = defaultdict(list)\n",
    "\n",
    "    for ticket in tickets:\n",
    "        routes[ticket[0]].append(ticket[1])\n",
    "\n",
    "    for key in routes.keys():\n",
    "        routes[key].sort(reverse=True)\n",
    "\n",
    "    stack = [\"ICN\"]\n",
    "    while stack:\n",
    "        node = stack[-1]\n",
    "\n",
    "        if not routes[node]:\n",
    "            answer.append(stack.pop())\n",
    "        else:\n",
    "            stack.append(routes[node].pop())\n",
    "    answer.reverse()\n",
    "\n",
    "    return answer"
   ],
   "metadata": {
    "collapsed": false,
    "pycharm": {
     "name": "#%%\n"
    }
   }
  },
  {
   "cell_type": "code",
   "execution_count": null,
   "outputs": [],
   "source": [
    "# 고민한 코드\n",
    "tickets = [[\"ICN\", \"SFO\"], [\"ICN\", \"ATL\"], [\"SFO\", \"ATL\"], [\"ATL\", \"ICN\"], [\"ATL\",\"SFO\"]]\n",
    "\n",
    "from collections import defaultdict, deque\n",
    "\n",
    "def solution(tickets):\n",
    "    # 티켓을 딕셔너리로\n",
    "    tickets_dict = defaultdict(list)\n",
    "    for ticket in tickets:\n",
    "        key, value = ticket[0], ticket[1]\n",
    "        tickets_dict[key].append(value)\n",
    "\n",
    "    print(tickets_dict)\n",
    "    # 모든 노드에 대해 체크(모두 방문하는 노드만 출력)\n",
    "    max_length = 0\n",
    "    for start in tickets_dict.keys():\n",
    "        print(\"start : \", start)\n",
    "        visited = []\n",
    "        case = bfs(start, tickets_dict, visited)\n",
    "        if len(case) >= max_length:\n",
    "            max_length = len(case)\n",
    "            answer = case\n",
    "        else:\n",
    "            pass\n",
    "\n",
    "    return answer\n",
    "\n",
    "\n",
    "def bfs(start, tickets_dict, visited):\n",
    "    q = deque([start])\n",
    "    while q:\n",
    "        node = q.popleft()\n",
    "        if node not in visited:\n",
    "            visited.append(node)\n",
    "            temp = sorted(tickets_dict[node])\n",
    "            print(\"temp :\", temp)\n",
    "            for i in temp:\n",
    "                q.append(i)\n",
    "    return visited\n",
    "\n",
    "print(solution(tickets))"
   ],
   "metadata": {
    "collapsed": false,
    "pycharm": {
     "name": "#%%\n"
    }
   }
  }
 ],
 "metadata": {
  "kernelspec": {
   "display_name": "Python 3",
   "language": "python",
   "name": "python3"
  },
  "language_info": {
   "codemirror_mode": {
    "name": "ipython",
    "version": 2
   },
   "file_extension": ".py",
   "mimetype": "text/x-python",
   "name": "python",
   "nbconvert_exporter": "python",
   "pygments_lexer": "ipython2",
   "version": "2.7.6"
  }
 },
 "nbformat": 4,
 "nbformat_minor": 0
}