{
 "cells": [
  {
   "cell_type": "markdown",
   "source": [
    "<https://www.acmicpc.net/problem/1260>"
   ],
   "metadata": {
    "collapsed": false
   }
  },
  {
   "cell_type": "code",
   "execution_count": null,
   "metadata": {
    "collapsed": true
   },
   "outputs": [],
   "source": [
    "# 입력\n",
    "n, m, v = map(int, input().split(\" \"))\n",
    "adj = [[] for _ in range(n+1)]\n",
    "\n",
    "for _ in range(m):\n",
    "    node1, node2 = map(int, input().split(\" \"))\n",
    "    adj[node1].append(node2)\n",
    "    adj[node2].append(node1)\n",
    "\n",
    "for a in adj:\n",
    "    a.sort()\n",
    "\n",
    "# DFS\n",
    "def dfs(start):\n",
    "    print(start, end=\" \")\n",
    "    visited[start] = True\n",
    "    for i in adj[start]:\n",
    "        if not visited[i]:\n",
    "            dfs(i)\n",
    "\n",
    "\n",
    "# BFS\n",
    "from collections import deque\n",
    "def bfs(start):\n",
    "    q = deque([start])\n",
    "    while q:\n",
    "        node = q.popleft()\n",
    "        if not visited[node]:\n",
    "            print(node, end=\" \")\n",
    "            visited[node] = True\n",
    "            for i in adj[node]:\n",
    "                if not visited[i]:\n",
    "                    q.append(i)\n",
    "\n",
    "\n",
    "# 출력\n",
    "visited = [False] * (n + 1)\n",
    "dfs(v)\n",
    "print()\n",
    "visited = [False] * (n + 1)\n",
    "bfs(v)"
   ]
  },
  {
   "cell_type": "markdown",
   "source": [
    "<https://www.acmicpc.net/problem/1697>"
   ],
   "metadata": {
    "collapsed": false
   }
  },
  {
   "cell_type": "code",
   "execution_count": null,
   "outputs": [],
   "source": [
    "from collections import deque\n",
    "# 입력\n",
    "n, k = map(int, input().split())\n",
    "\n",
    "# bfs\n",
    "def bfs(n):\n",
    "    q = deque([n])\n",
    "    while q:\n",
    "        now_pos = q.popleft()\n",
    "        # 종료 조건\n",
    "        if now_pos == k:\n",
    "            return array[now_pos]\n",
    "        for next_pos in [now_pos - 1, now_pos + 1, now_pos * 2]:\n",
    "            if (0 <= next_pos < MAX) and array[next_pos] == 0:\n",
    "                array[next_pos] = array[now_pos] + 1\n",
    "                q.append(next_pos)\n",
    "\n",
    "# 출력\n",
    "MAX = 100001\n",
    "array = [0] * MAX\n",
    "print(bfs(n))"
   ],
   "metadata": {
    "collapsed": false,
    "pycharm": {
     "name": "#%%\n"
    }
   }
  },
  {
   "cell_type": "markdown",
   "source": [
    "<https://www.acmicpc.net/problem/2606>"
   ],
   "metadata": {
    "collapsed": false
   }
  },
  {
   "cell_type": "code",
   "execution_count": null,
   "outputs": [],
   "source": [
    "from collections import deque\n",
    "# 입력\n",
    "n = int(input())\n",
    "m = int(input())\n",
    "adj = [[] for _ in range(n + 1)]\n",
    "for _ in range(m):\n",
    "    node1, node2 = map(int, input().split())\n",
    "    adj[node1].append(node2)\n",
    "    adj[node2].append(node1)\n",
    "\n",
    "# bfs\n",
    "visited = [False] * 101\n",
    "def bfs(start):\n",
    "    q = deque([start])\n",
    "    count = 0\n",
    "    while q:\n",
    "        node = q.popleft()\n",
    "        if visited[node] == False:\n",
    "            visited[node] = True\n",
    "            count += 1\n",
    "            for i in adj[node]:\n",
    "                q.append(i)\n",
    "    return count - 1\n",
    "\n",
    "# 출력\n",
    "print(bfs(1))"
   ],
   "metadata": {
    "collapsed": false,
    "pycharm": {
     "name": "#%%\n"
    }
   }
  },
  {
   "cell_type": "markdown",
   "source": [
    "<https://www.acmicpc.net/problem/1012>"
   ],
   "metadata": {
    "collapsed": false
   }
  },
  {
   "cell_type": "code",
   "execution_count": null,
   "outputs": [],
   "source": [
    "import sys\n",
    "sys.setrecursionlimit(100000)\n",
    "def dfs(x, y):\n",
    "    visited[x][y] = True\n",
    "    directions = [(-1, 0), (1, 0), (0, -1), (0, 1)]\n",
    "    for dx, dy in directions:\n",
    "        nx, ny = x + dx, y + dy\n",
    "        if nx < 0 or nx >= n or ny < 0 or ny >= m:\n",
    "            continue\n",
    "        if array[nx][ny] and not visited[nx][ny]:\n",
    "            dfs(nx, ny)\n",
    "\n",
    "for _ in range(int(input())):\n",
    "    m, n, k = map(int, input().split())\n",
    "    array = [[0] * m for _ in range(n)]\n",
    "    visited = [[False] * m for _ in range(n)]\n",
    "\n",
    "    for _ in range(k):\n",
    "        y, x = map(int, input().split())\n",
    "        array[x][y] = 1\n",
    "\n",
    "    result = 0\n",
    "    for i in range(n):\n",
    "        for j in range(m):\n",
    "            if array[i][j] and not visited[i][j]:\n",
    "                dfs(i, j)\n",
    "                result += 1\n",
    "\n",
    "print(result)"
   ],
   "metadata": {
    "collapsed": false,
    "pycharm": {
     "name": "#%%\n"
    }
   }
  },
  {
   "cell_type": "code",
   "execution_count": null,
   "outputs": [],
   "source": [
    "t = int(input())\n",
    "dx = [1, -1, 0, 0]\n",
    "dy = [0, 0, -1, 1]\n",
    "def bfs(x, y):\n",
    "    queue = [[x, y]]\n",
    "    while queue:\n",
    "        a, b = queue[0][0], queue[0][1]\n",
    "        del queue[0]\n",
    "        for i in range(4):\n",
    "            q = a + dx[i]\n",
    "            w = b + dy[i]\n",
    "            if 0 <= q < n and 0 <= w < m and s[q][w] == 1:\n",
    "                s[q][w] = 0\n",
    "                queue.append([q, w])\n",
    "\n",
    "for i in range(t):\n",
    "    m, n, k = map(int, input().split())\n",
    "    s = [[0] * m for i in range(n)]\n",
    "    cnt = 0\n",
    "    for j in range(k):\n",
    "        a, b = map(int, input().split())\n",
    "        s[b][a] = 1\n",
    "    for q in range(n):\n",
    "        for w in range(m):\n",
    "            if s[q][w] == 1:\n",
    "                bfs(q, w)\n",
    "                s[q][w] = 0\n",
    "                cnt += 1\n",
    "    print(cnt)"
   ],
   "metadata": {
    "collapsed": false,
    "pycharm": {
     "name": "#%%\n"
    }
   }
  },
  {
   "cell_type": "markdown",
   "source": [
    "<https://www.acmicpc.net/problem/1325>"
   ],
   "metadata": {
    "collapsed": false
   }
  },
  {
   "cell_type": "code",
   "execution_count": null,
   "outputs": [],
   "source": [
    "from collections import deque\n",
    "\n",
    "# 입력\n",
    "n, m = map(int, input().split())\n",
    "adj = [[] for _ in range(n + 1)]\n",
    "for _ in range(m):\n",
    "    node1, node2 = map(int, input().split())\n",
    "    adj[node2].append(node1)\n",
    "\n",
    "# bfs\n",
    "def bfs(start):\n",
    "    q = deque([start])\n",
    "    visited = [False] * (n + 1)\n",
    "    visited[start] = True\n",
    "    count = 1\n",
    "    while q:\n",
    "        node = q.popleft()\n",
    "        for a in adj[node]:\n",
    "            if not visited[a]:\n",
    "                q.append(a)\n",
    "                visited[a] = True\n",
    "                count += 1\n",
    "    return count\n",
    "\n",
    "# 출력\n",
    "result = []\n",
    "max_value = -1\n",
    "for i in range(1, n + 1):\n",
    "    value = bfs(i)\n",
    "    if value > max_value:\n",
    "        result = [i]\n",
    "        max_value = value\n",
    "    elif value == max_value:\n",
    "        result.append(i)\n",
    "        max_value = value\n",
    "\n",
    "for e in result:\n",
    "    print(e, end=\" \")"
   ],
   "metadata": {
    "collapsed": false,
    "pycharm": {
     "name": "#%%\n"
    }
   }
  }
 ],
 "metadata": {
  "kernelspec": {
   "display_name": "Python 3",
   "language": "python",
   "name": "python3"
  },
  "language_info": {
   "codemirror_mode": {
    "name": "ipython",
    "version": 2
   },
   "file_extension": ".py",
   "mimetype": "text/x-python",
   "name": "python",
   "nbconvert_exporter": "python",
   "pygments_lexer": "ipython2",
   "version": "2.7.6"
  }
 },
 "nbformat": 4,
 "nbformat_minor": 0
}