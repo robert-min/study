{
 "cells": [
  {
   "cell_type": "markdown",
   "source": [
    "# 공부해야할 지식\n",
    "* Flood Fill\n",
    "* 트리순회\n",
    "* 위상정렬\n",
    "* 최소신장트리\n",
    "* 최단거리"
   ],
   "metadata": {
    "collapsed": false
   }
  },
  {
   "cell_type": "markdown",
   "source": [
    "# 보드 게임 문제 모든 항 확인이 아닌 보드 회전을 통해서 문제 해결\n",
    "<https://www.acmicpc.net/problem/12100>"
   ],
   "metadata": {
    "collapsed": false
   }
  },
  {
   "cell_type": "code",
   "execution_count": null,
   "outputs": [],
   "source": [
    "from copy import deepcopy\n",
    "\n",
    "# 입력\n",
    "N = int(input())\n",
    "Board = [list(map(int, input().split())) for i in range(N)]\n",
    "\n",
    "def rotate90(B, N):\n",
    "    NB = deepcopy(B)\n",
    "    for i in range(N):\n",
    "        for j in range(N):\n",
    "            NB[j][N-i-1] = B[i][j]  # 90도 회전\n",
    "    return NB\n",
    "\n",
    "# 같은 수 합치고 난 후 왼쪽 방향으로 리스트 합치기\n",
    "def convert(lst, N):\n",
    "    new_list = [i for i in lst if i]\n",
    "    for i in range(1, len(new_list)):\n",
    "        if new_list[i-1] == new_list[i]:\n",
    "            new_list[i -1] *= 2\n",
    "            new_list[i] = 0\n",
    "    new_list = [i for i in new_list if i]\n",
    "    return new_list + [0] * (N-len(new_list))\n",
    "\n",
    "def dfs(N, B, count):\n",
    "    ret = max([max(i) for i in B])\n",
    "    if count == 0:\n",
    "        return ret\n",
    "    for _ in range(4):\n",
    "        X = [convert(i, N) for i in B]\n",
    "        if X != B:\n",
    "            ret = max(ret, dfs(N, X, count - 1))\n",
    "        B = rotate90(B, N)\n",
    "    return ret\n",
    "\n",
    "\n",
    "print(dfs(N, Board, 5))"
   ],
   "metadata": {
    "collapsed": false,
    "pycharm": {
     "name": "#%%\n"
    }
   }
  },
  {
   "cell_type": "markdown",
   "source": [
    "## Flood Fill 문제 - dfs 문제시 재귀함수 개수 제한일 때 setrecursionlimit 제한 늘리기!!\n",
    "<https://www.acmicpc.net/problem/1012>"
   ],
   "metadata": {
    "collapsed": false
   }
  },
  {
   "cell_type": "code",
   "execution_count": null,
   "outputs": [],
   "source": [
    "import sys\n",
    "sys.setrecursionlimit(10000)\n",
    "input = sys.stdin.readline\n",
    "\n",
    "# dfs\n",
    "dx, dy = [-1, 1, 0, 0], [0, 0, -1, 1]\n",
    "\n",
    "def dfs(x, y):\n",
    "    visited[x][y] = 1\n",
    "    for i in range(4):\n",
    "        nx = x + dx[i]\n",
    "        ny = y + dy[i]\n",
    "        if nx < 0 or nx >= N or ny < 0 or ny >= M:\n",
    "            continue\n",
    "        elif map_arr[nx][ny] == 1 and visited[nx][ny] == 0:\n",
    "            dfs(nx, ny)\n",
    "\n",
    "# 입력\n",
    "test_case = int(input())\n",
    "for _ in range(test_case):\n",
    "    M, N, K = map(int, input().split())\n",
    "\n",
    "    map_arr = [[0] * M for _ in range(N)]\n",
    "    visited = [[0] * M for _ in range(N)]\n",
    "    count = 0\n",
    "    for _ in range(K):\n",
    "        y, x = map(int, input().split())\n",
    "        map_arr[x][y] = 1\n",
    "    # 모든 x, y 체크\n",
    "    for i in range(N):\n",
    "        for j in range(M):\n",
    "            # 방문한 곳 제외\n",
    "            if map_arr[i][j] == 1 and visited[i][j] == 0:\n",
    "                dfs(i, j)\n",
    "                count += 1\n",
    "\n",
    "    # 출력\n",
    "    print(count)"
   ],
   "metadata": {
    "collapsed": false,
    "pycharm": {
     "name": "#%%\n"
    }
   }
  },
  {
   "cell_type": "markdown",
   "source": [
    "# FloodFill 처리 후 수정 문제\n",
    "<https://www.acmicpc.net/problem/16768>"
   ],
   "metadata": {
    "collapsed": false
   }
  },
  {
   "cell_type": "code",
   "execution_count": null,
   "outputs": [],
   "source": [
    "import sys\n",
    "sys.setrecursionlimit(10000)\n",
    "input = sys.stdin.readline\n",
    "\n",
    "# dfs\n",
    "dx, dy = [-1, 1, 0, 0], [0, 0, -1, 1]\n",
    "\n",
    "\n",
    "def dfs(x, y):\n",
    "    visited[x][y] = True\n",
    "    ret = 1\n",
    "    for i in range(4):\n",
    "        nx, ny = x + dx[i], y + dy[i]\n",
    "        if nx < 0 or nx >= N or ny < 0 or ny >= 10:\n",
    "            continue\n",
    "        if visited[nx][ny] or M[x][y] != M[nx][ny]:\n",
    "            continue\n",
    "        ret += dfs(nx, ny)\n",
    "    return ret\n",
    "\n",
    "\n",
    "def dfs2(x, y, val):\n",
    "    visited2[x][y] = True\n",
    "    M[x][y] = \"0\"\n",
    "    for i in range(4):\n",
    "        nx, ny = x + dx[i], y + dy[i]\n",
    "        if nx < 0 or nx >= N or ny < 0 or ny >= 10:\n",
    "            continue\n",
    "        if visited2[nx][ny] or M[nx][ny] != val:\n",
    "            continue\n",
    "        dfs2(nx, ny, val)\n",
    "\n",
    "\n",
    "def down():\n",
    "    for i in range(10):\n",
    "        tmp = []\n",
    "        for j in range(N):\n",
    "            if M[j][i] != \"0\":\n",
    "                tmp.append(M[j][i])\n",
    "        for j in range(N - len(tmp)):\n",
    "            M[j][i] = \"0\"\n",
    "        for j in range(N - len(tmp), N):\n",
    "            M[j][i] = tmp[j - (N - len(tmp))]\n",
    "\n",
    "\n",
    "def new_array(N):\n",
    "    return [[False] * 10 for _ in range(N)]\n",
    "\n",
    "\n",
    "# 입력\n",
    "N, K = map(int, input().split())\n",
    "M = [list(input()) for _ in range(N)]\n",
    "visited = new_array(N)\n",
    "visited2 = new_array(N)\n",
    "\n",
    "while True:\n",
    "    exist = False\n",
    "    visited = new_array(N)\n",
    "    visited2 = new_array(N)\n",
    "    for i in range(N):\n",
    "        for j in range(10):\n",
    "            if M[i][j] == \"0\" or visited[i][j]:\n",
    "                continue\n",
    "            res = dfs(i, j) # 개수 세기\n",
    "            print(res, M[i][j])\n",
    "            if res >= K:\n",
    "                dfs2(i, j, M[i][j])  # 지우기\n",
    "                exist = True\n",
    "\n",
    "    if not exist:\n",
    "        break\n",
    "    down()\n",
    "\n",
    "for i in M:\n",
    "    i = i[:-1]\n",
    "    print(\"\".join(i))"
   ],
   "metadata": {
    "collapsed": false,
    "pycharm": {
     "name": "#%%\n"
    }
   }
  },
  {
   "cell_type": "markdown",
   "source": [
    "<https://www.acmicpc.net/problem/1260>"
   ],
   "metadata": {
    "collapsed": false
   }
  },
  {
   "cell_type": "code",
   "execution_count": null,
   "metadata": {
    "collapsed": true
   },
   "outputs": [],
   "source": [
    "# 입력\n",
    "n, m, v = map(int, input().split(\" \"))\n",
    "adj = [[] for _ in range(n+1)]\n",
    "\n",
    "for _ in range(m):\n",
    "    node1, node2 = map(int, input().split(\" \"))\n",
    "    adj[node1].append(node2)\n",
    "    adj[node2].append(node1)\n",
    "\n",
    "for a in adj:\n",
    "    a.sort()\n",
    "\n",
    "# DFS\n",
    "def dfs(start):\n",
    "    print(start, end=\" \")\n",
    "    visited[start] = True\n",
    "    for i in adj[start]:\n",
    "        if not visited[i]:\n",
    "            dfs(i)\n",
    "\n",
    "\n",
    "# BFS\n",
    "from collections import deque\n",
    "def bfs(start):\n",
    "    q = deque([start])\n",
    "    while q:\n",
    "        node = q.popleft()\n",
    "        if not visited[node]:\n",
    "            print(node, end=\" \")\n",
    "            visited[node] = True\n",
    "            for i in adj[node]:\n",
    "                if not visited[i]:\n",
    "                    q.append(i)\n",
    "\n",
    "\n",
    "# 출력\n",
    "visited = [False] * (n + 1)\n",
    "dfs(v)\n",
    "print()\n",
    "visited = [False] * (n + 1)\n",
    "bfs(v)"
   ]
  },
  {
   "cell_type": "markdown",
   "source": [
    "<https://www.acmicpc.net/problem/1697>"
   ],
   "metadata": {
    "collapsed": false
   }
  },
  {
   "cell_type": "code",
   "execution_count": null,
   "outputs": [],
   "source": [
    "from collections import deque\n",
    "# 입력\n",
    "n, k = map(int, input().split())\n",
    "\n",
    "# bfs\n",
    "def bfs(n):\n",
    "    q = deque([n])\n",
    "    while q:\n",
    "        now_pos = q.popleft()\n",
    "        # 종료 조건\n",
    "        if now_pos == k:\n",
    "            return array[now_pos]\n",
    "        for next_pos in [now_pos - 1, now_pos + 1, now_pos * 2]:\n",
    "            if (0 <= next_pos < MAX) and array[next_pos] == 0:\n",
    "                array[next_pos] = array[now_pos] + 1\n",
    "                q.append(next_pos)\n",
    "\n",
    "# 출력\n",
    "MAX = 100001\n",
    "array = [0] * MAX\n",
    "print(bfs(n))"
   ],
   "metadata": {
    "collapsed": false,
    "pycharm": {
     "name": "#%%\n"
    }
   }
  },
  {
   "cell_type": "markdown",
   "source": [
    "<https://www.acmicpc.net/problem/2606>"
   ],
   "metadata": {
    "collapsed": false
   }
  },
  {
   "cell_type": "code",
   "execution_count": null,
   "outputs": [],
   "source": [
    "from collections import deque\n",
    "# 입력\n",
    "n = int(input())\n",
    "m = int(input())\n",
    "adj = [[] for _ in range(n + 1)]\n",
    "for _ in range(m):\n",
    "    node1, node2 = map(int, input().split())\n",
    "    adj[node1].append(node2)\n",
    "    adj[node2].append(node1)\n",
    "\n",
    "# bfs\n",
    "visited = [False] * 101\n",
    "def bfs(start):\n",
    "    q = deque([start])\n",
    "    count = 0\n",
    "    while q:\n",
    "        node = q.popleft()\n",
    "        if visited[node] == False:\n",
    "            visited[node] = True\n",
    "            count += 1\n",
    "            for i in adj[node]:\n",
    "                q.append(i)\n",
    "    return count - 1\n",
    "\n",
    "# 출력\n",
    "print(bfs(1))"
   ],
   "metadata": {
    "collapsed": false,
    "pycharm": {
     "name": "#%%\n"
    }
   }
  },
  {
   "cell_type": "markdown",
   "source": [
    "<https://www.acmicpc.net/problem/1012>"
   ],
   "metadata": {
    "collapsed": false
   }
  },
  {
   "cell_type": "code",
   "execution_count": null,
   "outputs": [],
   "source": [
    "import sys\n",
    "sys.setrecursionlimit(100000)\n",
    "def dfs(x, y):\n",
    "    visited[x][y] = True\n",
    "    directions = [(-1, 0), (1, 0), (0, -1), (0, 1)]\n",
    "    for dx, dy in directions:\n",
    "        nx, ny = x + dx, y + dy\n",
    "        if nx < 0 or nx >= n or ny < 0 or ny >= m:\n",
    "            continue\n",
    "        if array[nx][ny] and not visited[nx][ny]:\n",
    "            dfs(nx, ny)\n",
    "\n",
    "for _ in range(int(input())):\n",
    "    m, n, k = map(int, input().split())\n",
    "    array = [[0] * m for _ in range(n)]\n",
    "    visited = [[False] * m for _ in range(n)]\n",
    "\n",
    "    for _ in range(k):\n",
    "        y, x = map(int, input().split())\n",
    "        array[x][y] = 1\n",
    "\n",
    "    result = 0\n",
    "    for i in range(n):\n",
    "        for j in range(m):\n",
    "            if array[i][j] and not visited[i][j]:\n",
    "                dfs(i, j)\n",
    "                result += 1\n",
    "\n",
    "print(result)"
   ],
   "metadata": {
    "collapsed": false,
    "pycharm": {
     "name": "#%%\n"
    }
   }
  },
  {
   "cell_type": "code",
   "execution_count": null,
   "outputs": [],
   "source": [
    "t = int(input())\n",
    "dx = [1, -1, 0, 0]\n",
    "dy = [0, 0, -1, 1]\n",
    "def bfs(x, y):\n",
    "    queue = [[x, y]]\n",
    "    while queue:\n",
    "        a, b = queue[0][0], queue[0][1]\n",
    "        del queue[0]\n",
    "        for i in range(4):\n",
    "            q = a + dx[i]\n",
    "            w = b + dy[i]\n",
    "            if 0 <= q < n and 0 <= w < m and s[q][w] == 1:\n",
    "                s[q][w] = 0\n",
    "                queue.append([q, w])\n",
    "\n",
    "for i in range(t):\n",
    "    m, n, k = map(int, input().split())\n",
    "    s = [[0] * m for i in range(n)]\n",
    "    cnt = 0\n",
    "    for j in range(k):\n",
    "        a, b = map(int, input().split())\n",
    "        s[b][a] = 1\n",
    "    for q in range(n):\n",
    "        for w in range(m):\n",
    "            if s[q][w] == 1:\n",
    "                bfs(q, w)\n",
    "                s[q][w] = 0\n",
    "                cnt += 1\n",
    "    print(cnt)"
   ],
   "metadata": {
    "collapsed": false,
    "pycharm": {
     "name": "#%%\n"
    }
   }
  },
  {
   "cell_type": "markdown",
   "source": [
    "<https://www.acmicpc.net/problem/1325>"
   ],
   "metadata": {
    "collapsed": false
   }
  },
  {
   "cell_type": "code",
   "execution_count": null,
   "outputs": [],
   "source": [
    "from collections import deque\n",
    "\n",
    "# 입력\n",
    "n, m = map(int, input().split())\n",
    "adj = [[] for _ in range(n + 1)]\n",
    "for _ in range(m):\n",
    "    node1, node2 = map(int, input().split())\n",
    "    adj[node2].append(node1)\n",
    "\n",
    "# bfs\n",
    "def bfs(start):\n",
    "    q = deque([start])\n",
    "    visited = [False] * (n + 1)\n",
    "    visited[start] = True\n",
    "    count = 1\n",
    "    while q:\n",
    "        node = q.popleft()\n",
    "        for a in adj[node]:\n",
    "            if not visited[a]:\n",
    "                q.append(a)\n",
    "                visited[a] = True\n",
    "                count += 1\n",
    "    return count\n",
    "\n",
    "# 출력\n",
    "result = []\n",
    "max_value = -1\n",
    "for i in range(1, n + 1):\n",
    "    value = bfs(i)\n",
    "    if value > max_value:\n",
    "        result = [i]\n",
    "        max_value = value\n",
    "    elif value == max_value:\n",
    "        result.append(i)\n",
    "        max_value = value\n",
    "\n",
    "for e in result:\n",
    "    print(e, end=\" \")"
   ],
   "metadata": {
    "collapsed": false,
    "pycharm": {
     "name": "#%%\n"
    }
   }
  },
  {
   "cell_type": "markdown",
   "source": [
    "# 프로그래머스 네트워크"
   ],
   "metadata": {
    "collapsed": false
   }
  },
  {
   "cell_type": "code",
   "execution_count": null,
   "outputs": [],
   "source": [
    "def dfs(node, computers, visited):\n",
    "    visited[node] = True\n",
    "\n",
    "    # 탐색할 노드 찾고 재귀함수\n",
    "    for i, neighbor in enumerate(computers[node]):\n",
    "        # 인접노드 중 자기 자신 X, 아직 방문하지 않은 노드\n",
    "        if neighbor > 0 and i != node and visited[i] == False:\n",
    "            dfs(i, computers, visited)\n",
    "    return  visited\n",
    "\n",
    "def solution(n , computers):\n",
    "    answer = 1\n",
    "    visited = [False] * n\n",
    "    start = 0\n",
    "\n",
    "    # 모두 방문\n",
    "    while True:\n",
    "        visited = dfs(start, computers, visited)\n",
    "        if False in visited:\n",
    "            start = visited.index(False)    # False가 있는 인덱스 번호를 start 로 list.index()\n",
    "            answer += 1\n",
    "        else:\n",
    "            break\n",
    "    return answer\n"
   ],
   "metadata": {
    "collapsed": false,
    "pycharm": {
     "name": "#%%\n"
    }
   }
  },
  {
   "cell_type": "code",
   "execution_count": null,
   "outputs": [],
   "source": [
    "\n",
    "def solution(n, computers):\n",
    "    answer = 0\n",
    "    visited = [[0] * n for _ in range(n)]\n",
    "    directions = [(-1, 0), (1, 0), (0, -1), (0, 1)]\n",
    "\n",
    "    # dfs\n",
    "    def dfs(x, y):\n",
    "        visited[x][y] = 1\n",
    "        for dx, dy in directions:\n",
    "            nx = x + dx\n",
    "            ny = y + dy\n",
    "            if nx < 0 or nx >= n or ny < 0 or ny >= n:\n",
    "                continue\n",
    "            if computers[nx][ny] and not visited[nx][ny]:\n",
    "                dfs(nx, ny)\n",
    "\n",
    "    # 출력\n",
    "    for i in range(n):\n",
    "        for j in range(n):\n",
    "            if computers[i][j] and not visited[i][j]:\n",
    "                dfs(i, j)\n",
    "                answer += 1\n",
    "\n",
    "    return answer"
   ],
   "metadata": {
    "collapsed": false,
    "pycharm": {
     "name": "#%%\n"
    }
   }
  },
  {
   "cell_type": "code",
   "execution_count": null,
   "outputs": [],
   "source": [
    "def solution(n, computers):\n",
    "\n",
    "    answer = 0\n",
    "    visited = [[0] * n for _ in range(n)]\n",
    "    directions = [(-1, 0), (1, 0), (0, -1), (0, 1)]\n",
    "\n",
    "    # bfs\n",
    "    def bfs(x, y):\n",
    "        q = [[x, y]]\n",
    "        while q:\n",
    "            x, y = q[0][0], q[0][1]\n",
    "            del q[0]\n",
    "            for dx, dy in directions:\n",
    "                nx = x + dx\n",
    "                ny = y + dy\n",
    "                if 0 <= nx < n and 0 <= ny < n and computers[nx][ny]:\n",
    "                    computers[nx][ny] = 0\n",
    "                    q.append([nx, ny])\n",
    "\n",
    "\n",
    "    # 출력\n",
    "    for i in range(n):\n",
    "        for j in range(n):\n",
    "            if computers[i][j] and not visited[i][j]:\n",
    "                bfs(i, j)\n",
    "                answer += 1\n",
    "\n",
    "    return answer\n",
    "\n",
    "\n",
    "print(solution(3, [[1, 1, 0], [1, 1, 0], [0, 0, 1]]))"
   ],
   "metadata": {
    "collapsed": false,
    "pycharm": {
     "name": "#%%\n"
    }
   }
  },
  {
   "cell_type": "markdown",
   "source": [
    "# 프로그래머스 여행경로"
   ],
   "metadata": {
    "collapsed": false
   }
  },
  {
   "cell_type": "code",
   "execution_count": null,
   "outputs": [],
   "source": [
    "#stack 활용\n",
    "from collections import defaultdict\n",
    "\n",
    "def solution(tickets):\n",
    "    answer = []\n",
    "    routes = defaultdict(list)\n",
    "\n",
    "    for ticket in tickets:\n",
    "        routes[ticket[0]].append(ticket[1])\n",
    "\n",
    "    for key in routes.keys():\n",
    "        routes[key].sort(reverse=True)\n",
    "\n",
    "    stack = [\"ICN\"]\n",
    "    while stack:\n",
    "        node = stack[-1]\n",
    "\n",
    "        if not routes[node]:\n",
    "            answer.append(stack.pop())\n",
    "        else:\n",
    "            stack.append(routes[node].pop())\n",
    "    answer.reverse()\n",
    "\n",
    "    return answer"
   ],
   "metadata": {
    "collapsed": false,
    "pycharm": {
     "name": "#%%\n"
    }
   }
  },
  {
   "cell_type": "code",
   "execution_count": null,
   "outputs": [],
   "source": [
    "# 고민한 코드\n",
    "tickets = [[\"ICN\", \"SFO\"], [\"ICN\", \"ATL\"], [\"SFO\", \"ATL\"], [\"ATL\", \"ICN\"], [\"ATL\",\"SFO\"]]\n",
    "\n",
    "from collections import defaultdict, deque\n",
    "\n",
    "def solution(tickets):\n",
    "    # 티켓을 딕셔너리로\n",
    "    tickets_dict = defaultdict(list)\n",
    "    for ticket in tickets:\n",
    "        key, value = ticket[0], ticket[1]\n",
    "        tickets_dict[key].append(value)\n",
    "\n",
    "    print(tickets_dict)\n",
    "    # 모든 노드에 대해 체크(모두 방문하는 노드만 출력)\n",
    "    max_length = 0\n",
    "    for start in tickets_dict.keys():\n",
    "        print(\"start : \", start)\n",
    "        visited = []\n",
    "        case = bfs(start, tickets_dict, visited)\n",
    "        if len(case) >= max_length:\n",
    "            max_length = len(case)\n",
    "            answer = case\n",
    "        else:\n",
    "            pass\n",
    "\n",
    "    return answer\n",
    "\n",
    "\n",
    "def bfs(start, tickets_dict, visited):\n",
    "    q = deque([start])\n",
    "    while q:\n",
    "        node = q.popleft()\n",
    "        if node not in visited:\n",
    "            visited.append(node)\n",
    "            temp = sorted(tickets_dict[node])\n",
    "            print(\"temp :\", temp)\n",
    "            for i in temp:\n",
    "                q.append(i)\n",
    "    return visited\n",
    "\n",
    "print(solution(tickets))"
   ],
   "metadata": {
    "collapsed": false,
    "pycharm": {
     "name": "#%%\n"
    }
   }
  },
  {
   "cell_type": "markdown",
   "source": [
    "## 프로그래머스 bfs 기본"
   ],
   "metadata": {
    "collapsed": false
   }
  },
  {
   "cell_type": "code",
   "execution_count": null,
   "outputs": [],
   "source": [
    "from collections import deque\n",
    "\n",
    "def solution(numbers, target):\n",
    "    answer = 0\n",
    "    queue = deque()\n",
    "    n = len(numbers)\n",
    "    queue.append([numbers[0], 0])\n",
    "    queue.append([-numbers[0], 0])\n",
    "    while queue:\n",
    "        num, idx = queue.popleft()\n",
    "        idx += 1\n",
    "        if idx < n:\n",
    "            queue.append([num + numbers[idx], idx])\n",
    "            queue.append([num - numbers[idx], idx])\n",
    "        else:\n",
    "            if num == target:\n",
    "                answer += 1\n",
    "\n",
    "    return answer\n",
    "\n",
    "def solution2(numbers, target):\n",
    "    n = len(numbers)\n",
    "    answer = 0\n",
    "    def dfs(idx, result):\n",
    "        if idx == n:\n",
    "            if result == target:\n",
    "                nonlocal answer\n",
    "                answer += 1\n",
    "            return\n",
    "        else:\n",
    "            dfs(idx+1, result+numbers[idx])\n",
    "            dfs(idx+1, result-numbers[idx])\n",
    "    dfs(0,0)\n",
    "    return answer\n",
    "\n",
    "print(solution([4, 1, 2, 1], 4))"
   ],
   "metadata": {
    "collapsed": false,
    "pycharm": {
     "name": "#%%\n"
    }
   }
  },
  {
   "cell_type": "markdown",
   "source": [
    "# bfs-dfs 문제는 무엇을 탐색할지 찾고 탐색할 대상을 queue에 집어 넣어야 한다!!!"
   ],
   "metadata": {
    "collapsed": false
   }
  },
  {
   "cell_type": "code",
   "execution_count": null,
   "outputs": [],
   "source": [
    "from collections import deque\n",
    "\n",
    "def bfs(begin, target, words, visited):\n",
    "    queue = deque()\n",
    "    queue.append((begin, 0))\n",
    "    while queue:\n",
    "        cur, depth = queue.popleft()\n",
    "\n",
    "        if cur == target:\n",
    "            return depth\n",
    "\n",
    "        for i in range(len(words)):\n",
    "            if visited[i] == True:\n",
    "                continue\n",
    "            count = 0\n",
    "            # 단어를 하나씩 뽑아내서 비교\n",
    "            for a, b in zip(cur, words[i]):\n",
    "                if a != b:\n",
    "                    count += 1\n",
    "            # 단어가 하나가 같은 경우만 계속 탐색(하나만 바꿀 수 있다고 함)\n",
    "            if count == 1:\n",
    "                visited[i] = True\n",
    "                queue.append((words[i], depth + 1))\n",
    "\n",
    "\n",
    "def solution(begin, target, words):\n",
    "    answer = 0\n",
    "    # target이 words에 없는 경우 return 0\n",
    "    if target not in words:\n",
    "        return 0\n",
    "    # 현재 단어와 한글자 차이가 있는 단어 선택해서 저장\n",
    "    visited = [False] * (len(words))\n",
    "    answer = bfs(begin, target, words, visited)\n",
    "\n",
    "    return answer\n",
    "\n",
    "print(solution(\"hit\", \"cog\", [\"hot\", \"dot\", \"dog\", \"lot\", \"log\", \"cog\"]))"
   ],
   "metadata": {
    "collapsed": false,
    "pycharm": {
     "name": "#%%\n"
    }
   }
  }
 ],
 "metadata": {
  "kernelspec": {
   "display_name": "Python 3",
   "language": "python",
   "name": "python3"
  },
  "language_info": {
   "codemirror_mode": {
    "name": "ipython",
    "version": 2
   },
   "file_extension": ".py",
   "mimetype": "text/x-python",
   "name": "python",
   "nbconvert_exporter": "python",
   "pygments_lexer": "ipython2",
   "version": "2.7.6"
  }
 },
 "nbformat": 4,
 "nbformat_minor": 0
}