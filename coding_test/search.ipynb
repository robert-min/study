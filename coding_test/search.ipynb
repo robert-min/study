{
 "cells": [
  {
   "cell_type": "markdown",
   "source": [
    "<https://www.acmicpc.net/problem/1991>"
   ],
   "metadata": {
    "collapsed": false
   }
  },
  {
   "cell_type": "code",
   "execution_count": null,
   "metadata": {
    "collapsed": true
   },
   "outputs": [],
   "source": [
    "class Node:\n",
    "    def __init__(self, data, left_node, right_node):\n",
    "        self.data = data\n",
    "        self.left_node = left_node\n",
    "        self.right_node = right_node\n",
    "\n",
    "def pre_order(node):\n",
    "    print(node.data, end=\"\")\n",
    "    if node.left_node != \".\":\n",
    "        pre_order(graph[node.left_node])\n",
    "    if node.right_node != \".\":\n",
    "        pre_order(graph[node.right_node])\n",
    "\n",
    "def mid_order(node):\n",
    "    if node.left_node != \".\":\n",
    "        pre_order(graph[node.left_node])\n",
    "    print(node.data, end=\"\")\n",
    "    if node.right_node != \".\":\n",
    "        pre_order(graph[node.right_node])\n",
    "\n",
    "def last_order(node):\n",
    "    if node.left_node != \".\":\n",
    "        pre_order(graph[node.left_node])\n",
    "    if node.right_node != \".\":\n",
    "        pre_order(graph[node.right_node])\n",
    "    print(node.data, end=\"\")\n",
    "\n",
    "\n",
    "# 입력\n",
    "n = int(input())\n",
    "graph = dict()\n",
    "for _ in range(n):\n",
    "    data, left_node, right_node = input().split()\n",
    "    graph[data] = Node(data, left_node, right_node)\n",
    "\n",
    "pre_order(graph[\"A\"])\n",
    "print()\n",
    "mid_order(graph[\"A\"])\n",
    "print()\n",
    "last_order(graph[\"A\"])"
   ]
  },
  {
   "cell_type": "markdown",
   "source": [
    "<https://www.acmicpc.net/problem/2250>"
   ],
   "metadata": {
    "collapsed": false
   }
  },
  {
   "cell_type": "code",
   "execution_count": null,
   "outputs": [],
   "source": [
    "class Node:\n",
    "    def __init__(self, number, left_node, right_node):\n",
    "        self.parent = -1\n",
    "        self.number = number\n",
    "        self.left_node = left_node\n",
    "        self.right_node = right_node\n",
    "\n",
    "def in_order(node, level):\n",
    "    global level_depth, x\n",
    "    level_depth = max(level_depth, level)\n",
    "    if node.left_node != -1:\n",
    "        in_order(tree[node.left_node], level + 1)\n",
    "    level_min[level] = min(level_min[level], x)\n",
    "    level_max[level] = max(level_max[level], x)\n",
    "    x += 1\n",
    "    if node.right_node != -1:\n",
    "        in_order(tree[node.right_node], level + 1)\n",
    "\n",
    "n = int(input())\n",
    "tree = dict()\n",
    "level_min = [n]\n",
    "level_max = [0]\n",
    "root = -1\n",
    "x = 1\n",
    "level_depth = 1\n",
    "\n",
    "# 트리 생성\n",
    "for i in range(1, n + 1):\n",
    "    tree[i] = Node(i, -1, -1)\n",
    "    level_min.append(n)\n",
    "    level_max.append(0)\n",
    "\n",
    "# tree 값 입력\n",
    "for _ in range(n):\n",
    "    number, left_node, right_node = map(int, input().split())\n",
    "    tree[number].left_node = left_node\n",
    "    tree[number].right_node = right_node\n",
    "    # 노드 연결\n",
    "    if left_node != -1:\n",
    "        tree[left_node].parent = number\n",
    "    if right_node != -1:\n",
    "        tree[right_node].parent = number\n",
    "\n",
    "# 최상단 노드 찾음\n",
    "for i in range(1, n + 1):\n",
    "    if tree[i].parent == -1:\n",
    "        root = i\n",
    "\n",
    "# 각 레벨 별 가장 왼쪽 값(level_min)과 오른쪽 값(level_max)을 찾아서 입력\n",
    "in_order(tree[root], 1)\n",
    "\n",
    "# 결과 출력\n",
    "result_level = 1\n",
    "result_width = level_max[1] - level_min[1] + 1\n",
    "for i in range(2, level_depth + 1):\n",
    "    width = level_max[i] - level_min[i] + 1\n",
    "    if result_width < width:\n",
    "        result_level = i\n",
    "        result_width = width\n",
    "\n",
    "print(result_level, result_width)"
   ],
   "metadata": {
    "collapsed": false,
    "pycharm": {
     "name": "#%%\n"
    }
   }
  },
  {
   "cell_type": "markdown",
   "source": [
    "# 프로그래머스 입국심사(Binary Search)"
   ],
   "metadata": {
    "collapsed": false
   }
  },
  {
   "cell_type": "code",
   "execution_count": null,
   "outputs": [],
   "source": [
    "# Binary Search는 이분탐색할 범위와 기준을 정하는게 중요\n",
    "# 범위 : 1분에서 가장 비효율적으로 심사받을때 걸리는 시간\n",
    "# mid : 모든 심사위원에게 주어지는 시간 -> mid 값을 찾는 게 문제를 해결\n",
    "# 기준 : mid 동안 심사한 사람의 수(= people)\n",
    "\n",
    "def solution(n, times):\n",
    "    answer = 0\n",
    "    left, right = 1, max(times) * n\n",
    "    while left <= right:\n",
    "        mid = (left + right) // 2\n",
    "        people = 0\n",
    "        for time in times:\n",
    "            people += mid // time\n",
    "            if people >= n:\n",
    "                break\n",
    "\n",
    "        if people >= n:\n",
    "            answer = mid\n",
    "            right = mid - 1\n",
    "        elif people < n:\n",
    "            left = mid + 1\n",
    "\n",
    "    return answer"
   ],
   "metadata": {
    "collapsed": false,
    "pycharm": {
     "name": "#%%\n"
    }
   }
  },
  {
   "cell_type": "markdown",
   "source": [
    "# 백준 2110(Binary Search)\n",
    "<https://www.acmicpc.net/problem/2110>"
   ],
   "metadata": {
    "collapsed": false
   }
  },
  {
   "cell_type": "code",
   "execution_count": null,
   "outputs": [],
   "source": [
    "n, c = map(int, input().split())\n",
    "array = list()\n",
    "for _ in range(n):\n",
    "    array.append(int(input()))\n",
    "\n",
    "# 범위 : 집과 집사이의 거리\n",
    "left = array[1] - array[0]\n",
    "right = array[-1] - array[0]\n",
    "result = 0\n",
    "\n",
    "while left <= right:\n",
    "    mid = (left + right) // 2\n",
    "    value = array[0]\n",
    "    count = 1\n",
    "\n",
    "    # 공유기 설치\n",
    "    for i in range(1, len(array)):\n",
    "        if array[i] >= value + mid:\n",
    "            value = array[i]\n",
    "            count += 1\n",
    "\n",
    "    if count >= c:\n",
    "        left = mid + 1\n",
    "        # 가장 인접한 두 공유기 사이의 거리\n",
    "        result = mid\n",
    "    else:\n",
    "        right = mid - 1\n",
    "\n",
    "print(result)"
   ],
   "metadata": {
    "collapsed": false,
    "pycharm": {
     "name": "#%%\n"
    }
   }
  }
 ],
 "metadata": {
  "kernelspec": {
   "display_name": "Python 3",
   "language": "python",
   "name": "python3"
  },
  "language_info": {
   "codemirror_mode": {
    "name": "ipython",
    "version": 2
   },
   "file_extension": ".py",
   "mimetype": "text/x-python",
   "name": "python",
   "nbconvert_exporter": "python",
   "pygments_lexer": "ipython2",
   "version": "2.7.6"
  }
 },
 "nbformat": 4,
 "nbformat_minor": 0
}