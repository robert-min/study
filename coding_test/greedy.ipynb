{
 "cells": [
  {
   "cell_type": "markdown",
   "source": [
    "## 프로그래머스 - 조이스틱 (나중에 다시 풀어보기!!)\n",
    "<https://programmers.co.kr/learn/courses/30/lessons/42860>"
   ],
   "metadata": {
    "collapsed": false
   }
  },
  {
   "cell_type": "code",
   "execution_count": null,
   "metadata": {
    "collapsed": true
   },
   "outputs": [],
   "source": [
    "# 내풀이 - 오류\n",
    "def check(alp):\n",
    "    temp = ord(alp) - 65\n",
    "    if temp < 14:\n",
    "        return temp\n",
    "    else:\n",
    "        return 26 - temp\n",
    "\n",
    "def solution(name):\n",
    "    answer = 0\n",
    "    # name -> list\n",
    "    name_lst = list(name)\n",
    "\n",
    "    # 예외 : 첫번째 오른쪽이 \"A\"일 경우 리스트 reverse\n",
    "    first = name_lst[0]\n",
    "    name_lst = name_lst[1:]\n",
    "\n",
    "\n",
    "\n",
    "    answer += check(first)\n",
    "\n",
    "    if not name_lst:\n",
    "        return answer\n",
    "    else:\n",
    "        if name_lst[0] == \"A\":\n",
    "            name_lst.reverse()\n",
    "\n",
    "        # 마지막 자리가 \"A\"인 경우 확인할 필요가 없음\n",
    "        while name_lst[-1] == \"A\":\n",
    "            name_lst = name_lst[:-1]\n",
    "\n",
    "        # 모든 자리 확인\n",
    "        for i in name_lst:\n",
    "            answer += 1\n",
    "            if i == \"A\":\n",
    "                pass\n",
    "            else:\n",
    "                answer += check(i)\n",
    "\n",
    "\n",
    "    return answer\n",
    "\n",
    "print(solution(\"JEROEN\"))"
   ]
  }
 ],
 "metadata": {
  "kernelspec": {
   "display_name": "Python 3",
   "language": "python",
   "name": "python3"
  },
  "language_info": {
   "codemirror_mode": {
    "name": "ipython",
    "version": 2
   },
   "file_extension": ".py",
   "mimetype": "text/x-python",
   "name": "python",
   "nbconvert_exporter": "python",
   "pygments_lexer": "ipython2",
   "version": "2.7.6"
  }
 },
 "nbformat": 4,
 "nbformat_minor": 0
}