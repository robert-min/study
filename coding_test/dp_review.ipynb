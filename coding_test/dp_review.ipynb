{
 "cells": [
  {
   "cell_type": "markdown",
   "source": [
    "<https://www.acmicpc.net/problem/9251>"
   ],
   "metadata": {
    "collapsed": false
   }
  },
  {
   "cell_type": "code",
   "execution_count": null,
   "outputs": [],
   "source": [
    "x = input()\n",
    "y = input()\n",
    "dp = [[0] * (len(y) + 1) for _ in range(len(x) + 1)]\n",
    "for i in range(1, len(x) + 1):\n",
    "    for j in range(1, len(y) + 1):\n",
    "        if x[i - 1] == y[j - 1]:\n",
    "            dp[i][j] = dp[i - 1][j - 1] + 1\n",
    "        else:\n",
    "            dp[i][j] = max(dp[i][j - 1], dp[i - 1][j])\n",
    "\n",
    "print(dp[len(x)][len(y)])"
   ],
   "metadata": {
    "collapsed": false,
    "pycharm": {
     "name": "#%%\n"
    }
   }
  },
  {
   "cell_type": "markdown",
   "source": [
    "<https://www.acmicpc.net/problem/1495>"
   ],
   "metadata": {
    "collapsed": false
   }
  },
  {
   "cell_type": "code",
   "execution_count": null,
   "outputs": [],
   "source": [
    "n, s, m = map(int, input().split())\n",
    "array = list(map(int, input().split()))\n",
    "\n",
    "dp = [[0] * (m + 1) for _ in range(n + 1)]\n",
    "dp[0][s] = 1\n",
    "\n",
    "for i in range(1, n + 1):\n",
    "    for j in range(m + 1):\n",
    "        if dp[i-1][j] == 0:\n",
    "            continue\n",
    "        if j - array[i - 1] >= 0:\n",
    "            dp[i][j - array[i - 1]] = 1\n",
    "        if j + array[i - 1] <= m:\n",
    "            dp[i][j + array[i - 1]] = 1\n",
    "\n",
    "result = -1\n",
    "for i in range(m, -1, -1):\n",
    "    if dp[n][i] == 1:\n",
    "        result = i\n",
    "        break\n",
    "\n",
    "print(result)"
   ],
   "metadata": {
    "collapsed": false,
    "pycharm": {
     "name": "#%%\n"
    }
   }
  },
  {
   "cell_type": "code",
   "execution_count": null,
   "metadata": {
    "collapsed": true
   },
   "outputs": [],
   "source": [
    "# 메모리 초과\n",
    "n, s, m = map(int, input().split())\n",
    "v = list(map(int, input().split()))\n",
    "\n",
    "dp = [[] for _ in range(n + 1)]\n",
    "dp[0].append(s)\n",
    "\n",
    "for i in range(1, n + 1):\n",
    "    for p in dp[i - 1]:\n",
    "        if 0 <= p - v[i - 1] <= m:\n",
    "            dp[i].append(p - v[i - 1])\n",
    "        if 0 <= p + v[i - 1] <= m:\n",
    "            dp[i].append(p + v[i - 1])\n",
    "    if not dp[i]:\n",
    "        print(-1)\n",
    "        break\n",
    "\n",
    "if dp[-1]:\n",
    "    print(max(dp[-1]))"
   ]
  },
  {
   "cell_type": "markdown",
   "source": [
    "<https://www.acmicpc.net/problem/2655>"
   ],
   "metadata": {
    "collapsed": false
   }
  },
  {
   "cell_type": "code",
   "execution_count": null,
   "outputs": [],
   "source": [
    "n = int(input())\n",
    "array = list()\n",
    "array.append((0, 0, 0, 0))\n",
    "\n",
    "for i in range(1, n + 1):\n",
    "    area, height, weight = map(int, input().split())\n",
    "    array.append((i, area, height, weight))\n",
    "\n",
    "# 무게 기준으로 정렬\n",
    "array.sort(key=lambda x : x[3])\n",
    "\n",
    "# 높이 저장\n",
    "dp = [0] * (n + 1)\n",
    "for i in range(1, n + 1):\n",
    "    for j in range(0, i):\n",
    "        if array[i][1] > array[j][1]:\n",
    "            dp[i] = max(dp[i], dp[j] + array[i][2])\n",
    "\n",
    "# 역추적\n",
    "max_value = max(dp)\n",
    "index = n\n",
    "result = list()\n",
    "while index != 0:\n",
    "    if max_value == dp[index]:\n",
    "        result.append(array[index][0])\n",
    "        max_value -= array[index][2]\n",
    "    index -= 1\n",
    "\n",
    "result.reverse()\n",
    "print(len(result))\n",
    "[print(i) for i in result]"
   ],
   "metadata": {
    "collapsed": false,
    "pycharm": {
     "name": "#%%\n"
    }
   }
  }
 ],
 "metadata": {
  "kernelspec": {
   "display_name": "Python 3",
   "language": "python",
   "name": "python3"
  },
  "language_info": {
   "codemirror_mode": {
    "name": "ipython",
    "version": 2
   },
   "file_extension": ".py",
   "mimetype": "text/x-python",
   "name": "python",
   "nbconvert_exporter": "python",
   "pygments_lexer": "ipython2",
   "version": "2.7.6"
  }
 },
 "nbformat": 4,
 "nbformat_minor": 0
}