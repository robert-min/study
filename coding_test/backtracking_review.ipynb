{
 "cells": [
  {
   "cell_type": "markdown",
   "source": [
    "<https://www.acmicpc.net/problem/9663>"
   ],
   "metadata": {
    "collapsed": false
   }
  },
  {
   "cell_type": "code",
   "execution_count": null,
   "metadata": {
    "collapsed": true
   },
   "outputs": [],
   "source": [
    "def check(x):\n",
    "    for i in range(x):\n",
    "        # 같은 열은지 check\n",
    "        if row[x] == row[i]:\n",
    "            return False\n",
    "        # 대각선 check\n",
    "        if abs(row[x] - row[i]) == (x - i):\n",
    "            return False\n",
    "    return True\n",
    "\n",
    "def dfs(x):\n",
    "    global result\n",
    "    # 종료조건(경우의 수 + 1)\n",
    "    if x == n:\n",
    "        result += 1\n",
    "    else:\n",
    "        for i in range(n):\n",
    "            row[x] = i\n",
    "            if check(x):\n",
    "                dfs(x + 1)\n",
    "\n",
    "n = int(input())\n",
    "row = [0] * n\n",
    "result = 0\n",
    "dfs(0)\n",
    "print(result)"
   ]
  },
  {
   "cell_type": "markdown",
   "source": [],
   "metadata": {
    "collapsed": false
   }
  },
  {
   "cell_type": "code",
   "execution_count": null,
   "outputs": [],
   "source": [
    "dx = [-1, -1, 0, 0]\n",
    "dy = [0, 0, -1, 1]\n",
    "\n",
    "def bfs(x, y):\n",
    "    global result\n",
    "    # 동일한 경우 한 번만 계산하기 위해 set 구조 사용\n",
    "    q = set()\n",
    "    q.add((x, y, array[x][y]))\n",
    "\n",
    "    while q:\n",
    "        x, y, step = q.pop()\n",
    "        # 가장 긴 이동거리 저장\n",
    "        result = max(result, len(step))\n",
    "\n",
    "        for i in range(4):\n",
    "            nx = x + dx[i]\n",
    "            ny = y + dy[i]\n",
    "\n",
    "            # 이동할 수  있는 위치이며 새로운 알파벳인 경우\n",
    "            if (0 <= nx and nx < r and 0 <= ny and ny < c and array[nx][ny] not in step):\n",
    "                q.add((nx, ny, step + array[nx][ny]))\n",
    "\n",
    "r, c = map(int, input().split())\n",
    "array = []\n",
    "for _ in range(r):\n",
    "    array.append(input())\n",
    "\n",
    "result = 0\n",
    "bfs(0, 0)\n",
    "print(result)"
   ],
   "metadata": {
    "collapsed": false,
    "pycharm": {
     "name": "#%%\n"
    }
   }
  },
  {
   "cell_type": "code",
   "execution_count": null,
   "outputs": [],
   "source": [
    "# if (array[ny][nx]) in route: out of index -> 오류\n",
    "def dfs(y, x):\n",
    "    visited[y][x] = True\n",
    "    route.append(array[y][x])\n",
    "    directions = [(-1, 0), (1, 0), (0, -1), (0, 1)]\n",
    "    for dx, dy in directions:\n",
    "        nx = x + dx\n",
    "        ny = y + dy\n",
    "        if nx <= 0 or nx > c or ny <= 0 or ny > r or array[ny][nx] in route:\n",
    "            continue\n",
    "        elif array[ny][nx] and not visited[ny][nx]:\n",
    "            dfs(ny, nx)\n",
    "\n",
    "r, c = map(int, input().split())\n",
    "array = list()\n",
    "for i in range(r):\n",
    "    temp = list(input())\n",
    "    array.append(temp)\n",
    "\n",
    "visited = [[False] * c for _ in range(r)]\n",
    "route = []\n",
    "for i in range(r):\n",
    "    for j in range(c):\n",
    "        if array[i][j] and not visited[i][j]:\n",
    "            dfs(i, j)\n",
    "\n",
    "print(len(route))"
   ],
   "metadata": {
    "collapsed": false,
    "pycharm": {
     "name": "#%%\n"
    }
   }
  }
 ],
 "metadata": {
  "kernelspec": {
   "display_name": "Python 3",
   "language": "python",
   "name": "python3"
  },
  "language_info": {
   "codemirror_mode": {
    "name": "ipython",
    "version": 2
   },
   "file_extension": ".py",
   "mimetype": "text/x-python",
   "name": "python",
   "nbconvert_exporter": "python",
   "pygments_lexer": "ipython2",
   "version": "2.7.6"
  }
 },
 "nbformat": 4,
 "nbformat_minor": 0
}