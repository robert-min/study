{
 "cells": [
  {
   "cell_type": "code",
   "execution_count": null,
   "metadata": {
    "collapsed": true
   },
   "outputs": [],
   "source": [
    "def solution(survey, choices):\n",
    "    score = [0, 3, 2, 1, 0, 1, 2, 3]\n",
    "    print(score[5])\n",
    "    charc = [\"R\", \"T\", \"C\", \"F\", \"J\", \"M\", \"A\", \"N\"]\n",
    "    result = dict()\n",
    "    for c in charc:\n",
    "        result[c] = 0\n",
    "\n",
    "    for i, choice in zip(survey, choices):\n",
    "        if choice < 4:\n",
    "            result[i[0]] = result[i[0]] + score[choice]\n",
    "        elif choice > 4:\n",
    "            result[i[-1]] = result[i[-1]] + score[choice]\n",
    "        else:\n",
    "            pass\n",
    "\n",
    "    answer = ''\n",
    "    for i in range(1, 9, 2):\n",
    "        if result[charc[i - 1]] >=  result[charc[i]]:\n",
    "            answer = answer + charc[i - 1]\n",
    "        else:\n",
    "            answer = answer + charc[i]\n",
    "\n",
    "    return answer\n",
    "\n",
    "print(solution([\"AN\", \"CF\", \"MJ\", \"RT\", \"NA\"], [5, 3, 2, 7, 5]))"
   ]
  },
  {
   "cell_type": "code",
   "execution_count": null,
   "outputs": [],
   "source": [
    "from collections import deque\n",
    "\n",
    "def solution(queue1, queue2):\n",
    "    queue1 = deque(queue1)\n",
    "    queue2 = deque(queue2)\n",
    "    left = 1\n",
    "    right = abs(sum(queue1) - sum(queue2))\n",
    "    count = 0\n",
    "    while sum(queue1) != sum(queue2):\n",
    "        if count >= len(queue1) + len(queue2):\n",
    "            count = -1\n",
    "            break\n",
    "        mid = (left + right) // 2\n",
    "        if sum(queue1) > sum(queue2):\n",
    "            temp = queue1.popleft()\n",
    "            queue2.append(temp)\n",
    "        else:\n",
    "            temp = queue2.popleft()\n",
    "            queue1.append(temp)\n",
    "        count += 1\n",
    "        if abs(sum(queue1) - sum(queue2)) >= mid:\n",
    "            left = mid + 1\n",
    "        else:\n",
    "            right = mid - 1\n",
    "\n",
    "    return count"
   ],
   "metadata": {
    "collapsed": false,
    "pycharm": {
     "name": "#%%\n"
    }
   }
  },
  {
   "cell_type": "code",
   "execution_count": null,
   "outputs": [],
   "source": [
    "from collections import deque\n",
    "\n",
    "def solution(queue1, queue2):\n",
    "    queue1 = deque(queue1)\n",
    "    queue2 = deque(queue2)\n",
    "    left = 1\n",
    "    right = abs(sum(queue1) - sum(queue2))\n",
    "    count = 0\n",
    "    while sum(queue1) != sum(queue2):\n",
    "        if count >= len(queue1) + len(queue2):\n",
    "            count = -1\n",
    "            break\n",
    "        mid = (left + right) // 2\n",
    "        if sum(queue1) > sum(queue2):\n",
    "            temp = queue1.popleft()\n",
    "            queue2.append(temp)\n",
    "        else:\n",
    "            temp = queue2.popleft()\n",
    "            queue1.append(temp)\n",
    "        count += 1\n",
    "        if abs(sum(queue1) - sum(queue2)) > mid:\n",
    "            left = mid + 1\n",
    "        elif abs(sum(queue1) - sum(queue2)) < mid:\n",
    "            right = mid - 1\n",
    "        else:\n",
    "            left = mid\n",
    "\n",
    "    return count\n",
    "\n",
    "queue1 = [1, 1]\n",
    "queue2 = [1, 5]\n",
    "print(solution(queue1, queue2))"
   ],
   "metadata": {
    "collapsed": false,
    "pycharm": {
     "name": "#%%\n"
    }
   }
  },
  {
   "cell_type": "markdown",
   "source": [
    "# 3번"
   ],
   "metadata": {
    "collapsed": false
   }
  },
  {
   "cell_type": "code",
   "execution_count": null,
   "outputs": [],
   "source": [
    "def solution(alp, cop, problems):\n",
    "    max_alp, max_cop = 0, 0\n",
    "    for i in range(len(problems)):\n",
    "        max_alp = max(max_alp, problems[i][0])\n",
    "        max_cop = max(max_cop, problems[i][1])\n",
    "        problems[i].append(problems[i][2] / problems[i][4])\n",
    "        problems[i].append(problems[i][3] / problems[i][4])\n",
    "\n",
    "    if (max_alp - alp) >= (max_cop - cop):\n",
    "        sorted_problems = sorted(problems, key=lambda x:x[5], reverse=True)\n",
    "    else:\n",
    "        sorted_problems = sorted(problems, key=lambda x: x[6], reverse=True)\n",
    "\n",
    "    print(sorted_problems)\n",
    "\n",
    "    index= 0\n",
    "    answer = 0\n",
    "    while alp < max_alp or cop < max_cop:\n",
    "        if (alp < sorted_problems[index][0]) and (cop < sorted_problems[index][1]):\n",
    "            index += 1\n",
    "        else:\n",
    "            alp += sorted_problems[index][2]\n",
    "            cop += sorted_problems[index][3]\n",
    "            answer += sorted_problems[index][4]\n",
    "            index = 0\n",
    "\n",
    "    return answer\n",
    "\n",
    "problems = [[10,15,2,1,2],[20,20,3,3,4]]\n",
    "print(solution(10, 10, problems))"
   ],
   "metadata": {
    "collapsed": false,
    "pycharm": {
     "name": "#%%\n"
    }
   }
  },
  {
   "cell_type": "markdown",
   "source": [
    "# 4번"
   ],
   "metadata": {
    "collapsed": false
   }
  },
  {
   "cell_type": "code",
   "execution_count": null,
   "outputs": [],
   "source": [
    "# def dfs(adj, visited, start, max_weight, summits):\n",
    "#\n",
    "#     visited[start] = True\n",
    "#\n",
    "#     for i, weight in adj[start]:\n",
    "#         if i not in gates and not visited:\n",
    "#             print(i)\n",
    "#             max_weight = max(max_weight, weight)\n",
    "#             dfs(adj, visited, i, max_weight, summits)\n",
    "#\n",
    "#     return max_weight,\n",
    "\n",
    "from collections import deque\n",
    "\n",
    "def bfs(adj, visited, start, summits):\n",
    "    q = deque([start])\n",
    "    max_weight = 0\n",
    "    while q:\n",
    "        node = q.popleft()\n",
    "        if node in summits:\n",
    "            break\n",
    "\n",
    "        if not visited[node]:\n",
    "            last_node = node\n",
    "            visited[node] = True\n",
    "            for i, weight in adj[node]:\n",
    "                if i not in gates:\n",
    "                    q.append(i)\n",
    "                    max_weight = max(max_weight, weight)\n",
    "                    break\n",
    "\n",
    "    return max_weight, last_node\n",
    "\n",
    "\n",
    "\n",
    "def solution(n, paths, gates, summits):\n",
    "    adj = [[] for _ in range(n + 1)]\n",
    "    for path in paths:\n",
    "        adj[path[0]].append((path[1], path[2]))\n",
    "\n",
    "    # weight가 가장 낮 순으로 배열\n",
    "    for i in range(n + 1):\n",
    "        adj[i] = sorted(adj[i], key=lambda x:x[1])\n",
    "\n",
    "    # 모든 gate에서 테스트\n",
    "    min_weight = 10000000\n",
    "    for start in gates:\n",
    "        max_weight = 0\n",
    "        visited = [False] * (n + 1)\n",
    "        weight, goal = bfs(adj, visited, start, summits)\n",
    "        # if weight < min_weight:\n",
    "        #     weight = min_weight\n",
    "        #     answer = [goal, weight]\n",
    "\n",
    "    return weight, goal\n",
    "\n",
    "n = 6\n",
    "paths = [[1, 2, 3], [2, 3, 5], [2, 4, 2], [2, 5, 4], [3, 4, 4], [4, 5, 3], [4, 6, 1], [5, 6, 1]]\n",
    "gates = [1, 3]\n",
    "summits = [5]\n",
    "\n",
    "print(solution(n, paths, gates, summits))"
   ],
   "metadata": {
    "collapsed": false,
    "pycharm": {
     "name": "#%%\n"
    }
   }
  }
 ],
 "metadata": {
  "kernelspec": {
   "display_name": "Python 3",
   "language": "python",
   "name": "python3"
  },
  "language_info": {
   "codemirror_mode": {
    "name": "ipython",
    "version": 2
   },
   "file_extension": ".py",
   "mimetype": "text/x-python",
   "name": "python",
   "nbconvert_exporter": "python",
   "pygments_lexer": "ipython2",
   "version": "2.7.6"
  }
 },
 "nbformat": 4,
 "nbformat_minor": 0
}