{
 "cells": [
  {
   "cell_type": "code",
   "execution_count": 11,
   "metadata": {
    "collapsed": true
   },
   "outputs": [],
   "source": [
    "from pyspark.sql import SparkSession\n",
    "\n",
    "MAX_MEMORY = \"5g\"\n",
    "spark = SparkSession.builder.appName(\"movie-recommendation\")\\\n",
    "    .config(\"spark.executor.memory\", MAX_MEMORY)\\\n",
    "    .config(\"spark.driver.memory\", MAX_MEMORY)\\\n",
    "    .getOrCreate()"
   ]
  },
  {
   "cell_type": "code",
   "execution_count": 12,
   "outputs": [
    {
     "name": "stderr",
     "output_type": "stream",
     "text": [
      "                                                                                \r"
     ]
    }
   ],
   "source": [
    "ratings_file = \"/Users/robertmin/PycharmProjects/study/data_engineering/spark_review/data/ratings.csv\"\n",
    "ratings_df = spark.read.csv(f\"file:///{ratings_file}\", inferSchema=True, header=True)"
   ],
   "metadata": {
    "collapsed": false,
    "pycharm": {
     "name": "#%%\n"
    }
   }
  },
  {
   "cell_type": "code",
   "execution_count": 13,
   "outputs": [
    {
     "name": "stdout",
     "output_type": "stream",
     "text": [
      "+------+-------+------+----------+\n",
      "|userId|movieId|rating| timestamp|\n",
      "+------+-------+------+----------+\n",
      "|     1|    296|   5.0|1147880044|\n",
      "|     1|    306|   3.5|1147868817|\n",
      "|     1|    307|   5.0|1147868828|\n",
      "|     1|    665|   5.0|1147878820|\n",
      "|     1|    899|   3.5|1147868510|\n",
      "|     1|   1088|   4.0|1147868495|\n",
      "|     1|   1175|   3.5|1147868826|\n",
      "|     1|   1217|   3.5|1147878326|\n",
      "|     1|   1237|   5.0|1147868839|\n",
      "|     1|   1250|   4.0|1147868414|\n",
      "|     1|   1260|   3.5|1147877857|\n",
      "|     1|   1653|   4.0|1147868097|\n",
      "|     1|   2011|   2.5|1147868079|\n",
      "|     1|   2012|   2.5|1147868068|\n",
      "|     1|   2068|   2.5|1147869044|\n",
      "|     1|   2161|   3.5|1147868609|\n",
      "|     1|   2351|   4.5|1147877957|\n",
      "|     1|   2573|   4.0|1147878923|\n",
      "|     1|   2632|   5.0|1147878248|\n",
      "|     1|   2692|   5.0|1147869100|\n",
      "+------+-------+------+----------+\n",
      "only showing top 20 rows\n",
      "\n"
     ]
    }
   ],
   "source": [
    "ratings_df.show()"
   ],
   "metadata": {
    "collapsed": false,
    "pycharm": {
     "name": "#%%\n"
    }
   }
  },
  {
   "cell_type": "code",
   "execution_count": 14,
   "outputs": [],
   "source": [
    "ratings_df = ratings_df.select(['userID', 'movieID', 'rating'])"
   ],
   "metadata": {
    "collapsed": false,
    "pycharm": {
     "name": "#%%\n"
    }
   }
  },
  {
   "cell_type": "code",
   "execution_count": 15,
   "outputs": [
    {
     "name": "stdout",
     "output_type": "stream",
     "text": [
      "root\n",
      " |-- userID: integer (nullable = true)\n",
      " |-- movieID: integer (nullable = true)\n",
      " |-- rating: double (nullable = true)\n",
      "\n"
     ]
    }
   ],
   "source": [
    "ratings_df.printSchema()"
   ],
   "metadata": {
    "collapsed": false,
    "pycharm": {
     "name": "#%%\n"
    }
   }
  },
  {
   "cell_type": "code",
   "execution_count": 16,
   "outputs": [
    {
     "name": "stderr",
     "output_type": "stream",
     "text": [
      "[Stage 48:================================================>         (5 + 1) / 6]\r"
     ]
    },
    {
     "name": "stdout",
     "output_type": "stream",
     "text": [
      "+-------+-----------------+------------------+------------------+\n",
      "|summary|           userID|           movieID|            rating|\n",
      "+-------+-----------------+------------------+------------------+\n",
      "|  count|         25000095|          25000095|          25000095|\n",
      "|   mean|81189.28115381162|21387.981943268616| 3.533854451353085|\n",
      "| stddev|46791.71589745776| 39198.86210105973|1.0607439611423535|\n",
      "|    min|                1|                 1|               0.5|\n",
      "|    max|           162541|            209171|               5.0|\n",
      "+-------+-----------------+------------------+------------------+\n",
      "\n"
     ]
    },
    {
     "name": "stderr",
     "output_type": "stream",
     "text": [
      "                                                                                \r"
     ]
    }
   ],
   "source": [
    "ratings_df.describe().show()"
   ],
   "metadata": {
    "collapsed": false,
    "pycharm": {
     "name": "#%%\n"
    }
   }
  },
  {
   "cell_type": "code",
   "execution_count": 17,
   "outputs": [],
   "source": [
    "train_df, test_df = ratings_df.randomSplit([0.8, 0.2])"
   ],
   "metadata": {
    "collapsed": false,
    "pycharm": {
     "name": "#%%\n"
    }
   }
  },
  {
   "cell_type": "code",
   "execution_count": 18,
   "outputs": [],
   "source": [
    "# ALS 추천알고리즘\n",
    "from pyspark.ml.recommendation import ALS\n",
    "\n",
    "als = ALS(\n",
    "    maxIter=5,\n",
    "    regParam=0.1,\n",
    "    userCol=\"userID\",\n",
    "    itemCol=\"movieID\",\n",
    "    ratingCol=\"rating\",\n",
    "    coldStartStrategy=\"drop\"\n",
    ")"
   ],
   "metadata": {
    "collapsed": false,
    "pycharm": {
     "name": "#%%\n"
    }
   }
  },
  {
   "cell_type": "code",
   "execution_count": 19,
   "outputs": [
    {
     "name": "stderr",
     "output_type": "stream",
     "text": [
      "                                                                                \r"
     ]
    }
   ],
   "source": [
    "# 메모리 부족 오류 WARN MemoryStore: Not enough space to cache rdd_53_0 in memory!\n",
    "model = als.fit(train_df)"
   ],
   "metadata": {
    "collapsed": false,
    "pycharm": {
     "name": "#%%\n"
    }
   }
  },
  {
   "cell_type": "code",
   "execution_count": 20,
   "outputs": [],
   "source": [
    "predictions = model.transform(test_df)"
   ],
   "metadata": {
    "collapsed": false,
    "pycharm": {
     "name": "#%%\n"
    }
   }
  },
  {
   "cell_type": "code",
   "execution_count": 21,
   "outputs": [
    {
     "name": "stderr",
     "output_type": "stream",
     "text": [
      "[Stage 85:================================================>         (5 + 1) / 6]\r"
     ]
    },
    {
     "name": "stdout",
     "output_type": "stream",
     "text": [
      "+------+-------+------+----------+\n",
      "|userID|movieID|rating|prediction|\n",
      "+------+-------+------+----------+\n",
      "|     1|    296|   5.0| 4.1006746|\n",
      "|     1|    307|   5.0| 3.9204323|\n",
      "|     1|    899|   3.5| 3.8612802|\n",
      "|     1|   1217|   3.5| 4.0038295|\n",
      "|     1|   2161|   3.5| 3.2212622|\n",
      "|     1|   2573|   4.0| 3.2377796|\n",
      "|     1|   3949|   5.0| 3.8406384|\n",
      "|     1|   4703|   4.0|  3.531045|\n",
      "|     1|   5147|   4.0| 3.9694772|\n",
      "|     1|   5767|   5.0|  4.007679|\n",
      "|     1|   7234|   4.5| 3.9388943|\n",
      "|     1|   7820|   2.5| 3.9094255|\n",
      "|     1|   7939|   2.5| 3.8341415|\n",
      "|     1|   8154|   5.0| 3.8385732|\n",
      "|     1|   8327|   5.0| 3.7486026|\n",
      "|     1|   8685|   1.0| 2.9600396|\n",
      "|    12|     16|   5.0| 3.5984116|\n",
      "|    12|     22|   3.0| 2.8334186|\n",
      "|    12|     27|   2.0| 2.7482634|\n",
      "|    12|     29|   4.0|  3.772168|\n",
      "+------+-------+------+----------+\n",
      "only showing top 20 rows\n",
      "\n"
     ]
    },
    {
     "name": "stderr",
     "output_type": "stream",
     "text": [
      "                                                                                \r"
     ]
    }
   ],
   "source": [
    "predictions.show()"
   ],
   "metadata": {
    "collapsed": false,
    "pycharm": {
     "name": "#%%\n"
    }
   }
  },
  {
   "cell_type": "code",
   "execution_count": 22,
   "outputs": [],
   "source": [
    "from pyspark.ml.evaluation import RegressionEvaluator\n",
    "\n",
    "evaluator = RegressionEvaluator(metricName=\"rmse\", labelCol='rating', predictionCol='prediction')"
   ],
   "metadata": {
    "collapsed": false,
    "pycharm": {
     "name": "#%%\n"
    }
   }
  },
  {
   "cell_type": "code",
   "execution_count": 23,
   "outputs": [
    {
     "name": "stderr",
     "output_type": "stream",
     "text": [
      "[Stage 176:>                                                        (0 + 4) / 4]\r"
     ]
    },
    {
     "name": "stdout",
     "output_type": "stream",
     "text": [
      "0.813505148188785\n"
     ]
    },
    {
     "name": "stderr",
     "output_type": "stream",
     "text": [
      "                                                                                \r"
     ]
    }
   ],
   "source": [
    "rmse = evaluator.evaluate(predictions)\n",
    "print(rmse)"
   ],
   "metadata": {
    "collapsed": false,
    "pycharm": {
     "name": "#%%\n"
    }
   }
  },
  {
   "cell_type": "code",
   "execution_count": 25,
   "outputs": [
    {
     "name": "stderr",
     "output_type": "stream",
     "text": [
      "[Stage 205:>                                                        (0 + 1) / 1]\r"
     ]
    },
    {
     "name": "stdout",
     "output_type": "stream",
     "text": [
      "+------+--------------------+\n",
      "|userID|     recommendations|\n",
      "+------+--------------------+\n",
      "|     1|[{194434, 5.57926...|\n",
      "|     6|[{136892, 6.77530...|\n",
      "|    12|[{194434, 5.61251...|\n",
      "|    13|[{136892, 6.59139...|\n",
      "|    16|[{194434, 6.50861...|\n",
      "|    22|[{199187, 6.72055...|\n",
      "|    26|[{203086, 6.02279...|\n",
      "|    27|[{203086, 6.10824...|\n",
      "|    28|[{194434, 7.73286...|\n",
      "|    31|[{197927, 4.02799...|\n",
      "|    34|[{194434, 5.74480...|\n",
      "|    44|[{194434, 7.12445...|\n",
      "|    47|[{138580, 5.35425...|\n",
      "|    52|[{203086, 6.17203...|\n",
      "|    53|[{194334, 6.99273...|\n",
      "|    65|[{205453, 6.73962...|\n",
      "|    76|[{194434, 6.21034...|\n",
      "|    78|[{194434, 6.84309...|\n",
      "|    81|[{179707, 5.16069...|\n",
      "|    85|[{98693, 5.929706...|\n",
      "+------+--------------------+\n",
      "only showing top 20 rows\n",
      "\n"
     ]
    },
    {
     "name": "stderr",
     "output_type": "stream",
     "text": [
      "                                                                                \r"
     ]
    }
   ],
   "source": [
    "model.recommendForAllUsers(2).show()"
   ],
   "metadata": {
    "collapsed": false,
    "pycharm": {
     "name": "#%%\n"
    }
   }
  },
  {
   "cell_type": "markdown",
   "source": [
    "## 특정 유저에게 추천"
   ],
   "metadata": {
    "collapsed": false
   }
  },
  {
   "cell_type": "code",
   "execution_count": 26,
   "outputs": [
    {
     "name": "stderr",
     "output_type": "stream",
     "text": [
      "[Stage 206:>                                                        (0 + 1) / 1]\r"
     ]
    },
    {
     "name": "stdout",
     "output_type": "stream",
     "text": [
      "+------+\n",
      "|userId|\n",
      "+------+\n",
      "|    63|\n",
      "|    88|\n",
      "|    91|\n",
      "+------+\n",
      "\n"
     ]
    },
    {
     "name": "stderr",
     "output_type": "stream",
     "text": [
      "                                                                                \r"
     ]
    }
   ],
   "source": [
    "from pyspark.sql.types import IntegerType\n",
    "\n",
    "user_list = [63, 88, 91]\n",
    "user_df = spark.createDataFrame(user_list, IntegerType()).toDF(\"userId\")\n",
    "user_df.show()"
   ],
   "metadata": {
    "collapsed": false,
    "pycharm": {
     "name": "#%%\n"
    }
   }
  },
  {
   "cell_type": "code",
   "execution_count": 27,
   "outputs": [],
   "source": [
    "user_resc = model.recommendForUserSubset(user_df, 5)"
   ],
   "metadata": {
    "collapsed": false,
    "pycharm": {
     "name": "#%%\n"
    }
   }
  },
  {
   "cell_type": "code",
   "execution_count": 28,
   "outputs": [],
   "source": [
    "movie_list = user_resc.collect()[0].recommendations"
   ],
   "metadata": {
    "collapsed": false,
    "pycharm": {
     "name": "#%%\n"
    }
   }
  },
  {
   "cell_type": "code",
   "execution_count": 29,
   "outputs": [
    {
     "name": "stdout",
     "output_type": "stream",
     "text": [
      "+-------+-----------------+\n",
      "|movieID|           rating|\n",
      "+-------+-----------------+\n",
      "| 203086|6.018644332885742|\n",
      "| 203882| 5.52311897277832|\n",
      "| 107252|5.359184741973877|\n",
      "| 194434|5.153403282165527|\n",
      "| 190163|5.151778221130371|\n",
      "+-------+-----------------+\n",
      "\n"
     ]
    }
   ],
   "source": [
    "resc_df = spark.createDataFrame(movie_list)\n",
    "resc_df.show()"
   ],
   "metadata": {
    "collapsed": false,
    "pycharm": {
     "name": "#%%\n"
    }
   }
  },
  {
   "cell_type": "code",
   "execution_count": 30,
   "outputs": [
    {
     "name": "stderr",
     "output_type": "stream",
     "text": [
      "                                                                                \r"
     ]
    }
   ],
   "source": [
    "# 영화 이름\n",
    "movies_file = \"/Users/robertmin/PycharmProjects/study/data_engineering/spark_review/data/movies.csv\"\n",
    "movies_df = spark.read.csv(f\"file:///{movies_file}\", inferSchema=True, header=True)"
   ],
   "metadata": {
    "collapsed": false,
    "pycharm": {
     "name": "#%%\n"
    }
   }
  },
  {
   "cell_type": "code",
   "execution_count": null,
   "outputs": [],
   "source": [
    "movies_df.show()"
   ],
   "metadata": {
    "collapsed": false,
    "pycharm": {
     "name": "#%%\n"
    }
   }
  },
  {
   "cell_type": "code",
   "execution_count": 32,
   "outputs": [],
   "source": [
    "resc_df.createOrReplaceTempView(\"recommendations\")\n",
    "movies_df.createOrReplaceTempView(\"movies\")"
   ],
   "metadata": {
    "collapsed": false,
    "pycharm": {
     "name": "#%%\n"
    }
   }
  },
  {
   "cell_type": "code",
   "execution_count": 34,
   "outputs": [
    {
     "name": "stderr",
     "output_type": "stream",
     "text": [
      "                                                                                \r"
     ]
    },
    {
     "name": "stdout",
     "output_type": "stream",
     "text": [
      "+-------+--------------------+------------------+-------+-----------------+\n",
      "|movieId|               title|            genres|movieID|           rating|\n",
      "+-------+--------------------+------------------+-------+-----------------+\n",
      "| 203086|Truth and Justice...|             Drama| 203086|6.018644332885742|\n",
      "| 203882|Dead in the Water...|            Horror| 203882| 5.52311897277832|\n",
      "| 107252|Island at War (2004)|         Drama|War| 107252|5.359184741973877|\n",
      "| 194434|   Adrenaline (1990)|(no genres listed)| 194434|5.153403282165527|\n",
      "| 190163|Leaning Towards S...|(no genres listed)| 190163|5.151778221130371|\n",
      "+-------+--------------------+------------------+-------+-----------------+\n",
      "\n"
     ]
    }
   ],
   "source": [
    "query = \"\"\"\n",
    "SELECT\n",
    "    *\n",
    "FROM\n",
    "    movies JOIN recommendations\n",
    "    ON movies.movieId = recommendations.movieId\n",
    "ORDER BY\n",
    "    rating desc\n",
    "\"\"\"\n",
    "recommended_movies = spark.sql(query)\n",
    "recommended_movies.show()"
   ],
   "metadata": {
    "collapsed": false,
    "pycharm": {
     "name": "#%%\n"
    }
   }
  },
  {
   "cell_type": "code",
   "execution_count": 43,
   "outputs": [
    {
     "name": "stderr",
     "output_type": "stream",
     "text": [
      "[Stage 365:=============================================>     (1787 + 4) / 2000]\r"
     ]
    }
   ],
   "source": [
    "def get_recommendations(user_id, num_recs):\n",
    "    user_df = spark.createDataFrame([user_id], IntegerType()).toDF('userId')\n",
    "    user_resc_df = model.recommendForUserSubset(user_df, num_recs)\n",
    "\n",
    "    recs_list = user_resc_df.collect()[0].recommendations\n",
    "    recs_df = spark.createDataFrame(recs_list)\n",
    "\n",
    "    recs_df.createOrReplaceTempView(\"recommendations\")\n",
    "\n",
    "    query = \"\"\"\n",
    "    SELECT\n",
    "        *\n",
    "    FROM\n",
    "        movies JOIN recommendations\n",
    "        ON movies.movieId = recommendations.movieId\n",
    "    ORDER BY\n",
    "        rating desc\n",
    "    \"\"\"\n",
    "\n",
    "    recommended_movies = spark.sql(query)\n",
    "    return recommended_movies"
   ],
   "metadata": {
    "collapsed": false,
    "pycharm": {
     "name": "#%%\n"
    }
   }
  },
  {
   "cell_type": "code",
   "execution_count": 44,
   "outputs": [
    {
     "name": "stderr",
     "output_type": "stream",
     "text": [
      "/Users/robertmin/opt/anaconda3/lib/python3.9/site-packages/pyspark/sql/context.py:125: FutureWarning: Deprecated in 3.0.0. Use SparkSession.builder.getOrCreate() instead.\n",
      "  warnings.warn(\n",
      "Exception in thread \"serve-DataFrame\" java.net.SocketTimeoutException: Accept timed out\n",
      "\tat java.net.PlainSocketImpl.socketAccept(Native Method)\n",
      "\tat java.net.AbstractPlainSocketImpl.accept(AbstractPlainSocketImpl.java:409)\n",
      "\tat java.net.ServerSocket.implAccept(ServerSocket.java:560)\n",
      "\tat java.net.ServerSocket.accept(ServerSocket.java:528)\n",
      "\tat org.apache.spark.security.SocketAuthServer$$anon$1.run(SocketAuthServer.scala:64)\n",
      "                                                                                \r"
     ]
    }
   ],
   "source": [
    "recs = get_recommendations(456, 10)"
   ],
   "metadata": {
    "collapsed": false,
    "pycharm": {
     "name": "#%%\n"
    }
   }
  },
  {
   "cell_type": "code",
   "execution_count": 45,
   "outputs": [
    {
     "data": {
      "text/plain": "   movieId                                              title  \\\n0   203086                           Truth and Justice (2019)   \n1   199187                                      Hoaxed (2019)   \n2   203882                           Dead in the Water (2006)   \n3   194434                                  Adrenaline (1990)   \n4   107252                               Island at War (2004)   \n5   144202                             Catch That Girl (2002)   \n6   205453  The Good Fight: The Abraham Lincoln Brigade in...   \n7   151615                              Hello Stranger (2010)   \n8   117352                         A Kind of America 2 (2008)   \n9   190163                      Leaning Towards Solace (2012)   \n\n               genres  movieID    rating  \n0               Drama   203086  7.047431  \n1  (no genres listed)   199187  7.008523  \n2              Horror   203882  6.831636  \n3  (no genres listed)   194434  6.467854  \n4           Drama|War   107252  6.406742  \n5     Action|Children   144202  6.312358  \n6         Documentary   205453  6.236917  \n7               Drama   151615  6.218982  \n8              Comedy   117352  6.212343  \n9  (no genres listed)   190163  6.158483  ",
      "text/html": "<div>\n<style scoped>\n    .dataframe tbody tr th:only-of-type {\n        vertical-align: middle;\n    }\n\n    .dataframe tbody tr th {\n        vertical-align: top;\n    }\n\n    .dataframe thead th {\n        text-align: right;\n    }\n</style>\n<table border=\"1\" class=\"dataframe\">\n  <thead>\n    <tr style=\"text-align: right;\">\n      <th></th>\n      <th>movieId</th>\n      <th>title</th>\n      <th>genres</th>\n      <th>movieID</th>\n      <th>rating</th>\n    </tr>\n  </thead>\n  <tbody>\n    <tr>\n      <th>0</th>\n      <td>203086</td>\n      <td>Truth and Justice (2019)</td>\n      <td>Drama</td>\n      <td>203086</td>\n      <td>7.047431</td>\n    </tr>\n    <tr>\n      <th>1</th>\n      <td>199187</td>\n      <td>Hoaxed (2019)</td>\n      <td>(no genres listed)</td>\n      <td>199187</td>\n      <td>7.008523</td>\n    </tr>\n    <tr>\n      <th>2</th>\n      <td>203882</td>\n      <td>Dead in the Water (2006)</td>\n      <td>Horror</td>\n      <td>203882</td>\n      <td>6.831636</td>\n    </tr>\n    <tr>\n      <th>3</th>\n      <td>194434</td>\n      <td>Adrenaline (1990)</td>\n      <td>(no genres listed)</td>\n      <td>194434</td>\n      <td>6.467854</td>\n    </tr>\n    <tr>\n      <th>4</th>\n      <td>107252</td>\n      <td>Island at War (2004)</td>\n      <td>Drama|War</td>\n      <td>107252</td>\n      <td>6.406742</td>\n    </tr>\n    <tr>\n      <th>5</th>\n      <td>144202</td>\n      <td>Catch That Girl (2002)</td>\n      <td>Action|Children</td>\n      <td>144202</td>\n      <td>6.312358</td>\n    </tr>\n    <tr>\n      <th>6</th>\n      <td>205453</td>\n      <td>The Good Fight: The Abraham Lincoln Brigade in...</td>\n      <td>Documentary</td>\n      <td>205453</td>\n      <td>6.236917</td>\n    </tr>\n    <tr>\n      <th>7</th>\n      <td>151615</td>\n      <td>Hello Stranger (2010)</td>\n      <td>Drama</td>\n      <td>151615</td>\n      <td>6.218982</td>\n    </tr>\n    <tr>\n      <th>8</th>\n      <td>117352</td>\n      <td>A Kind of America 2 (2008)</td>\n      <td>Comedy</td>\n      <td>117352</td>\n      <td>6.212343</td>\n    </tr>\n    <tr>\n      <th>9</th>\n      <td>190163</td>\n      <td>Leaning Towards Solace (2012)</td>\n      <td>(no genres listed)</td>\n      <td>190163</td>\n      <td>6.158483</td>\n    </tr>\n  </tbody>\n</table>\n</div>"
     },
     "execution_count": 45,
     "metadata": {},
     "output_type": "execute_result"
    }
   ],
   "source": [
    "recs.toPandas()"
   ],
   "metadata": {
    "collapsed": false,
    "pycharm": {
     "name": "#%%\n"
    }
   }
  },
  {
   "cell_type": "code",
   "execution_count": null,
   "outputs": [],
   "source": [],
   "metadata": {
    "collapsed": false,
    "pycharm": {
     "name": "#%%\n"
    }
   }
  }
 ],
 "metadata": {
  "kernelspec": {
   "display_name": "Python 3",
   "language": "python",
   "name": "python3"
  },
  "language_info": {
   "codemirror_mode": {
    "name": "ipython",
    "version": 2
   },
   "file_extension": ".py",
   "mimetype": "text/x-python",
   "name": "python",
   "nbconvert_exporter": "python",
   "pygments_lexer": "ipython2",
   "version": "2.7.6"
  }
 },
 "nbformat": 4,
 "nbformat_minor": 0
}