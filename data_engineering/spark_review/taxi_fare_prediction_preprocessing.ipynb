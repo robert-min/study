{
 "cells": [
  {
   "cell_type": "code",
   "execution_count": 1,
   "metadata": {
    "collapsed": true
   },
   "outputs": [
    {
     "name": "stderr",
     "output_type": "stream",
     "text": [
      "22/02/19 15:07:47 WARN Utils: Your hostname, robertminui-MacBookAir.local resolves to a loopback address: 127.0.0.1; using 192.168.0.21 instead (on interface en0)\n",
      "22/02/19 15:07:47 WARN Utils: Set SPARK_LOCAL_IP if you need to bind to another address\n",
      "Using Spark's default log4j profile: org/apache/spark/log4j-defaults.properties\n",
      "Setting default log level to \"WARN\".\n",
      "To adjust logging level use sc.setLogLevel(newLevel). For SparkR, use setLogLevel(newLevel).\n",
      "22/02/19 15:07:49 WARN NativeCodeLoader: Unable to load native-hadoop library for your platform... using builtin-java classes where applicable\n"
     ]
    }
   ],
   "source": [
    "from pyspark.sql import SparkSession\n",
    "\n",
    "MAX_MEMORY = \"5g\"\n",
    "spark = SparkSession.builder.appName(\"taxi_fare_prediction\")\\\n",
    "    .config(\"spark.executor.memory\", MAX_MEMORY)\\\n",
    "    .config(\"spark.driver.memory\", MAX_MEMORY)\\\n",
    "    .getOrCreate()"
   ]
  },
  {
   "cell_type": "code",
   "execution_count": 2,
   "outputs": [
    {
     "name": "stderr",
     "output_type": "stream",
     "text": [
      "[Stage 1:===================================================>     (10 + 1) / 11]\r"
     ]
    },
    {
     "name": "stdout",
     "output_type": "stream",
     "text": [
      "root\n",
      " |-- VendorID: integer (nullable = true)\n",
      " |-- tpep_pickup_datetime: string (nullable = true)\n",
      " |-- tpep_dropoff_datetime: string (nullable = true)\n",
      " |-- passenger_count: integer (nullable = true)\n",
      " |-- trip_distance: double (nullable = true)\n",
      " |-- RatecodeID: integer (nullable = true)\n",
      " |-- store_and_fwd_flag: string (nullable = true)\n",
      " |-- PULocationID: integer (nullable = true)\n",
      " |-- DOLocationID: integer (nullable = true)\n",
      " |-- payment_type: integer (nullable = true)\n",
      " |-- fare_amount: double (nullable = true)\n",
      " |-- extra: double (nullable = true)\n",
      " |-- mta_tax: double (nullable = true)\n",
      " |-- tip_amount: double (nullable = true)\n",
      " |-- tolls_amount: double (nullable = true)\n",
      " |-- improvement_surcharge: double (nullable = true)\n",
      " |-- total_amount: double (nullable = true)\n",
      " |-- congestion_surcharge: double (nullable = true)\n",
      "\n"
     ]
    },
    {
     "name": "stderr",
     "output_type": "stream",
     "text": [
      "                                                                                \r"
     ]
    }
   ],
   "source": [
    "trip_files = \"/Users/robertmin/PycharmProjects/study/data_engineering/spark_review/data/taxi/*\"\n",
    "trips_df = spark.read.csv(f\"file:///{trip_files}\", inferSchema=True, header=True)\n",
    "trips_df.printSchema()"
   ],
   "metadata": {
    "collapsed": false,
    "pycharm": {
     "name": "#%%\n"
    }
   }
  },
  {
   "cell_type": "code",
   "execution_count": 3,
   "outputs": [],
   "source": [
    "trips_df.createOrReplaceTempView(\"trips\")"
   ],
   "metadata": {
    "collapsed": false,
    "pycharm": {
     "name": "#%%\n"
    }
   }
  },
  {
   "cell_type": "code",
   "execution_count": 4,
   "outputs": [],
   "source": [
    "query = \"\"\"\n",
    "SELECT\n",
    "    passenger_count,\n",
    "    PULocationID as pickup_location_id,\n",
    "    DOLocationID as dropoff_location_id,\n",
    "    trip_distance,\n",
    "    HOUR(tpep_pickup_datetime) as pickup_time,\n",
    "    DATE_FORMAT(TO_DATE(tpep_pickup_datetime), 'EEEE') AS day_of_week,\n",
    "    total_amount\n",
    "FROM\n",
    "    (SELECT\n",
    "        *,\n",
    "        TO_DATE(t.tpep_pickup_datetime) AS pickup_date\n",
    "    FROM\n",
    "        trips t)\n",
    "WHERE\n",
    "    total_amount < 5000\n",
    "    AND total_amount > 0\n",
    "    AND trip_distance > 0\n",
    "    AND trip_distance < 500\n",
    "    AND passenger_count < 4\n",
    "    AND pickup_date >= '2021-01-01'\n",
    "    AND pickup_date < '2021-08-01'\n",
    "\"\"\"\n",
    "data_df = spark.sql(query)\n",
    "data_df.createOrReplaceTempView(\"data\")"
   ],
   "metadata": {
    "collapsed": false,
    "pycharm": {
     "name": "#%%\n"
    }
   }
  },
  {
   "cell_type": "code",
   "execution_count": 5,
   "outputs": [
    {
     "name": "stdout",
     "output_type": "stream",
     "text": [
      "root\n",
      " |-- passenger_count: integer (nullable = true)\n",
      " |-- pickup_location_id: integer (nullable = true)\n",
      " |-- dropoff_location_id: integer (nullable = true)\n",
      " |-- trip_distance: double (nullable = true)\n",
      " |-- pickup_time: integer (nullable = true)\n",
      " |-- day_of_week: string (nullable = true)\n",
      " |-- total_amount: double (nullable = true)\n",
      "\n"
     ]
    }
   ],
   "source": [
    "data_df.printSchema()"
   ],
   "metadata": {
    "collapsed": false,
    "pycharm": {
     "name": "#%%\n"
    }
   }
  },
  {
   "cell_type": "code",
   "execution_count": 6,
   "outputs": [],
   "source": [
    "train_df, test_df = data_df.randomSplit([0.8, 0.2])"
   ],
   "metadata": {
    "collapsed": false,
    "pycharm": {
     "name": "#%%\n"
    }
   }
  },
  {
   "cell_type": "code",
   "execution_count": 7,
   "outputs": [],
   "source": [
    "toy_df = train_df.sample(False, .1, seed=261)"
   ],
   "metadata": {
    "collapsed": false,
    "pycharm": {
     "name": "#%%\n"
    }
   }
  },
  {
   "cell_type": "code",
   "execution_count": 2,
   "outputs": [
    {
     "ename": "NameError",
     "evalue": "name 'train_df' is not defined",
     "output_type": "error",
     "traceback": [
      "\u001B[0;31m---------------------------------------------------------------------------\u001B[0m",
      "\u001B[0;31mNameError\u001B[0m                                 Traceback (most recent call last)",
      "\u001B[0;32m/var/folders/mc/dq2kv5b10qjd6sq35tn_rvph0000gn/T/ipykernel_48515/4064840914.py\u001B[0m in \u001B[0;36m<module>\u001B[0;34m\u001B[0m\n\u001B[1;32m      1\u001B[0m \u001B[0;31m# parquet 으로 저장\u001B[0m\u001B[0;34m\u001B[0m\u001B[0;34m\u001B[0m\u001B[0m\n\u001B[1;32m      2\u001B[0m \u001B[0mdata_dir\u001B[0m \u001B[0;34m=\u001B[0m \u001B[0;34m\"/Users/robertmin/PycharmProjects/study/data_engineering/spark_review/data\"\u001B[0m\u001B[0;34m\u001B[0m\u001B[0;34m\u001B[0m\u001B[0m\n\u001B[0;32m----> 3\u001B[0;31m \u001B[0mtrain_df\u001B[0m\u001B[0;34m.\u001B[0m\u001B[0mwrite\u001B[0m\u001B[0;34m.\u001B[0m\u001B[0mformat\u001B[0m\u001B[0;34m(\u001B[0m\u001B[0;34m\"parquet\"\u001B[0m\u001B[0;34m)\u001B[0m\u001B[0;34m.\u001B[0m\u001B[0msave\u001B[0m\u001B[0;34m(\u001B[0m\u001B[0;34mf\"{data_dir}/train/\"\u001B[0m\u001B[0;34m)\u001B[0m\u001B[0;34m\u001B[0m\u001B[0;34m\u001B[0m\u001B[0m\n\u001B[0m\u001B[1;32m      4\u001B[0m \u001B[0mtest_df\u001B[0m\u001B[0;34m.\u001B[0m\u001B[0mwrite\u001B[0m\u001B[0;34m.\u001B[0m\u001B[0mformat\u001B[0m\u001B[0;34m(\u001B[0m\u001B[0;34m\"parquet\"\u001B[0m\u001B[0;34m)\u001B[0m\u001B[0;34m.\u001B[0m\u001B[0msave\u001B[0m\u001B[0;34m(\u001B[0m\u001B[0;34mf\"{data_dir}/test/\"\u001B[0m\u001B[0;34m)\u001B[0m\u001B[0;34m\u001B[0m\u001B[0;34m\u001B[0m\u001B[0m\n\u001B[1;32m      5\u001B[0m \u001B[0mtoy_df\u001B[0m\u001B[0;34m.\u001B[0m\u001B[0mwrite\u001B[0m\u001B[0;34m.\u001B[0m\u001B[0mformat\u001B[0m\u001B[0;34m(\u001B[0m\u001B[0;34m\"parquet\"\u001B[0m\u001B[0;34m)\u001B[0m\u001B[0;34m.\u001B[0m\u001B[0msave\u001B[0m\u001B[0;34m(\u001B[0m\u001B[0;34mf\"{data_dir}/toy/\"\u001B[0m\u001B[0;34m)\u001B[0m\u001B[0;34m\u001B[0m\u001B[0;34m\u001B[0m\u001B[0m\n",
      "\u001B[0;31mNameError\u001B[0m: name 'train_df' is not defined"
     ]
    }
   ],
   "source": [
    "# parquet 으로 저장\n",
    "data_dir = \"/Users/robertmin/PycharmProjects/study/data_engineering/spark_review/data\"\n",
    "train_df.write.format(\"parquet\").save(f\"{data_dir}/train/\")\n",
    "test_df.write.format(\"parquet\").save(f\"{data_dir}/test/\")\n",
    "toy_df.write.format(\"parquet\").save(f\"{data_dir}/toy/\")"
   ],
   "metadata": {
    "collapsed": false,
    "pycharm": {
     "name": "#%%\n"
    }
   }
  },
  {
   "cell_type": "code",
   "execution_count": 3,
   "outputs": [
    {
     "name": "stderr",
     "output_type": "stream",
     "text": [
      "                                                                                \r"
     ]
    }
   ],
   "source": [
    "# 다시 읽어오기\n",
    "train_df = spark.read.parquet(f\"{data_dir}/train/\")\n",
    "test_df = spark.read.parquet(f\"{data_dir}/test/\")\n",
    "toy_df = spark.read.parquet(f\"{data_dir}/toy/\")"
   ],
   "metadata": {
    "collapsed": false,
    "pycharm": {
     "name": "#%%\n"
    }
   }
  },
  {
   "cell_type": "code",
   "execution_count": 4,
   "outputs": [
    {
     "name": "stdout",
     "output_type": "stream",
     "text": [
      "root\n",
      " |-- passenger_count: integer (nullable = true)\n",
      " |-- pickup_location_id: integer (nullable = true)\n",
      " |-- dropoff_location_id: integer (nullable = true)\n",
      " |-- trip_distance: double (nullable = true)\n",
      " |-- pickup_time: integer (nullable = true)\n",
      " |-- day_of_week: string (nullable = true)\n",
      " |-- total_amount: double (nullable = true)\n",
      "\n"
     ]
    }
   ],
   "source": [
    "train_df.printSchema()"
   ],
   "metadata": {
    "collapsed": false,
    "pycharm": {
     "name": "#%%\n"
    }
   }
  },
  {
   "cell_type": "code",
   "execution_count": 6,
   "outputs": [],
   "source": [
    "# One-Hot Encoding\n",
    "from pyspark.ml.feature import OneHotEncoder, StringIndexer\n",
    "\n",
    "cat_features = [\n",
    "    \"pickup_location_id\",\n",
    "    \"dropoff_location_id\",\n",
    "    \"day_of_week\",\n",
    "    \"pickup_time\"\n",
    "]\n",
    "\n",
    "# pipline stages\n",
    "stages = []\n",
    "\n",
    "for c in cat_features:\n",
    "    # c -> c_idx\n",
    "    cat_indexer = StringIndexer(inputCol=c, outputCol = c + \"_idx\").setHandleInvalid(\"keep\")\n",
    "    # onehot\n",
    "    onehot_encoder = OneHotEncoder(inputCols=[cat_indexer.getOutputCol()], outputCols=[c + \"_onehot\"])\n",
    "    stages += [cat_indexer, onehot_encoder]"
   ],
   "metadata": {
    "collapsed": false,
    "pycharm": {
     "name": "#%%\n"
    }
   }
  },
  {
   "cell_type": "code",
   "execution_count": 8,
   "outputs": [],
   "source": [
    "# features normalized\n",
    "from pyspark.ml.feature import VectorAssembler, StandardScaler\n",
    "\n",
    "num_features = [\n",
    "    \"passenger_count\",\n",
    "    \"trip_distance\"\n",
    "]\n",
    "\n",
    "# vector assembler\n",
    "for n in num_features:\n",
    "    num_assembler = VectorAssembler(inputCols=[n], outputCol= n + \"_vector\")\n",
    "    num_scaler = StandardScaler(inputCol=num_assembler.getOutputCol(), outputCol= n+\"_scaled\")\n",
    "    stages += [num_assembler, num_scaler]"
   ],
   "metadata": {
    "collapsed": false,
    "pycharm": {
     "name": "#%%\n"
    }
   }
  },
  {
   "cell_type": "code",
   "execution_count": 11,
   "outputs": [],
   "source": [
    "# cat + num feature 합친 assembler_inputs 값 생성\n",
    "assembler_inputs = [c + \"_onehot\" for c in cat_features] + [n + \"_scaled\" for n in num_features]\n",
    "assembler = VectorAssembler(inputCols=assembler_inputs, outputCol=\"feature_vector\")\n",
    "stages += [assembler]"
   ],
   "metadata": {
    "collapsed": false,
    "pycharm": {
     "name": "#%%\n"
    }
   }
  },
  {
   "cell_type": "code",
   "execution_count": 12,
   "outputs": [
    {
     "data": {
      "text/plain": "[StringIndexer_c380bcb677ab,\n OneHotEncoder_31c44f14466c,\n StringIndexer_733de83b7a88,\n OneHotEncoder_2016b96c1225,\n StringIndexer_d984a37200fd,\n OneHotEncoder_bff35b171c73,\n StringIndexer_01b5be058590,\n OneHotEncoder_cb97bc1ae4b1,\n VectorAssembler_345db4e6d744,\n StandardScaler_6fc406251317,\n VectorAssembler_77fcc2096727,\n StandardScaler_c4105f19f1d4,\n VectorAssembler_030fb5d9f653]"
     },
     "execution_count": 12,
     "metadata": {},
     "output_type": "execute_result"
    }
   ],
   "source": [
    "stages"
   ],
   "metadata": {
    "collapsed": false,
    "pycharm": {
     "name": "#%%\n"
    }
   }
  },
  {
   "cell_type": "markdown",
   "source": [
    "## Training"
   ],
   "metadata": {
    "collapsed": false
   }
  },
  {
   "cell_type": "code",
   "execution_count": 14,
   "outputs": [
    {
     "name": "stderr",
     "output_type": "stream",
     "text": [
      "                                                                                \r"
     ]
    }
   ],
   "source": [
    "from pyspark.ml.regression import LinearRegression\n",
    "from pyspark.ml import Pipeline\n",
    "# add model into the stages\n",
    "# Construct pipeline using the set of stages defined\n",
    "# 스테이지에 모델 더하고  정의된 스테이지대로 파이프라인을 구축\n",
    "transform_stage = stages\n",
    "pipeline = Pipeline(stages=transform_stage)\n",
    "\n",
    "# Fit the transformer\n",
    "# 구축된 파이프라인으로 Transformer 생성\n",
    "fitted_transformer = pipeline.fit(train_df)"
   ],
   "metadata": {
    "collapsed": false,
    "pycharm": {
     "name": "#%%\n"
    }
   }
  },
  {
   "cell_type": "code",
   "execution_count": 16,
   "outputs": [],
   "source": [
    "# transformer로 학습 데이터 변형하기\n",
    "transformed_train_df = fitted_transformer.transform(train_df)\n",
    "# transformed_train_df = transformed_train_df.cache()\n",
    "# transformer 로 테스트 데이터 변형하기\n",
    "transformed_test_df = fitted_transformer.transform(test_df)"
   ],
   "metadata": {
    "collapsed": false,
    "pycharm": {
     "name": "#%%\n"
    }
   }
  },
  {
   "cell_type": "code",
   "execution_count": 17,
   "outputs": [],
   "source": [
    "lr = LinearRegression(maxIter=100,\n",
    "                      solver=\"normal\",\n",
    "                      labelCol=\"total_amount\",\n",
    "                      featuresCol=\"feature_vector\")"
   ],
   "metadata": {
    "collapsed": false,
    "pycharm": {
     "name": "#%%\n"
    }
   }
  },
  {
   "cell_type": "code",
   "execution_count": 18,
   "outputs": [
    {
     "name": "stderr",
     "output_type": "stream",
     "text": [
      "22/02/19 15:35:53 WARN Instrumentation: [a89a771e] regParam is zero, which might cause numerical instability and overfitting.\n",
      "22/02/19 15:36:26 WARN InstanceBuilder$NativeBLAS: Failed to load implementation from:dev.ludovic.netlib.blas.JNIBLAS\n",
      "22/02/19 15:36:26 WARN InstanceBuilder$NativeBLAS: Failed to load implementation from:dev.ludovic.netlib.blas.ForeignLinkerBLAS\n",
      "22/02/19 15:36:52 WARN InstanceBuilder$NativeLAPACK: Failed to load implementation from:dev.ludovic.netlib.lapack.JNILAPACK\n",
      "22/02/19 15:36:53 WARN Instrumentation: [a89a771e] Cholesky solver failed due to singular covariance matrix. Retrying with Quasi-Newton solver.\n",
      "22/02/19 15:36:54 WARN BLAS: Failed to load implementation from: com.github.fommil.netlib.NativeSystemBLAS\n",
      "22/02/19 15:36:54 WARN BLAS: Failed to load implementation from: com.github.fommil.netlib.NativeRefBLAS\n",
      "                                                                                \r"
     ]
    }
   ],
   "source": [
    "model = lr.fit(transformed_train_df)"
   ],
   "metadata": {
    "collapsed": false,
    "pycharm": {
     "name": "#%%\n"
    }
   }
  },
  {
   "cell_type": "code",
   "execution_count": 19,
   "outputs": [],
   "source": [
    "predictions = model.transform(transformed_test_df).cache()"
   ],
   "metadata": {
    "collapsed": false,
    "pycharm": {
     "name": "#%%\n"
    }
   }
  },
  {
   "cell_type": "code",
   "execution_count": 20,
   "outputs": [
    {
     "name": "stderr",
     "output_type": "stream",
     "text": [
      "[Stage 23:>                                                         (0 + 1) / 1]\r"
     ]
    },
    {
     "name": "stdout",
     "output_type": "stream",
     "text": [
      "+---------------+------------------+-------------------+-------------+-----------+-----------+------------+----------------------+-------------------------+-----------------------+--------------------------+---------------+------------------+---------------+------------------+----------------------+----------------------+--------------------+--------------------+--------------------+------------------+\n",
      "|passenger_count|pickup_location_id|dropoff_location_id|trip_distance|pickup_time|day_of_week|total_amount|pickup_location_id_idx|pickup_location_id_onehot|dropoff_location_id_idx|dropoff_location_id_onehot|day_of_week_idx|day_of_week_onehot|pickup_time_idx|pickup_time_onehot|passenger_count_vector|passenger_count_scaled|trip_distance_vector|trip_distance_scaled|      feature_vector|        prediction|\n",
      "+---------------+------------------+-------------------+-------------+-----------+-----------+------------+----------------------+-------------------------+-----------------------+--------------------------+---------------+------------------+---------------+------------------+----------------------+----------------------+--------------------+--------------------+--------------------+------------------+\n",
      "|              0|                 4|                106|          5.8|         20|  Wednesday|        31.3|                  62.0|         (263,[62],[1.0])|                  127.0|         (261,[127],[1.0])|            2.0|     (7,[2],[1.0])|           10.0|   (24,[10],[1.0])|                 [0.0]|                 [0.0]|               [5.8]|[1.5192839160705178]|(557,[62,390,526,...|29.695237394504943|\n",
      "|              0|                 4|                141|          3.1|         20|     Friday|       18.95|                  62.0|         (263,[62],[1.0])|                    2.0|           (261,[2],[1.0])|            0.0|     (7,[0],[1.0])|           10.0|   (24,[10],[1.0])|                 [0.0]|                 [0.0]|               [3.1]|[0.8120310585894147]|(557,[62,265,524,...| 18.27322682893683|\n",
      "|              0|                 4|                234|          1.1|         10|     Friday|       14.15|                  62.0|         (263,[62],[1.0])|                   12.0|          (261,[12],[1.0])|            0.0|     (7,[0],[1.0])|            9.0|    (24,[9],[1.0])|                 [0.0]|                 [0.0]|               [1.1]|[0.28814005304785...|(557,[62,275,524,...|13.075531084409807|\n",
      "|              0|                 7|                145|          1.3|         21|     Sunday|         7.3|                  63.0|         (263,[63],[1.0])|                   60.0|          (261,[60],[1.0])|            6.0|     (7,[6],[1.0])|           13.0|   (24,[13],[1.0])|                 [0.0]|                 [0.0]|               [1.3]|[0.34052915360201...|(557,[63,323,530,...|11.821567845230419|\n",
      "|              0|                 7|                236|          4.1|          7|     Monday|        17.8|                  63.0|         (263,[63],[1.0])|                    0.0|           (261,[0],[1.0])|            5.0|     (7,[5],[1.0])|           15.0|   (24,[15],[1.0])|                 [0.0]|                 [0.0]|               [4.1]|[1.0739765613601935]|(557,[63,263,529,...|17.338825542924866|\n",
      "|              0|                10|                161|         14.2|         16|     Monday|        64.8|                  83.0|         (263,[83],[1.0])|                    3.0|           (261,[3],[1.0])|            5.0|     (7,[5],[1.0])|            4.0|    (24,[4],[1.0])|                 [0.0]|                 [0.0]|              [14.2]|[3.7196261393450607]|(557,[83,266,529,...| 65.09130700124263|\n",
      "|              0|                12|                162|          5.8|         21|   Saturday|       26.75|                  71.0|         (263,[71],[1.0])|                    8.0|           (261,[8],[1.0])|            4.0|     (7,[4],[1.0])|           13.0|   (24,[13],[1.0])|                 [0.0]|                 [0.0]|               [5.8]|[1.5192839160705178]|(557,[71,271,528,...|24.784401761710452|\n",
      "|              0|                12|                164|          5.5|         14|     Sunday|        23.8|                  71.0|         (263,[71],[1.0])|                   20.0|          (261,[20],[1.0])|            6.0|     (7,[6],[1.0])|            3.0|    (24,[3],[1.0])|                 [0.0]|                 [0.0]|               [5.5]|[1.4407002652392842]|(557,[71,283,530,...|  24.2408930880204|\n",
      "|              0|                12|                265|          6.9|         20|  Wednesday|       84.35|                  71.0|         (263,[71],[1.0])|                   59.0|          (261,[59],[1.0])|            2.0|     (7,[2],[1.0])|           10.0|   (24,[10],[1.0])|                 [0.0]|                 [0.0]|               [6.9]|[1.8074239691183747]|(557,[71,322,526,...| 50.88649451912192|\n",
      "|              0|                13|                  4|          4.1|         16|     Friday|       20.75|                  47.0|         (263,[47],[1.0])|                   49.0|          (261,[49],[1.0])|            0.0|     (7,[0],[1.0])|            4.0|    (24,[4],[1.0])|                 [0.0]|                 [0.0]|               [4.1]|[1.0739765613601935]|(557,[47,312,524,...| 23.05012761714883|\n",
      "|              0|                13|                 40|          3.4|         18|     Friday|        28.6|                  47.0|         (263,[47],[1.0])|                   89.0|          (261,[89],[1.0])|            0.0|     (7,[0],[1.0])|            0.0|    (24,[0],[1.0])|                 [0.0]|                 [0.0]|               [3.4]|[0.8906147094206484]|(557,[47,352,524,...| 23.64214838270908|\n",
      "|              0|                13|                 40|          4.9|         21|   Thursday|       27.85|                  47.0|         (263,[47],[1.0])|                   89.0|          (261,[89],[1.0])|            1.0|     (7,[1],[1.0])|           13.0|   (24,[13],[1.0])|                 [0.0]|                 [0.0]|               [4.9]| [1.283532963576817]|(557,[47,352,525,...|26.699218757385594|\n",
      "|              0|                13|                 48|          3.5|         13|     Monday|       21.35|                  47.0|         (263,[47],[1.0])|                   10.0|          (261,[10],[1.0])|            5.0|     (7,[5],[1.0])|            5.0|    (24,[5],[1.0])|                 [0.0]|                 [0.0]|               [3.5]|[0.9168092596977263]|(557,[47,273,529,...|19.307052835488562|\n",
      "|              0|                13|                 50|          3.9|         19|  Wednesday|       21.35|                  47.0|         (263,[47],[1.0])|                   35.0|          (261,[35],[1.0])|            2.0|     (7,[2],[1.0])|            7.0|    (24,[7],[1.0])|                 [0.0]|                 [0.0]|               [3.9]|[1.0215874608060378]|(557,[47,298,526,...| 21.28721768903729|\n",
      "|              0|                13|                 53|         17.7|         15|   Thursday|        54.8|                  47.0|         (263,[47],[1.0])|                  196.0|         (261,[196],[1.0])|            1.0|     (7,[1],[1.0])|            1.0|    (24,[1],[1.0])|                 [0.0]|                 [0.0]|              [17.7]| [4.636435399042787]|(557,[47,459,525,...|53.176639434299545|\n",
      "|              0|                13|                 68|          3.2|         10|   Thursday|        17.5|                  47.0|         (263,[47],[1.0])|                   15.0|          (261,[15],[1.0])|            1.0|     (7,[1],[1.0])|            9.0|    (24,[9],[1.0])|                 [0.0]|                 [0.0]|               [3.2]|[0.8382256088664927]|(557,[47,278,525,...|19.200031743879332|\n",
      "|              0|                13|                 87|          1.4|         15|     Monday|        11.8|                  47.0|         (263,[47],[1.0])|                   46.0|          (261,[46],[1.0])|            5.0|     (7,[5],[1.0])|            1.0|    (24,[1],[1.0])|                 [0.0]|                 [0.0]|               [1.4]|[0.3667237038790905]|(557,[47,309,529,...|15.606472236828996|\n",
      "|              0|                13|                 90|          2.7|         13|     Friday|        15.3|                  47.0|         (263,[47],[1.0])|                   28.0|          (261,[28],[1.0])|            0.0|     (7,[0],[1.0])|            5.0|    (24,[5],[1.0])|                 [0.0]|                 [0.0]|               [2.7]|[0.7072528574811032]|(557,[47,291,524,...|17.740321897033688|\n",
      "|              0|                13|                 90|          3.1|         18|   Saturday|        17.6|                  47.0|         (263,[47],[1.0])|                   28.0|          (261,[28],[1.0])|            4.0|     (7,[4],[1.0])|            0.0|    (24,[0],[1.0])|                 [0.0]|                 [0.0]|               [3.1]|[0.8120310585894147]|(557,[47,291,528,...|18.769166742365925|\n",
      "|              0|                13|                 90|          3.4|          8|   Thursday|        17.3|                  47.0|         (263,[47],[1.0])|                   28.0|          (261,[28],[1.0])|            1.0|     (7,[1],[1.0])|           12.0|   (24,[12],[1.0])|                 [0.0]|                 [0.0]|               [3.4]|[0.8906147094206484]|(557,[47,291,525,...|19.355316453024557|\n",
      "+---------------+------------------+-------------------+-------------+-----------+-----------+------------+----------------------+-------------------------+-----------------------+--------------------------+---------------+------------------+---------------+------------------+----------------------+----------------------+--------------------+--------------------+--------------------+------------------+\n",
      "only showing top 20 rows\n",
      "\n"
     ]
    },
    {
     "name": "stderr",
     "output_type": "stream",
     "text": [
      "                                                                                \r"
     ]
    }
   ],
   "source": [
    "predictions.show()"
   ],
   "metadata": {
    "collapsed": false,
    "pycharm": {
     "name": "#%%\n"
    }
   }
  },
  {
   "cell_type": "code",
   "execution_count": 21,
   "outputs": [
    {
     "name": "stdout",
     "output_type": "stream",
     "text": [
      "RMSE :  5.83898017277841\n",
      "r2 :  0.798241969844171\n"
     ]
    }
   ],
   "source": [
    "# 성능평가\n",
    "print(\"RMSE : \", model.summary.rootMeanSquaredError)\n",
    "print(\"r2 : \", model.summary.r2)"
   ],
   "metadata": {
    "collapsed": false,
    "pycharm": {
     "name": "#%%\n"
    }
   }
  },
  {
   "cell_type": "code",
   "execution_count": 27,
   "outputs": [
    {
     "name": "stdout",
     "output_type": "stream",
     "text": [
      "+-------------+-----------+------------+------------------+\n",
      "|trip_distance|day_of_week|total_amount|        prediction|\n",
      "+-------------+-----------+------------+------------------+\n",
      "|          5.8|  Wednesday|        31.3|29.695237394504943|\n",
      "|          3.1|     Friday|       18.95| 18.27322682893683|\n",
      "|          1.1|     Friday|       14.15|13.075531084409807|\n",
      "|          1.3|     Sunday|         7.3|11.821567845230419|\n",
      "|          4.1|     Monday|        17.8|17.338825542924866|\n",
      "|         14.2|     Monday|        64.8| 65.09130700124263|\n",
      "|          5.8|   Saturday|       26.75|24.784401761710452|\n",
      "|          5.5|     Sunday|        23.8|  24.2408930880204|\n",
      "|          6.9|  Wednesday|       84.35| 50.88649451912192|\n",
      "|          4.1|     Friday|       20.75| 23.05012761714883|\n",
      "|          3.4|     Friday|        28.6| 23.64214838270908|\n",
      "|          4.9|   Thursday|       27.85|26.699218757385594|\n",
      "|          3.5|     Monday|       21.35|19.307052835488562|\n",
      "|          3.9|  Wednesday|       21.35| 21.28721768903729|\n",
      "|         17.7|   Thursday|        54.8|53.176639434299545|\n",
      "|          3.2|   Thursday|        17.5|19.200031743879332|\n",
      "|          1.4|     Monday|        11.8|15.606472236828996|\n",
      "|          2.7|     Friday|        15.3|17.740321897033688|\n",
      "|          3.1|   Saturday|        17.6|18.769166742365925|\n",
      "|          3.4|   Thursday|        17.3|19.355316453024557|\n",
      "+-------------+-----------+------------+------------------+\n",
      "only showing top 20 rows\n",
      "\n"
     ]
    }
   ],
   "source": [
    "predictions.select([\"trip_distance\", \"day_of_week\", \"total_amount\", \"prediction\"]).show()"
   ],
   "metadata": {
    "collapsed": false,
    "pycharm": {
     "name": "#%%\n"
    }
   }
  },
  {
   "cell_type": "markdown",
   "source": [
    "## HyperParameterTuning"
   ],
   "metadata": {
    "collapsed": false
   }
  },
  {
   "cell_type": "code",
   "execution_count": 22,
   "outputs": [],
   "source": [
    "from pyspark.ml import Pipeline\n",
    "from pyspark.ml.regression import LinearRegression\n",
    "from pyspark.ml.tuning import ParamGridBuilder, CrossValidator\n",
    "from pyspark.ml.evaluation import RegressionEvaluator\n",
    "\n",
    "lr = LinearRegression(\n",
    "    maxIter=50,\n",
    "    solver=\"normal\",\n",
    "    labelCol=\"total_amount\",\n",
    "    featuresCol=\"feature_vector\"\n",
    ")\n",
    "\n",
    "cv_stages = stages + [lr]"
   ],
   "metadata": {
    "collapsed": false,
    "pycharm": {
     "name": "#%%\n"
    }
   }
  },
  {
   "cell_type": "code",
   "execution_count": 23,
   "outputs": [],
   "source": [
    "cv_pipeline = Pipeline(stages=cv_stages)"
   ],
   "metadata": {
    "collapsed": false,
    "pycharm": {
     "name": "#%%\n"
    }
   }
  },
  {
   "cell_type": "code",
   "execution_count": 24,
   "outputs": [],
   "source": [
    "param_grid = ParamGridBuilder()\\\n",
    "                .addGrid(lr.elasticNetParam, [0.1, 0.2, 0.3, 0.4, 0.5])\\\n",
    "                .addGrid(lr.regParam, [0.01, 0.02, 0.03, 0.04, 0.05])\\\n",
    "                .build()"
   ],
   "metadata": {
    "collapsed": false,
    "pycharm": {
     "name": "#%%\n"
    }
   }
  },
  {
   "cell_type": "code",
   "execution_count": 25,
   "outputs": [],
   "source": [
    "cross_val = CrossValidator(\n",
    "    estimator=cv_pipeline,\n",
    "    estimatorParamMaps=param_grid,\n",
    "    evaluator=RegressionEvaluator(labelCol=\"total_amount\"),\n",
    "    numFolds=5\n",
    ")"
   ],
   "metadata": {
    "collapsed": false,
    "pycharm": {
     "name": "#%%\n"
    }
   }
  },
  {
   "cell_type": "code",
   "execution_count": null,
   "outputs": [],
   "source": [
    "cv_model = cross_val.fit(toy_df)"
   ],
   "metadata": {
    "collapsed": false,
    "pycharm": {
     "name": "#%%\n"
    }
   }
  },
  {
   "cell_type": "code",
   "execution_count": null,
   "outputs": [],
   "source": [],
   "metadata": {
    "collapsed": false,
    "pycharm": {
     "name": "#%%\n"
    }
   }
  }
 ],
 "metadata": {
  "kernelspec": {
   "display_name": "Python 3",
   "language": "python",
   "name": "python3"
  },
  "language_info": {
   "codemirror_mode": {
    "name": "ipython",
    "version": 2
   },
   "file_extension": ".py",
   "mimetype": "text/x-python",
   "name": "python",
   "nbconvert_exporter": "python",
   "pygments_lexer": "ipython2",
   "version": "2.7.6"
  }
 },
 "nbformat": 4,
 "nbformat_minor": 0
}