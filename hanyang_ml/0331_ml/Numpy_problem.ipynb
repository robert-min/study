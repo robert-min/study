{
 "cells": [
  {
   "cell_type": "code",
   "execution_count": 12,
   "metadata": {},
   "outputs": [
    {
     "data": {
      "text/plain": "<Figure size 432x288 with 1 Axes>",
      "image/png": "[encoded data removed]"
     },
     "metadata": {
      "needs_background": "light"
     },
     "output_type": "display_data"
    }
   ],
   "source": [
    "import numpy as np\n",
    "import matplotlib.pyplot as plt\n",
    "%matplotlib inline\n",
    "\n",
    "def Activation(func, x):\n",
    "    if(func == 'Relu'):\n",
    "        return Relu(x)\n",
    "    else :\n",
    "        return Sigmoid(x)\n",
    "        \n",
    "def Relu(x):\n",
    "     ######################################\n",
    "    # TODO :  Relu 함수를 구현하시오.  \n",
    "    #         [Input]\n",
    "    #         - x : (list or np.array) \n",
    "    #  \n",
    "    #         [output]\n",
    "    #         - y : (list or np.array) 함수의 결과\n",
    "    # ========== EDIT HERE ==========\n",
    "    y = list()\n",
    "    for i in x:\n",
    "        if i <= 0:\n",
    "            temp = 0\n",
    "            y.append(temp)\n",
    "        else:\n",
    "            temp = i\n",
    "            y.append(temp)\n",
    "\n",
    "    # y = np.maximum(0, x) <- numpy를 쓰는 이유!!\n",
    "    # ===============================\n",
    "    return np.array(y)\n",
    "\n",
    "def Sigmoid(x):\n",
    "    ######################################\n",
    "       # TODO :  Sigmoid 함수를 구현하시오.\n",
    "    #         [Input]\n",
    "    #         - x : (list or np.array) \n",
    "    #  \n",
    "    #         [output]\n",
    "    #         - y : (list or np.array) 함수의 결과\n",
    "    # ========== EDIT HERE ==========\n",
    "    y = list()\n",
    "    for i in x:\n",
    "        temp = 1 / (1 + np.exp(-i))\n",
    "        y.append(temp)\n",
    "    # ===============================\n",
    "    return np.array(y)\n",
    "\n",
    "# ========== You can setting ==========\n",
    "FUNCTION_NAME = 'Sigmoid'\n",
    "# =====================================\n",
    "\n",
    "assert FUNCTION_NAME in ['Sigmoid', 'Relu',]\n",
    "if __name__ == '__main__':\n",
    "    x = np.array([i for i in range(-6,7)])\n",
    "    y = Activation(FUNCTION_NAME,x)\n",
    "\n",
    "    plt.plot(x,y)\n",
    "    plt.show()"
   ]
  },
  {
   "cell_type": "code",
   "execution_count": 9,
   "outputs": [
    {
     "data": {
      "text/plain": "list"
     },
     "execution_count": 9,
     "metadata": {},
     "output_type": "execute_result"
    }
   ],
   "source": [
    "y = []\n",
    "for i in x:\n",
    "    y.append(i)\n",
    "type(y)"
   ],
   "metadata": {
    "collapsed": false,
    "pycharm": {
     "name": "#%%\n"
    }
   }
  },
  {
   "cell_type": "code",
   "execution_count": null,
   "outputs": [],
   "source": [],
   "metadata": {
    "collapsed": false,
    "pycharm": {
     "name": "#%%\n"
    }
   }
  }
 ],
 "metadata": {
  "kernelspec": {
   "display_name": "Python 3",
   "language": "python",
   "name": "python3"
  },
  "language_info": {
   "codemirror_mode": {
    "name": "ipython",
    "version": 3
   },
   "file_extension": ".py",
   "mimetype": "text/x-python",
   "name": "python",
   "nbconvert_exporter": "python",
   "pygments_lexer": "ipython3",
   "version": "3.6.10"
  }
 },
 "nbformat": 4,
 "nbformat_minor": 2
}