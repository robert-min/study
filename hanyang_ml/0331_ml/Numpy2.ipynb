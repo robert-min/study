{
 "cells": [
  {
   "cell_type": "code",
   "execution_count": null,
   "metadata": {},
   "outputs": [],
   "source": [
    "import numpy as np\n",
    "\n",
    "\n",
    "def make_cards(array):\n",
    "    ######################################\n",
    "    # TODO :  get_winner 함수를 구현하시오.  \n",
    "    #         [Input]\n",
    "    #         - array : (N,) 1-d array  \n",
    "    #  \n",
    "    #         [output]\n",
    "    #         - cards :  (number of people=5, 5) reshaped of array \n",
    "    # ========== EDIT HERE ==========\n",
    "\n",
    "    # ===============================\n",
    "    return cards\n",
    "\n",
    "def get_winner(cards): \n",
    "    ######################################\n",
    "    # TODO :  get_winner 함수를 구현하시오.  \n",
    "    #         [Input]\n",
    "    #         - cards : (number of people=5, 5)  \n",
    "    #  \n",
    "    #         [output]\n",
    "    #         - winner :  합이 가장 큰 사람 (index가 0인 사람이 첫번째 사람)\n",
    "    # ========== EDIT HERE ==========\n",
    "\n",
    "    # ===============================\n",
    "    return winner\n",
    "\n",
    "if __name__ == '__main__':\n",
    "    # ========== EDIT HERE ==========\n",
    "    # TODO : make random array (25,1)\n",
    "    array = np.arange(1,26)\n",
    "    # ===============================\n",
    "    cards = make_cards(array)\n",
    "    winner = get_winner(cards)\n",
    "\n",
    "    print(winner)\n",
    "\n"
   ]
  }
 ],
 "metadata": {
  "kernelspec": {
   "display_name": "Python 3",
   "language": "python",
   "name": "python3"
  },
  "language_info": {
   "codemirror_mode": {
    "name": "ipython",
    "version": 3
   },
   "file_extension": ".py",
   "mimetype": "text/x-python",
   "name": "python",
   "nbconvert_exporter": "python",
   "pygments_lexer": "ipython3",
   "version": "3.6.10"
  }
 },
 "nbformat": 4,
 "nbformat_minor": 2
}
