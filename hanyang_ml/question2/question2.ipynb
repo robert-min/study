{
 "cells": [
  {
   "cell_type": "markdown",
   "source": [
    "# Question2\n",
    "- 주제 : UnivClass_Alfredo 알프레도 대학 교실의 요일과 에너지의 상관관계를 파악 후 평일 중 공휴일을 찾아보자\n",
    "- 사용 데이터 : All_buildings_meta_data.csv, weather0.csv"
   ],
   "metadata": {
    "collapsed": false
   }
  },
  {
   "cell_type": "markdown",
   "source": [
    "## 데이터 확인"
   ],
   "metadata": {
    "collapsed": false
   }
  },
  {
   "cell_type": "code",
   "execution_count": 33,
   "metadata": {
    "collapsed": true
   },
   "outputs": [
    {
     "data": {
      "text/plain": "                     uid         dataend       datastart  energystarscore  \\\n0      PrimClass_Everett  31/12/12 23:00  01/01/12 00:00              NaN   \n1     UnivClass_Clifford  31/12/15 23:00  01/01/15 00:00              NaN   \n2       Office_Elizabeth  31/12/12 23:00  01/01/12 00:00              NaN   \n3           Office_Ellie  31/12/12 23:00  01/01/12 00:00              NaN   \n4    PrimClass_Elisabeth  31/12/12 23:00  01/01/12 00:00              NaN   \n..                   ...             ...             ...              ...   \n502          Office_Lane  30/11/15 23:00  01/12/14 00:00              NaN   \n503       Office_Cameron  31/12/15 23:00  01/01/15 00:00              NaN   \n504          UnivLab_Lea  30/11/15 23:00  01/12/14 00:00              NaN   \n505       UnivLab_Carlos  31/12/15 23:00  01/01/15 00:00              NaN   \n506        UnivLab_Aoife  31/12/15 23:00  01/01/15 00:00              NaN   \n\n      heatingtype             industry mainheatingtype  numberoffloors  \\\n0             NaN            Education             NaN             NaN   \n1             NaN            Education             NaN             NaN   \n2             NaN  Commercial Property             NaN             NaN   \n3             NaN  Commercial Property             NaN             NaN   \n4             NaN            Education             NaN             NaN   \n..            ...                  ...             ...             ...   \n502  Heat network            Education    Heat Network             8.0   \n503           NaN            Education             NaN             NaN   \n504           Gas            Education             Gas             6.0   \n505           NaN            Education             NaN             NaN   \n506           NaN            Education             NaN             NaN   \n\n     occupants            primaryspaceusage rating         sqft           sqm  \\\n0          NaN  Primary/Secondary Classroom    NaN  105530.0000   9804.053590   \n1          NaN            College Classroom    NaN   56969.0000   5292.591007   \n2          NaN                       Office    NaN  294651.0000  27373.961850   \n3          NaN                       Office    NaN  496517.0000  46127.918850   \n4          NaN  Primary/Secondary Classroom    NaN  233062.0000  21652.158990   \n..         ...                          ...    ...          ...           ...   \n502        NaN                       Office    NaN   34455.2439   3201.000000   \n503        NaN                       Office    NaN   53303.0000   4952.008609   \n504        NaN           College Laboratory    NaN   16802.4479   1561.000000   \n505        NaN           College Laboratory    NaN   30143.0000   2800.375129   \n506        NaN           College Laboratory    NaN  261188.0000  24265.148760   \n\n                  subindustry             timezone yearbuilt   nickname  \\\n0    Primary/Secondary School     America/New_York       NaN    Everett   \n1          College/University     America/New_York      1967   Clifford   \n2      Commercial Real Estate  America/Los_Angeles       NaN  Elizabeth   \n3     Bank/Financial Services  America/Los_Angeles       NaN      Ellie   \n4    Primary/Secondary School     America/New_York       NaN  Elisabeth   \n..                        ...                  ...       ...        ...   \n502        College/University        Europe/London      1907       Lane   \n503        College/University     America/New_York      1981    Cameron   \n504        College/University        Europe/London      1995        Lea   \n505        College/University     America/New_York      1951     Carlos   \n506        College/University      America/Phoenix       NaN      Aoife   \n\n    primaryspaceuse_abbrev newweatherfilename  \n0                PrimClass      weather12.csv  \n1                UnivClass       weather2.csv  \n2                   Office      weather22.csv  \n3                   Office      weather28.csv  \n4                PrimClass      weather23.csv  \n..                     ...                ...  \n502                 Office       weather5.csv  \n503                 Office       weather2.csv  \n504                UnivLab       weather5.csv  \n505                UnivLab       weather2.csv  \n506                UnivLab       weather0.csv  \n\n[507 rows x 19 columns]",
      "text/html": "<div>\n<style scoped>\n    .dataframe tbody tr th:only-of-type {\n        vertical-align: middle;\n    }\n\n    .dataframe tbody tr th {\n        vertical-align: top;\n    }\n\n    .dataframe thead th {\n        text-align: right;\n    }\n</style>\n<table border=\"1\" class=\"dataframe\">\n  <thead>\n    <tr style=\"text-align: right;\">\n      <th></th>\n      <th>uid</th>\n      <th>dataend</th>\n      <th>datastart</th>\n      <th>energystarscore</th>\n      <th>heatingtype</th>\n      <th>industry</th>\n      <th>mainheatingtype</th>\n      <th>numberoffloors</th>\n      <th>occupants</th>\n      <th>primaryspaceusage</th>\n      <th>rating</th>\n      <th>sqft</th>\n      <th>sqm</th>\n      <th>subindustry</th>\n      <th>timezone</th>\n      <th>yearbuilt</th>\n      <th>nickname</th>\n      <th>primaryspaceuse_abbrev</th>\n      <th>newweatherfilename</th>\n    </tr>\n  </thead>\n  <tbody>\n    <tr>\n      <th>0</th>\n      <td>PrimClass_Everett</td>\n      <td>31/12/12 23:00</td>\n      <td>01/01/12 00:00</td>\n      <td>NaN</td>\n      <td>NaN</td>\n      <td>Education</td>\n      <td>NaN</td>\n      <td>NaN</td>\n      <td>NaN</td>\n      <td>Primary/Secondary Classroom</td>\n      <td>NaN</td>\n      <td>105530.0000</td>\n      <td>9804.053590</td>\n      <td>Primary/Secondary School</td>\n      <td>America/New_York</td>\n      <td>NaN</td>\n      <td>Everett</td>\n      <td>PrimClass</td>\n      <td>weather12.csv</td>\n    </tr>\n    <tr>\n      <th>1</th>\n      <td>UnivClass_Clifford</td>\n      <td>31/12/15 23:00</td>\n      <td>01/01/15 00:00</td>\n      <td>NaN</td>\n      <td>NaN</td>\n      <td>Education</td>\n      <td>NaN</td>\n      <td>NaN</td>\n      <td>NaN</td>\n      <td>College Classroom</td>\n      <td>NaN</td>\n      <td>56969.0000</td>\n      <td>5292.591007</td>\n      <td>College/University</td>\n      <td>America/New_York</td>\n      <td>1967</td>\n      <td>Clifford</td>\n      <td>UnivClass</td>\n      <td>weather2.csv</td>\n    </tr>\n    <tr>\n      <th>2</th>\n      <td>Office_Elizabeth</td>\n      <td>31/12/12 23:00</td>\n      <td>01/01/12 00:00</td>\n      <td>NaN</td>\n      <td>NaN</td>\n      <td>Commercial Property</td>\n      <td>NaN</td>\n      <td>NaN</td>\n      <td>NaN</td>\n      <td>Office</td>\n      <td>NaN</td>\n      <td>294651.0000</td>\n      <td>27373.961850</td>\n      <td>Commercial Real Estate</td>\n      <td>America/Los_Angeles</td>\n      <td>NaN</td>\n      <td>Elizabeth</td>\n      <td>Office</td>\n      <td>weather22.csv</td>\n    </tr>\n    <tr>\n      <th>3</th>\n      <td>Office_Ellie</td>\n      <td>31/12/12 23:00</td>\n      <td>01/01/12 00:00</td>\n      <td>NaN</td>\n      <td>NaN</td>\n      <td>Commercial Property</td>\n      <td>NaN</td>\n      <td>NaN</td>\n      <td>NaN</td>\n      <td>Office</td>\n      <td>NaN</td>\n      <td>496517.0000</td>\n      <td>46127.918850</td>\n      <td>Bank/Financial Services</td>\n      <td>America/Los_Angeles</td>\n      <td>NaN</td>\n      <td>Ellie</td>\n      <td>Office</td>\n      <td>weather28.csv</td>\n    </tr>\n    <tr>\n      <th>4</th>\n      <td>PrimClass_Elisabeth</td>\n      <td>31/12/12 23:00</td>\n      <td>01/01/12 00:00</td>\n      <td>NaN</td>\n      <td>NaN</td>\n      <td>Education</td>\n      <td>NaN</td>\n      <td>NaN</td>\n      <td>NaN</td>\n      <td>Primary/Secondary Classroom</td>\n      <td>NaN</td>\n      <td>233062.0000</td>\n      <td>21652.158990</td>\n      <td>Primary/Secondary School</td>\n      <td>America/New_York</td>\n      <td>NaN</td>\n      <td>Elisabeth</td>\n      <td>PrimClass</td>\n      <td>weather23.csv</td>\n    </tr>\n    <tr>\n      <th>...</th>\n      <td>...</td>\n      <td>...</td>\n      <td>...</td>\n      <td>...</td>\n      <td>...</td>\n      <td>...</td>\n      <td>...</td>\n      <td>...</td>\n      <td>...</td>\n      <td>...</td>\n      <td>...</td>\n      <td>...</td>\n      <td>...</td>\n      <td>...</td>\n      <td>...</td>\n      <td>...</td>\n      <td>...</td>\n      <td>...</td>\n      <td>...</td>\n    </tr>\n    <tr>\n      <th>502</th>\n      <td>Office_Lane</td>\n      <td>30/11/15 23:00</td>\n      <td>01/12/14 00:00</td>\n      <td>NaN</td>\n      <td>Heat network</td>\n      <td>Education</td>\n      <td>Heat Network</td>\n      <td>8.0</td>\n      <td>NaN</td>\n      <td>Office</td>\n      <td>NaN</td>\n      <td>34455.2439</td>\n      <td>3201.000000</td>\n      <td>College/University</td>\n      <td>Europe/London</td>\n      <td>1907</td>\n      <td>Lane</td>\n      <td>Office</td>\n      <td>weather5.csv</td>\n    </tr>\n    <tr>\n      <th>503</th>\n      <td>Office_Cameron</td>\n      <td>31/12/15 23:00</td>\n      <td>01/01/15 00:00</td>\n      <td>NaN</td>\n      <td>NaN</td>\n      <td>Education</td>\n      <td>NaN</td>\n      <td>NaN</td>\n      <td>NaN</td>\n      <td>Office</td>\n      <td>NaN</td>\n      <td>53303.0000</td>\n      <td>4952.008609</td>\n      <td>College/University</td>\n      <td>America/New_York</td>\n      <td>1981</td>\n      <td>Cameron</td>\n      <td>Office</td>\n      <td>weather2.csv</td>\n    </tr>\n    <tr>\n      <th>504</th>\n      <td>UnivLab_Lea</td>\n      <td>30/11/15 23:00</td>\n      <td>01/12/14 00:00</td>\n      <td>NaN</td>\n      <td>Gas</td>\n      <td>Education</td>\n      <td>Gas</td>\n      <td>6.0</td>\n      <td>NaN</td>\n      <td>College Laboratory</td>\n      <td>NaN</td>\n      <td>16802.4479</td>\n      <td>1561.000000</td>\n      <td>College/University</td>\n      <td>Europe/London</td>\n      <td>1995</td>\n      <td>Lea</td>\n      <td>UnivLab</td>\n      <td>weather5.csv</td>\n    </tr>\n    <tr>\n      <th>505</th>\n      <td>UnivLab_Carlos</td>\n      <td>31/12/15 23:00</td>\n      <td>01/01/15 00:00</td>\n      <td>NaN</td>\n      <td>NaN</td>\n      <td>Education</td>\n      <td>NaN</td>\n      <td>NaN</td>\n      <td>NaN</td>\n      <td>College Laboratory</td>\n      <td>NaN</td>\n      <td>30143.0000</td>\n      <td>2800.375129</td>\n      <td>College/University</td>\n      <td>America/New_York</td>\n      <td>1951</td>\n      <td>Carlos</td>\n      <td>UnivLab</td>\n      <td>weather2.csv</td>\n    </tr>\n    <tr>\n      <th>506</th>\n      <td>UnivLab_Aoife</td>\n      <td>31/12/15 23:00</td>\n      <td>01/01/15 00:00</td>\n      <td>NaN</td>\n      <td>NaN</td>\n      <td>Education</td>\n      <td>NaN</td>\n      <td>NaN</td>\n      <td>NaN</td>\n      <td>College Laboratory</td>\n      <td>NaN</td>\n      <td>261188.0000</td>\n      <td>24265.148760</td>\n      <td>College/University</td>\n      <td>America/Phoenix</td>\n      <td>NaN</td>\n      <td>Aoife</td>\n      <td>UnivLab</td>\n      <td>weather0.csv</td>\n    </tr>\n  </tbody>\n</table>\n<p>507 rows × 19 columns</p>\n</div>"
     },
     "execution_count": 33,
     "metadata": {},
     "output_type": "execute_result"
    }
   ],
   "source": [
    "import pandas as pd\n",
    "\n",
    "meta_data = pd.read_csv(\"./data/all_buildings_meta_data.csv\")\n",
    "meta_data"
   ]
  },
  {
   "cell_type": "markdown",
   "source": [
    "해당 데이터 중 UnivClass_Alfredo의 날씨 데이터 명 확인 -> weather0.csv 사용"
   ],
   "metadata": {
    "collapsed": false
   }
  },
  {
   "cell_type": "code",
   "execution_count": 34,
   "outputs": [
    {
     "data": {
      "text/plain": "                   uid         dataend       datastart  energystarscore  \\\n346  UnivClass_Alfredo  31/12/15 23:00  01/01/15 00:00              NaN   \n\n    heatingtype   industry mainheatingtype  numberoffloors  occupants  \\\n346         NaN  Education             NaN             NaN        NaN   \n\n     primaryspaceusage rating     sqft          sqm         subindustry  \\\n346  College Classroom    NaN  90903.0  8445.161409  College/University   \n\n            timezone yearbuilt nickname primaryspaceuse_abbrev  \\\n346  America/Phoenix       NaN  Alfredo              UnivClass   \n\n    newweatherfilename  \n346       weather0.csv  ",
      "text/html": "<div>\n<style scoped>\n    .dataframe tbody tr th:only-of-type {\n        vertical-align: middle;\n    }\n\n    .dataframe tbody tr th {\n        vertical-align: top;\n    }\n\n    .dataframe thead th {\n        text-align: right;\n    }\n</style>\n<table border=\"1\" class=\"dataframe\">\n  <thead>\n    <tr style=\"text-align: right;\">\n      <th></th>\n      <th>uid</th>\n      <th>dataend</th>\n      <th>datastart</th>\n      <th>energystarscore</th>\n      <th>heatingtype</th>\n      <th>industry</th>\n      <th>mainheatingtype</th>\n      <th>numberoffloors</th>\n      <th>occupants</th>\n      <th>primaryspaceusage</th>\n      <th>rating</th>\n      <th>sqft</th>\n      <th>sqm</th>\n      <th>subindustry</th>\n      <th>timezone</th>\n      <th>yearbuilt</th>\n      <th>nickname</th>\n      <th>primaryspaceuse_abbrev</th>\n      <th>newweatherfilename</th>\n    </tr>\n  </thead>\n  <tbody>\n    <tr>\n      <th>346</th>\n      <td>UnivClass_Alfredo</td>\n      <td>31/12/15 23:00</td>\n      <td>01/01/15 00:00</td>\n      <td>NaN</td>\n      <td>NaN</td>\n      <td>Education</td>\n      <td>NaN</td>\n      <td>NaN</td>\n      <td>NaN</td>\n      <td>College Classroom</td>\n      <td>NaN</td>\n      <td>90903.0</td>\n      <td>8445.161409</td>\n      <td>College/University</td>\n      <td>America/Phoenix</td>\n      <td>NaN</td>\n      <td>Alfredo</td>\n      <td>UnivClass</td>\n      <td>weather0.csv</td>\n    </tr>\n  </tbody>\n</table>\n</div>"
     },
     "execution_count": 34,
     "metadata": {},
     "output_type": "execute_result"
    }
   ],
   "source": [
    "meta_data[meta_data[\"uid\"] == \"UnivClass_Alfredo\"]"
   ],
   "metadata": {
    "collapsed": false,
    "pycharm": {
     "name": "#%%\n"
    }
   }
  },
  {
   "cell_type": "markdown",
   "source": [
    "weather0.csv 데이터 확인"
   ],
   "metadata": {
    "collapsed": false
   }
  },
  {
   "cell_type": "code",
   "execution_count": 35,
   "outputs": [
    {
     "data": {
      "text/plain": "                timestamp   TimeMST  TemperatureC  Dew PointC  Humidity  \\\n0     2015-01-01 00:51:00  12:51 AM           2.8        -0.6      79.0   \n1     2015-01-01 01:47:00   1:47 AM           3.0        -1.0      75.0   \n2     2015-01-01 01:51:00   1:51 AM           2.8        -0.6      79.0   \n3     2015-01-01 02:51:00   2:51 AM           2.8        -1.1      76.0   \n4     2015-01-01 03:51:00   3:51 AM           2.2        -0.6      82.0   \n...                   ...       ...           ...         ...       ...   \n8994  2015-12-31 19:51:00   7:51 PM          12.2        -6.1      28.0   \n8995  2015-12-31 20:51:00   8:51 PM          11.7        -6.7      27.0   \n8996  2015-12-31 21:51:00   9:51 PM          10.0        -6.7      31.0   \n8997  2015-12-31 22:51:00  10:51 PM           9.4        -6.1      33.0   \n8998  2015-12-31 23:51:00  11:51 PM           7.2        -5.6      40.0   \n\n      Sea Level PressurehPa  VisibilityKm Wind Direction Wind SpeedKm/h  \\\n0                    1016.0          16.1            WNW            9.3   \n1                    1016.5          16.1            WNW            5.6   \n2                    1016.9          16.1            WNW            7.4   \n3                    1017.2          16.1             NW            5.6   \n4                    1017.5          16.1            ENE            5.6   \n...                     ...           ...            ...            ...   \n8994                 1016.6          16.1           West           11.1   \n8995                 1017.0          16.1           West           11.1   \n8996                 1017.2          16.1           West            5.6   \n8997                 1017.4          16.1           Calm           Calm   \n8998                 1017.3          16.1           Calm           Calm   \n\n     Gust SpeedKm/h  Precipitationmm Events        Conditions  WindDirDegrees  \\\n0                 -              NaN    NaN     Mostly Cloudy             300   \n1                 -              NaN    NaN     Mostly Cloudy             300   \n2                 -              NaN    NaN     Mostly Cloudy             300   \n3                 -              NaN    NaN  Scattered Clouds             320   \n4                 -              NaN    NaN     Partly Cloudy              60   \n...             ...              ...    ...               ...             ...   \n8994              -              NaN    NaN             Clear             280   \n8995              -              NaN    NaN     Partly Cloudy             270   \n8996              -              NaN    NaN             Clear             260   \n8997              -              NaN    NaN             Clear               0   \n8998              -              NaN    NaN             Clear               0   \n\n                  DateUTC<br />          timestamp.1  \n0     2015-01-01 07:51:00<br />  2015-01-01 00:51:00  \n1     2015-01-01 08:47:00<br />  2015-01-01 01:47:00  \n2     2015-01-01 08:51:00<br />  2015-01-01 01:51:00  \n3     2015-01-01 09:51:00<br />  2015-01-01 02:51:00  \n4     2015-01-01 10:51:00<br />  2015-01-01 03:51:00  \n...                         ...                  ...  \n8994  2016-01-01 02:51:00<br />  2015-12-31 19:51:00  \n8995  2016-01-01 03:51:00<br />  2015-12-31 20:51:00  \n8996  2016-01-01 04:51:00<br />  2015-12-31 21:51:00  \n8997  2016-01-01 05:51:00<br />  2015-12-31 22:51:00  \n8998  2016-01-01 06:51:00<br />  2015-12-31 23:51:00  \n\n[8999 rows x 16 columns]",
      "text/html": "<div>\n<style scoped>\n    .dataframe tbody tr th:only-of-type {\n        vertical-align: middle;\n    }\n\n    .dataframe tbody tr th {\n        vertical-align: top;\n    }\n\n    .dataframe thead th {\n        text-align: right;\n    }\n</style>\n<table border=\"1\" class=\"dataframe\">\n  <thead>\n    <tr style=\"text-align: right;\">\n      <th></th>\n      <th>timestamp</th>\n      <th>TimeMST</th>\n      <th>TemperatureC</th>\n      <th>Dew PointC</th>\n      <th>Humidity</th>\n      <th>Sea Level PressurehPa</th>\n      <th>VisibilityKm</th>\n      <th>Wind Direction</th>\n      <th>Wind SpeedKm/h</th>\n      <th>Gust SpeedKm/h</th>\n      <th>Precipitationmm</th>\n      <th>Events</th>\n      <th>Conditions</th>\n      <th>WindDirDegrees</th>\n      <th>DateUTC&lt;br /&gt;</th>\n      <th>timestamp.1</th>\n    </tr>\n  </thead>\n  <tbody>\n    <tr>\n      <th>0</th>\n      <td>2015-01-01 00:51:00</td>\n      <td>12:51 AM</td>\n      <td>2.8</td>\n      <td>-0.6</td>\n      <td>79.0</td>\n      <td>1016.0</td>\n      <td>16.1</td>\n      <td>WNW</td>\n      <td>9.3</td>\n      <td>-</td>\n      <td>NaN</td>\n      <td>NaN</td>\n      <td>Mostly Cloudy</td>\n      <td>300</td>\n      <td>2015-01-01 07:51:00&lt;br /&gt;</td>\n      <td>2015-01-01 00:51:00</td>\n    </tr>\n    <tr>\n      <th>1</th>\n      <td>2015-01-01 01:47:00</td>\n      <td>1:47 AM</td>\n      <td>3.0</td>\n      <td>-1.0</td>\n      <td>75.0</td>\n      <td>1016.5</td>\n      <td>16.1</td>\n      <td>WNW</td>\n      <td>5.6</td>\n      <td>-</td>\n      <td>NaN</td>\n      <td>NaN</td>\n      <td>Mostly Cloudy</td>\n      <td>300</td>\n      <td>2015-01-01 08:47:00&lt;br /&gt;</td>\n      <td>2015-01-01 01:47:00</td>\n    </tr>\n    <tr>\n      <th>2</th>\n      <td>2015-01-01 01:51:00</td>\n      <td>1:51 AM</td>\n      <td>2.8</td>\n      <td>-0.6</td>\n      <td>79.0</td>\n      <td>1016.9</td>\n      <td>16.1</td>\n      <td>WNW</td>\n      <td>7.4</td>\n      <td>-</td>\n      <td>NaN</td>\n      <td>NaN</td>\n      <td>Mostly Cloudy</td>\n      <td>300</td>\n      <td>2015-01-01 08:51:00&lt;br /&gt;</td>\n      <td>2015-01-01 01:51:00</td>\n    </tr>\n    <tr>\n      <th>3</th>\n      <td>2015-01-01 02:51:00</td>\n      <td>2:51 AM</td>\n      <td>2.8</td>\n      <td>-1.1</td>\n      <td>76.0</td>\n      <td>1017.2</td>\n      <td>16.1</td>\n      <td>NW</td>\n      <td>5.6</td>\n      <td>-</td>\n      <td>NaN</td>\n      <td>NaN</td>\n      <td>Scattered Clouds</td>\n      <td>320</td>\n      <td>2015-01-01 09:51:00&lt;br /&gt;</td>\n      <td>2015-01-01 02:51:00</td>\n    </tr>\n    <tr>\n      <th>4</th>\n      <td>2015-01-01 03:51:00</td>\n      <td>3:51 AM</td>\n      <td>2.2</td>\n      <td>-0.6</td>\n      <td>82.0</td>\n      <td>1017.5</td>\n      <td>16.1</td>\n      <td>ENE</td>\n      <td>5.6</td>\n      <td>-</td>\n      <td>NaN</td>\n      <td>NaN</td>\n      <td>Partly Cloudy</td>\n      <td>60</td>\n      <td>2015-01-01 10:51:00&lt;br /&gt;</td>\n      <td>2015-01-01 03:51:00</td>\n    </tr>\n    <tr>\n      <th>...</th>\n      <td>...</td>\n      <td>...</td>\n      <td>...</td>\n      <td>...</td>\n      <td>...</td>\n      <td>...</td>\n      <td>...</td>\n      <td>...</td>\n      <td>...</td>\n      <td>...</td>\n      <td>...</td>\n      <td>...</td>\n      <td>...</td>\n      <td>...</td>\n      <td>...</td>\n      <td>...</td>\n    </tr>\n    <tr>\n      <th>8994</th>\n      <td>2015-12-31 19:51:00</td>\n      <td>7:51 PM</td>\n      <td>12.2</td>\n      <td>-6.1</td>\n      <td>28.0</td>\n      <td>1016.6</td>\n      <td>16.1</td>\n      <td>West</td>\n      <td>11.1</td>\n      <td>-</td>\n      <td>NaN</td>\n      <td>NaN</td>\n      <td>Clear</td>\n      <td>280</td>\n      <td>2016-01-01 02:51:00&lt;br /&gt;</td>\n      <td>2015-12-31 19:51:00</td>\n    </tr>\n    <tr>\n      <th>8995</th>\n      <td>2015-12-31 20:51:00</td>\n      <td>8:51 PM</td>\n      <td>11.7</td>\n      <td>-6.7</td>\n      <td>27.0</td>\n      <td>1017.0</td>\n      <td>16.1</td>\n      <td>West</td>\n      <td>11.1</td>\n      <td>-</td>\n      <td>NaN</td>\n      <td>NaN</td>\n      <td>Partly Cloudy</td>\n      <td>270</td>\n      <td>2016-01-01 03:51:00&lt;br /&gt;</td>\n      <td>2015-12-31 20:51:00</td>\n    </tr>\n    <tr>\n      <th>8996</th>\n      <td>2015-12-31 21:51:00</td>\n      <td>9:51 PM</td>\n      <td>10.0</td>\n      <td>-6.7</td>\n      <td>31.0</td>\n      <td>1017.2</td>\n      <td>16.1</td>\n      <td>West</td>\n      <td>5.6</td>\n      <td>-</td>\n      <td>NaN</td>\n      <td>NaN</td>\n      <td>Clear</td>\n      <td>260</td>\n      <td>2016-01-01 04:51:00&lt;br /&gt;</td>\n      <td>2015-12-31 21:51:00</td>\n    </tr>\n    <tr>\n      <th>8997</th>\n      <td>2015-12-31 22:51:00</td>\n      <td>10:51 PM</td>\n      <td>9.4</td>\n      <td>-6.1</td>\n      <td>33.0</td>\n      <td>1017.4</td>\n      <td>16.1</td>\n      <td>Calm</td>\n      <td>Calm</td>\n      <td>-</td>\n      <td>NaN</td>\n      <td>NaN</td>\n      <td>Clear</td>\n      <td>0</td>\n      <td>2016-01-01 05:51:00&lt;br /&gt;</td>\n      <td>2015-12-31 22:51:00</td>\n    </tr>\n    <tr>\n      <th>8998</th>\n      <td>2015-12-31 23:51:00</td>\n      <td>11:51 PM</td>\n      <td>7.2</td>\n      <td>-5.6</td>\n      <td>40.0</td>\n      <td>1017.3</td>\n      <td>16.1</td>\n      <td>Calm</td>\n      <td>Calm</td>\n      <td>-</td>\n      <td>NaN</td>\n      <td>NaN</td>\n      <td>Clear</td>\n      <td>0</td>\n      <td>2016-01-01 06:51:00&lt;br /&gt;</td>\n      <td>2015-12-31 23:51:00</td>\n    </tr>\n  </tbody>\n</table>\n<p>8999 rows × 16 columns</p>\n</div>"
     },
     "execution_count": 35,
     "metadata": {},
     "output_type": "execute_result"
    }
   ],
   "source": [
    "weather = pd.read_csv(\"./data/weather0.csv\")\n",
    "weather"
   ],
   "metadata": {
    "collapsed": false,
    "pycharm": {
     "name": "#%%\n"
    }
   }
  },
  {
   "cell_type": "markdown",
   "source": [
    "UnivClass_Alfredo.csv 데이터 확인"
   ],
   "metadata": {
    "collapsed": false
   }
  },
  {
   "cell_type": "code",
   "execution_count": 37,
   "outputs": [
    {
     "data": {
      "text/plain": "                timestamp  UnivClass_Alfredo\n0     2015-01-01 00:00:00           204.2500\n1     2015-01-01 01:00:00           202.6150\n2     2015-01-01 02:00:00           198.5525\n3     2015-01-01 03:00:00           198.5050\n4     2015-01-01 04:00:00           201.8350\n...                   ...                ...\n8755  2015-12-31 19:00:00           177.0500\n8756  2015-12-31 20:00:00           177.0300\n8757  2015-12-31 21:00:00           166.7425\n8758  2015-12-31 22:00:00           177.5900\n8759  2015-12-31 23:00:00           175.9400\n\n[8760 rows x 2 columns]",
      "text/html": "<div>\n<style scoped>\n    .dataframe tbody tr th:only-of-type {\n        vertical-align: middle;\n    }\n\n    .dataframe tbody tr th {\n        vertical-align: top;\n    }\n\n    .dataframe thead th {\n        text-align: right;\n    }\n</style>\n<table border=\"1\" class=\"dataframe\">\n  <thead>\n    <tr style=\"text-align: right;\">\n      <th></th>\n      <th>timestamp</th>\n      <th>UnivClass_Alfredo</th>\n    </tr>\n  </thead>\n  <tbody>\n    <tr>\n      <th>0</th>\n      <td>2015-01-01 00:00:00</td>\n      <td>204.2500</td>\n    </tr>\n    <tr>\n      <th>1</th>\n      <td>2015-01-01 01:00:00</td>\n      <td>202.6150</td>\n    </tr>\n    <tr>\n      <th>2</th>\n      <td>2015-01-01 02:00:00</td>\n      <td>198.5525</td>\n    </tr>\n    <tr>\n      <th>3</th>\n      <td>2015-01-01 03:00:00</td>\n      <td>198.5050</td>\n    </tr>\n    <tr>\n      <th>4</th>\n      <td>2015-01-01 04:00:00</td>\n      <td>201.8350</td>\n    </tr>\n    <tr>\n      <th>...</th>\n      <td>...</td>\n      <td>...</td>\n    </tr>\n    <tr>\n      <th>8755</th>\n      <td>2015-12-31 19:00:00</td>\n      <td>177.0500</td>\n    </tr>\n    <tr>\n      <th>8756</th>\n      <td>2015-12-31 20:00:00</td>\n      <td>177.0300</td>\n    </tr>\n    <tr>\n      <th>8757</th>\n      <td>2015-12-31 21:00:00</td>\n      <td>166.7425</td>\n    </tr>\n    <tr>\n      <th>8758</th>\n      <td>2015-12-31 22:00:00</td>\n      <td>177.5900</td>\n    </tr>\n    <tr>\n      <th>8759</th>\n      <td>2015-12-31 23:00:00</td>\n      <td>175.9400</td>\n    </tr>\n  </tbody>\n</table>\n<p>8760 rows × 2 columns</p>\n</div>"
     },
     "execution_count": 37,
     "metadata": {},
     "output_type": "execute_result"
    }
   ],
   "source": [
    "energy = pd.read_csv(\"./data/UnivClass_Alfredo.csv\")\n",
    "energy"
   ],
   "metadata": {
    "collapsed": false,
    "pycharm": {
     "name": "#%%\n"
    }
   }
  },
  {
   "cell_type": "markdown",
   "source": [
    "## 데이터 처리"
   ],
   "metadata": {
    "collapsed": false
   }
  },
  {
   "cell_type": "code",
   "execution_count": 60,
   "outputs": [
    {
     "data": {
      "text/plain": "                timestamp   TimeMST  TemperatureC  Dew PointC  Humidity  \\\n0     2015-01-01 00:51:00  12:51 AM           2.8        -0.6      79.0   \n1     2015-01-01 01:47:00   1:47 AM           3.0        -1.0      75.0   \n2     2015-01-01 01:51:00   1:51 AM           2.8        -0.6      79.0   \n3     2015-01-01 02:51:00   2:51 AM           2.8        -1.1      76.0   \n4     2015-01-01 03:51:00   3:51 AM           2.2        -0.6      82.0   \n...                   ...       ...           ...         ...       ...   \n8994  2015-12-31 19:51:00   7:51 PM          12.2        -6.1      28.0   \n8995  2015-12-31 20:51:00   8:51 PM          11.7        -6.7      27.0   \n8996  2015-12-31 21:51:00   9:51 PM          10.0        -6.7      31.0   \n8997  2015-12-31 22:51:00  10:51 PM           9.4        -6.1      33.0   \n8998  2015-12-31 23:51:00  11:51 PM           7.2        -5.6      40.0   \n\n      Sea Level PressurehPa  VisibilityKm Wind Direction Wind SpeedKm/h  \\\n0                    1016.0          16.1            WNW            9.3   \n1                    1016.5          16.1            WNW            5.6   \n2                    1016.9          16.1            WNW            7.4   \n3                    1017.2          16.1             NW            5.6   \n4                    1017.5          16.1            ENE            5.6   \n...                     ...           ...            ...            ...   \n8994                 1016.6          16.1           West           11.1   \n8995                 1017.0          16.1           West           11.1   \n8996                 1017.2          16.1           West            5.6   \n8997                 1017.4          16.1           Calm           Calm   \n8998                 1017.3          16.1           Calm           Calm   \n\n     Gust SpeedKm/h  Precipitationmm Events        Conditions  WindDirDegrees  \\\n0                 -              NaN    NaN     Mostly Cloudy             300   \n1                 -              NaN    NaN     Mostly Cloudy             300   \n2                 -              NaN    NaN     Mostly Cloudy             300   \n3                 -              NaN    NaN  Scattered Clouds             320   \n4                 -              NaN    NaN     Partly Cloudy              60   \n...             ...              ...    ...               ...             ...   \n8994              -              NaN    NaN             Clear             280   \n8995              -              NaN    NaN     Partly Cloudy             270   \n8996              -              NaN    NaN             Clear             260   \n8997              -              NaN    NaN             Clear               0   \n8998              -              NaN    NaN             Clear               0   \n\n                  DateUTC<br />          timestamp.1  \n0     2015-01-01 07:51:00<br />  2015-01-01 00:51:00  \n1     2015-01-01 08:47:00<br />  2015-01-01 01:47:00  \n2     2015-01-01 08:51:00<br />  2015-01-01 01:51:00  \n3     2015-01-01 09:51:00<br />  2015-01-01 02:51:00  \n4     2015-01-01 10:51:00<br />  2015-01-01 03:51:00  \n...                         ...                  ...  \n8994  2016-01-01 02:51:00<br />  2015-12-31 19:51:00  \n8995  2016-01-01 03:51:00<br />  2015-12-31 20:51:00  \n8996  2016-01-01 04:51:00<br />  2015-12-31 21:51:00  \n8997  2016-01-01 05:51:00<br />  2015-12-31 22:51:00  \n8998  2016-01-01 06:51:00<br />  2015-12-31 23:51:00  \n\n[8999 rows x 16 columns]",
      "text/html": "<div>\n<style scoped>\n    .dataframe tbody tr th:only-of-type {\n        vertical-align: middle;\n    }\n\n    .dataframe tbody tr th {\n        vertical-align: top;\n    }\n\n    .dataframe thead th {\n        text-align: right;\n    }\n</style>\n<table border=\"1\" class=\"dataframe\">\n  <thead>\n    <tr style=\"text-align: right;\">\n      <th></th>\n      <th>timestamp</th>\n      <th>TimeMST</th>\n      <th>TemperatureC</th>\n      <th>Dew PointC</th>\n      <th>Humidity</th>\n      <th>Sea Level PressurehPa</th>\n      <th>VisibilityKm</th>\n      <th>Wind Direction</th>\n      <th>Wind SpeedKm/h</th>\n      <th>Gust SpeedKm/h</th>\n      <th>Precipitationmm</th>\n      <th>Events</th>\n      <th>Conditions</th>\n      <th>WindDirDegrees</th>\n      <th>DateUTC&lt;br /&gt;</th>\n      <th>timestamp.1</th>\n    </tr>\n  </thead>\n  <tbody>\n    <tr>\n      <th>0</th>\n      <td>2015-01-01 00:51:00</td>\n      <td>12:51 AM</td>\n      <td>2.8</td>\n      <td>-0.6</td>\n      <td>79.0</td>\n      <td>1016.0</td>\n      <td>16.1</td>\n      <td>WNW</td>\n      <td>9.3</td>\n      <td>-</td>\n      <td>NaN</td>\n      <td>NaN</td>\n      <td>Mostly Cloudy</td>\n      <td>300</td>\n      <td>2015-01-01 07:51:00&lt;br /&gt;</td>\n      <td>2015-01-01 00:51:00</td>\n    </tr>\n    <tr>\n      <th>1</th>\n      <td>2015-01-01 01:47:00</td>\n      <td>1:47 AM</td>\n      <td>3.0</td>\n      <td>-1.0</td>\n      <td>75.0</td>\n      <td>1016.5</td>\n      <td>16.1</td>\n      <td>WNW</td>\n      <td>5.6</td>\n      <td>-</td>\n      <td>NaN</td>\n      <td>NaN</td>\n      <td>Mostly Cloudy</td>\n      <td>300</td>\n      <td>2015-01-01 08:47:00&lt;br /&gt;</td>\n      <td>2015-01-01 01:47:00</td>\n    </tr>\n    <tr>\n      <th>2</th>\n      <td>2015-01-01 01:51:00</td>\n      <td>1:51 AM</td>\n      <td>2.8</td>\n      <td>-0.6</td>\n      <td>79.0</td>\n      <td>1016.9</td>\n      <td>16.1</td>\n      <td>WNW</td>\n      <td>7.4</td>\n      <td>-</td>\n      <td>NaN</td>\n      <td>NaN</td>\n      <td>Mostly Cloudy</td>\n      <td>300</td>\n      <td>2015-01-01 08:51:00&lt;br /&gt;</td>\n      <td>2015-01-01 01:51:00</td>\n    </tr>\n    <tr>\n      <th>3</th>\n      <td>2015-01-01 02:51:00</td>\n      <td>2:51 AM</td>\n      <td>2.8</td>\n      <td>-1.1</td>\n      <td>76.0</td>\n      <td>1017.2</td>\n      <td>16.1</td>\n      <td>NW</td>\n      <td>5.6</td>\n      <td>-</td>\n      <td>NaN</td>\n      <td>NaN</td>\n      <td>Scattered Clouds</td>\n      <td>320</td>\n      <td>2015-01-01 09:51:00&lt;br /&gt;</td>\n      <td>2015-01-01 02:51:00</td>\n    </tr>\n    <tr>\n      <th>4</th>\n      <td>2015-01-01 03:51:00</td>\n      <td>3:51 AM</td>\n      <td>2.2</td>\n      <td>-0.6</td>\n      <td>82.0</td>\n      <td>1017.5</td>\n      <td>16.1</td>\n      <td>ENE</td>\n      <td>5.6</td>\n      <td>-</td>\n      <td>NaN</td>\n      <td>NaN</td>\n      <td>Partly Cloudy</td>\n      <td>60</td>\n      <td>2015-01-01 10:51:00&lt;br /&gt;</td>\n      <td>2015-01-01 03:51:00</td>\n    </tr>\n    <tr>\n      <th>...</th>\n      <td>...</td>\n      <td>...</td>\n      <td>...</td>\n      <td>...</td>\n      <td>...</td>\n      <td>...</td>\n      <td>...</td>\n      <td>...</td>\n      <td>...</td>\n      <td>...</td>\n      <td>...</td>\n      <td>...</td>\n      <td>...</td>\n      <td>...</td>\n      <td>...</td>\n      <td>...</td>\n    </tr>\n    <tr>\n      <th>8994</th>\n      <td>2015-12-31 19:51:00</td>\n      <td>7:51 PM</td>\n      <td>12.2</td>\n      <td>-6.1</td>\n      <td>28.0</td>\n      <td>1016.6</td>\n      <td>16.1</td>\n      <td>West</td>\n      <td>11.1</td>\n      <td>-</td>\n      <td>NaN</td>\n      <td>NaN</td>\n      <td>Clear</td>\n      <td>280</td>\n      <td>2016-01-01 02:51:00&lt;br /&gt;</td>\n      <td>2015-12-31 19:51:00</td>\n    </tr>\n    <tr>\n      <th>8995</th>\n      <td>2015-12-31 20:51:00</td>\n      <td>8:51 PM</td>\n      <td>11.7</td>\n      <td>-6.7</td>\n      <td>27.0</td>\n      <td>1017.0</td>\n      <td>16.1</td>\n      <td>West</td>\n      <td>11.1</td>\n      <td>-</td>\n      <td>NaN</td>\n      <td>NaN</td>\n      <td>Partly Cloudy</td>\n      <td>270</td>\n      <td>2016-01-01 03:51:00&lt;br /&gt;</td>\n      <td>2015-12-31 20:51:00</td>\n    </tr>\n    <tr>\n      <th>8996</th>\n      <td>2015-12-31 21:51:00</td>\n      <td>9:51 PM</td>\n      <td>10.0</td>\n      <td>-6.7</td>\n      <td>31.0</td>\n      <td>1017.2</td>\n      <td>16.1</td>\n      <td>West</td>\n      <td>5.6</td>\n      <td>-</td>\n      <td>NaN</td>\n      <td>NaN</td>\n      <td>Clear</td>\n      <td>260</td>\n      <td>2016-01-01 04:51:00&lt;br /&gt;</td>\n      <td>2015-12-31 21:51:00</td>\n    </tr>\n    <tr>\n      <th>8997</th>\n      <td>2015-12-31 22:51:00</td>\n      <td>10:51 PM</td>\n      <td>9.4</td>\n      <td>-6.1</td>\n      <td>33.0</td>\n      <td>1017.4</td>\n      <td>16.1</td>\n      <td>Calm</td>\n      <td>Calm</td>\n      <td>-</td>\n      <td>NaN</td>\n      <td>NaN</td>\n      <td>Clear</td>\n      <td>0</td>\n      <td>2016-01-01 05:51:00&lt;br /&gt;</td>\n      <td>2015-12-31 22:51:00</td>\n    </tr>\n    <tr>\n      <th>8998</th>\n      <td>2015-12-31 23:51:00</td>\n      <td>11:51 PM</td>\n      <td>7.2</td>\n      <td>-5.6</td>\n      <td>40.0</td>\n      <td>1017.3</td>\n      <td>16.1</td>\n      <td>Calm</td>\n      <td>Calm</td>\n      <td>-</td>\n      <td>NaN</td>\n      <td>NaN</td>\n      <td>Clear</td>\n      <td>0</td>\n      <td>2016-01-01 06:51:00&lt;br /&gt;</td>\n      <td>2015-12-31 23:51:00</td>\n    </tr>\n  </tbody>\n</table>\n<p>8999 rows × 16 columns</p>\n</div>"
     },
     "execution_count": 60,
     "metadata": {},
     "output_type": "execute_result"
    }
   ],
   "source": [
    "# 원본 데이터에 영향을 주지 않기 위해 복사본 데이터를 명시적으로 표시\n",
    "time_weather = weather.copy()\n",
    "time_weather"
   ],
   "metadata": {
    "collapsed": false,
    "pycharm": {
     "name": "#%%\n"
    }
   }
  },
  {
   "cell_type": "markdown",
   "source": [
    "energy 데이터의 경우 시간당 에너지로 기록되어 있음.\n",
    "하지만 weather 데이터의 경우 대부분 시간당 기록되어 있지만 일부 한 시간 동안 두번 측정된데이터가 존재\n",
    "우리는 시간당 에너지의 변화가 알고 싶기 때문에 weather 데이터 중 한시간 동안 두번 측정된 데이터를 하나 값만 남김"
   ],
   "metadata": {
    "collapsed": false
   }
  },
  {
   "cell_type": "code",
   "execution_count": 61,
   "outputs": [
    {
     "name": "stdout",
     "output_type": "stream",
     "text": [
      "<class 'pandas.core.frame.DataFrame'>\n",
      "RangeIndex: 8999 entries, 0 to 8998\n",
      "Data columns (total 16 columns):\n",
      " #   Column                 Non-Null Count  Dtype  \n",
      "---  ------                 --------------  -----  \n",
      " 0   timestamp              8999 non-null   object \n",
      " 1   TimeMST                8999 non-null   object \n",
      " 2   TemperatureC           8999 non-null   float64\n",
      " 3   Dew PointC             8999 non-null   float64\n",
      " 4   Humidity               8990 non-null   float64\n",
      " 5   Sea Level PressurehPa  8999 non-null   float64\n",
      " 6   VisibilityKm           8999 non-null   float64\n",
      " 7   Wind Direction         8999 non-null   object \n",
      " 8   Wind SpeedKm/h         8999 non-null   object \n",
      " 9   Gust SpeedKm/h         8999 non-null   object \n",
      " 10  Precipitationmm        443 non-null    float64\n",
      " 11  Events                 330 non-null    object \n",
      " 12  Conditions             8999 non-null   object \n",
      " 13  WindDirDegrees         8999 non-null   int64  \n",
      " 14  DateUTC<br />          8999 non-null   object \n",
      " 15  timestamp.1            8999 non-null   object \n",
      "dtypes: float64(6), int64(1), object(9)\n",
      "memory usage: 1.1+ MB\n"
     ]
    }
   ],
   "source": [
    "time_weather.info()"
   ],
   "metadata": {
    "collapsed": false,
    "pycharm": {
     "name": "#%%\n"
    }
   }
  },
  {
   "cell_type": "markdown",
   "source": [
    "시간 단위 데이터 처리가 편하도록 timestamp를 datatime으로 처리"
   ],
   "metadata": {
    "collapsed": false
   }
  },
  {
   "cell_type": "code",
   "execution_count": 62,
   "outputs": [
    {
     "name": "stdout",
     "output_type": "stream",
     "text": [
      "<class 'pandas.core.frame.DataFrame'>\n",
      "RangeIndex: 8999 entries, 0 to 8998\n",
      "Data columns (total 16 columns):\n",
      " #   Column                 Non-Null Count  Dtype         \n",
      "---  ------                 --------------  -----         \n",
      " 0   timestamp              8999 non-null   datetime64[ns]\n",
      " 1   TimeMST                8999 non-null   object        \n",
      " 2   TemperatureC           8999 non-null   float64       \n",
      " 3   Dew PointC             8999 non-null   float64       \n",
      " 4   Humidity               8990 non-null   float64       \n",
      " 5   Sea Level PressurehPa  8999 non-null   float64       \n",
      " 6   VisibilityKm           8999 non-null   float64       \n",
      " 7   Wind Direction         8999 non-null   object        \n",
      " 8   Wind SpeedKm/h         8999 non-null   object        \n",
      " 9   Gust SpeedKm/h         8999 non-null   object        \n",
      " 10  Precipitationmm        443 non-null    float64       \n",
      " 11  Events                 330 non-null    object        \n",
      " 12  Conditions             8999 non-null   object        \n",
      " 13  WindDirDegrees         8999 non-null   int64         \n",
      " 14  DateUTC<br />          8999 non-null   object        \n",
      " 15  timestamp.1            8999 non-null   object        \n",
      "dtypes: datetime64[ns](1), float64(6), int64(1), object(8)\n",
      "memory usage: 1.1+ MB\n"
     ]
    }
   ],
   "source": [
    "time_weather['timestamp'] = pd.to_datetime(time_weather['timestamp'], format='%Y-%m-%d %H:%M:%S', errors='coerce')\n",
    "time_weather.info()"
   ],
   "metadata": {
    "collapsed": false,
    "pycharm": {
     "name": "#%%\n"
    }
   }
  },
  {
   "cell_type": "markdown",
   "source": [
    "년, 월, 일, 시간 컬럼 생성"
   ],
   "metadata": {
    "collapsed": false
   }
  },
  {
   "cell_type": "code",
   "execution_count": 63,
   "outputs": [],
   "source": [
    "dt = pd.DatetimeIndex(time_weather[\"timestamp\"])\n",
    "time_weather[\"date\"] = dt.date\n",
    "time_weather[\"year\"] = dt.year\n",
    "time_weather[\"month\"] = dt.month\n",
    "time_weather[\"day\"] = dt.day\n",
    "time_weather[\"hour\"] = dt.hour\n",
    "time_weather[\"dayofweek\"] = dt.dayofweek"
   ],
   "metadata": {
    "collapsed": false,
    "pycharm": {
     "name": "#%%\n"
    }
   }
  },
  {
   "cell_type": "code",
   "execution_count": 64,
   "outputs": [
    {
     "data": {
      "text/plain": "               timestamp   TimeMST  TemperatureC  Dew PointC  Humidity  \\\n0    2015-01-01 00:51:00  12:51 AM           2.8        -0.6      79.0   \n1    2015-01-01 01:47:00   1:47 AM           3.0        -1.0      75.0   \n2    2015-01-01 01:51:00   1:51 AM           2.8        -0.6      79.0   \n3    2015-01-01 02:51:00   2:51 AM           2.8        -1.1      76.0   \n4    2015-01-01 03:51:00   3:51 AM           2.2        -0.6      82.0   \n...                  ...       ...           ...         ...       ...   \n8994 2015-12-31 19:51:00   7:51 PM          12.2        -6.1      28.0   \n8995 2015-12-31 20:51:00   8:51 PM          11.7        -6.7      27.0   \n8996 2015-12-31 21:51:00   9:51 PM          10.0        -6.7      31.0   \n8997 2015-12-31 22:51:00  10:51 PM           9.4        -6.1      33.0   \n8998 2015-12-31 23:51:00  11:51 PM           7.2        -5.6      40.0   \n\n      Sea Level PressurehPa  VisibilityKm Wind Direction Wind SpeedKm/h  \\\n0                    1016.0          16.1            WNW            9.3   \n1                    1016.5          16.1            WNW            5.6   \n2                    1016.9          16.1            WNW            7.4   \n3                    1017.2          16.1             NW            5.6   \n4                    1017.5          16.1            ENE            5.6   \n...                     ...           ...            ...            ...   \n8994                 1016.6          16.1           West           11.1   \n8995                 1017.0          16.1           West           11.1   \n8996                 1017.2          16.1           West            5.6   \n8997                 1017.4          16.1           Calm           Calm   \n8998                 1017.3          16.1           Calm           Calm   \n\n     Gust SpeedKm/h  ...        Conditions WindDirDegrees  \\\n0                 -  ...     Mostly Cloudy            300   \n1                 -  ...     Mostly Cloudy            300   \n2                 -  ...     Mostly Cloudy            300   \n3                 -  ...  Scattered Clouds            320   \n4                 -  ...     Partly Cloudy             60   \n...             ...  ...               ...            ...   \n8994              -  ...             Clear            280   \n8995              -  ...     Partly Cloudy            270   \n8996              -  ...             Clear            260   \n8997              -  ...             Clear              0   \n8998              -  ...             Clear              0   \n\n                  DateUTC<br />          timestamp.1        date  year month  \\\n0     2015-01-01 07:51:00<br />  2015-01-01 00:51:00  2015-01-01  2015     1   \n1     2015-01-01 08:47:00<br />  2015-01-01 01:47:00  2015-01-01  2015     1   \n2     2015-01-01 08:51:00<br />  2015-01-01 01:51:00  2015-01-01  2015     1   \n3     2015-01-01 09:51:00<br />  2015-01-01 02:51:00  2015-01-01  2015     1   \n4     2015-01-01 10:51:00<br />  2015-01-01 03:51:00  2015-01-01  2015     1   \n...                         ...                  ...         ...   ...   ...   \n8994  2016-01-01 02:51:00<br />  2015-12-31 19:51:00  2015-12-31  2015    12   \n8995  2016-01-01 03:51:00<br />  2015-12-31 20:51:00  2015-12-31  2015    12   \n8996  2016-01-01 04:51:00<br />  2015-12-31 21:51:00  2015-12-31  2015    12   \n8997  2016-01-01 05:51:00<br />  2015-12-31 22:51:00  2015-12-31  2015    12   \n8998  2016-01-01 06:51:00<br />  2015-12-31 23:51:00  2015-12-31  2015    12   \n\n      day  hour  dayofweek  \n0       1     0          3  \n1       1     1          3  \n2       1     1          3  \n3       1     2          3  \n4       1     3          3  \n...   ...   ...        ...  \n8994   31    19          3  \n8995   31    20          3  \n8996   31    21          3  \n8997   31    22          3  \n8998   31    23          3  \n\n[8999 rows x 22 columns]",
      "text/html": "<div>\n<style scoped>\n    .dataframe tbody tr th:only-of-type {\n        vertical-align: middle;\n    }\n\n    .dataframe tbody tr th {\n        vertical-align: top;\n    }\n\n    .dataframe thead th {\n        text-align: right;\n    }\n</style>\n<table border=\"1\" class=\"dataframe\">\n  <thead>\n    <tr style=\"text-align: right;\">\n      <th></th>\n      <th>timestamp</th>\n      <th>TimeMST</th>\n      <th>TemperatureC</th>\n      <th>Dew PointC</th>\n      <th>Humidity</th>\n      <th>Sea Level PressurehPa</th>\n      <th>VisibilityKm</th>\n      <th>Wind Direction</th>\n      <th>Wind SpeedKm/h</th>\n      <th>Gust SpeedKm/h</th>\n      <th>...</th>\n      <th>Conditions</th>\n      <th>WindDirDegrees</th>\n      <th>DateUTC&lt;br /&gt;</th>\n      <th>timestamp.1</th>\n      <th>date</th>\n      <th>year</th>\n      <th>month</th>\n      <th>day</th>\n      <th>hour</th>\n      <th>dayofweek</th>\n    </tr>\n  </thead>\n  <tbody>\n    <tr>\n      <th>0</th>\n      <td>2015-01-01 00:51:00</td>\n      <td>12:51 AM</td>\n      <td>2.8</td>\n      <td>-0.6</td>\n      <td>79.0</td>\n      <td>1016.0</td>\n      <td>16.1</td>\n      <td>WNW</td>\n      <td>9.3</td>\n      <td>-</td>\n      <td>...</td>\n      <td>Mostly Cloudy</td>\n      <td>300</td>\n      <td>2015-01-01 07:51:00&lt;br /&gt;</td>\n      <td>2015-01-01 00:51:00</td>\n      <td>2015-01-01</td>\n      <td>2015</td>\n      <td>1</td>\n      <td>1</td>\n      <td>0</td>\n      <td>3</td>\n    </tr>\n    <tr>\n      <th>1</th>\n      <td>2015-01-01 01:47:00</td>\n      <td>1:47 AM</td>\n      <td>3.0</td>\n      <td>-1.0</td>\n      <td>75.0</td>\n      <td>1016.5</td>\n      <td>16.1</td>\n      <td>WNW</td>\n      <td>5.6</td>\n      <td>-</td>\n      <td>...</td>\n      <td>Mostly Cloudy</td>\n      <td>300</td>\n      <td>2015-01-01 08:47:00&lt;br /&gt;</td>\n      <td>2015-01-01 01:47:00</td>\n      <td>2015-01-01</td>\n      <td>2015</td>\n      <td>1</td>\n      <td>1</td>\n      <td>1</td>\n      <td>3</td>\n    </tr>\n    <tr>\n      <th>2</th>\n      <td>2015-01-01 01:51:00</td>\n      <td>1:51 AM</td>\n      <td>2.8</td>\n      <td>-0.6</td>\n      <td>79.0</td>\n      <td>1016.9</td>\n      <td>16.1</td>\n      <td>WNW</td>\n      <td>7.4</td>\n      <td>-</td>\n      <td>...</td>\n      <td>Mostly Cloudy</td>\n      <td>300</td>\n      <td>2015-01-01 08:51:00&lt;br /&gt;</td>\n      <td>2015-01-01 01:51:00</td>\n      <td>2015-01-01</td>\n      <td>2015</td>\n      <td>1</td>\n      <td>1</td>\n      <td>1</td>\n      <td>3</td>\n    </tr>\n    <tr>\n      <th>3</th>\n      <td>2015-01-01 02:51:00</td>\n      <td>2:51 AM</td>\n      <td>2.8</td>\n      <td>-1.1</td>\n      <td>76.0</td>\n      <td>1017.2</td>\n      <td>16.1</td>\n      <td>NW</td>\n      <td>5.6</td>\n      <td>-</td>\n      <td>...</td>\n      <td>Scattered Clouds</td>\n      <td>320</td>\n      <td>2015-01-01 09:51:00&lt;br /&gt;</td>\n      <td>2015-01-01 02:51:00</td>\n      <td>2015-01-01</td>\n      <td>2015</td>\n      <td>1</td>\n      <td>1</td>\n      <td>2</td>\n      <td>3</td>\n    </tr>\n    <tr>\n      <th>4</th>\n      <td>2015-01-01 03:51:00</td>\n      <td>3:51 AM</td>\n      <td>2.2</td>\n      <td>-0.6</td>\n      <td>82.0</td>\n      <td>1017.5</td>\n      <td>16.1</td>\n      <td>ENE</td>\n      <td>5.6</td>\n      <td>-</td>\n      <td>...</td>\n      <td>Partly Cloudy</td>\n      <td>60</td>\n      <td>2015-01-01 10:51:00&lt;br /&gt;</td>\n      <td>2015-01-01 03:51:00</td>\n      <td>2015-01-01</td>\n      <td>2015</td>\n      <td>1</td>\n      <td>1</td>\n      <td>3</td>\n      <td>3</td>\n    </tr>\n    <tr>\n      <th>...</th>\n      <td>...</td>\n      <td>...</td>\n      <td>...</td>\n      <td>...</td>\n      <td>...</td>\n      <td>...</td>\n      <td>...</td>\n      <td>...</td>\n      <td>...</td>\n      <td>...</td>\n      <td>...</td>\n      <td>...</td>\n      <td>...</td>\n      <td>...</td>\n      <td>...</td>\n      <td>...</td>\n      <td>...</td>\n      <td>...</td>\n      <td>...</td>\n      <td>...</td>\n      <td>...</td>\n    </tr>\n    <tr>\n      <th>8994</th>\n      <td>2015-12-31 19:51:00</td>\n      <td>7:51 PM</td>\n      <td>12.2</td>\n      <td>-6.1</td>\n      <td>28.0</td>\n      <td>1016.6</td>\n      <td>16.1</td>\n      <td>West</td>\n      <td>11.1</td>\n      <td>-</td>\n      <td>...</td>\n      <td>Clear</td>\n      <td>280</td>\n      <td>2016-01-01 02:51:00&lt;br /&gt;</td>\n      <td>2015-12-31 19:51:00</td>\n      <td>2015-12-31</td>\n      <td>2015</td>\n      <td>12</td>\n      <td>31</td>\n      <td>19</td>\n      <td>3</td>\n    </tr>\n    <tr>\n      <th>8995</th>\n      <td>2015-12-31 20:51:00</td>\n      <td>8:51 PM</td>\n      <td>11.7</td>\n      <td>-6.7</td>\n      <td>27.0</td>\n      <td>1017.0</td>\n      <td>16.1</td>\n      <td>West</td>\n      <td>11.1</td>\n      <td>-</td>\n      <td>...</td>\n      <td>Partly Cloudy</td>\n      <td>270</td>\n      <td>2016-01-01 03:51:00&lt;br /&gt;</td>\n      <td>2015-12-31 20:51:00</td>\n      <td>2015-12-31</td>\n      <td>2015</td>\n      <td>12</td>\n      <td>31</td>\n      <td>20</td>\n      <td>3</td>\n    </tr>\n    <tr>\n      <th>8996</th>\n      <td>2015-12-31 21:51:00</td>\n      <td>9:51 PM</td>\n      <td>10.0</td>\n      <td>-6.7</td>\n      <td>31.0</td>\n      <td>1017.2</td>\n      <td>16.1</td>\n      <td>West</td>\n      <td>5.6</td>\n      <td>-</td>\n      <td>...</td>\n      <td>Clear</td>\n      <td>260</td>\n      <td>2016-01-01 04:51:00&lt;br /&gt;</td>\n      <td>2015-12-31 21:51:00</td>\n      <td>2015-12-31</td>\n      <td>2015</td>\n      <td>12</td>\n      <td>31</td>\n      <td>21</td>\n      <td>3</td>\n    </tr>\n    <tr>\n      <th>8997</th>\n      <td>2015-12-31 22:51:00</td>\n      <td>10:51 PM</td>\n      <td>9.4</td>\n      <td>-6.1</td>\n      <td>33.0</td>\n      <td>1017.4</td>\n      <td>16.1</td>\n      <td>Calm</td>\n      <td>Calm</td>\n      <td>-</td>\n      <td>...</td>\n      <td>Clear</td>\n      <td>0</td>\n      <td>2016-01-01 05:51:00&lt;br /&gt;</td>\n      <td>2015-12-31 22:51:00</td>\n      <td>2015-12-31</td>\n      <td>2015</td>\n      <td>12</td>\n      <td>31</td>\n      <td>22</td>\n      <td>3</td>\n    </tr>\n    <tr>\n      <th>8998</th>\n      <td>2015-12-31 23:51:00</td>\n      <td>11:51 PM</td>\n      <td>7.2</td>\n      <td>-5.6</td>\n      <td>40.0</td>\n      <td>1017.3</td>\n      <td>16.1</td>\n      <td>Calm</td>\n      <td>Calm</td>\n      <td>-</td>\n      <td>...</td>\n      <td>Clear</td>\n      <td>0</td>\n      <td>2016-01-01 06:51:00&lt;br /&gt;</td>\n      <td>2015-12-31 23:51:00</td>\n      <td>2015-12-31</td>\n      <td>2015</td>\n      <td>12</td>\n      <td>31</td>\n      <td>23</td>\n      <td>3</td>\n    </tr>\n  </tbody>\n</table>\n<p>8999 rows × 22 columns</p>\n</div>"
     },
     "execution_count": 64,
     "metadata": {},
     "output_type": "execute_result"
    }
   ],
   "source": [
    "time_weather"
   ],
   "metadata": {
    "collapsed": false,
    "pycharm": {
     "name": "#%%\n"
    }
   }
  },
  {
   "cell_type": "markdown",
   "source": [
    "한 시간 동안 두번 이상 측정 된 데이터 하나만 남기고 삭제"
   ],
   "metadata": {
    "collapsed": false
   }
  },
  {
   "cell_type": "code",
   "execution_count": 65,
   "outputs": [
    {
     "data": {
      "text/plain": "               timestamp   TimeMST  TemperatureC  Dew PointC  Humidity  \\\n1    2015-01-01 01:47:00   1:47 AM           3.0        -1.0      75.0   \n2    2015-01-01 01:51:00   1:51 AM           2.8        -0.6      79.0   \n12   2015-01-01 11:21:00  11:21 AM           5.6        -1.7      60.0   \n13   2015-01-01 11:51:00  11:51 AM           5.6        -1.7      60.0   \n14   2015-01-01 12:04:00  12:04 PM           5.6        -2.2      58.0   \n...                  ...       ...           ...         ...       ...   \n8573 2015-12-14 09:17:00   9:17 AM           7.2         5.0      86.0   \n8574 2015-12-14 09:32:00   9:32 AM           7.2         5.0      86.0   \n8575 2015-12-14 09:51:00   9:51 AM           7.2         5.0      86.0   \n8865 2015-12-26 11:33:00  11:33 AM          11.1       -11.1      20.0   \n8866 2015-12-26 11:51:00  11:51 AM          11.7       -11.1      20.0   \n\n      Sea Level PressurehPa  VisibilityKm Wind Direction Wind SpeedKm/h  \\\n1                    1016.5          16.1            WNW            5.6   \n2                    1016.9          16.1            WNW            7.4   \n12                   1020.5          16.1       Variable            5.6   \n13                   1020.5          16.1       Variable            7.4   \n14                   1020.2          16.1          North           11.1   \n...                     ...           ...            ...            ...   \n8573                 1009.4           6.4             NW           11.1   \n8574                 1009.4           8.0            NNW           13.0   \n8575                 1009.4          14.5       Variable            7.4   \n8865                 1016.1          16.1            NNE           29.6   \n8866                 1015.8          16.1            NNE           25.9   \n\n     Gust SpeedKm/h  ...        Conditions WindDirDegrees  \\\n1                 -  ...     Mostly Cloudy            300   \n2                 -  ...     Mostly Cloudy            300   \n12                -  ...     Mostly Cloudy              0   \n13                -  ...     Mostly Cloudy              0   \n14                -  ...     Mostly Cloudy            360   \n...             ...  ...               ...            ...   \n8573              -  ...              Rain            320   \n8574              -  ...        Light Rain            340   \n8575              -  ...        Light Rain              0   \n8865           44.4  ...  Scattered Clouds             30   \n8866           42.6  ...  Scattered Clouds             30   \n\n                  DateUTC<br />          timestamp.1        date  year month  \\\n1     2015-01-01 08:47:00<br />  2015-01-01 01:47:00  2015-01-01  2015     1   \n2     2015-01-01 08:51:00<br />  2015-01-01 01:51:00  2015-01-01  2015     1   \n12    2015-01-01 18:21:00<br />  2015-01-01 11:21:00  2015-01-01  2015     1   \n13    2015-01-01 18:51:00<br />  2015-01-01 11:51:00  2015-01-01  2015     1   \n14    2015-01-01 19:04:00<br />  2015-01-01 12:04:00  2015-01-01  2015     1   \n...                         ...                  ...         ...   ...   ...   \n8573  2015-12-14 16:17:00<br />  2015-12-14 09:17:00  2015-12-14  2015    12   \n8574  2015-12-14 16:32:00<br />  2015-12-14 09:32:00  2015-12-14  2015    12   \n8575  2015-12-14 16:51:00<br />  2015-12-14 09:51:00  2015-12-14  2015    12   \n8865  2015-12-26 18:33:00<br />  2015-12-26 11:33:00  2015-12-26  2015    12   \n8866  2015-12-26 18:51:00<br />  2015-12-26 11:51:00  2015-12-26  2015    12   \n\n      day  hour  dayofweek  \n1       1     1          3  \n2       1     1          3  \n12      1    11          3  \n13      1    11          3  \n14      1    12          3  \n...   ...   ...        ...  \n8573   14     9          0  \n8574   14     9          0  \n8575   14     9          0  \n8865   26    11          5  \n8866   26    11          5  \n\n[426 rows x 22 columns]",
      "text/html": "<div>\n<style scoped>\n    .dataframe tbody tr th:only-of-type {\n        vertical-align: middle;\n    }\n\n    .dataframe tbody tr th {\n        vertical-align: top;\n    }\n\n    .dataframe thead th {\n        text-align: right;\n    }\n</style>\n<table border=\"1\" class=\"dataframe\">\n  <thead>\n    <tr style=\"text-align: right;\">\n      <th></th>\n      <th>timestamp</th>\n      <th>TimeMST</th>\n      <th>TemperatureC</th>\n      <th>Dew PointC</th>\n      <th>Humidity</th>\n      <th>Sea Level PressurehPa</th>\n      <th>VisibilityKm</th>\n      <th>Wind Direction</th>\n      <th>Wind SpeedKm/h</th>\n      <th>Gust SpeedKm/h</th>\n      <th>...</th>\n      <th>Conditions</th>\n      <th>WindDirDegrees</th>\n      <th>DateUTC&lt;br /&gt;</th>\n      <th>timestamp.1</th>\n      <th>date</th>\n      <th>year</th>\n      <th>month</th>\n      <th>day</th>\n      <th>hour</th>\n      <th>dayofweek</th>\n    </tr>\n  </thead>\n  <tbody>\n    <tr>\n      <th>1</th>\n      <td>2015-01-01 01:47:00</td>\n      <td>1:47 AM</td>\n      <td>3.0</td>\n      <td>-1.0</td>\n      <td>75.0</td>\n      <td>1016.5</td>\n      <td>16.1</td>\n      <td>WNW</td>\n      <td>5.6</td>\n      <td>-</td>\n      <td>...</td>\n      <td>Mostly Cloudy</td>\n      <td>300</td>\n      <td>2015-01-01 08:47:00&lt;br /&gt;</td>\n      <td>2015-01-01 01:47:00</td>\n      <td>2015-01-01</td>\n      <td>2015</td>\n      <td>1</td>\n      <td>1</td>\n      <td>1</td>\n      <td>3</td>\n    </tr>\n    <tr>\n      <th>2</th>\n      <td>2015-01-01 01:51:00</td>\n      <td>1:51 AM</td>\n      <td>2.8</td>\n      <td>-0.6</td>\n      <td>79.0</td>\n      <td>1016.9</td>\n      <td>16.1</td>\n      <td>WNW</td>\n      <td>7.4</td>\n      <td>-</td>\n      <td>...</td>\n      <td>Mostly Cloudy</td>\n      <td>300</td>\n      <td>2015-01-01 08:51:00&lt;br /&gt;</td>\n      <td>2015-01-01 01:51:00</td>\n      <td>2015-01-01</td>\n      <td>2015</td>\n      <td>1</td>\n      <td>1</td>\n      <td>1</td>\n      <td>3</td>\n    </tr>\n    <tr>\n      <th>12</th>\n      <td>2015-01-01 11:21:00</td>\n      <td>11:21 AM</td>\n      <td>5.6</td>\n      <td>-1.7</td>\n      <td>60.0</td>\n      <td>1020.5</td>\n      <td>16.1</td>\n      <td>Variable</td>\n      <td>5.6</td>\n      <td>-</td>\n      <td>...</td>\n      <td>Mostly Cloudy</td>\n      <td>0</td>\n      <td>2015-01-01 18:21:00&lt;br /&gt;</td>\n      <td>2015-01-01 11:21:00</td>\n      <td>2015-01-01</td>\n      <td>2015</td>\n      <td>1</td>\n      <td>1</td>\n      <td>11</td>\n      <td>3</td>\n    </tr>\n    <tr>\n      <th>13</th>\n      <td>2015-01-01 11:51:00</td>\n      <td>11:51 AM</td>\n      <td>5.6</td>\n      <td>-1.7</td>\n      <td>60.0</td>\n      <td>1020.5</td>\n      <td>16.1</td>\n      <td>Variable</td>\n      <td>7.4</td>\n      <td>-</td>\n      <td>...</td>\n      <td>Mostly Cloudy</td>\n      <td>0</td>\n      <td>2015-01-01 18:51:00&lt;br /&gt;</td>\n      <td>2015-01-01 11:51:00</td>\n      <td>2015-01-01</td>\n      <td>2015</td>\n      <td>1</td>\n      <td>1</td>\n      <td>11</td>\n      <td>3</td>\n    </tr>\n    <tr>\n      <th>14</th>\n      <td>2015-01-01 12:04:00</td>\n      <td>12:04 PM</td>\n      <td>5.6</td>\n      <td>-2.2</td>\n      <td>58.0</td>\n      <td>1020.2</td>\n      <td>16.1</td>\n      <td>North</td>\n      <td>11.1</td>\n      <td>-</td>\n      <td>...</td>\n      <td>Mostly Cloudy</td>\n      <td>360</td>\n      <td>2015-01-01 19:04:00&lt;br /&gt;</td>\n      <td>2015-01-01 12:04:00</td>\n      <td>2015-01-01</td>\n      <td>2015</td>\n      <td>1</td>\n      <td>1</td>\n      <td>12</td>\n      <td>3</td>\n    </tr>\n    <tr>\n      <th>...</th>\n      <td>...</td>\n      <td>...</td>\n      <td>...</td>\n      <td>...</td>\n      <td>...</td>\n      <td>...</td>\n      <td>...</td>\n      <td>...</td>\n      <td>...</td>\n      <td>...</td>\n      <td>...</td>\n      <td>...</td>\n      <td>...</td>\n      <td>...</td>\n      <td>...</td>\n      <td>...</td>\n      <td>...</td>\n      <td>...</td>\n      <td>...</td>\n      <td>...</td>\n      <td>...</td>\n    </tr>\n    <tr>\n      <th>8573</th>\n      <td>2015-12-14 09:17:00</td>\n      <td>9:17 AM</td>\n      <td>7.2</td>\n      <td>5.0</td>\n      <td>86.0</td>\n      <td>1009.4</td>\n      <td>6.4</td>\n      <td>NW</td>\n      <td>11.1</td>\n      <td>-</td>\n      <td>...</td>\n      <td>Rain</td>\n      <td>320</td>\n      <td>2015-12-14 16:17:00&lt;br /&gt;</td>\n      <td>2015-12-14 09:17:00</td>\n      <td>2015-12-14</td>\n      <td>2015</td>\n      <td>12</td>\n      <td>14</td>\n      <td>9</td>\n      <td>0</td>\n    </tr>\n    <tr>\n      <th>8574</th>\n      <td>2015-12-14 09:32:00</td>\n      <td>9:32 AM</td>\n      <td>7.2</td>\n      <td>5.0</td>\n      <td>86.0</td>\n      <td>1009.4</td>\n      <td>8.0</td>\n      <td>NNW</td>\n      <td>13.0</td>\n      <td>-</td>\n      <td>...</td>\n      <td>Light Rain</td>\n      <td>340</td>\n      <td>2015-12-14 16:32:00&lt;br /&gt;</td>\n      <td>2015-12-14 09:32:00</td>\n      <td>2015-12-14</td>\n      <td>2015</td>\n      <td>12</td>\n      <td>14</td>\n      <td>9</td>\n      <td>0</td>\n    </tr>\n    <tr>\n      <th>8575</th>\n      <td>2015-12-14 09:51:00</td>\n      <td>9:51 AM</td>\n      <td>7.2</td>\n      <td>5.0</td>\n      <td>86.0</td>\n      <td>1009.4</td>\n      <td>14.5</td>\n      <td>Variable</td>\n      <td>7.4</td>\n      <td>-</td>\n      <td>...</td>\n      <td>Light Rain</td>\n      <td>0</td>\n      <td>2015-12-14 16:51:00&lt;br /&gt;</td>\n      <td>2015-12-14 09:51:00</td>\n      <td>2015-12-14</td>\n      <td>2015</td>\n      <td>12</td>\n      <td>14</td>\n      <td>9</td>\n      <td>0</td>\n    </tr>\n    <tr>\n      <th>8865</th>\n      <td>2015-12-26 11:33:00</td>\n      <td>11:33 AM</td>\n      <td>11.1</td>\n      <td>-11.1</td>\n      <td>20.0</td>\n      <td>1016.1</td>\n      <td>16.1</td>\n      <td>NNE</td>\n      <td>29.6</td>\n      <td>44.4</td>\n      <td>...</td>\n      <td>Scattered Clouds</td>\n      <td>30</td>\n      <td>2015-12-26 18:33:00&lt;br /&gt;</td>\n      <td>2015-12-26 11:33:00</td>\n      <td>2015-12-26</td>\n      <td>2015</td>\n      <td>12</td>\n      <td>26</td>\n      <td>11</td>\n      <td>5</td>\n    </tr>\n    <tr>\n      <th>8866</th>\n      <td>2015-12-26 11:51:00</td>\n      <td>11:51 AM</td>\n      <td>11.7</td>\n      <td>-11.1</td>\n      <td>20.0</td>\n      <td>1015.8</td>\n      <td>16.1</td>\n      <td>NNE</td>\n      <td>25.9</td>\n      <td>42.6</td>\n      <td>...</td>\n      <td>Scattered Clouds</td>\n      <td>30</td>\n      <td>2015-12-26 18:51:00&lt;br /&gt;</td>\n      <td>2015-12-26 11:51:00</td>\n      <td>2015-12-26</td>\n      <td>2015</td>\n      <td>12</td>\n      <td>26</td>\n      <td>11</td>\n      <td>5</td>\n    </tr>\n  </tbody>\n</table>\n<p>426 rows × 22 columns</p>\n</div>"
     },
     "execution_count": 65,
     "metadata": {},
     "output_type": "execute_result"
    }
   ],
   "source": [
    "time_weather[time_weather.duplicated([\"date\", \"hour\"], keep=False)]"
   ],
   "metadata": {
    "collapsed": false,
    "pycharm": {
     "name": "#%%\n"
    }
   }
  },
  {
   "cell_type": "code",
   "execution_count": 66,
   "outputs": [],
   "source": [
    "# 삭제\n",
    "time_weather = time_weather.drop_duplicates([\"date\", \"hour\"], keep=\"last\")"
   ],
   "metadata": {
    "collapsed": false,
    "pycharm": {
     "name": "#%%\n"
    }
   }
  },
  {
   "cell_type": "code",
   "execution_count": 67,
   "outputs": [
    {
     "data": {
      "text/plain": "Empty DataFrame\nColumns: [timestamp, TimeMST, TemperatureC, Dew PointC, Humidity, Sea Level PressurehPa, VisibilityKm, Wind Direction, Wind SpeedKm/h, Gust SpeedKm/h, Precipitationmm, Events, Conditions, WindDirDegrees, DateUTC<br />, timestamp.1, date, year, month, day, hour, dayofweek]\nIndex: []\n\n[0 rows x 22 columns]",
      "text/html": "<div>\n<style scoped>\n    .dataframe tbody tr th:only-of-type {\n        vertical-align: middle;\n    }\n\n    .dataframe tbody tr th {\n        vertical-align: top;\n    }\n\n    .dataframe thead th {\n        text-align: right;\n    }\n</style>\n<table border=\"1\" class=\"dataframe\">\n  <thead>\n    <tr style=\"text-align: right;\">\n      <th></th>\n      <th>timestamp</th>\n      <th>TimeMST</th>\n      <th>TemperatureC</th>\n      <th>Dew PointC</th>\n      <th>Humidity</th>\n      <th>Sea Level PressurehPa</th>\n      <th>VisibilityKm</th>\n      <th>Wind Direction</th>\n      <th>Wind SpeedKm/h</th>\n      <th>Gust SpeedKm/h</th>\n      <th>...</th>\n      <th>Conditions</th>\n      <th>WindDirDegrees</th>\n      <th>DateUTC&lt;br /&gt;</th>\n      <th>timestamp.1</th>\n      <th>date</th>\n      <th>year</th>\n      <th>month</th>\n      <th>day</th>\n      <th>hour</th>\n      <th>dayofweek</th>\n    </tr>\n  </thead>\n  <tbody>\n  </tbody>\n</table>\n<p>0 rows × 22 columns</p>\n</div>"
     },
     "execution_count": 67,
     "metadata": {},
     "output_type": "execute_result"
    }
   ],
   "source": [
    "# 확인\n",
    "time_weather[time_weather.duplicated([\"date\", \"hour\"], keep=False)]"
   ],
   "metadata": {
    "collapsed": false,
    "pycharm": {
     "name": "#%%\n"
    }
   }
  },
  {
   "cell_type": "markdown",
   "source": [
    "time_weather과 energy 데이터를 결합하기위해 energy data도 날짜와 시간 컬럼 만들어주자"
   ],
   "metadata": {
    "collapsed": false
   }
  },
  {
   "cell_type": "code",
   "execution_count": 70,
   "outputs": [
    {
     "data": {
      "text/plain": "                timestamp  UnivClass_Alfredo\n0     2015-01-01 00:00:00           204.2500\n1     2015-01-01 01:00:00           202.6150\n2     2015-01-01 02:00:00           198.5525\n3     2015-01-01 03:00:00           198.5050\n4     2015-01-01 04:00:00           201.8350\n...                   ...                ...\n8755  2015-12-31 19:00:00           177.0500\n8756  2015-12-31 20:00:00           177.0300\n8757  2015-12-31 21:00:00           166.7425\n8758  2015-12-31 22:00:00           177.5900\n8759  2015-12-31 23:00:00           175.9400\n\n[8760 rows x 2 columns]",
      "text/html": "<div>\n<style scoped>\n    .dataframe tbody tr th:only-of-type {\n        vertical-align: middle;\n    }\n\n    .dataframe tbody tr th {\n        vertical-align: top;\n    }\n\n    .dataframe thead th {\n        text-align: right;\n    }\n</style>\n<table border=\"1\" class=\"dataframe\">\n  <thead>\n    <tr style=\"text-align: right;\">\n      <th></th>\n      <th>timestamp</th>\n      <th>UnivClass_Alfredo</th>\n    </tr>\n  </thead>\n  <tbody>\n    <tr>\n      <th>0</th>\n      <td>2015-01-01 00:00:00</td>\n      <td>204.2500</td>\n    </tr>\n    <tr>\n      <th>1</th>\n      <td>2015-01-01 01:00:00</td>\n      <td>202.6150</td>\n    </tr>\n    <tr>\n      <th>2</th>\n      <td>2015-01-01 02:00:00</td>\n      <td>198.5525</td>\n    </tr>\n    <tr>\n      <th>3</th>\n      <td>2015-01-01 03:00:00</td>\n      <td>198.5050</td>\n    </tr>\n    <tr>\n      <th>4</th>\n      <td>2015-01-01 04:00:00</td>\n      <td>201.8350</td>\n    </tr>\n    <tr>\n      <th>...</th>\n      <td>...</td>\n      <td>...</td>\n    </tr>\n    <tr>\n      <th>8755</th>\n      <td>2015-12-31 19:00:00</td>\n      <td>177.0500</td>\n    </tr>\n    <tr>\n      <th>8756</th>\n      <td>2015-12-31 20:00:00</td>\n      <td>177.0300</td>\n    </tr>\n    <tr>\n      <th>8757</th>\n      <td>2015-12-31 21:00:00</td>\n      <td>166.7425</td>\n    </tr>\n    <tr>\n      <th>8758</th>\n      <td>2015-12-31 22:00:00</td>\n      <td>177.5900</td>\n    </tr>\n    <tr>\n      <th>8759</th>\n      <td>2015-12-31 23:00:00</td>\n      <td>175.9400</td>\n    </tr>\n  </tbody>\n</table>\n<p>8760 rows × 2 columns</p>\n</div>"
     },
     "execution_count": 70,
     "metadata": {},
     "output_type": "execute_result"
    }
   ],
   "source": [
    "energy"
   ],
   "metadata": {
    "collapsed": false,
    "pycharm": {
     "name": "#%%\n"
    }
   }
  },
  {
   "cell_type": "code",
   "execution_count": 73,
   "outputs": [
    {
     "data": {
      "text/plain": "      UnivClass_Alfredo        date  hour\n0              204.2500  2015-01-01     0\n1              202.6150  2015-01-01     1\n2              198.5525  2015-01-01     2\n3              198.5050  2015-01-01     3\n4              201.8350  2015-01-01     4\n...                 ...         ...   ...\n8755           177.0500  2015-12-31    19\n8756           177.0300  2015-12-31    20\n8757           166.7425  2015-12-31    21\n8758           177.5900  2015-12-31    22\n8759           175.9400  2015-12-31    23\n\n[8760 rows x 3 columns]",
      "text/html": "<div>\n<style scoped>\n    .dataframe tbody tr th:only-of-type {\n        vertical-align: middle;\n    }\n\n    .dataframe tbody tr th {\n        vertical-align: top;\n    }\n\n    .dataframe thead th {\n        text-align: right;\n    }\n</style>\n<table border=\"1\" class=\"dataframe\">\n  <thead>\n    <tr style=\"text-align: right;\">\n      <th></th>\n      <th>UnivClass_Alfredo</th>\n      <th>date</th>\n      <th>hour</th>\n    </tr>\n  </thead>\n  <tbody>\n    <tr>\n      <th>0</th>\n      <td>204.2500</td>\n      <td>2015-01-01</td>\n      <td>0</td>\n    </tr>\n    <tr>\n      <th>1</th>\n      <td>202.6150</td>\n      <td>2015-01-01</td>\n      <td>1</td>\n    </tr>\n    <tr>\n      <th>2</th>\n      <td>198.5525</td>\n      <td>2015-01-01</td>\n      <td>2</td>\n    </tr>\n    <tr>\n      <th>3</th>\n      <td>198.5050</td>\n      <td>2015-01-01</td>\n      <td>3</td>\n    </tr>\n    <tr>\n      <th>4</th>\n      <td>201.8350</td>\n      <td>2015-01-01</td>\n      <td>4</td>\n    </tr>\n    <tr>\n      <th>...</th>\n      <td>...</td>\n      <td>...</td>\n      <td>...</td>\n    </tr>\n    <tr>\n      <th>8755</th>\n      <td>177.0500</td>\n      <td>2015-12-31</td>\n      <td>19</td>\n    </tr>\n    <tr>\n      <th>8756</th>\n      <td>177.0300</td>\n      <td>2015-12-31</td>\n      <td>20</td>\n    </tr>\n    <tr>\n      <th>8757</th>\n      <td>166.7425</td>\n      <td>2015-12-31</td>\n      <td>21</td>\n    </tr>\n    <tr>\n      <th>8758</th>\n      <td>177.5900</td>\n      <td>2015-12-31</td>\n      <td>22</td>\n    </tr>\n    <tr>\n      <th>8759</th>\n      <td>175.9400</td>\n      <td>2015-12-31</td>\n      <td>23</td>\n    </tr>\n  </tbody>\n</table>\n<p>8760 rows × 3 columns</p>\n</div>"
     },
     "execution_count": 73,
     "metadata": {},
     "output_type": "execute_result"
    }
   ],
   "source": [
    "energy['timestamp'] = pd.to_datetime(energy['timestamp'], format='%Y-%m-%d %H:%M:%S', errors='coerce')\n",
    "dt = pd.DatetimeIndex(energy[\"timestamp\"])\n",
    "energy[\"date\"] = dt.date\n",
    "energy[\"hour\"] = dt.hour\n",
    "energy = energy.drop(\"timestamp\", axis=1)\n",
    "energy"
   ],
   "metadata": {
    "collapsed": false,
    "pycharm": {
     "name": "#%%\n"
    }
   }
  },
  {
   "cell_type": "markdown",
   "source": [
    "time_weather, energy 데이터프레임 결합"
   ],
   "metadata": {
    "collapsed": false
   }
  },
  {
   "cell_type": "code",
   "execution_count": 76,
   "outputs": [
    {
     "data": {
      "text/plain": "               timestamp   TimeMST  TemperatureC  Dew PointC  Humidity  \\\n0    2015-01-01 00:51:00  12:51 AM           2.8        -0.6      79.0   \n1    2015-01-01 01:51:00   1:51 AM           2.8        -0.6      79.0   \n2    2015-01-01 02:51:00   2:51 AM           2.8        -1.1      76.0   \n3    2015-01-01 03:51:00   3:51 AM           2.2        -0.6      82.0   \n4    2015-01-01 04:51:00   4:51 AM           2.2        -1.1      79.0   \n...                  ...       ...           ...         ...       ...   \n8735 2015-12-31 19:51:00   7:51 PM          12.2        -6.1      28.0   \n8736 2015-12-31 20:51:00   8:51 PM          11.7        -6.7      27.0   \n8737 2015-12-31 21:51:00   9:51 PM          10.0        -6.7      31.0   \n8738 2015-12-31 22:51:00  10:51 PM           9.4        -6.1      33.0   \n8739 2015-12-31 23:51:00  11:51 PM           7.2        -5.6      40.0   \n\n      Sea Level PressurehPa  VisibilityKm Wind Direction Wind SpeedKm/h  \\\n0                    1016.0          16.1            WNW            9.3   \n1                    1016.9          16.1            WNW            7.4   \n2                    1017.2          16.1             NW            5.6   \n3                    1017.5          16.1            ENE            5.6   \n4                    1017.9          16.1            ENE            5.6   \n...                     ...           ...            ...            ...   \n8735                 1016.6          16.1           West           11.1   \n8736                 1017.0          16.1           West           11.1   \n8737                 1017.2          16.1           West            5.6   \n8738                 1017.4          16.1           Calm           Calm   \n8739                 1017.3          16.1           Calm           Calm   \n\n     Gust SpeedKm/h  ...  WindDirDegrees              DateUTC<br />  \\\n0                 -  ...             300  2015-01-01 07:51:00<br />   \n1                 -  ...             300  2015-01-01 08:51:00<br />   \n2                 -  ...             320  2015-01-01 09:51:00<br />   \n3                 -  ...              60  2015-01-01 10:51:00<br />   \n4                 -  ...              70  2015-01-01 11:51:00<br />   \n...             ...  ...             ...                        ...   \n8735              -  ...             280  2016-01-01 02:51:00<br />   \n8736              -  ...             270  2016-01-01 03:51:00<br />   \n8737              -  ...             260  2016-01-01 04:51:00<br />   \n8738              -  ...               0  2016-01-01 05:51:00<br />   \n8739              -  ...               0  2016-01-01 06:51:00<br />   \n\n              timestamp.1        date  year month day  hour  dayofweek  \\\n0     2015-01-01 00:51:00  2015-01-01  2015     1   1     0          3   \n1     2015-01-01 01:51:00  2015-01-01  2015     1   1     1          3   \n2     2015-01-01 02:51:00  2015-01-01  2015     1   1     2          3   \n3     2015-01-01 03:51:00  2015-01-01  2015     1   1     3          3   \n4     2015-01-01 04:51:00  2015-01-01  2015     1   1     4          3   \n...                   ...         ...   ...   ...  ..   ...        ...   \n8735  2015-12-31 19:51:00  2015-12-31  2015    12  31    19          3   \n8736  2015-12-31 20:51:00  2015-12-31  2015    12  31    20          3   \n8737  2015-12-31 21:51:00  2015-12-31  2015    12  31    21          3   \n8738  2015-12-31 22:51:00  2015-12-31  2015    12  31    22          3   \n8739  2015-12-31 23:51:00  2015-12-31  2015    12  31    23          3   \n\n      UnivClass_Alfredo  \n0              204.2500  \n1              202.6150  \n2              198.5525  \n3              198.5050  \n4              201.8350  \n...                 ...  \n8735           177.0500  \n8736           177.0300  \n8737           166.7425  \n8738           177.5900  \n8739           175.9400  \n\n[8740 rows x 23 columns]",
      "text/html": "<div>\n<style scoped>\n    .dataframe tbody tr th:only-of-type {\n        vertical-align: middle;\n    }\n\n    .dataframe tbody tr th {\n        vertical-align: top;\n    }\n\n    .dataframe thead th {\n        text-align: right;\n    }\n</style>\n<table border=\"1\" class=\"dataframe\">\n  <thead>\n    <tr style=\"text-align: right;\">\n      <th></th>\n      <th>timestamp</th>\n      <th>TimeMST</th>\n      <th>TemperatureC</th>\n      <th>Dew PointC</th>\n      <th>Humidity</th>\n      <th>Sea Level PressurehPa</th>\n      <th>VisibilityKm</th>\n      <th>Wind Direction</th>\n      <th>Wind SpeedKm/h</th>\n      <th>Gust SpeedKm/h</th>\n      <th>...</th>\n      <th>WindDirDegrees</th>\n      <th>DateUTC&lt;br /&gt;</th>\n      <th>timestamp.1</th>\n      <th>date</th>\n      <th>year</th>\n      <th>month</th>\n      <th>day</th>\n      <th>hour</th>\n      <th>dayofweek</th>\n      <th>UnivClass_Alfredo</th>\n    </tr>\n  </thead>\n  <tbody>\n    <tr>\n      <th>0</th>\n      <td>2015-01-01 00:51:00</td>\n      <td>12:51 AM</td>\n      <td>2.8</td>\n      <td>-0.6</td>\n      <td>79.0</td>\n      <td>1016.0</td>\n      <td>16.1</td>\n      <td>WNW</td>\n      <td>9.3</td>\n      <td>-</td>\n      <td>...</td>\n      <td>300</td>\n      <td>2015-01-01 07:51:00&lt;br /&gt;</td>\n      <td>2015-01-01 00:51:00</td>\n      <td>2015-01-01</td>\n      <td>2015</td>\n      <td>1</td>\n      <td>1</td>\n      <td>0</td>\n      <td>3</td>\n      <td>204.2500</td>\n    </tr>\n    <tr>\n      <th>1</th>\n      <td>2015-01-01 01:51:00</td>\n      <td>1:51 AM</td>\n      <td>2.8</td>\n      <td>-0.6</td>\n      <td>79.0</td>\n      <td>1016.9</td>\n      <td>16.1</td>\n      <td>WNW</td>\n      <td>7.4</td>\n      <td>-</td>\n      <td>...</td>\n      <td>300</td>\n      <td>2015-01-01 08:51:00&lt;br /&gt;</td>\n      <td>2015-01-01 01:51:00</td>\n      <td>2015-01-01</td>\n      <td>2015</td>\n      <td>1</td>\n      <td>1</td>\n      <td>1</td>\n      <td>3</td>\n      <td>202.6150</td>\n    </tr>\n    <tr>\n      <th>2</th>\n      <td>2015-01-01 02:51:00</td>\n      <td>2:51 AM</td>\n      <td>2.8</td>\n      <td>-1.1</td>\n      <td>76.0</td>\n      <td>1017.2</td>\n      <td>16.1</td>\n      <td>NW</td>\n      <td>5.6</td>\n      <td>-</td>\n      <td>...</td>\n      <td>320</td>\n      <td>2015-01-01 09:51:00&lt;br /&gt;</td>\n      <td>2015-01-01 02:51:00</td>\n      <td>2015-01-01</td>\n      <td>2015</td>\n      <td>1</td>\n      <td>1</td>\n      <td>2</td>\n      <td>3</td>\n      <td>198.5525</td>\n    </tr>\n    <tr>\n      <th>3</th>\n      <td>2015-01-01 03:51:00</td>\n      <td>3:51 AM</td>\n      <td>2.2</td>\n      <td>-0.6</td>\n      <td>82.0</td>\n      <td>1017.5</td>\n      <td>16.1</td>\n      <td>ENE</td>\n      <td>5.6</td>\n      <td>-</td>\n      <td>...</td>\n      <td>60</td>\n      <td>2015-01-01 10:51:00&lt;br /&gt;</td>\n      <td>2015-01-01 03:51:00</td>\n      <td>2015-01-01</td>\n      <td>2015</td>\n      <td>1</td>\n      <td>1</td>\n      <td>3</td>\n      <td>3</td>\n      <td>198.5050</td>\n    </tr>\n    <tr>\n      <th>4</th>\n      <td>2015-01-01 04:51:00</td>\n      <td>4:51 AM</td>\n      <td>2.2</td>\n      <td>-1.1</td>\n      <td>79.0</td>\n      <td>1017.9</td>\n      <td>16.1</td>\n      <td>ENE</td>\n      <td>5.6</td>\n      <td>-</td>\n      <td>...</td>\n      <td>70</td>\n      <td>2015-01-01 11:51:00&lt;br /&gt;</td>\n      <td>2015-01-01 04:51:00</td>\n      <td>2015-01-01</td>\n      <td>2015</td>\n      <td>1</td>\n      <td>1</td>\n      <td>4</td>\n      <td>3</td>\n      <td>201.8350</td>\n    </tr>\n    <tr>\n      <th>...</th>\n      <td>...</td>\n      <td>...</td>\n      <td>...</td>\n      <td>...</td>\n      <td>...</td>\n      <td>...</td>\n      <td>...</td>\n      <td>...</td>\n      <td>...</td>\n      <td>...</td>\n      <td>...</td>\n      <td>...</td>\n      <td>...</td>\n      <td>...</td>\n      <td>...</td>\n      <td>...</td>\n      <td>...</td>\n      <td>...</td>\n      <td>...</td>\n      <td>...</td>\n      <td>...</td>\n    </tr>\n    <tr>\n      <th>8735</th>\n      <td>2015-12-31 19:51:00</td>\n      <td>7:51 PM</td>\n      <td>12.2</td>\n      <td>-6.1</td>\n      <td>28.0</td>\n      <td>1016.6</td>\n      <td>16.1</td>\n      <td>West</td>\n      <td>11.1</td>\n      <td>-</td>\n      <td>...</td>\n      <td>280</td>\n      <td>2016-01-01 02:51:00&lt;br /&gt;</td>\n      <td>2015-12-31 19:51:00</td>\n      <td>2015-12-31</td>\n      <td>2015</td>\n      <td>12</td>\n      <td>31</td>\n      <td>19</td>\n      <td>3</td>\n      <td>177.0500</td>\n    </tr>\n    <tr>\n      <th>8736</th>\n      <td>2015-12-31 20:51:00</td>\n      <td>8:51 PM</td>\n      <td>11.7</td>\n      <td>-6.7</td>\n      <td>27.0</td>\n      <td>1017.0</td>\n      <td>16.1</td>\n      <td>West</td>\n      <td>11.1</td>\n      <td>-</td>\n      <td>...</td>\n      <td>270</td>\n      <td>2016-01-01 03:51:00&lt;br /&gt;</td>\n      <td>2015-12-31 20:51:00</td>\n      <td>2015-12-31</td>\n      <td>2015</td>\n      <td>12</td>\n      <td>31</td>\n      <td>20</td>\n      <td>3</td>\n      <td>177.0300</td>\n    </tr>\n    <tr>\n      <th>8737</th>\n      <td>2015-12-31 21:51:00</td>\n      <td>9:51 PM</td>\n      <td>10.0</td>\n      <td>-6.7</td>\n      <td>31.0</td>\n      <td>1017.2</td>\n      <td>16.1</td>\n      <td>West</td>\n      <td>5.6</td>\n      <td>-</td>\n      <td>...</td>\n      <td>260</td>\n      <td>2016-01-01 04:51:00&lt;br /&gt;</td>\n      <td>2015-12-31 21:51:00</td>\n      <td>2015-12-31</td>\n      <td>2015</td>\n      <td>12</td>\n      <td>31</td>\n      <td>21</td>\n      <td>3</td>\n      <td>166.7425</td>\n    </tr>\n    <tr>\n      <th>8738</th>\n      <td>2015-12-31 22:51:00</td>\n      <td>10:51 PM</td>\n      <td>9.4</td>\n      <td>-6.1</td>\n      <td>33.0</td>\n      <td>1017.4</td>\n      <td>16.1</td>\n      <td>Calm</td>\n      <td>Calm</td>\n      <td>-</td>\n      <td>...</td>\n      <td>0</td>\n      <td>2016-01-01 05:51:00&lt;br /&gt;</td>\n      <td>2015-12-31 22:51:00</td>\n      <td>2015-12-31</td>\n      <td>2015</td>\n      <td>12</td>\n      <td>31</td>\n      <td>22</td>\n      <td>3</td>\n      <td>177.5900</td>\n    </tr>\n    <tr>\n      <th>8739</th>\n      <td>2015-12-31 23:51:00</td>\n      <td>11:51 PM</td>\n      <td>7.2</td>\n      <td>-5.6</td>\n      <td>40.0</td>\n      <td>1017.3</td>\n      <td>16.1</td>\n      <td>Calm</td>\n      <td>Calm</td>\n      <td>-</td>\n      <td>...</td>\n      <td>0</td>\n      <td>2016-01-01 06:51:00&lt;br /&gt;</td>\n      <td>2015-12-31 23:51:00</td>\n      <td>2015-12-31</td>\n      <td>2015</td>\n      <td>12</td>\n      <td>31</td>\n      <td>23</td>\n      <td>3</td>\n      <td>175.9400</td>\n    </tr>\n  </tbody>\n</table>\n<p>8740 rows × 23 columns</p>\n</div>"
     },
     "execution_count": 76,
     "metadata": {},
     "output_type": "execute_result"
    }
   ],
   "source": [
    "df = pd.merge(time_weather, energy, how=\"inner\", on=[\"date\", \"hour\"])\n",
    "df"
   ],
   "metadata": {
    "collapsed": false,
    "pycharm": {
     "name": "#%%\n"
    }
   }
  },
  {
   "cell_type": "markdown",
   "source": [
    "보기 편하도록 안쓰는 컬럼 제거"
   ],
   "metadata": {
    "collapsed": false
   }
  },
  {
   "cell_type": "code",
   "execution_count": 78,
   "outputs": [
    {
     "data": {
      "text/plain": "      TemperatureC  Dew PointC  Humidity  Sea Level PressurehPa  VisibilityKm  \\\n0              2.8        -0.6      79.0                 1016.0          16.1   \n1              2.8        -0.6      79.0                 1016.9          16.1   \n2              2.8        -1.1      76.0                 1017.2          16.1   \n3              2.2        -0.6      82.0                 1017.5          16.1   \n4              2.2        -1.1      79.0                 1017.9          16.1   \n...            ...         ...       ...                    ...           ...   \n8735          12.2        -6.1      28.0                 1016.6          16.1   \n8736          11.7        -6.7      27.0                 1017.0          16.1   \n8737          10.0        -6.7      31.0                 1017.2          16.1   \n8738           9.4        -6.1      33.0                 1017.4          16.1   \n8739           7.2        -5.6      40.0                 1017.3          16.1   \n\n     Wind Direction Wind SpeedKm/h Gust SpeedKm/h  Precipitationmm Events  \\\n0               WNW            9.3              -              NaN    NaN   \n1               WNW            7.4              -              NaN    NaN   \n2                NW            5.6              -              NaN    NaN   \n3               ENE            5.6              -              NaN    NaN   \n4               ENE            5.6              -              NaN    NaN   \n...             ...            ...            ...              ...    ...   \n8735           West           11.1              -              NaN    NaN   \n8736           West           11.1              -              NaN    NaN   \n8737           West            5.6              -              NaN    NaN   \n8738           Calm           Calm              -              NaN    NaN   \n8739           Calm           Calm              -              NaN    NaN   \n\n            Conditions  WindDirDegrees        date  year  month  day  hour  \\\n0        Mostly Cloudy             300  2015-01-01  2015      1    1     0   \n1        Mostly Cloudy             300  2015-01-01  2015      1    1     1   \n2     Scattered Clouds             320  2015-01-01  2015      1    1     2   \n3        Partly Cloudy              60  2015-01-01  2015      1    1     3   \n4        Partly Cloudy              70  2015-01-01  2015      1    1     4   \n...                ...             ...         ...   ...    ...  ...   ...   \n8735             Clear             280  2015-12-31  2015     12   31    19   \n8736     Partly Cloudy             270  2015-12-31  2015     12   31    20   \n8737             Clear             260  2015-12-31  2015     12   31    21   \n8738             Clear               0  2015-12-31  2015     12   31    22   \n8739             Clear               0  2015-12-31  2015     12   31    23   \n\n      dayofweek  UnivClass_Alfredo  \n0             3           204.2500  \n1             3           202.6150  \n2             3           198.5525  \n3             3           198.5050  \n4             3           201.8350  \n...         ...                ...  \n8735          3           177.0500  \n8736          3           177.0300  \n8737          3           166.7425  \n8738          3           177.5900  \n8739          3           175.9400  \n\n[8740 rows x 19 columns]",
      "text/html": "<div>\n<style scoped>\n    .dataframe tbody tr th:only-of-type {\n        vertical-align: middle;\n    }\n\n    .dataframe tbody tr th {\n        vertical-align: top;\n    }\n\n    .dataframe thead th {\n        text-align: right;\n    }\n</style>\n<table border=\"1\" class=\"dataframe\">\n  <thead>\n    <tr style=\"text-align: right;\">\n      <th></th>\n      <th>TemperatureC</th>\n      <th>Dew PointC</th>\n      <th>Humidity</th>\n      <th>Sea Level PressurehPa</th>\n      <th>VisibilityKm</th>\n      <th>Wind Direction</th>\n      <th>Wind SpeedKm/h</th>\n      <th>Gust SpeedKm/h</th>\n      <th>Precipitationmm</th>\n      <th>Events</th>\n      <th>Conditions</th>\n      <th>WindDirDegrees</th>\n      <th>date</th>\n      <th>year</th>\n      <th>month</th>\n      <th>day</th>\n      <th>hour</th>\n      <th>dayofweek</th>\n      <th>UnivClass_Alfredo</th>\n    </tr>\n  </thead>\n  <tbody>\n    <tr>\n      <th>0</th>\n      <td>2.8</td>\n      <td>-0.6</td>\n      <td>79.0</td>\n      <td>1016.0</td>\n      <td>16.1</td>\n      <td>WNW</td>\n      <td>9.3</td>\n      <td>-</td>\n      <td>NaN</td>\n      <td>NaN</td>\n      <td>Mostly Cloudy</td>\n      <td>300</td>\n      <td>2015-01-01</td>\n      <td>2015</td>\n      <td>1</td>\n      <td>1</td>\n      <td>0</td>\n      <td>3</td>\n      <td>204.2500</td>\n    </tr>\n    <tr>\n      <th>1</th>\n      <td>2.8</td>\n      <td>-0.6</td>\n      <td>79.0</td>\n      <td>1016.9</td>\n      <td>16.1</td>\n      <td>WNW</td>\n      <td>7.4</td>\n      <td>-</td>\n      <td>NaN</td>\n      <td>NaN</td>\n      <td>Mostly Cloudy</td>\n      <td>300</td>\n      <td>2015-01-01</td>\n      <td>2015</td>\n      <td>1</td>\n      <td>1</td>\n      <td>1</td>\n      <td>3</td>\n      <td>202.6150</td>\n    </tr>\n    <tr>\n      <th>2</th>\n      <td>2.8</td>\n      <td>-1.1</td>\n      <td>76.0</td>\n      <td>1017.2</td>\n      <td>16.1</td>\n      <td>NW</td>\n      <td>5.6</td>\n      <td>-</td>\n      <td>NaN</td>\n      <td>NaN</td>\n      <td>Scattered Clouds</td>\n      <td>320</td>\n      <td>2015-01-01</td>\n      <td>2015</td>\n      <td>1</td>\n      <td>1</td>\n      <td>2</td>\n      <td>3</td>\n      <td>198.5525</td>\n    </tr>\n    <tr>\n      <th>3</th>\n      <td>2.2</td>\n      <td>-0.6</td>\n      <td>82.0</td>\n      <td>1017.5</td>\n      <td>16.1</td>\n      <td>ENE</td>\n      <td>5.6</td>\n      <td>-</td>\n      <td>NaN</td>\n      <td>NaN</td>\n      <td>Partly Cloudy</td>\n      <td>60</td>\n      <td>2015-01-01</td>\n      <td>2015</td>\n      <td>1</td>\n      <td>1</td>\n      <td>3</td>\n      <td>3</td>\n      <td>198.5050</td>\n    </tr>\n    <tr>\n      <th>4</th>\n      <td>2.2</td>\n      <td>-1.1</td>\n      <td>79.0</td>\n      <td>1017.9</td>\n      <td>16.1</td>\n      <td>ENE</td>\n      <td>5.6</td>\n      <td>-</td>\n      <td>NaN</td>\n      <td>NaN</td>\n      <td>Partly Cloudy</td>\n      <td>70</td>\n      <td>2015-01-01</td>\n      <td>2015</td>\n      <td>1</td>\n      <td>1</td>\n      <td>4</td>\n      <td>3</td>\n      <td>201.8350</td>\n    </tr>\n    <tr>\n      <th>...</th>\n      <td>...</td>\n      <td>...</td>\n      <td>...</td>\n      <td>...</td>\n      <td>...</td>\n      <td>...</td>\n      <td>...</td>\n      <td>...</td>\n      <td>...</td>\n      <td>...</td>\n      <td>...</td>\n      <td>...</td>\n      <td>...</td>\n      <td>...</td>\n      <td>...</td>\n      <td>...</td>\n      <td>...</td>\n      <td>...</td>\n      <td>...</td>\n    </tr>\n    <tr>\n      <th>8735</th>\n      <td>12.2</td>\n      <td>-6.1</td>\n      <td>28.0</td>\n      <td>1016.6</td>\n      <td>16.1</td>\n      <td>West</td>\n      <td>11.1</td>\n      <td>-</td>\n      <td>NaN</td>\n      <td>NaN</td>\n      <td>Clear</td>\n      <td>280</td>\n      <td>2015-12-31</td>\n      <td>2015</td>\n      <td>12</td>\n      <td>31</td>\n      <td>19</td>\n      <td>3</td>\n      <td>177.0500</td>\n    </tr>\n    <tr>\n      <th>8736</th>\n      <td>11.7</td>\n      <td>-6.7</td>\n      <td>27.0</td>\n      <td>1017.0</td>\n      <td>16.1</td>\n      <td>West</td>\n      <td>11.1</td>\n      <td>-</td>\n      <td>NaN</td>\n      <td>NaN</td>\n      <td>Partly Cloudy</td>\n      <td>270</td>\n      <td>2015-12-31</td>\n      <td>2015</td>\n      <td>12</td>\n      <td>31</td>\n      <td>20</td>\n      <td>3</td>\n      <td>177.0300</td>\n    </tr>\n    <tr>\n      <th>8737</th>\n      <td>10.0</td>\n      <td>-6.7</td>\n      <td>31.0</td>\n      <td>1017.2</td>\n      <td>16.1</td>\n      <td>West</td>\n      <td>5.6</td>\n      <td>-</td>\n      <td>NaN</td>\n      <td>NaN</td>\n      <td>Clear</td>\n      <td>260</td>\n      <td>2015-12-31</td>\n      <td>2015</td>\n      <td>12</td>\n      <td>31</td>\n      <td>21</td>\n      <td>3</td>\n      <td>166.7425</td>\n    </tr>\n    <tr>\n      <th>8738</th>\n      <td>9.4</td>\n      <td>-6.1</td>\n      <td>33.0</td>\n      <td>1017.4</td>\n      <td>16.1</td>\n      <td>Calm</td>\n      <td>Calm</td>\n      <td>-</td>\n      <td>NaN</td>\n      <td>NaN</td>\n      <td>Clear</td>\n      <td>0</td>\n      <td>2015-12-31</td>\n      <td>2015</td>\n      <td>12</td>\n      <td>31</td>\n      <td>22</td>\n      <td>3</td>\n      <td>177.5900</td>\n    </tr>\n    <tr>\n      <th>8739</th>\n      <td>7.2</td>\n      <td>-5.6</td>\n      <td>40.0</td>\n      <td>1017.3</td>\n      <td>16.1</td>\n      <td>Calm</td>\n      <td>Calm</td>\n      <td>-</td>\n      <td>NaN</td>\n      <td>NaN</td>\n      <td>Clear</td>\n      <td>0</td>\n      <td>2015-12-31</td>\n      <td>2015</td>\n      <td>12</td>\n      <td>31</td>\n      <td>23</td>\n      <td>3</td>\n      <td>175.9400</td>\n    </tr>\n  </tbody>\n</table>\n<p>8740 rows × 19 columns</p>\n</div>"
     },
     "execution_count": 78,
     "metadata": {},
     "output_type": "execute_result"
    }
   ],
   "source": [
    "drop_cols = ['timestamp', 'TimeMST', 'DateUTC<br />', 'timestamp.1']\n",
    "df = df.drop(drop_cols, axis=1)\n",
    "df"
   ],
   "metadata": {
    "collapsed": false,
    "pycharm": {
     "name": "#%%\n"
    }
   }
  },
  {
   "cell_type": "code",
   "execution_count": null,
   "outputs": [],
   "source": [],
   "metadata": {
    "collapsed": false,
    "pycharm": {
     "name": "#%%\n"
    }
   }
  }
 ],
 "metadata": {
  "kernelspec": {
   "display_name": "Python 3",
   "language": "python",
   "name": "python3"
  },
  "language_info": {
   "codemirror_mode": {
    "name": "ipython",
    "version": 2
   },
   "file_extension": ".py",
   "mimetype": "text/x-python",
   "name": "python",
   "nbconvert_exporter": "python",
   "pygments_lexer": "ipython2",
   "version": "2.7.6"
  }
 },
 "nbformat": 4,
 "nbformat_minor": 0
}