{
 "cells": [
  {
   "cell_type": "markdown",
   "source": [
    "# KNN 알고리즘"
   ],
   "metadata": {
    "collapsed": false
   }
  },
  {
   "cell_type": "code",
   "execution_count": 5,
   "outputs": [
    {
     "data": {
      "text/plain": "array([0])"
     },
     "execution_count": 5,
     "metadata": {},
     "output_type": "execute_result"
    }
   ],
   "source": [
    "from sklearn.neighbors import KNeighborsClassifier\n",
    "\n",
    "X = [[0], [1], [2], [3]]\n",
    "y = [0, 0, 1, 1]\n",
    "\n",
    "knn = KNeighborsClassifier(n_neighbors=3)\n",
    "knn.fit(X, y)\n",
    "knn.predict([[1.1]])"
   ],
   "metadata": {
    "collapsed": false,
    "pycharm": {
     "name": "#%%\n"
    }
   }
  },
  {
   "cell_type": "code",
   "execution_count": 12,
   "outputs": [
    {
     "data": {
      "text/plain": "['sepal length (cm)',\n 'sepal width (cm)',\n 'petal length (cm)',\n 'petal width (cm)']"
     },
     "execution_count": 12,
     "metadata": {},
     "output_type": "execute_result"
    }
   ],
   "source": [
    "from sklearn import datasets, neighbors\n",
    "\n",
    "iris = datasets.load_iris()\n",
    "iris[\"feature_names\"]"
   ],
   "metadata": {
    "collapsed": false,
    "pycharm": {
     "name": "#%%\n"
    }
   }
  },
  {
   "cell_type": "code",
   "execution_count": 13,
   "outputs": [
    {
     "data": {
      "text/plain": "                 timestamp          Conditions              DateUTC<br />  \\\n0      2013-01-01 00:00:00                 NaN  2012-12-31 23:00:00<br />   \n1      2013-01-01 00:20:00             Unknown  2012-12-31 23:20:00<br />   \n2      2013-01-01 00:50:00             Unknown  2012-12-31 23:50:00<br />   \n3      2013-01-01 01:00:00                Mist  2013-01-01 00:00:00<br />   \n4      2013-01-01 01:50:00                Mist  2013-01-01 00:50:00<br />   \n...                    ...                 ...                        ...   \n24316  2013-12-31 22:20:00  Light Freezing Fog  2013-12-31 21:20:00<br />   \n24317  2013-12-31 22:50:00  Light Freezing Fog  2013-12-31 21:50:00<br />   \n24318  2013-12-31 23:00:00                 NaN  2013-12-31 22:00:00<br />   \n24319  2013-12-31 23:20:00  Light Freezing Fog  2013-12-31 22:20:00<br />   \n24320  2013-12-31 23:50:00  Light Freezing Fog  2013-12-31 22:50:00<br />   \n\n       Dew PointC Events Gust SpeedKm/h  Humidity  Precipitationmm  \\\n0            -3.0    NaN            NaN      90.0              NaN   \n1            -4.0    NaN              -      86.0              NaN   \n2            -3.0    NaN              -      93.0              NaN   \n3            -4.0    NaN            NaN      91.0              NaN   \n4            -4.0    NaN              -      93.0              NaN   \n...           ...    ...            ...       ...              ...   \n24316        -3.0    Fog              -     100.0              NaN   \n24317        -3.0    Fog              -     100.0              NaN   \n24318        -3.0    NaN            NaN     100.0              NaN   \n24319        -3.0    Fog              -     100.0              NaN   \n24320        -4.0    Fog              -      93.0              NaN   \n\n       Sea Level PressurehPa  TemperatureC TimeCEST   TimeCET  VisibilityKm  \\\n0                     1016.0          -2.0      NaN  12:00 AM           NaN   \n1                     1013.0          -2.0      NaN  12:20 AM           7.0   \n2                     1013.0          -2.0      NaN  12:50 AM           6.0   \n3                     1016.0          -3.0      NaN   1:00 AM           6.0   \n4                     1012.0          -3.0      NaN   1:50 AM           3.0   \n...                      ...           ...      ...       ...           ...   \n24316                 1016.0          -3.0      NaN  10:20 PM           0.3   \n24317                 1016.0          -3.0      NaN  10:50 PM           0.3   \n24318                 1019.0          -3.0      NaN  11:00 PM           NaN   \n24319                 1016.0          -3.0      NaN  11:20 PM           0.3   \n24320                 1016.0          -3.0      NaN  11:50 PM           0.3   \n\n      Wind Direction Wind SpeedKm/h  WindDirDegrees          timestamp.1  \n0                 SE            1.9           130.0  2013-01-01 00:00:00  \n1                 NW            5.6           310.0  2013-01-01 00:20:00  \n2           Variable            3.7             0.0  2013-01-01 00:50:00  \n3                 NE            3.7            40.0  2013-01-01 01:00:00  \n4           Variable            1.9             0.0  2013-01-01 01:50:00  \n...              ...            ...             ...                  ...  \n24316       Variable            1.9             0.0  2013-12-31 22:20:00  \n24317       Variable            3.7             0.0  2013-12-31 22:50:00  \n24318          North            1.9             0.0  2013-12-31 23:00:00  \n24319       Variable            1.9             0.0  2013-12-31 23:20:00  \n24320       Variable            1.9             0.0  2013-12-31 23:50:00  \n\n[24321 rows x 17 columns]",
      "text/html": "<div>\n<style scoped>\n    .dataframe tbody tr th:only-of-type {\n        vertical-align: middle;\n    }\n\n    .dataframe tbody tr th {\n        vertical-align: top;\n    }\n\n    .dataframe thead th {\n        text-align: right;\n    }\n</style>\n<table border=\"1\" class=\"dataframe\">\n  <thead>\n    <tr style=\"text-align: right;\">\n      <th></th>\n      <th>timestamp</th>\n      <th>Conditions</th>\n      <th>DateUTC&lt;br /&gt;</th>\n      <th>Dew PointC</th>\n      <th>Events</th>\n      <th>Gust SpeedKm/h</th>\n      <th>Humidity</th>\n      <th>Precipitationmm</th>\n      <th>Sea Level PressurehPa</th>\n      <th>TemperatureC</th>\n      <th>TimeCEST</th>\n      <th>TimeCET</th>\n      <th>VisibilityKm</th>\n      <th>Wind Direction</th>\n      <th>Wind SpeedKm/h</th>\n      <th>WindDirDegrees</th>\n      <th>timestamp.1</th>\n    </tr>\n  </thead>\n  <tbody>\n    <tr>\n      <th>0</th>\n      <td>2013-01-01 00:00:00</td>\n      <td>NaN</td>\n      <td>2012-12-31 23:00:00&lt;br /&gt;</td>\n      <td>-3.0</td>\n      <td>NaN</td>\n      <td>NaN</td>\n      <td>90.0</td>\n      <td>NaN</td>\n      <td>1016.0</td>\n      <td>-2.0</td>\n      <td>NaN</td>\n      <td>12:00 AM</td>\n      <td>NaN</td>\n      <td>SE</td>\n      <td>1.9</td>\n      <td>130.0</td>\n      <td>2013-01-01 00:00:00</td>\n    </tr>\n    <tr>\n      <th>1</th>\n      <td>2013-01-01 00:20:00</td>\n      <td>Unknown</td>\n      <td>2012-12-31 23:20:00&lt;br /&gt;</td>\n      <td>-4.0</td>\n      <td>NaN</td>\n      <td>-</td>\n      <td>86.0</td>\n      <td>NaN</td>\n      <td>1013.0</td>\n      <td>-2.0</td>\n      <td>NaN</td>\n      <td>12:20 AM</td>\n      <td>7.0</td>\n      <td>NW</td>\n      <td>5.6</td>\n      <td>310.0</td>\n      <td>2013-01-01 00:20:00</td>\n    </tr>\n    <tr>\n      <th>2</th>\n      <td>2013-01-01 00:50:00</td>\n      <td>Unknown</td>\n      <td>2012-12-31 23:50:00&lt;br /&gt;</td>\n      <td>-3.0</td>\n      <td>NaN</td>\n      <td>-</td>\n      <td>93.0</td>\n      <td>NaN</td>\n      <td>1013.0</td>\n      <td>-2.0</td>\n      <td>NaN</td>\n      <td>12:50 AM</td>\n      <td>6.0</td>\n      <td>Variable</td>\n      <td>3.7</td>\n      <td>0.0</td>\n      <td>2013-01-01 00:50:00</td>\n    </tr>\n    <tr>\n      <th>3</th>\n      <td>2013-01-01 01:00:00</td>\n      <td>Mist</td>\n      <td>2013-01-01 00:00:00&lt;br /&gt;</td>\n      <td>-4.0</td>\n      <td>NaN</td>\n      <td>NaN</td>\n      <td>91.0</td>\n      <td>NaN</td>\n      <td>1016.0</td>\n      <td>-3.0</td>\n      <td>NaN</td>\n      <td>1:00 AM</td>\n      <td>6.0</td>\n      <td>NE</td>\n      <td>3.7</td>\n      <td>40.0</td>\n      <td>2013-01-01 01:00:00</td>\n    </tr>\n    <tr>\n      <th>4</th>\n      <td>2013-01-01 01:50:00</td>\n      <td>Mist</td>\n      <td>2013-01-01 00:50:00&lt;br /&gt;</td>\n      <td>-4.0</td>\n      <td>NaN</td>\n      <td>-</td>\n      <td>93.0</td>\n      <td>NaN</td>\n      <td>1012.0</td>\n      <td>-3.0</td>\n      <td>NaN</td>\n      <td>1:50 AM</td>\n      <td>3.0</td>\n      <td>Variable</td>\n      <td>1.9</td>\n      <td>0.0</td>\n      <td>2013-01-01 01:50:00</td>\n    </tr>\n    <tr>\n      <th>...</th>\n      <td>...</td>\n      <td>...</td>\n      <td>...</td>\n      <td>...</td>\n      <td>...</td>\n      <td>...</td>\n      <td>...</td>\n      <td>...</td>\n      <td>...</td>\n      <td>...</td>\n      <td>...</td>\n      <td>...</td>\n      <td>...</td>\n      <td>...</td>\n      <td>...</td>\n      <td>...</td>\n      <td>...</td>\n    </tr>\n    <tr>\n      <th>24316</th>\n      <td>2013-12-31 22:20:00</td>\n      <td>Light Freezing Fog</td>\n      <td>2013-12-31 21:20:00&lt;br /&gt;</td>\n      <td>-3.0</td>\n      <td>Fog</td>\n      <td>-</td>\n      <td>100.0</td>\n      <td>NaN</td>\n      <td>1016.0</td>\n      <td>-3.0</td>\n      <td>NaN</td>\n      <td>10:20 PM</td>\n      <td>0.3</td>\n      <td>Variable</td>\n      <td>1.9</td>\n      <td>0.0</td>\n      <td>2013-12-31 22:20:00</td>\n    </tr>\n    <tr>\n      <th>24317</th>\n      <td>2013-12-31 22:50:00</td>\n      <td>Light Freezing Fog</td>\n      <td>2013-12-31 21:50:00&lt;br /&gt;</td>\n      <td>-3.0</td>\n      <td>Fog</td>\n      <td>-</td>\n      <td>100.0</td>\n      <td>NaN</td>\n      <td>1016.0</td>\n      <td>-3.0</td>\n      <td>NaN</td>\n      <td>10:50 PM</td>\n      <td>0.3</td>\n      <td>Variable</td>\n      <td>3.7</td>\n      <td>0.0</td>\n      <td>2013-12-31 22:50:00</td>\n    </tr>\n    <tr>\n      <th>24318</th>\n      <td>2013-12-31 23:00:00</td>\n      <td>NaN</td>\n      <td>2013-12-31 22:00:00&lt;br /&gt;</td>\n      <td>-3.0</td>\n      <td>NaN</td>\n      <td>NaN</td>\n      <td>100.0</td>\n      <td>NaN</td>\n      <td>1019.0</td>\n      <td>-3.0</td>\n      <td>NaN</td>\n      <td>11:00 PM</td>\n      <td>NaN</td>\n      <td>North</td>\n      <td>1.9</td>\n      <td>0.0</td>\n      <td>2013-12-31 23:00:00</td>\n    </tr>\n    <tr>\n      <th>24319</th>\n      <td>2013-12-31 23:20:00</td>\n      <td>Light Freezing Fog</td>\n      <td>2013-12-31 22:20:00&lt;br /&gt;</td>\n      <td>-3.0</td>\n      <td>Fog</td>\n      <td>-</td>\n      <td>100.0</td>\n      <td>NaN</td>\n      <td>1016.0</td>\n      <td>-3.0</td>\n      <td>NaN</td>\n      <td>11:20 PM</td>\n      <td>0.3</td>\n      <td>Variable</td>\n      <td>1.9</td>\n      <td>0.0</td>\n      <td>2013-12-31 23:20:00</td>\n    </tr>\n    <tr>\n      <th>24320</th>\n      <td>2013-12-31 23:50:00</td>\n      <td>Light Freezing Fog</td>\n      <td>2013-12-31 22:50:00&lt;br /&gt;</td>\n      <td>-4.0</td>\n      <td>Fog</td>\n      <td>-</td>\n      <td>93.0</td>\n      <td>NaN</td>\n      <td>1016.0</td>\n      <td>-3.0</td>\n      <td>NaN</td>\n      <td>11:50 PM</td>\n      <td>0.3</td>\n      <td>Variable</td>\n      <td>1.9</td>\n      <td>0.0</td>\n      <td>2013-12-31 23:50:00</td>\n    </tr>\n  </tbody>\n</table>\n<p>24321 rows × 17 columns</p>\n</div>"
     },
     "execution_count": 13,
     "metadata": {},
     "output_type": "execute_result"
    }
   ],
   "source": [
    "import pandas as pd\n",
    "\n",
    "data = pd.read_csv(\"data/weather8.csv\")\n",
    "data"
   ],
   "metadata": {
    "collapsed": false,
    "pycharm": {
     "name": "#%%\n"
    }
   }
  },
  {
   "cell_type": "code",
   "execution_count": null,
   "outputs": [],
   "source": [],
   "metadata": {
    "collapsed": false,
    "pycharm": {
     "name": "#%%\n"
    }
   }
  }
 ],
 "metadata": {
  "kernelspec": {
   "display_name": "Python 3",
   "language": "python",
   "name": "python3"
  },
  "language_info": {
   "codemirror_mode": {
    "name": "ipython",
    "version": 2
   },
   "file_extension": ".py",
   "mimetype": "text/x-python",
   "name": "python",
   "nbconvert_exporter": "python",
   "pygments_lexer": "ipython2",
   "version": "2.7.6"
  }
 },
 "nbformat": 4,
 "nbformat_minor": 0
}