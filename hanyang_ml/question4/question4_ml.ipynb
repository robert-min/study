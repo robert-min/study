{
 "cells": [
  {
   "cell_type": "markdown",
   "source": [
    "# Question 4 예측 모델을 돌려보자!!"
   ],
   "metadata": {
    "collapsed": false
   }
  },
  {
   "cell_type": "markdown",
   "source": [
    "## 데이터 로드"
   ],
   "metadata": {
    "collapsed": false
   }
  },
  {
   "cell_type": "code",
   "execution_count": 1,
   "metadata": {
    "collapsed": true
   },
   "outputs": [
    {
     "data": {
      "text/plain": "   Unnamed: 0  Dew PointC  Gust SpeedKm/h  Humidity  Precipitationmm  \\\n0           0       -15.0             0.0      54.0              0.0   \n1           1       -14.4             0.0      55.0              0.0   \n2           2       -14.4             0.0      55.0              0.0   \n3           3       -14.4             0.0      55.0              0.0   \n4           4       -14.4             0.0      55.0              0.0   \n\n   Sea Level PressurehPa  TemperatureC  VisibilityKm  Wind SpeedKm/h  \\\n0                 1017.4          -7.2          16.1            18.5   \n1                 1017.2          -6.6          16.1            14.8   \n2                 1016.9          -6.6          16.1            14.8   \n3                 1017.2          -6.6          16.1            18.5   \n4                 1017.2          -6.6          16.1            14.8   \n\n   WindDirDegrees  ...  Wind Direction_North  Wind Direction_SE  \\\n0             230  ...                     0                  0   \n1             240  ...                     0                  0   \n2             220  ...                     0                  0   \n3             220  ...                     0                  0   \n4             210  ...                     0                  0   \n\n   Wind Direction_SSE  Wind Direction_SSW  Wind Direction_SW  \\\n0                   0                   0                  1   \n1                   0                   0                  0   \n2                   0                   0                  1   \n3                   0                   0                  1   \n4                   0                   1                  0   \n\n   Wind Direction_South  Wind Direction_Variable  Wind Direction_WNW  \\\n0                     0                        0                   0   \n1                     0                        0                   0   \n2                     0                        0                   0   \n3                     0                        0                   0   \n4                     0                        0                   0   \n\n   Wind Direction_WSW  Wind Direction_West  \n0                   0                    0  \n1                   1                    0  \n2                   0                    0  \n3                   0                    0  \n4                   0                    0  \n\n[5 rows x 71 columns]",
      "text/html": "<div>\n<style scoped>\n    .dataframe tbody tr th:only-of-type {\n        vertical-align: middle;\n    }\n\n    .dataframe tbody tr th {\n        vertical-align: top;\n    }\n\n    .dataframe thead th {\n        text-align: right;\n    }\n</style>\n<table border=\"1\" class=\"dataframe\">\n  <thead>\n    <tr style=\"text-align: right;\">\n      <th></th>\n      <th>Unnamed: 0</th>\n      <th>Dew PointC</th>\n      <th>Gust SpeedKm/h</th>\n      <th>Humidity</th>\n      <th>Precipitationmm</th>\n      <th>Sea Level PressurehPa</th>\n      <th>TemperatureC</th>\n      <th>VisibilityKm</th>\n      <th>Wind SpeedKm/h</th>\n      <th>WindDirDegrees</th>\n      <th>...</th>\n      <th>Wind Direction_North</th>\n      <th>Wind Direction_SE</th>\n      <th>Wind Direction_SSE</th>\n      <th>Wind Direction_SSW</th>\n      <th>Wind Direction_SW</th>\n      <th>Wind Direction_South</th>\n      <th>Wind Direction_Variable</th>\n      <th>Wind Direction_WNW</th>\n      <th>Wind Direction_WSW</th>\n      <th>Wind Direction_West</th>\n    </tr>\n  </thead>\n  <tbody>\n    <tr>\n      <th>0</th>\n      <td>0</td>\n      <td>-15.0</td>\n      <td>0.0</td>\n      <td>54.0</td>\n      <td>0.0</td>\n      <td>1017.4</td>\n      <td>-7.2</td>\n      <td>16.1</td>\n      <td>18.5</td>\n      <td>230</td>\n      <td>...</td>\n      <td>0</td>\n      <td>0</td>\n      <td>0</td>\n      <td>0</td>\n      <td>1</td>\n      <td>0</td>\n      <td>0</td>\n      <td>0</td>\n      <td>0</td>\n      <td>0</td>\n    </tr>\n    <tr>\n      <th>1</th>\n      <td>1</td>\n      <td>-14.4</td>\n      <td>0.0</td>\n      <td>55.0</td>\n      <td>0.0</td>\n      <td>1017.2</td>\n      <td>-6.6</td>\n      <td>16.1</td>\n      <td>14.8</td>\n      <td>240</td>\n      <td>...</td>\n      <td>0</td>\n      <td>0</td>\n      <td>0</td>\n      <td>0</td>\n      <td>0</td>\n      <td>0</td>\n      <td>0</td>\n      <td>0</td>\n      <td>1</td>\n      <td>0</td>\n    </tr>\n    <tr>\n      <th>2</th>\n      <td>2</td>\n      <td>-14.4</td>\n      <td>0.0</td>\n      <td>55.0</td>\n      <td>0.0</td>\n      <td>1016.9</td>\n      <td>-6.6</td>\n      <td>16.1</td>\n      <td>14.8</td>\n      <td>220</td>\n      <td>...</td>\n      <td>0</td>\n      <td>0</td>\n      <td>0</td>\n      <td>0</td>\n      <td>1</td>\n      <td>0</td>\n      <td>0</td>\n      <td>0</td>\n      <td>0</td>\n      <td>0</td>\n    </tr>\n    <tr>\n      <th>3</th>\n      <td>3</td>\n      <td>-14.4</td>\n      <td>0.0</td>\n      <td>55.0</td>\n      <td>0.0</td>\n      <td>1017.2</td>\n      <td>-6.6</td>\n      <td>16.1</td>\n      <td>18.5</td>\n      <td>220</td>\n      <td>...</td>\n      <td>0</td>\n      <td>0</td>\n      <td>0</td>\n      <td>0</td>\n      <td>1</td>\n      <td>0</td>\n      <td>0</td>\n      <td>0</td>\n      <td>0</td>\n      <td>0</td>\n    </tr>\n    <tr>\n      <th>4</th>\n      <td>4</td>\n      <td>-14.4</td>\n      <td>0.0</td>\n      <td>55.0</td>\n      <td>0.0</td>\n      <td>1017.2</td>\n      <td>-6.6</td>\n      <td>16.1</td>\n      <td>14.8</td>\n      <td>210</td>\n      <td>...</td>\n      <td>0</td>\n      <td>0</td>\n      <td>0</td>\n      <td>1</td>\n      <td>0</td>\n      <td>0</td>\n      <td>0</td>\n      <td>0</td>\n      <td>0</td>\n      <td>0</td>\n    </tr>\n  </tbody>\n</table>\n<p>5 rows × 71 columns</p>\n</div>"
     },
     "execution_count": 1,
     "metadata": {},
     "output_type": "execute_result"
    }
   ],
   "source": [
    "import pandas as pd\n",
    "\n",
    "df = pd.read_csv(\"./preprocessing_q4.csv\")\n",
    "df.head()"
   ]
  },
  {
   "cell_type": "code",
   "execution_count": 2,
   "outputs": [],
   "source": [
    "df = df.drop('Unnamed: 0', axis=1)"
   ],
   "metadata": {
    "collapsed": false,
    "pycharm": {
     "name": "#%%\n"
    }
   }
  },
  {
   "cell_type": "code",
   "execution_count": 3,
   "outputs": [
    {
     "data": {
      "text/plain": "        Dew PointC  Gust SpeedKm/h     Humidity  Precipitationmm  \\\ncount  8541.000000     8541.000000  8541.000000      8541.000000   \nmean      3.857323        4.331202    74.562815         0.004492   \nstd      11.351268       12.370641    18.280534         0.037346   \nmin     -32.200000        0.000000    16.000000         0.000000   \n25%      -3.800000        0.000000    62.000000         0.000000   \n50%       5.000000        0.000000    77.000000         0.000000   \n75%      13.300000        0.000000    90.000000         0.000000   \nmax      23.800000       64.800000   100.000000         1.430000   \n\n       Sea Level PressurehPa  TemperatureC  VisibilityKm  Wind SpeedKm/h  \\\ncount            8541.000000   8541.000000   8541.000000     8541.000000   \nmean             1018.411966      8.675928     14.513312       11.815584   \nstd                 7.438663     11.739865      3.839898        8.466212   \nmin               995.000000    -28.800000      0.100000        0.500000   \n25%              1013.300000      0.000000     16.100000        5.600000   \n50%              1018.300000     10.000000     16.100000       11.100000   \n75%              1023.200000     18.300000     16.100000       16.700000   \nmax              1044.400000     33.800000     16.100000       48.200000   \n\n       WindDirDegrees    year  ...  Wind Direction_North  Wind Direction_SE  \\\ncount     8541.000000  8541.0  ...           8541.000000        8541.000000   \nmean       179.663974  2015.0  ...              0.049057           0.028685   \nstd        120.084638     0.0  ...              0.216001           0.166930   \nmin          0.000000  2015.0  ...              0.000000           0.000000   \n25%         80.000000  2015.0  ...              0.000000           0.000000   \n50%        180.000000  2015.0  ...              0.000000           0.000000   \n75%        300.000000  2015.0  ...              0.000000           0.000000   \nmax        360.000000  2015.0  ...              1.000000           1.000000   \n\n       Wind Direction_SSE  Wind Direction_SSW  Wind Direction_SW  \\\ncount         8541.000000         8541.000000        8541.000000   \nmean             0.075401            0.028451           0.024470   \nstd              0.264053            0.166267           0.154513   \nmin              0.000000            0.000000           0.000000   \n25%              0.000000            0.000000           0.000000   \n50%              0.000000            0.000000           0.000000   \n75%              0.000000            0.000000           0.000000   \nmax              1.000000            1.000000           1.000000   \n\n       Wind Direction_South  Wind Direction_Variable  Wind Direction_WNW  \\\ncount           8541.000000              8541.000000         8541.000000   \nmean               0.138391                 0.014401            0.062171   \nstd                0.345330                 0.119144            0.241479   \nmin                0.000000                 0.000000            0.000000   \n25%                0.000000                 0.000000            0.000000   \n50%                0.000000                 0.000000            0.000000   \n75%                0.000000                 0.000000            0.000000   \nmax                1.000000                 1.000000            1.000000   \n\n       Wind Direction_WSW  Wind Direction_West  \ncount         8541.000000          8541.000000  \nmean             0.023065             0.048121  \nstd              0.150119             0.214034  \nmin              0.000000             0.000000  \n25%              0.000000             0.000000  \n50%              0.000000             0.000000  \n75%              0.000000             0.000000  \nmax              1.000000             1.000000  \n\n[8 rows x 70 columns]",
      "text/html": "<div>\n<style scoped>\n    .dataframe tbody tr th:only-of-type {\n        vertical-align: middle;\n    }\n\n    .dataframe tbody tr th {\n        vertical-align: top;\n    }\n\n    .dataframe thead th {\n        text-align: right;\n    }\n</style>\n<table border=\"1\" class=\"dataframe\">\n  <thead>\n    <tr style=\"text-align: right;\">\n      <th></th>\n      <th>Dew PointC</th>\n      <th>Gust SpeedKm/h</th>\n      <th>Humidity</th>\n      <th>Precipitationmm</th>\n      <th>Sea Level PressurehPa</th>\n      <th>TemperatureC</th>\n      <th>VisibilityKm</th>\n      <th>Wind SpeedKm/h</th>\n      <th>WindDirDegrees</th>\n      <th>year</th>\n      <th>...</th>\n      <th>Wind Direction_North</th>\n      <th>Wind Direction_SE</th>\n      <th>Wind Direction_SSE</th>\n      <th>Wind Direction_SSW</th>\n      <th>Wind Direction_SW</th>\n      <th>Wind Direction_South</th>\n      <th>Wind Direction_Variable</th>\n      <th>Wind Direction_WNW</th>\n      <th>Wind Direction_WSW</th>\n      <th>Wind Direction_West</th>\n    </tr>\n  </thead>\n  <tbody>\n    <tr>\n      <th>count</th>\n      <td>8541.000000</td>\n      <td>8541.000000</td>\n      <td>8541.000000</td>\n      <td>8541.000000</td>\n      <td>8541.000000</td>\n      <td>8541.000000</td>\n      <td>8541.000000</td>\n      <td>8541.000000</td>\n      <td>8541.000000</td>\n      <td>8541.0</td>\n      <td>...</td>\n      <td>8541.000000</td>\n      <td>8541.000000</td>\n      <td>8541.000000</td>\n      <td>8541.000000</td>\n      <td>8541.000000</td>\n      <td>8541.000000</td>\n      <td>8541.000000</td>\n      <td>8541.000000</td>\n      <td>8541.000000</td>\n      <td>8541.000000</td>\n    </tr>\n    <tr>\n      <th>mean</th>\n      <td>3.857323</td>\n      <td>4.331202</td>\n      <td>74.562815</td>\n      <td>0.004492</td>\n      <td>1018.411966</td>\n      <td>8.675928</td>\n      <td>14.513312</td>\n      <td>11.815584</td>\n      <td>179.663974</td>\n      <td>2015.0</td>\n      <td>...</td>\n      <td>0.049057</td>\n      <td>0.028685</td>\n      <td>0.075401</td>\n      <td>0.028451</td>\n      <td>0.024470</td>\n      <td>0.138391</td>\n      <td>0.014401</td>\n      <td>0.062171</td>\n      <td>0.023065</td>\n      <td>0.048121</td>\n    </tr>\n    <tr>\n      <th>std</th>\n      <td>11.351268</td>\n      <td>12.370641</td>\n      <td>18.280534</td>\n      <td>0.037346</td>\n      <td>7.438663</td>\n      <td>11.739865</td>\n      <td>3.839898</td>\n      <td>8.466212</td>\n      <td>120.084638</td>\n      <td>0.0</td>\n      <td>...</td>\n      <td>0.216001</td>\n      <td>0.166930</td>\n      <td>0.264053</td>\n      <td>0.166267</td>\n      <td>0.154513</td>\n      <td>0.345330</td>\n      <td>0.119144</td>\n      <td>0.241479</td>\n      <td>0.150119</td>\n      <td>0.214034</td>\n    </tr>\n    <tr>\n      <th>min</th>\n      <td>-32.200000</td>\n      <td>0.000000</td>\n      <td>16.000000</td>\n      <td>0.000000</td>\n      <td>995.000000</td>\n      <td>-28.800000</td>\n      <td>0.100000</td>\n      <td>0.500000</td>\n      <td>0.000000</td>\n      <td>2015.0</td>\n      <td>...</td>\n      <td>0.000000</td>\n      <td>0.000000</td>\n      <td>0.000000</td>\n      <td>0.000000</td>\n      <td>0.000000</td>\n      <td>0.000000</td>\n      <td>0.000000</td>\n      <td>0.000000</td>\n      <td>0.000000</td>\n      <td>0.000000</td>\n    </tr>\n    <tr>\n      <th>25%</th>\n      <td>-3.800000</td>\n      <td>0.000000</td>\n      <td>62.000000</td>\n      <td>0.000000</td>\n      <td>1013.300000</td>\n      <td>0.000000</td>\n      <td>16.100000</td>\n      <td>5.600000</td>\n      <td>80.000000</td>\n      <td>2015.0</td>\n      <td>...</td>\n      <td>0.000000</td>\n      <td>0.000000</td>\n      <td>0.000000</td>\n      <td>0.000000</td>\n      <td>0.000000</td>\n      <td>0.000000</td>\n      <td>0.000000</td>\n      <td>0.000000</td>\n      <td>0.000000</td>\n      <td>0.000000</td>\n    </tr>\n    <tr>\n      <th>50%</th>\n      <td>5.000000</td>\n      <td>0.000000</td>\n      <td>77.000000</td>\n      <td>0.000000</td>\n      <td>1018.300000</td>\n      <td>10.000000</td>\n      <td>16.100000</td>\n      <td>11.100000</td>\n      <td>180.000000</td>\n      <td>2015.0</td>\n      <td>...</td>\n      <td>0.000000</td>\n      <td>0.000000</td>\n      <td>0.000000</td>\n      <td>0.000000</td>\n      <td>0.000000</td>\n      <td>0.000000</td>\n      <td>0.000000</td>\n      <td>0.000000</td>\n      <td>0.000000</td>\n      <td>0.000000</td>\n    </tr>\n    <tr>\n      <th>75%</th>\n      <td>13.300000</td>\n      <td>0.000000</td>\n      <td>90.000000</td>\n      <td>0.000000</td>\n      <td>1023.200000</td>\n      <td>18.300000</td>\n      <td>16.100000</td>\n      <td>16.700000</td>\n      <td>300.000000</td>\n      <td>2015.0</td>\n      <td>...</td>\n      <td>0.000000</td>\n      <td>0.000000</td>\n      <td>0.000000</td>\n      <td>0.000000</td>\n      <td>0.000000</td>\n      <td>0.000000</td>\n      <td>0.000000</td>\n      <td>0.000000</td>\n      <td>0.000000</td>\n      <td>0.000000</td>\n    </tr>\n    <tr>\n      <th>max</th>\n      <td>23.800000</td>\n      <td>64.800000</td>\n      <td>100.000000</td>\n      <td>1.430000</td>\n      <td>1044.400000</td>\n      <td>33.800000</td>\n      <td>16.100000</td>\n      <td>48.200000</td>\n      <td>360.000000</td>\n      <td>2015.0</td>\n      <td>...</td>\n      <td>1.000000</td>\n      <td>1.000000</td>\n      <td>1.000000</td>\n      <td>1.000000</td>\n      <td>1.000000</td>\n      <td>1.000000</td>\n      <td>1.000000</td>\n      <td>1.000000</td>\n      <td>1.000000</td>\n      <td>1.000000</td>\n    </tr>\n  </tbody>\n</table>\n<p>8 rows × 70 columns</p>\n</div>"
     },
     "execution_count": 3,
     "metadata": {},
     "output_type": "execute_result"
    }
   ],
   "source": [
    "df.describe()"
   ],
   "metadata": {
    "collapsed": false,
    "pycharm": {
     "name": "#%%\n"
    }
   }
  },
  {
   "cell_type": "markdown",
   "source": [
    "# train, test 데이터 분리 & 정규화"
   ],
   "metadata": {
    "collapsed": false
   }
  },
  {
   "cell_type": "markdown",
   "source": [],
   "metadata": {
    "collapsed": false
   }
  },
  {
   "cell_type": "code",
   "execution_count": 5,
   "outputs": [
    {
     "data": {
      "text/plain": "['Dew PointC',\n 'Gust SpeedKm/h',\n 'Humidity',\n 'Precipitationmm',\n 'Sea Level PressurehPa',\n 'TemperatureC',\n 'VisibilityKm',\n 'Wind SpeedKm/h',\n 'WindDirDegrees',\n 'year',\n 'month',\n 'day',\n 'hour',\n 'Conditions_Blowing Snow',\n 'Conditions_Clear',\n 'Conditions_Fog',\n 'Conditions_Haze',\n 'Conditions_Heavy Rain',\n 'Conditions_Heavy Snow',\n 'Conditions_Heavy Thunderstorms and Rain',\n 'Conditions_Ice Crystals',\n 'Conditions_Light Freezing Fog',\n 'Conditions_Light Freezing Rain',\n 'Conditions_Light Rain',\n 'Conditions_Light Rain Showers',\n 'Conditions_Light Snow',\n 'Conditions_Light Snow Showers',\n 'Conditions_Light Thunderstorms and Rain',\n 'Conditions_Mist',\n 'Conditions_Mostly Cloudy',\n 'Conditions_Overcast',\n 'Conditions_Partly Cloudy',\n 'Conditions_Patches of Fog',\n 'Conditions_Rain',\n 'Conditions_Scattered Clouds',\n 'Conditions_Small Hail',\n 'Conditions_Snow',\n 'Conditions_Thunderstorm',\n 'Conditions_Thunderstorms and Rain',\n 'Conditions_Unknown',\n 'Events_Fog',\n 'Events_Fog-Rain',\n 'Events_Fog-Snow',\n 'Events_Rain',\n 'Events_Rain-Snow',\n 'Events_Rain-Thunderstorm',\n 'Events_Snow',\n 'Events_Sunny',\n 'Events_Thunderstorm',\n 'Wind Direction_Calm',\n 'Wind Direction_ENE',\n 'Wind Direction_ESE',\n 'Wind Direction_East',\n 'Wind Direction_NE',\n 'Wind Direction_NNE',\n 'Wind Direction_NNW',\n 'Wind Direction_NW',\n 'Wind Direction_North',\n 'Wind Direction_SE',\n 'Wind Direction_SSE',\n 'Wind Direction_SSW',\n 'Wind Direction_SW',\n 'Wind Direction_South',\n 'Wind Direction_Variable',\n 'Wind Direction_WNW',\n 'Wind Direction_WSW',\n 'Wind Direction_West']"
     },
     "execution_count": 5,
     "metadata": {},
     "output_type": "execute_result"
    }
   ],
   "source": [
    "ml_cols = df.columns.tolist()\n",
    "target_cols = [\"UnivClass_Ciara\", \"UnivLab_Cesar\", \"Office_Pam\"]\n",
    "for i in target_cols:\n",
    "    ml_cols.remove(i)\n",
    "ml_cols"
   ],
   "metadata": {
    "collapsed": false,
    "pycharm": {
     "name": "#%%\n"
    }
   }
  },
  {
   "cell_type": "code",
   "execution_count": 6,
   "outputs": [],
   "source": [
    "import warnings\n",
    "warnings.filterwarnings(\"ignore\")"
   ],
   "metadata": {
    "collapsed": false,
    "pycharm": {
     "name": "#%%\n"
    }
   }
  },
  {
   "cell_type": "markdown",
   "source": [
    "## 모델 선택\n",
    "* target 값이 continuous value 라서 Regression 회귀 모델을 사용해 예측\n",
    "* r2 score로 간단하게 적합도 측정"
   ],
   "metadata": {
    "collapsed": false
   }
  },
  {
   "cell_type": "code",
   "execution_count": 10,
   "outputs": [],
   "source": [
    "def train_r2(model, ml_cols, target_col):\n",
    "    from sklearn.model_selection import train_test_split\n",
    "    from sklearn.preprocessing import StandardScaler\n",
    "    from sklearn.metrics import r2_score\n",
    "\n",
    "    X_train, X_test, y_train, y_test = train_test_split(df[ml_cols], df[target_col], test_size=0.2,\n",
    "                                                    shuffle=True, random_state=0)\n",
    "    X_train = StandardScaler().fit_transform(X_train)\n",
    "    X_test = StandardScaler().fit_transform(X_test)\n",
    "\n",
    "    model.fit(X_train, y_train)\n",
    "    preds = model.predict(X_test)\n",
    "\n",
    "    score = r2_score(y_test, preds)\n",
    "    return print(\"{}의 r2 score은 : \".format(model), score)"
   ],
   "metadata": {
    "collapsed": false,
    "pycharm": {
     "name": "#%%\n"
    }
   }
  },
  {
   "cell_type": "markdown",
   "source": [
    "### KNN"
   ],
   "metadata": {
    "collapsed": false
   }
  },
  {
   "cell_type": "code",
   "execution_count": 14,
   "outputs": [
    {
     "name": "stdout",
     "output_type": "stream",
     "text": [
      "KNeighborsRegressor()의 r2 score은 :  0.40539434799107643\n"
     ]
    }
   ],
   "source": [
    "from sklearn.neighbors import KNeighborsRegressor\n",
    "\n",
    "knn_model = KNeighborsRegressor()\n",
    "train_r2(knn_model, ml_cols, \"UnivClass_Ciara\")"
   ],
   "metadata": {
    "collapsed": false,
    "pycharm": {
     "name": "#%%\n"
    }
   }
  },
  {
   "cell_type": "markdown",
   "source": [
    "### Decision Tree"
   ],
   "metadata": {
    "collapsed": false
   }
  },
  {
   "cell_type": "code",
   "execution_count": 16,
   "outputs": [
    {
     "name": "stdout",
     "output_type": "stream",
     "text": [
      "DecisionTreeRegressor()의 r2 score은 :  0.6768153490932751\n"
     ]
    }
   ],
   "source": [
    "from sklearn.tree import DecisionTreeRegressor\n",
    "\n",
    "dt_model = DecisionTreeRegressor()\n",
    "train_r2(dt_model, ml_cols, \"UnivClass_Ciara\")"
   ],
   "metadata": {
    "collapsed": false,
    "pycharm": {
     "name": "#%%\n"
    }
   }
  },
  {
   "cell_type": "markdown",
   "source": [
    "### Random Forest REgressor"
   ],
   "metadata": {
    "collapsed": false
   }
  },
  {
   "cell_type": "code",
   "execution_count": 15,
   "outputs": [
    {
     "name": "stdout",
     "output_type": "stream",
     "text": [
      "RandomForestRegressor()의 r2 score은 :  0.8364570550254586\n"
     ]
    }
   ],
   "source": [
    "from sklearn.ensemble import RandomForestRegressor\n",
    "\n",
    "rf_model = RandomForestRegressor()\n",
    "train_r2(rf_model, ml_cols, \"UnivClass_Ciara\")"
   ],
   "metadata": {
    "collapsed": false,
    "pycharm": {
     "name": "#%%\n"
    }
   }
  },
  {
   "cell_type": "markdown",
   "source": [
    "random forest 모델이 가장 적합도가 높음!!\n",
    "나머지 cesar lab과 Pam Office도 결과 확인"
   ],
   "metadata": {
    "collapsed": false
   }
  },
  {
   "cell_type": "code",
   "execution_count": 17,
   "outputs": [
    {
     "name": "stdout",
     "output_type": "stream",
     "text": [
      "RandomForestRegressor()의 r2 score은 :  0.792210621391016\n"
     ]
    }
   ],
   "source": [
    "train_r2(rf_model, ml_cols, \"UnivLab_Cesar\")"
   ],
   "metadata": {
    "collapsed": false,
    "pycharm": {
     "name": "#%%\n"
    }
   }
  },
  {
   "cell_type": "code",
   "execution_count": 18,
   "outputs": [
    {
     "name": "stdout",
     "output_type": "stream",
     "text": [
      "RandomForestRegressor()의 r2 score은 :  0.870924236713952\n"
     ]
    }
   ],
   "source": [
    "train_r2(rf_model, ml_cols, \"Office_Pam\")"
   ],
   "metadata": {
    "collapsed": false,
    "pycharm": {
     "name": "#%%\n"
    }
   }
  },
  {
   "cell_type": "markdown",
   "source": [
    "머지... Office_Pam의 정확도가 높게 나오면 말이 안되는데... -> 다른 weather 데이터로 예측했는데 왜 가장 높게 나오는 것인가??"
   ],
   "metadata": {
    "collapsed": false
   }
  },
  {
   "cell_type": "code",
   "execution_count": null,
   "outputs": [],
   "source": [],
   "metadata": {
    "collapsed": false,
    "pycharm": {
     "name": "#%%\n"
    }
   }
  }
 ],
 "metadata": {
  "kernelspec": {
   "display_name": "Python 3",
   "language": "python",
   "name": "python3"
  },
  "language_info": {
   "codemirror_mode": {
    "name": "ipython",
    "version": 2
   },
   "file_extension": ".py",
   "mimetype": "text/x-python",
   "name": "python",
   "nbconvert_exporter": "python",
   "pygments_lexer": "ipython2",
   "version": "2.7.6"
  }
 },
 "nbformat": 4,
 "nbformat_minor": 0
}