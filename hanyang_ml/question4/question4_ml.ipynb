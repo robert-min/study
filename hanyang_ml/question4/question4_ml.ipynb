{
 "cells": [
  {
   "cell_type": "markdown",
   "source": [
    "# Question 4 예측 모델을 돌려보자!!"
   ],
   "metadata": {
    "collapsed": false
   }
  },
  {
   "cell_type": "markdown",
   "source": [
    "## 데이터 로드"
   ],
   "metadata": {
    "collapsed": false
   }
  },
  {
   "cell_type": "code",
   "execution_count": 12,
   "metadata": {
    "collapsed": true
   },
   "outputs": [
    {
     "data": {
      "text/plain": "   Unnamed: 0  Dew PointC  Gust SpeedKm/h  Humidity  Precipitationmm  \\\n0           0       -15.0             0.0      54.0              0.0   \n1           1       -14.4             0.0      55.0              0.0   \n2           2       -14.4             0.0      55.0              0.0   \n3           3       -14.4             0.0      55.0              0.0   \n4           4       -14.4             0.0      55.0              0.0   \n\n   Sea Level PressurehPa  TemperatureC  VisibilityKm  Wind SpeedKm/h  \\\n0                 1017.4          -7.2          16.1            18.5   \n1                 1017.2          -6.6          16.1            14.8   \n2                 1016.9          -6.6          16.1            14.8   \n3                 1017.2          -6.6          16.1            18.5   \n4                 1017.2          -6.6          16.1            14.8   \n\n   WindDirDegrees  ...  Wind Direction_North  Wind Direction_SE  \\\n0             230  ...                     0                  0   \n1             240  ...                     0                  0   \n2             220  ...                     0                  0   \n3             220  ...                     0                  0   \n4             210  ...                     0                  0   \n\n   Wind Direction_SSE  Wind Direction_SSW  Wind Direction_SW  \\\n0                   0                   0                  1   \n1                   0                   0                  0   \n2                   0                   0                  1   \n3                   0                   0                  1   \n4                   0                   1                  0   \n\n   Wind Direction_South  Wind Direction_Variable  Wind Direction_WNW  \\\n0                     0                        0                   0   \n1                     0                        0                   0   \n2                     0                        0                   0   \n3                     0                        0                   0   \n4                     0                        0                   0   \n\n   Wind Direction_WSW  Wind Direction_West  \n0                   0                    0  \n1                   1                    0  \n2                   0                    0  \n3                   0                    0  \n4                   0                    0  \n\n[5 rows x 70 columns]",
      "text/html": "<div>\n<style scoped>\n    .dataframe tbody tr th:only-of-type {\n        vertical-align: middle;\n    }\n\n    .dataframe tbody tr th {\n        vertical-align: top;\n    }\n\n    .dataframe thead th {\n        text-align: right;\n    }\n</style>\n<table border=\"1\" class=\"dataframe\">\n  <thead>\n    <tr style=\"text-align: right;\">\n      <th></th>\n      <th>Unnamed: 0</th>\n      <th>Dew PointC</th>\n      <th>Gust SpeedKm/h</th>\n      <th>Humidity</th>\n      <th>Precipitationmm</th>\n      <th>Sea Level PressurehPa</th>\n      <th>TemperatureC</th>\n      <th>VisibilityKm</th>\n      <th>Wind SpeedKm/h</th>\n      <th>WindDirDegrees</th>\n      <th>...</th>\n      <th>Wind Direction_North</th>\n      <th>Wind Direction_SE</th>\n      <th>Wind Direction_SSE</th>\n      <th>Wind Direction_SSW</th>\n      <th>Wind Direction_SW</th>\n      <th>Wind Direction_South</th>\n      <th>Wind Direction_Variable</th>\n      <th>Wind Direction_WNW</th>\n      <th>Wind Direction_WSW</th>\n      <th>Wind Direction_West</th>\n    </tr>\n  </thead>\n  <tbody>\n    <tr>\n      <th>0</th>\n      <td>0</td>\n      <td>-15.0</td>\n      <td>0.0</td>\n      <td>54.0</td>\n      <td>0.0</td>\n      <td>1017.4</td>\n      <td>-7.2</td>\n      <td>16.1</td>\n      <td>18.5</td>\n      <td>230</td>\n      <td>...</td>\n      <td>0</td>\n      <td>0</td>\n      <td>0</td>\n      <td>0</td>\n      <td>1</td>\n      <td>0</td>\n      <td>0</td>\n      <td>0</td>\n      <td>0</td>\n      <td>0</td>\n    </tr>\n    <tr>\n      <th>1</th>\n      <td>1</td>\n      <td>-14.4</td>\n      <td>0.0</td>\n      <td>55.0</td>\n      <td>0.0</td>\n      <td>1017.2</td>\n      <td>-6.6</td>\n      <td>16.1</td>\n      <td>14.8</td>\n      <td>240</td>\n      <td>...</td>\n      <td>0</td>\n      <td>0</td>\n      <td>0</td>\n      <td>0</td>\n      <td>0</td>\n      <td>0</td>\n      <td>0</td>\n      <td>0</td>\n      <td>1</td>\n      <td>0</td>\n    </tr>\n    <tr>\n      <th>2</th>\n      <td>2</td>\n      <td>-14.4</td>\n      <td>0.0</td>\n      <td>55.0</td>\n      <td>0.0</td>\n      <td>1016.9</td>\n      <td>-6.6</td>\n      <td>16.1</td>\n      <td>14.8</td>\n      <td>220</td>\n      <td>...</td>\n      <td>0</td>\n      <td>0</td>\n      <td>0</td>\n      <td>0</td>\n      <td>1</td>\n      <td>0</td>\n      <td>0</td>\n      <td>0</td>\n      <td>0</td>\n      <td>0</td>\n    </tr>\n    <tr>\n      <th>3</th>\n      <td>3</td>\n      <td>-14.4</td>\n      <td>0.0</td>\n      <td>55.0</td>\n      <td>0.0</td>\n      <td>1017.2</td>\n      <td>-6.6</td>\n      <td>16.1</td>\n      <td>18.5</td>\n      <td>220</td>\n      <td>...</td>\n      <td>0</td>\n      <td>0</td>\n      <td>0</td>\n      <td>0</td>\n      <td>1</td>\n      <td>0</td>\n      <td>0</td>\n      <td>0</td>\n      <td>0</td>\n      <td>0</td>\n    </tr>\n    <tr>\n      <th>4</th>\n      <td>4</td>\n      <td>-14.4</td>\n      <td>0.0</td>\n      <td>55.0</td>\n      <td>0.0</td>\n      <td>1017.2</td>\n      <td>-6.6</td>\n      <td>16.1</td>\n      <td>14.8</td>\n      <td>210</td>\n      <td>...</td>\n      <td>0</td>\n      <td>0</td>\n      <td>0</td>\n      <td>1</td>\n      <td>0</td>\n      <td>0</td>\n      <td>0</td>\n      <td>0</td>\n      <td>0</td>\n      <td>0</td>\n    </tr>\n  </tbody>\n</table>\n<p>5 rows × 70 columns</p>\n</div>"
     },
     "execution_count": 12,
     "metadata": {},
     "output_type": "execute_result"
    }
   ],
   "source": [
    "import pandas as pd\n",
    "\n",
    "df = pd.read_csv(\"./preprocessing_q4.csv\")\n",
    "df.head()"
   ]
  },
  {
   "cell_type": "code",
   "execution_count": 13,
   "outputs": [],
   "source": [
    "df = df.drop('Unnamed: 0', axis=1)"
   ],
   "metadata": {
    "collapsed": false,
    "pycharm": {
     "name": "#%%\n"
    }
   }
  },
  {
   "cell_type": "code",
   "execution_count": 14,
   "outputs": [
    {
     "data": {
      "text/plain": "        Dew PointC  Gust SpeedKm/h     Humidity  Precipitationmm  \\\ncount  8541.000000     8541.000000  8541.000000      8541.000000   \nmean      3.857323        4.331202    74.562815         0.004492   \nstd      11.351268       12.370641    18.280534         0.037346   \nmin     -32.200000        0.000000    16.000000         0.000000   \n25%      -3.800000        0.000000    62.000000         0.000000   \n50%       5.000000        0.000000    77.000000         0.000000   \n75%      13.300000        0.000000    90.000000         0.000000   \nmax      23.800000       64.800000   100.000000         1.430000   \n\n       Sea Level PressurehPa  TemperatureC  VisibilityKm  Wind SpeedKm/h  \\\ncount            8541.000000   8541.000000   8541.000000     8541.000000   \nmean             1018.411966      8.675928     14.513312       11.815584   \nstd                 7.438663     11.739865      3.839898        8.466212   \nmin               995.000000    -28.800000      0.100000        0.500000   \n25%              1013.300000      0.000000     16.100000        5.600000   \n50%              1018.300000     10.000000     16.100000       11.100000   \n75%              1023.200000     18.300000     16.100000       16.700000   \nmax              1044.400000     33.800000     16.100000       48.200000   \n\n       WindDirDegrees    year  ...  Wind Direction_North  Wind Direction_SE  \\\ncount     8541.000000  8541.0  ...           8541.000000        8541.000000   \nmean       179.663974  2015.0  ...              0.049057           0.028685   \nstd        120.084638     0.0  ...              0.216001           0.166930   \nmin          0.000000  2015.0  ...              0.000000           0.000000   \n25%         80.000000  2015.0  ...              0.000000           0.000000   \n50%        180.000000  2015.0  ...              0.000000           0.000000   \n75%        300.000000  2015.0  ...              0.000000           0.000000   \nmax        360.000000  2015.0  ...              1.000000           1.000000   \n\n       Wind Direction_SSE  Wind Direction_SSW  Wind Direction_SW  \\\ncount         8541.000000         8541.000000        8541.000000   \nmean             0.075401            0.028451           0.024470   \nstd              0.264053            0.166267           0.154513   \nmin              0.000000            0.000000           0.000000   \n25%              0.000000            0.000000           0.000000   \n50%              0.000000            0.000000           0.000000   \n75%              0.000000            0.000000           0.000000   \nmax              1.000000            1.000000           1.000000   \n\n       Wind Direction_South  Wind Direction_Variable  Wind Direction_WNW  \\\ncount           8541.000000              8541.000000         8541.000000   \nmean               0.138391                 0.014401            0.062171   \nstd                0.345330                 0.119144            0.241479   \nmin                0.000000                 0.000000            0.000000   \n25%                0.000000                 0.000000            0.000000   \n50%                0.000000                 0.000000            0.000000   \n75%                0.000000                 0.000000            0.000000   \nmax                1.000000                 1.000000            1.000000   \n\n       Wind Direction_WSW  Wind Direction_West  \ncount         8541.000000          8541.000000  \nmean             0.023065             0.048121  \nstd              0.150119             0.214034  \nmin              0.000000             0.000000  \n25%              0.000000             0.000000  \n50%              0.000000             0.000000  \n75%              0.000000             0.000000  \nmax              1.000000             1.000000  \n\n[8 rows x 69 columns]",
      "text/html": "<div>\n<style scoped>\n    .dataframe tbody tr th:only-of-type {\n        vertical-align: middle;\n    }\n\n    .dataframe tbody tr th {\n        vertical-align: top;\n    }\n\n    .dataframe thead th {\n        text-align: right;\n    }\n</style>\n<table border=\"1\" class=\"dataframe\">\n  <thead>\n    <tr style=\"text-align: right;\">\n      <th></th>\n      <th>Dew PointC</th>\n      <th>Gust SpeedKm/h</th>\n      <th>Humidity</th>\n      <th>Precipitationmm</th>\n      <th>Sea Level PressurehPa</th>\n      <th>TemperatureC</th>\n      <th>VisibilityKm</th>\n      <th>Wind SpeedKm/h</th>\n      <th>WindDirDegrees</th>\n      <th>year</th>\n      <th>...</th>\n      <th>Wind Direction_North</th>\n      <th>Wind Direction_SE</th>\n      <th>Wind Direction_SSE</th>\n      <th>Wind Direction_SSW</th>\n      <th>Wind Direction_SW</th>\n      <th>Wind Direction_South</th>\n      <th>Wind Direction_Variable</th>\n      <th>Wind Direction_WNW</th>\n      <th>Wind Direction_WSW</th>\n      <th>Wind Direction_West</th>\n    </tr>\n  </thead>\n  <tbody>\n    <tr>\n      <th>count</th>\n      <td>8541.000000</td>\n      <td>8541.000000</td>\n      <td>8541.000000</td>\n      <td>8541.000000</td>\n      <td>8541.000000</td>\n      <td>8541.000000</td>\n      <td>8541.000000</td>\n      <td>8541.000000</td>\n      <td>8541.000000</td>\n      <td>8541.0</td>\n      <td>...</td>\n      <td>8541.000000</td>\n      <td>8541.000000</td>\n      <td>8541.000000</td>\n      <td>8541.000000</td>\n      <td>8541.000000</td>\n      <td>8541.000000</td>\n      <td>8541.000000</td>\n      <td>8541.000000</td>\n      <td>8541.000000</td>\n      <td>8541.000000</td>\n    </tr>\n    <tr>\n      <th>mean</th>\n      <td>3.857323</td>\n      <td>4.331202</td>\n      <td>74.562815</td>\n      <td>0.004492</td>\n      <td>1018.411966</td>\n      <td>8.675928</td>\n      <td>14.513312</td>\n      <td>11.815584</td>\n      <td>179.663974</td>\n      <td>2015.0</td>\n      <td>...</td>\n      <td>0.049057</td>\n      <td>0.028685</td>\n      <td>0.075401</td>\n      <td>0.028451</td>\n      <td>0.024470</td>\n      <td>0.138391</td>\n      <td>0.014401</td>\n      <td>0.062171</td>\n      <td>0.023065</td>\n      <td>0.048121</td>\n    </tr>\n    <tr>\n      <th>std</th>\n      <td>11.351268</td>\n      <td>12.370641</td>\n      <td>18.280534</td>\n      <td>0.037346</td>\n      <td>7.438663</td>\n      <td>11.739865</td>\n      <td>3.839898</td>\n      <td>8.466212</td>\n      <td>120.084638</td>\n      <td>0.0</td>\n      <td>...</td>\n      <td>0.216001</td>\n      <td>0.166930</td>\n      <td>0.264053</td>\n      <td>0.166267</td>\n      <td>0.154513</td>\n      <td>0.345330</td>\n      <td>0.119144</td>\n      <td>0.241479</td>\n      <td>0.150119</td>\n      <td>0.214034</td>\n    </tr>\n    <tr>\n      <th>min</th>\n      <td>-32.200000</td>\n      <td>0.000000</td>\n      <td>16.000000</td>\n      <td>0.000000</td>\n      <td>995.000000</td>\n      <td>-28.800000</td>\n      <td>0.100000</td>\n      <td>0.500000</td>\n      <td>0.000000</td>\n      <td>2015.0</td>\n      <td>...</td>\n      <td>0.000000</td>\n      <td>0.000000</td>\n      <td>0.000000</td>\n      <td>0.000000</td>\n      <td>0.000000</td>\n      <td>0.000000</td>\n      <td>0.000000</td>\n      <td>0.000000</td>\n      <td>0.000000</td>\n      <td>0.000000</td>\n    </tr>\n    <tr>\n      <th>25%</th>\n      <td>-3.800000</td>\n      <td>0.000000</td>\n      <td>62.000000</td>\n      <td>0.000000</td>\n      <td>1013.300000</td>\n      <td>0.000000</td>\n      <td>16.100000</td>\n      <td>5.600000</td>\n      <td>80.000000</td>\n      <td>2015.0</td>\n      <td>...</td>\n      <td>0.000000</td>\n      <td>0.000000</td>\n      <td>0.000000</td>\n      <td>0.000000</td>\n      <td>0.000000</td>\n      <td>0.000000</td>\n      <td>0.000000</td>\n      <td>0.000000</td>\n      <td>0.000000</td>\n      <td>0.000000</td>\n    </tr>\n    <tr>\n      <th>50%</th>\n      <td>5.000000</td>\n      <td>0.000000</td>\n      <td>77.000000</td>\n      <td>0.000000</td>\n      <td>1018.300000</td>\n      <td>10.000000</td>\n      <td>16.100000</td>\n      <td>11.100000</td>\n      <td>180.000000</td>\n      <td>2015.0</td>\n      <td>...</td>\n      <td>0.000000</td>\n      <td>0.000000</td>\n      <td>0.000000</td>\n      <td>0.000000</td>\n      <td>0.000000</td>\n      <td>0.000000</td>\n      <td>0.000000</td>\n      <td>0.000000</td>\n      <td>0.000000</td>\n      <td>0.000000</td>\n    </tr>\n    <tr>\n      <th>75%</th>\n      <td>13.300000</td>\n      <td>0.000000</td>\n      <td>90.000000</td>\n      <td>0.000000</td>\n      <td>1023.200000</td>\n      <td>18.300000</td>\n      <td>16.100000</td>\n      <td>16.700000</td>\n      <td>300.000000</td>\n      <td>2015.0</td>\n      <td>...</td>\n      <td>0.000000</td>\n      <td>0.000000</td>\n      <td>0.000000</td>\n      <td>0.000000</td>\n      <td>0.000000</td>\n      <td>0.000000</td>\n      <td>0.000000</td>\n      <td>0.000000</td>\n      <td>0.000000</td>\n      <td>0.000000</td>\n    </tr>\n    <tr>\n      <th>max</th>\n      <td>23.800000</td>\n      <td>64.800000</td>\n      <td>100.000000</td>\n      <td>1.430000</td>\n      <td>1044.400000</td>\n      <td>33.800000</td>\n      <td>16.100000</td>\n      <td>48.200000</td>\n      <td>360.000000</td>\n      <td>2015.0</td>\n      <td>...</td>\n      <td>1.000000</td>\n      <td>1.000000</td>\n      <td>1.000000</td>\n      <td>1.000000</td>\n      <td>1.000000</td>\n      <td>1.000000</td>\n      <td>1.000000</td>\n      <td>1.000000</td>\n      <td>1.000000</td>\n      <td>1.000000</td>\n    </tr>\n  </tbody>\n</table>\n<p>8 rows × 69 columns</p>\n</div>"
     },
     "execution_count": 14,
     "metadata": {},
     "output_type": "execute_result"
    }
   ],
   "source": [
    "df.describe()"
   ],
   "metadata": {
    "collapsed": false,
    "pycharm": {
     "name": "#%%\n"
    }
   }
  },
  {
   "cell_type": "markdown",
   "source": [
    "# train, test 데이터 분리 & 정규화"
   ],
   "metadata": {
    "collapsed": false
   }
  },
  {
   "cell_type": "markdown",
   "source": [],
   "metadata": {
    "collapsed": false
   }
  },
  {
   "cell_type": "code",
   "execution_count": 15,
   "outputs": [
    {
     "data": {
      "text/plain": "['Dew PointC',\n 'Gust SpeedKm/h',\n 'Humidity',\n 'Precipitationmm',\n 'Sea Level PressurehPa',\n 'TemperatureC',\n 'VisibilityKm',\n 'Wind SpeedKm/h',\n 'WindDirDegrees',\n 'year',\n 'month',\n 'day',\n 'hour',\n 'Conditions_Blowing Snow',\n 'Conditions_Clear',\n 'Conditions_Fog',\n 'Conditions_Haze',\n 'Conditions_Heavy Rain',\n 'Conditions_Heavy Snow',\n 'Conditions_Heavy Thunderstorms and Rain',\n 'Conditions_Ice Crystals',\n 'Conditions_Light Freezing Fog',\n 'Conditions_Light Freezing Rain',\n 'Conditions_Light Rain',\n 'Conditions_Light Rain Showers',\n 'Conditions_Light Snow',\n 'Conditions_Light Snow Showers',\n 'Conditions_Light Thunderstorms and Rain',\n 'Conditions_Mist',\n 'Conditions_Mostly Cloudy',\n 'Conditions_Overcast',\n 'Conditions_Partly Cloudy',\n 'Conditions_Patches of Fog',\n 'Conditions_Rain',\n 'Conditions_Scattered Clouds',\n 'Conditions_Small Hail',\n 'Conditions_Snow',\n 'Conditions_Thunderstorm',\n 'Conditions_Thunderstorms and Rain',\n 'Conditions_Unknown',\n 'Events_Fog',\n 'Events_Fog-Rain',\n 'Events_Fog-Snow',\n 'Events_Rain',\n 'Events_Rain-Snow',\n 'Events_Rain-Thunderstorm',\n 'Events_Snow',\n 'Events_Sunny',\n 'Events_Thunderstorm',\n 'Wind Direction_Calm',\n 'Wind Direction_ENE',\n 'Wind Direction_ESE',\n 'Wind Direction_East',\n 'Wind Direction_NE',\n 'Wind Direction_NNE',\n 'Wind Direction_NNW',\n 'Wind Direction_NW',\n 'Wind Direction_North',\n 'Wind Direction_SE',\n 'Wind Direction_SSE',\n 'Wind Direction_SSW',\n 'Wind Direction_SW',\n 'Wind Direction_South',\n 'Wind Direction_Variable',\n 'Wind Direction_WNW',\n 'Wind Direction_WSW',\n 'Wind Direction_West']"
     },
     "execution_count": 15,
     "metadata": {},
     "output_type": "execute_result"
    }
   ],
   "source": [
    "ml_cols = df.columns.tolist()\n",
    "target_cols = [\"UnivClass_Ciara\", \"UnivLab_Cesar\"]\n",
    "for i in target_cols:\n",
    "    ml_cols.remove(i)\n",
    "ml_cols"
   ],
   "metadata": {
    "collapsed": false,
    "pycharm": {
     "name": "#%%\n"
    }
   }
  },
  {
   "cell_type": "code",
   "execution_count": 16,
   "outputs": [],
   "source": [
    "import warnings\n",
    "warnings.filterwarnings(\"ignore\")"
   ],
   "metadata": {
    "collapsed": false,
    "pycharm": {
     "name": "#%%\n"
    }
   }
  },
  {
   "cell_type": "markdown",
   "source": [
    "## 모델 선택\n",
    "* target 값이 continuous value 라서 Regression 회귀 모델을 사용해 예측\n",
    "* r2 score로 간단하게 적합도 측정"
   ],
   "metadata": {
    "collapsed": false
   }
  },
  {
   "cell_type": "code",
   "execution_count": 17,
   "outputs": [],
   "source": [
    "def train_r2(model, ml_cols, target_col):\n",
    "    from sklearn.model_selection import train_test_split\n",
    "    from sklearn.preprocessing import StandardScaler\n",
    "    from sklearn.metrics import r2_score\n",
    "\n",
    "    X_train, X_test, y_train, y_test = train_test_split(df[ml_cols], df[target_col], test_size=0.2,\n",
    "                                                    shuffle=True, random_state=0)\n",
    "    X_train = StandardScaler().fit_transform(X_train)\n",
    "    X_test = StandardScaler().fit_transform(X_test)\n",
    "\n",
    "    model.fit(X_train, y_train)\n",
    "    preds = model.predict(X_test)\n",
    "\n",
    "    score = r2_score(y_test, preds)\n",
    "    return print(\"{}의 r2 score은 : \".format(model), score)"
   ],
   "metadata": {
    "collapsed": false,
    "pycharm": {
     "name": "#%%\n"
    }
   }
  },
  {
   "cell_type": "markdown",
   "source": [
    "### KNN"
   ],
   "metadata": {
    "collapsed": false
   }
  },
  {
   "cell_type": "code",
   "execution_count": 18,
   "outputs": [
    {
     "name": "stdout",
     "output_type": "stream",
     "text": [
      "KNeighborsRegressor()의 r2 score은 :  0.40539434799107643\n"
     ]
    }
   ],
   "source": [
    "from sklearn.neighbors import KNeighborsRegressor\n",
    "\n",
    "knn_model = KNeighborsRegressor()\n",
    "train_r2(knn_model, ml_cols, \"UnivClass_Ciara\")"
   ],
   "metadata": {
    "collapsed": false,
    "pycharm": {
     "name": "#%%\n"
    }
   }
  },
  {
   "cell_type": "markdown",
   "source": [
    "### Decision Tree"
   ],
   "metadata": {
    "collapsed": false
   }
  },
  {
   "cell_type": "code",
   "execution_count": 19,
   "outputs": [
    {
     "name": "stdout",
     "output_type": "stream",
     "text": [
      "DecisionTreeRegressor()의 r2 score은 :  0.6760053560937889\n"
     ]
    }
   ],
   "source": [
    "from sklearn.tree import DecisionTreeRegressor\n",
    "\n",
    "dt_model = DecisionTreeRegressor()\n",
    "train_r2(dt_model, ml_cols, \"UnivClass_Ciara\")"
   ],
   "metadata": {
    "collapsed": false,
    "pycharm": {
     "name": "#%%\n"
    }
   }
  },
  {
   "cell_type": "markdown",
   "source": [
    "### Random Forest REgressor"
   ],
   "metadata": {
    "collapsed": false
   }
  },
  {
   "cell_type": "code",
   "execution_count": 20,
   "outputs": [
    {
     "name": "stdout",
     "output_type": "stream",
     "text": [
      "RandomForestRegressor()의 r2 score은 :  0.8378868654598802\n"
     ]
    }
   ],
   "source": [
    "from sklearn.ensemble import RandomForestRegressor\n",
    "\n",
    "rf_model = RandomForestRegressor()\n",
    "train_r2(rf_model, ml_cols, \"UnivClass_Ciara\")"
   ],
   "metadata": {
    "collapsed": false,
    "pycharm": {
     "name": "#%%\n"
    }
   }
  },
  {
   "cell_type": "markdown",
   "source": [
    "random forest 모델이 가장 적합도가 높음!!\n",
    "나머지 cesar lab 결과 확인"
   ],
   "metadata": {
    "collapsed": false
   }
  },
  {
   "cell_type": "code",
   "execution_count": 21,
   "outputs": [
    {
     "name": "stdout",
     "output_type": "stream",
     "text": [
      "RandomForestRegressor()의 r2 score은 :  0.7883981570167498\n"
     ]
    }
   ],
   "source": [
    "train_r2(rf_model, ml_cols, \"UnivLab_Cesar\")"
   ],
   "metadata": {
    "collapsed": false,
    "pycharm": {
     "name": "#%%\n"
    }
   }
  },
  {
   "cell_type": "markdown",
   "source": [
    "class_ciara와 lab_cesar의 적합도 차이가 대략 4% 정도 차이가 있음 각 공간별로 월별 에너지 변화를 확인해보자"
   ],
   "metadata": {
    "collapsed": false
   }
  },
  {
   "cell_type": "code",
   "execution_count": 29,
   "outputs": [],
   "source": [
    "import seaborn as sns\n",
    "import matplotlib.pyplot as plt\n",
    "import numpy as np\n",
    "plt.style.use([\"seaborn-white\"])\n",
    "\n",
    "# 월 기준으로 에너지 평균 값 시각화\n",
    "def time_avg(time, dataframe):\n",
    "    fig, ax = plt.subplots(1, 2, figsize=(20, 10))\n",
    "\n",
    "    df_plot = dataframe.groupby(time).mean().reset_index()\n",
    "    max_val = np.ceil(max(max(df[\"UnivClass_Ciara\"]), max(df[\"UnivLab_Cesar\"])))\n",
    "\n",
    "    g1 = sns.barplot(data=df_plot, ax=ax[0], x=time, y=\"UnivClass_Ciara\")\n",
    "    for p in g1.patches:\n",
    "        g1.annotate('%.00f' % p.get_height(), (p.get_x() + p.get_width()/2., p.get_height()),\n",
    "                   ha='center', va='center', fontsize=12, color='black', xytext=(0, 10), textcoords='offset points')\n",
    "\n",
    "\n",
    "\n",
    "    g2 = sns.barplot(data=df_plot, ax=ax[1], x=time, y=\"UnivLab_Cesar\")\n",
    "    for p in g2.patches:\n",
    "        g2.annotate('%.00f' % p.get_height(), (p.get_x() + p.get_width()/2., p.get_height()),\n",
    "                   ha='center', va='center', fontsize=12, color='black', xytext=(0, 10), textcoords='offset points')\n",
    "\n",
    "    plt.ylim(0, max_val)\n",
    "\n",
    "    ax[0].set_title(\"UnivClass_Ciara\")\n",
    "    ax[1].set_title(\"UnivLab_Cesar\")\n",
    "\n",
    "    plt.show()"
   ],
   "metadata": {
    "collapsed": false,
    "pycharm": {
     "name": "#%%\n"
    }
   }
  },
  {
   "cell_type": "code",
   "execution_count": 30,
   "outputs": [
    {
     "data": {
      "text/plain": "<Figure size 1440x720 with 2 Axes>",
      "image/png": "[encoded data removed]"
     },
     "metadata": {},
     "output_type": "display_data"
    }
   ],
   "source": [
    "time_avg(\"month\", df)"
   ],
   "metadata": {
    "collapsed": false,
    "pycharm": {
     "name": "#%%\n"
    }
   }
  },
  {
   "cell_type": "code",
   "execution_count": 39,
   "outputs": [],
   "source": [
    "def time_avg_box(time, dataframe):\n",
    "    fig, ax = plt.subplots(1, 2, figsize=(20, 10))\n",
    "\n",
    "    max_val = np.ceil(max(max(df[\"UnivClass_Ciara\"]), max(df[\"UnivLab_Cesar\"])))\n",
    "\n",
    "    sns.boxplot(data=dataframe, ax=ax[0], x=time, y=\"UnivClass_Ciara\")\n",
    "\n",
    "    sns.boxplot(data=dataframe, ax=ax[1], x=time, y=\"UnivLab_Cesar\")\n",
    "\n",
    "\n",
    "    ax[0].set_title(\"UnivClass_Ciara\")\n",
    "    ax[1].set_title(\"UnivLab_Cesar\")\n",
    "\n",
    "    plt.ylim(0, max_val)\n",
    "    plt.show()"
   ],
   "metadata": {
    "collapsed": false,
    "pycharm": {
     "name": "#%%\n"
    }
   }
  },
  {
   "cell_type": "code",
   "execution_count": 40,
   "outputs": [
    {
     "data": {
      "text/plain": "<Figure size 1440x720 with 2 Axes>",
      "image/png": "[encoded data removed]"
     },
     "metadata": {},
     "output_type": "display_data"
    }
   ],
   "source": [
    "time_avg_box(\"month\", df)"
   ],
   "metadata": {
    "collapsed": false,
    "pycharm": {
     "name": "#%%\n"
    }
   }
  },
  {
   "cell_type": "markdown",
   "source": [
    "위의 boxplot을 보면 class_ciara와 lab_cesar의 자료 분산 정도의 차이가 있음 -> 자료의 구성형태에 따라 모델의 예측성능에 영향을 미치는 확인해보자\n",
    "앞서 r2score 결정계수로 적합도를 평가했는데 결정계수는 자료의 구성형태에 따라 값이 결정되는 특성이 있어 통계모델의 정확성에 관한 절대지표로 사용되지 않는다.\n",
    "좀 더 정확한 모델 성능평가를 위해 rmsle의 모델 성능평가 진행해보자"
   ],
   "metadata": {
    "collapsed": false
   }
  },
  {
   "cell_type": "markdown",
   "source": [
    "## 모델 성능평가\n",
    "RMSLE 평가를 위해 컬럼 추가"
   ],
   "metadata": {
    "collapsed": false
   }
  },
  {
   "cell_type": "code",
   "execution_count": 41,
   "outputs": [
    {
     "data": {
      "text/plain": "      Dew PointC  Gust SpeedKm/h  Humidity  Precipitationmm  \\\n0          -15.0             0.0      54.0              0.0   \n1          -14.4             0.0      55.0              0.0   \n2          -14.4             0.0      55.0              0.0   \n3          -14.4             0.0      55.0              0.0   \n4          -14.4             0.0      55.0              0.0   \n...          ...             ...       ...              ...   \n8536        -1.0             0.0     100.0              0.0   \n8537        -2.0             0.0      93.0              0.0   \n8538        -1.0             0.0     100.0              0.0   \n8539        -1.0             0.0     100.0              0.0   \n8540        -2.0             0.0      93.0              0.0   \n\n      Sea Level PressurehPa  TemperatureC  VisibilityKm  Wind SpeedKm/h  \\\n0                    1017.4          -7.2          16.1            18.5   \n1                    1017.2          -6.6          16.1            14.8   \n2                    1016.9          -6.6          16.1            14.8   \n3                    1017.2          -6.6          16.1            18.5   \n4                    1017.2          -6.6          16.1            14.8   \n...                     ...           ...           ...             ...   \n8536                 1019.2          -1.0          16.1             9.3   \n8537                 1019.2          -1.0           8.0            13.0   \n8538                 1019.5          -1.0           6.4            14.8   \n8539                 1019.2          -1.0           6.4             9.3   \n8540                 1018.8          -1.0           6.4             7.4   \n\n      WindDirDegrees  year  ...  Wind Direction_North  Wind Direction_SE  \\\n0                230  2015  ...                     0                  0   \n1                240  2015  ...                     0                  0   \n2                220  2015  ...                     0                  0   \n3                220  2015  ...                     0                  0   \n4                210  2015  ...                     0                  0   \n...              ...   ...  ...                   ...                ...   \n8536             330  2015  ...                     0                  0   \n8537             330  2015  ...                     0                  0   \n8538             330  2015  ...                     0                  0   \n8539             330  2015  ...                     0                  0   \n8540             340  2015  ...                     0                  0   \n\n      Wind Direction_SSE  Wind Direction_SSW  Wind Direction_SW  \\\n0                      0                   0                  1   \n1                      0                   0                  0   \n2                      0                   0                  1   \n3                      0                   0                  1   \n4                      0                   1                  0   \n...                  ...                 ...                ...   \n8536                   0                   0                  0   \n8537                   0                   0                  0   \n8538                   0                   0                  0   \n8539                   0                   0                  0   \n8540                   0                   0                  0   \n\n      Wind Direction_South  Wind Direction_Variable  Wind Direction_WNW  \\\n0                        0                        0                   0   \n1                        0                        0                   0   \n2                        0                        0                   0   \n3                        0                        0                   0   \n4                        0                        0                   0   \n...                    ...                      ...                 ...   \n8536                     0                        0                   0   \n8537                     0                        0                   0   \n8538                     0                        0                   0   \n8539                     0                        0                   0   \n8540                     0                        0                   0   \n\n      Wind Direction_WSW  Wind Direction_West  \n0                      0                    0  \n1                      1                    0  \n2                      0                    0  \n3                      0                    0  \n4                      0                    0  \n...                  ...                  ...  \n8536                   0                    0  \n8537                   0                    0  \n8538                   0                    0  \n8539                   0                    0  \n8540                   0                    0  \n\n[8541 rows x 69 columns]",
      "text/html": "<div>\n<style scoped>\n    .dataframe tbody tr th:only-of-type {\n        vertical-align: middle;\n    }\n\n    .dataframe tbody tr th {\n        vertical-align: top;\n    }\n\n    .dataframe thead th {\n        text-align: right;\n    }\n</style>\n<table border=\"1\" class=\"dataframe\">\n  <thead>\n    <tr style=\"text-align: right;\">\n      <th></th>\n      <th>Dew PointC</th>\n      <th>Gust SpeedKm/h</th>\n      <th>Humidity</th>\n      <th>Precipitationmm</th>\n      <th>Sea Level PressurehPa</th>\n      <th>TemperatureC</th>\n      <th>VisibilityKm</th>\n      <th>Wind SpeedKm/h</th>\n      <th>WindDirDegrees</th>\n      <th>year</th>\n      <th>...</th>\n      <th>Wind Direction_North</th>\n      <th>Wind Direction_SE</th>\n      <th>Wind Direction_SSE</th>\n      <th>Wind Direction_SSW</th>\n      <th>Wind Direction_SW</th>\n      <th>Wind Direction_South</th>\n      <th>Wind Direction_Variable</th>\n      <th>Wind Direction_WNW</th>\n      <th>Wind Direction_WSW</th>\n      <th>Wind Direction_West</th>\n    </tr>\n  </thead>\n  <tbody>\n    <tr>\n      <th>0</th>\n      <td>-15.0</td>\n      <td>0.0</td>\n      <td>54.0</td>\n      <td>0.0</td>\n      <td>1017.4</td>\n      <td>-7.2</td>\n      <td>16.1</td>\n      <td>18.5</td>\n      <td>230</td>\n      <td>2015</td>\n      <td>...</td>\n      <td>0</td>\n      <td>0</td>\n      <td>0</td>\n      <td>0</td>\n      <td>1</td>\n      <td>0</td>\n      <td>0</td>\n      <td>0</td>\n      <td>0</td>\n      <td>0</td>\n    </tr>\n    <tr>\n      <th>1</th>\n      <td>-14.4</td>\n      <td>0.0</td>\n      <td>55.0</td>\n      <td>0.0</td>\n      <td>1017.2</td>\n      <td>-6.6</td>\n      <td>16.1</td>\n      <td>14.8</td>\n      <td>240</td>\n      <td>2015</td>\n      <td>...</td>\n      <td>0</td>\n      <td>0</td>\n      <td>0</td>\n      <td>0</td>\n      <td>0</td>\n      <td>0</td>\n      <td>0</td>\n      <td>0</td>\n      <td>1</td>\n      <td>0</td>\n    </tr>\n    <tr>\n      <th>2</th>\n      <td>-14.4</td>\n      <td>0.0</td>\n      <td>55.0</td>\n      <td>0.0</td>\n      <td>1016.9</td>\n      <td>-6.6</td>\n      <td>16.1</td>\n      <td>14.8</td>\n      <td>220</td>\n      <td>2015</td>\n      <td>...</td>\n      <td>0</td>\n      <td>0</td>\n      <td>0</td>\n      <td>0</td>\n      <td>1</td>\n      <td>0</td>\n      <td>0</td>\n      <td>0</td>\n      <td>0</td>\n      <td>0</td>\n    </tr>\n    <tr>\n      <th>3</th>\n      <td>-14.4</td>\n      <td>0.0</td>\n      <td>55.0</td>\n      <td>0.0</td>\n      <td>1017.2</td>\n      <td>-6.6</td>\n      <td>16.1</td>\n      <td>18.5</td>\n      <td>220</td>\n      <td>2015</td>\n      <td>...</td>\n      <td>0</td>\n      <td>0</td>\n      <td>0</td>\n      <td>0</td>\n      <td>1</td>\n      <td>0</td>\n      <td>0</td>\n      <td>0</td>\n      <td>0</td>\n      <td>0</td>\n    </tr>\n    <tr>\n      <th>4</th>\n      <td>-14.4</td>\n      <td>0.0</td>\n      <td>55.0</td>\n      <td>0.0</td>\n      <td>1017.2</td>\n      <td>-6.6</td>\n      <td>16.1</td>\n      <td>14.8</td>\n      <td>210</td>\n      <td>2015</td>\n      <td>...</td>\n      <td>0</td>\n      <td>0</td>\n      <td>0</td>\n      <td>1</td>\n      <td>0</td>\n      <td>0</td>\n      <td>0</td>\n      <td>0</td>\n      <td>0</td>\n      <td>0</td>\n    </tr>\n    <tr>\n      <th>...</th>\n      <td>...</td>\n      <td>...</td>\n      <td>...</td>\n      <td>...</td>\n      <td>...</td>\n      <td>...</td>\n      <td>...</td>\n      <td>...</td>\n      <td>...</td>\n      <td>...</td>\n      <td>...</td>\n      <td>...</td>\n      <td>...</td>\n      <td>...</td>\n      <td>...</td>\n      <td>...</td>\n      <td>...</td>\n      <td>...</td>\n      <td>...</td>\n      <td>...</td>\n      <td>...</td>\n    </tr>\n    <tr>\n      <th>8536</th>\n      <td>-1.0</td>\n      <td>0.0</td>\n      <td>100.0</td>\n      <td>0.0</td>\n      <td>1019.2</td>\n      <td>-1.0</td>\n      <td>16.1</td>\n      <td>9.3</td>\n      <td>330</td>\n      <td>2015</td>\n      <td>...</td>\n      <td>0</td>\n      <td>0</td>\n      <td>0</td>\n      <td>0</td>\n      <td>0</td>\n      <td>0</td>\n      <td>0</td>\n      <td>0</td>\n      <td>0</td>\n      <td>0</td>\n    </tr>\n    <tr>\n      <th>8537</th>\n      <td>-2.0</td>\n      <td>0.0</td>\n      <td>93.0</td>\n      <td>0.0</td>\n      <td>1019.2</td>\n      <td>-1.0</td>\n      <td>8.0</td>\n      <td>13.0</td>\n      <td>330</td>\n      <td>2015</td>\n      <td>...</td>\n      <td>0</td>\n      <td>0</td>\n      <td>0</td>\n      <td>0</td>\n      <td>0</td>\n      <td>0</td>\n      <td>0</td>\n      <td>0</td>\n      <td>0</td>\n      <td>0</td>\n    </tr>\n    <tr>\n      <th>8538</th>\n      <td>-1.0</td>\n      <td>0.0</td>\n      <td>100.0</td>\n      <td>0.0</td>\n      <td>1019.5</td>\n      <td>-1.0</td>\n      <td>6.4</td>\n      <td>14.8</td>\n      <td>330</td>\n      <td>2015</td>\n      <td>...</td>\n      <td>0</td>\n      <td>0</td>\n      <td>0</td>\n      <td>0</td>\n      <td>0</td>\n      <td>0</td>\n      <td>0</td>\n      <td>0</td>\n      <td>0</td>\n      <td>0</td>\n    </tr>\n    <tr>\n      <th>8539</th>\n      <td>-1.0</td>\n      <td>0.0</td>\n      <td>100.0</td>\n      <td>0.0</td>\n      <td>1019.2</td>\n      <td>-1.0</td>\n      <td>6.4</td>\n      <td>9.3</td>\n      <td>330</td>\n      <td>2015</td>\n      <td>...</td>\n      <td>0</td>\n      <td>0</td>\n      <td>0</td>\n      <td>0</td>\n      <td>0</td>\n      <td>0</td>\n      <td>0</td>\n      <td>0</td>\n      <td>0</td>\n      <td>0</td>\n    </tr>\n    <tr>\n      <th>8540</th>\n      <td>-2.0</td>\n      <td>0.0</td>\n      <td>93.0</td>\n      <td>0.0</td>\n      <td>1018.8</td>\n      <td>-1.0</td>\n      <td>6.4</td>\n      <td>7.4</td>\n      <td>340</td>\n      <td>2015</td>\n      <td>...</td>\n      <td>0</td>\n      <td>0</td>\n      <td>0</td>\n      <td>0</td>\n      <td>0</td>\n      <td>0</td>\n      <td>0</td>\n      <td>0</td>\n      <td>0</td>\n      <td>0</td>\n    </tr>\n  </tbody>\n</table>\n<p>8541 rows × 69 columns</p>\n</div>"
     },
     "execution_count": 41,
     "metadata": {},
     "output_type": "execute_result"
    }
   ],
   "source": [
    "df"
   ],
   "metadata": {
    "collapsed": false,
    "pycharm": {
     "name": "#%%\n"
    }
   }
  },
  {
   "cell_type": "code",
   "execution_count": 42,
   "outputs": [
    {
     "data": {
      "text/plain": "      Dew PointC  Gust SpeedKm/h  Humidity  Precipitationmm  \\\n0          -15.0             0.0      54.0              0.0   \n1          -14.4             0.0      55.0              0.0   \n2          -14.4             0.0      55.0              0.0   \n3          -14.4             0.0      55.0              0.0   \n4          -14.4             0.0      55.0              0.0   \n...          ...             ...       ...              ...   \n8536        -1.0             0.0     100.0              0.0   \n8537        -2.0             0.0      93.0              0.0   \n8538        -1.0             0.0     100.0              0.0   \n8539        -1.0             0.0     100.0              0.0   \n8540        -2.0             0.0      93.0              0.0   \n\n      Sea Level PressurehPa  TemperatureC  VisibilityKm  Wind SpeedKm/h  \\\n0                    1017.4          -7.2          16.1            18.5   \n1                    1017.2          -6.6          16.1            14.8   \n2                    1016.9          -6.6          16.1            14.8   \n3                    1017.2          -6.6          16.1            18.5   \n4                    1017.2          -6.6          16.1            14.8   \n...                     ...           ...           ...             ...   \n8536                 1019.2          -1.0          16.1             9.3   \n8537                 1019.2          -1.0           8.0            13.0   \n8538                 1019.5          -1.0           6.4            14.8   \n8539                 1019.2          -1.0           6.4             9.3   \n8540                 1018.8          -1.0           6.4             7.4   \n\n      WindDirDegrees  year  ...  Wind Direction_SSE  Wind Direction_SSW  \\\n0                230  2015  ...                   0                   0   \n1                240  2015  ...                   0                   0   \n2                220  2015  ...                   0                   0   \n3                220  2015  ...                   0                   0   \n4                210  2015  ...                   0                   1   \n...              ...   ...  ...                 ...                 ...   \n8536             330  2015  ...                   0                   0   \n8537             330  2015  ...                   0                   0   \n8538             330  2015  ...                   0                   0   \n8539             330  2015  ...                   0                   0   \n8540             340  2015  ...                   0                   0   \n\n      Wind Direction_SW  Wind Direction_South  Wind Direction_Variable  \\\n0                     1                     0                        0   \n1                     0                     0                        0   \n2                     1                     0                        0   \n3                     1                     0                        0   \n4                     0                     0                        0   \n...                 ...                   ...                      ...   \n8536                  0                     0                        0   \n8537                  0                     0                        0   \n8538                  0                     0                        0   \n8539                  0                     0                        0   \n8540                  0                     0                        0   \n\n      Wind Direction_WNW  Wind Direction_WSW  Wind Direction_West  \\\n0                      0                   0                    0   \n1                      0                   1                    0   \n2                      0                   0                    0   \n3                      0                   0                    0   \n4                      0                   0                    0   \n...                  ...                 ...                  ...   \n8536                   0                   0                    0   \n8537                   0                   0                    0   \n8538                   0                   0                    0   \n8539                   0                   0                    0   \n8540                   0                   0                    0   \n\n      UnivClass_Ciara_log  UnivLab_Cesar_log  \n0                4.925985           1.795917  \n1                4.976906           1.722767  \n2                4.982750           1.749200  \n3                4.965464           1.740466  \n4                5.005288           1.718292  \n...                   ...                ...  \n8536             4.942178           2.180417  \n8537             4.936091           2.145931  \n8538             4.932674           1.935138  \n8539             4.958816           2.060514  \n8540             4.913941           2.014903  \n\n[8541 rows x 71 columns]",
      "text/html": "<div>\n<style scoped>\n    .dataframe tbody tr th:only-of-type {\n        vertical-align: middle;\n    }\n\n    .dataframe tbody tr th {\n        vertical-align: top;\n    }\n\n    .dataframe thead th {\n        text-align: right;\n    }\n</style>\n<table border=\"1\" class=\"dataframe\">\n  <thead>\n    <tr style=\"text-align: right;\">\n      <th></th>\n      <th>Dew PointC</th>\n      <th>Gust SpeedKm/h</th>\n      <th>Humidity</th>\n      <th>Precipitationmm</th>\n      <th>Sea Level PressurehPa</th>\n      <th>TemperatureC</th>\n      <th>VisibilityKm</th>\n      <th>Wind SpeedKm/h</th>\n      <th>WindDirDegrees</th>\n      <th>year</th>\n      <th>...</th>\n      <th>Wind Direction_SSE</th>\n      <th>Wind Direction_SSW</th>\n      <th>Wind Direction_SW</th>\n      <th>Wind Direction_South</th>\n      <th>Wind Direction_Variable</th>\n      <th>Wind Direction_WNW</th>\n      <th>Wind Direction_WSW</th>\n      <th>Wind Direction_West</th>\n      <th>UnivClass_Ciara_log</th>\n      <th>UnivLab_Cesar_log</th>\n    </tr>\n  </thead>\n  <tbody>\n    <tr>\n      <th>0</th>\n      <td>-15.0</td>\n      <td>0.0</td>\n      <td>54.0</td>\n      <td>0.0</td>\n      <td>1017.4</td>\n      <td>-7.2</td>\n      <td>16.1</td>\n      <td>18.5</td>\n      <td>230</td>\n      <td>2015</td>\n      <td>...</td>\n      <td>0</td>\n      <td>0</td>\n      <td>1</td>\n      <td>0</td>\n      <td>0</td>\n      <td>0</td>\n      <td>0</td>\n      <td>0</td>\n      <td>4.925985</td>\n      <td>1.795917</td>\n    </tr>\n    <tr>\n      <th>1</th>\n      <td>-14.4</td>\n      <td>0.0</td>\n      <td>55.0</td>\n      <td>0.0</td>\n      <td>1017.2</td>\n      <td>-6.6</td>\n      <td>16.1</td>\n      <td>14.8</td>\n      <td>240</td>\n      <td>2015</td>\n      <td>...</td>\n      <td>0</td>\n      <td>0</td>\n      <td>0</td>\n      <td>0</td>\n      <td>0</td>\n      <td>0</td>\n      <td>1</td>\n      <td>0</td>\n      <td>4.976906</td>\n      <td>1.722767</td>\n    </tr>\n    <tr>\n      <th>2</th>\n      <td>-14.4</td>\n      <td>0.0</td>\n      <td>55.0</td>\n      <td>0.0</td>\n      <td>1016.9</td>\n      <td>-6.6</td>\n      <td>16.1</td>\n      <td>14.8</td>\n      <td>220</td>\n      <td>2015</td>\n      <td>...</td>\n      <td>0</td>\n      <td>0</td>\n      <td>1</td>\n      <td>0</td>\n      <td>0</td>\n      <td>0</td>\n      <td>0</td>\n      <td>0</td>\n      <td>4.982750</td>\n      <td>1.749200</td>\n    </tr>\n    <tr>\n      <th>3</th>\n      <td>-14.4</td>\n      <td>0.0</td>\n      <td>55.0</td>\n      <td>0.0</td>\n      <td>1017.2</td>\n      <td>-6.6</td>\n      <td>16.1</td>\n      <td>18.5</td>\n      <td>220</td>\n      <td>2015</td>\n      <td>...</td>\n      <td>0</td>\n      <td>0</td>\n      <td>1</td>\n      <td>0</td>\n      <td>0</td>\n      <td>0</td>\n      <td>0</td>\n      <td>0</td>\n      <td>4.965464</td>\n      <td>1.740466</td>\n    </tr>\n    <tr>\n      <th>4</th>\n      <td>-14.4</td>\n      <td>0.0</td>\n      <td>55.0</td>\n      <td>0.0</td>\n      <td>1017.2</td>\n      <td>-6.6</td>\n      <td>16.1</td>\n      <td>14.8</td>\n      <td>210</td>\n      <td>2015</td>\n      <td>...</td>\n      <td>0</td>\n      <td>1</td>\n      <td>0</td>\n      <td>0</td>\n      <td>0</td>\n      <td>0</td>\n      <td>0</td>\n      <td>0</td>\n      <td>5.005288</td>\n      <td>1.718292</td>\n    </tr>\n    <tr>\n      <th>...</th>\n      <td>...</td>\n      <td>...</td>\n      <td>...</td>\n      <td>...</td>\n      <td>...</td>\n      <td>...</td>\n      <td>...</td>\n      <td>...</td>\n      <td>...</td>\n      <td>...</td>\n      <td>...</td>\n      <td>...</td>\n      <td>...</td>\n      <td>...</td>\n      <td>...</td>\n      <td>...</td>\n      <td>...</td>\n      <td>...</td>\n      <td>...</td>\n      <td>...</td>\n      <td>...</td>\n    </tr>\n    <tr>\n      <th>8536</th>\n      <td>-1.0</td>\n      <td>0.0</td>\n      <td>100.0</td>\n      <td>0.0</td>\n      <td>1019.2</td>\n      <td>-1.0</td>\n      <td>16.1</td>\n      <td>9.3</td>\n      <td>330</td>\n      <td>2015</td>\n      <td>...</td>\n      <td>0</td>\n      <td>0</td>\n      <td>0</td>\n      <td>0</td>\n      <td>0</td>\n      <td>0</td>\n      <td>0</td>\n      <td>0</td>\n      <td>4.942178</td>\n      <td>2.180417</td>\n    </tr>\n    <tr>\n      <th>8537</th>\n      <td>-2.0</td>\n      <td>0.0</td>\n      <td>93.0</td>\n      <td>0.0</td>\n      <td>1019.2</td>\n      <td>-1.0</td>\n      <td>8.0</td>\n      <td>13.0</td>\n      <td>330</td>\n      <td>2015</td>\n      <td>...</td>\n      <td>0</td>\n      <td>0</td>\n      <td>0</td>\n      <td>0</td>\n      <td>0</td>\n      <td>0</td>\n      <td>0</td>\n      <td>0</td>\n      <td>4.936091</td>\n      <td>2.145931</td>\n    </tr>\n    <tr>\n      <th>8538</th>\n      <td>-1.0</td>\n      <td>0.0</td>\n      <td>100.0</td>\n      <td>0.0</td>\n      <td>1019.5</td>\n      <td>-1.0</td>\n      <td>6.4</td>\n      <td>14.8</td>\n      <td>330</td>\n      <td>2015</td>\n      <td>...</td>\n      <td>0</td>\n      <td>0</td>\n      <td>0</td>\n      <td>0</td>\n      <td>0</td>\n      <td>0</td>\n      <td>0</td>\n      <td>0</td>\n      <td>4.932674</td>\n      <td>1.935138</td>\n    </tr>\n    <tr>\n      <th>8539</th>\n      <td>-1.0</td>\n      <td>0.0</td>\n      <td>100.0</td>\n      <td>0.0</td>\n      <td>1019.2</td>\n      <td>-1.0</td>\n      <td>6.4</td>\n      <td>9.3</td>\n      <td>330</td>\n      <td>2015</td>\n      <td>...</td>\n      <td>0</td>\n      <td>0</td>\n      <td>0</td>\n      <td>0</td>\n      <td>0</td>\n      <td>0</td>\n      <td>0</td>\n      <td>0</td>\n      <td>4.958816</td>\n      <td>2.060514</td>\n    </tr>\n    <tr>\n      <th>8540</th>\n      <td>-2.0</td>\n      <td>0.0</td>\n      <td>93.0</td>\n      <td>0.0</td>\n      <td>1018.8</td>\n      <td>-1.0</td>\n      <td>6.4</td>\n      <td>7.4</td>\n      <td>340</td>\n      <td>2015</td>\n      <td>...</td>\n      <td>0</td>\n      <td>0</td>\n      <td>0</td>\n      <td>0</td>\n      <td>0</td>\n      <td>0</td>\n      <td>0</td>\n      <td>0</td>\n      <td>4.913941</td>\n      <td>2.014903</td>\n    </tr>\n  </tbody>\n</table>\n<p>8541 rows × 71 columns</p>\n</div>"
     },
     "execution_count": 42,
     "metadata": {},
     "output_type": "execute_result"
    }
   ],
   "source": [
    "df['UnivClass_Ciara_log'] = np.log(df['UnivClass_Ciara'] + 1)\n",
    "df['UnivLab_Cesar_log'] = np.log(df['UnivLab_Cesar'] + 1)\n",
    "df"
   ],
   "metadata": {
    "collapsed": false,
    "pycharm": {
     "name": "#%%\n"
    }
   }
  },
  {
   "cell_type": "markdown",
   "source": [
    "<img src=\"./rmsle.png\">"
   ],
   "metadata": {
    "collapsed": false
   }
  },
  {
   "cell_type": "code",
   "execution_count": 43,
   "outputs": [],
   "source": [
    "def get_rmsle(y_actual, y_pred):\n",
    "    diff = np.log(y_pred + 1) - np.log(y_actual + 1)\n",
    "    mean_error = np.square(diff).mean()\n",
    "    return np.sqrt(mean_error)"
   ],
   "metadata": {
    "collapsed": false,
    "pycharm": {
     "name": "#%%\n"
    }
   }
  },
  {
   "cell_type": "code",
   "execution_count": 44,
   "outputs": [
    {
     "data": {
      "text/plain": "['Dew PointC',\n 'Gust SpeedKm/h',\n 'Humidity',\n 'Precipitationmm',\n 'Sea Level PressurehPa',\n 'TemperatureC',\n 'VisibilityKm',\n 'Wind SpeedKm/h',\n 'WindDirDegrees',\n 'year',\n 'month',\n 'day',\n 'hour',\n 'Conditions_Blowing Snow',\n 'Conditions_Clear',\n 'Conditions_Fog',\n 'Conditions_Haze',\n 'Conditions_Heavy Rain',\n 'Conditions_Heavy Snow',\n 'Conditions_Heavy Thunderstorms and Rain',\n 'Conditions_Ice Crystals',\n 'Conditions_Light Freezing Fog',\n 'Conditions_Light Freezing Rain',\n 'Conditions_Light Rain',\n 'Conditions_Light Rain Showers',\n 'Conditions_Light Snow',\n 'Conditions_Light Snow Showers',\n 'Conditions_Light Thunderstorms and Rain',\n 'Conditions_Mist',\n 'Conditions_Mostly Cloudy',\n 'Conditions_Overcast',\n 'Conditions_Partly Cloudy',\n 'Conditions_Patches of Fog',\n 'Conditions_Rain',\n 'Conditions_Scattered Clouds',\n 'Conditions_Small Hail',\n 'Conditions_Snow',\n 'Conditions_Thunderstorm',\n 'Conditions_Thunderstorms and Rain',\n 'Conditions_Unknown',\n 'Events_Fog',\n 'Events_Fog-Rain',\n 'Events_Fog-Snow',\n 'Events_Rain',\n 'Events_Rain-Snow',\n 'Events_Rain-Thunderstorm',\n 'Events_Snow',\n 'Events_Sunny',\n 'Events_Thunderstorm',\n 'Wind Direction_Calm',\n 'Wind Direction_ENE',\n 'Wind Direction_ESE',\n 'Wind Direction_East',\n 'Wind Direction_NE',\n 'Wind Direction_NNE',\n 'Wind Direction_NNW',\n 'Wind Direction_NW',\n 'Wind Direction_North',\n 'Wind Direction_SE',\n 'Wind Direction_SSE',\n 'Wind Direction_SSW',\n 'Wind Direction_SW',\n 'Wind Direction_South',\n 'Wind Direction_Variable',\n 'Wind Direction_WNW',\n 'Wind Direction_WSW',\n 'Wind Direction_West']"
     },
     "execution_count": 44,
     "metadata": {},
     "output_type": "execute_result"
    }
   ],
   "source": [
    "ml_cols = df.columns.tolist()\n",
    "target_cols = [\"UnivClass_Ciara\", \"UnivLab_Cesar\", \"UnivClass_Ciara_log\", \"UnivLab_Cesar_log\"]\n",
    "for i in target_cols:\n",
    "    ml_cols.remove(i)\n",
    "ml_cols"
   ],
   "metadata": {
    "collapsed": false,
    "pycharm": {
     "name": "#%%\n"
    }
   }
  },
  {
   "cell_type": "code",
   "execution_count": 45,
   "outputs": [],
   "source": [
    "def train_rmsle(model, ml_cols, target_col):\n",
    "    from sklearn.model_selection import train_test_split\n",
    "    from sklearn.preprocessing import StandardScaler\n",
    "\n",
    "    X_train, X_test, y_train, y_test = train_test_split(df[ml_cols], df[target_col], test_size=0.2,\n",
    "                                                    shuffle=True, random_state=0)\n",
    "    X_train = StandardScaler().fit_transform(X_train)\n",
    "    X_test = StandardScaler().fit_transform(X_test)\n",
    "\n",
    "    model.fit(X_train, y_train)\n",
    "    preds = model.predict(X_test)\n",
    "\n",
    "    score = get_rmsle(y_test, preds)\n",
    "    return print(\"{}의 rmsle 값은 : \".format(model), score)"
   ],
   "metadata": {
    "collapsed": false,
    "pycharm": {
     "name": "#%%\n"
    }
   }
  },
  {
   "cell_type": "code",
   "execution_count": 46,
   "outputs": [
    {
     "name": "stdout",
     "output_type": "stream",
     "text": [
      "RandomForestRegressor()의 rmsle 값은 :  0.009323843618126066\n"
     ]
    }
   ],
   "source": [
    "from sklearn.ensemble import RandomForestRegressor\n",
    "\n",
    "rf_model = RandomForestRegressor()\n",
    "train_rmsle(rf_model, ml_cols, \"UnivClass_Ciara_log\")"
   ],
   "metadata": {
    "collapsed": false,
    "pycharm": {
     "name": "#%%\n"
    }
   }
  },
  {
   "cell_type": "code",
   "execution_count": 47,
   "outputs": [
    {
     "name": "stdout",
     "output_type": "stream",
     "text": [
      "RandomForestRegressor()의 rmsle 값은 :  0.023578104182703546\n"
     ]
    }
   ],
   "source": [
    "from sklearn.ensemble import RandomForestRegressor\n",
    "\n",
    "rf_model = RandomForestRegressor()\n",
    "train_rmsle(rf_model, ml_cols, \"UnivLab_Cesar_log\")"
   ],
   "metadata": {
    "collapsed": false,
    "pycharm": {
     "name": "#%%\n"
    }
   }
  },
  {
   "cell_type": "markdown",
   "source": [
    "모델 성능평가에서도 class와 lab의 성능차이가 있다.\n",
    "이번에 처리한 데이터로 만든 RF 모델의 경우 Class의 경우 상대적으로 높은 예측 성능을 나타내며 Lab의 경우 상대적으로 낮은 예측 성능을 나타낸다.\n",
    "즉, 같은 날씨 데이터를 사용하더라도 class와 lab의 공간 특성에 따라 데이터 처리를 해줘야 예측 성능이 높게나올 수 있다."
   ],
   "metadata": {
    "collapsed": false
   }
  },
  {
   "cell_type": "code",
   "execution_count": null,
   "outputs": [],
   "source": [],
   "metadata": {
    "collapsed": false,
    "pycharm": {
     "name": "#%%\n"
    }
   }
  }
 ],
 "metadata": {
  "kernelspec": {
   "display_name": "Python 3",
   "language": "python",
   "name": "python3"
  },
  "language_info": {
   "codemirror_mode": {
    "name": "ipython",
    "version": 2
   },
   "file_extension": ".py",
   "mimetype": "text/x-python",
   "name": "python",
   "nbconvert_exporter": "python",
   "pygments_lexer": "ipython2",
   "version": "2.7.6"
  }
 },
 "nbformat": 4,
 "nbformat_minor": 0
}