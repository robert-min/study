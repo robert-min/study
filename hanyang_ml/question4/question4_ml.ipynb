{
 "cells": [
  {
   "cell_type": "markdown",
   "source": [
    "# Question 4 예측 모델을 돌려보자!!"
   ],
   "metadata": {
    "collapsed": false
   }
  },
  {
   "cell_type": "markdown",
   "source": [
    "## 데이터 로드"
   ],
   "metadata": {
    "collapsed": false
   }
  },
  {
   "cell_type": "code",
   "execution_count": 2,
   "metadata": {
    "collapsed": true
   },
   "outputs": [
    {
     "data": {
      "text/plain": "   Unnamed: 0  Dew PointC  Gust SpeedKm/h  Humidity  Precipitationmm  \\\n0           0       -15.0             0.0      54.0              0.0   \n1           1       -14.4             0.0      55.0              0.0   \n2           2       -14.4             0.0      55.0              0.0   \n3           3       -14.4             0.0      55.0              0.0   \n4           4       -14.4             0.0      55.0              0.0   \n\n   Sea Level PressurehPa  TemperatureC  VisibilityKm  Wind SpeedKm/h  \\\n0                 1017.4          -7.2          16.1            18.5   \n1                 1017.2          -6.6          16.1            14.8   \n2                 1016.9          -6.6          16.1            14.8   \n3                 1017.2          -6.6          16.1            18.5   \n4                 1017.2          -6.6          16.1            14.8   \n\n   WindDirDegrees  ...  Wind Direction_North  Wind Direction_SE  \\\n0             230  ...                     0                  0   \n1             240  ...                     0                  0   \n2             220  ...                     0                  0   \n3             220  ...                     0                  0   \n4             210  ...                     0                  0   \n\n   Wind Direction_SSE  Wind Direction_SSW  Wind Direction_SW  \\\n0                   0                   0                  1   \n1                   0                   0                  0   \n2                   0                   0                  1   \n3                   0                   0                  1   \n4                   0                   1                  0   \n\n   Wind Direction_South  Wind Direction_Variable  Wind Direction_WNW  \\\n0                     0                        0                   0   \n1                     0                        0                   0   \n2                     0                        0                   0   \n3                     0                        0                   0   \n4                     0                        0                   0   \n\n   Wind Direction_WSW  Wind Direction_West  \n0                   0                    0  \n1                   1                    0  \n2                   0                    0  \n3                   0                    0  \n4                   0                    0  \n\n[5 rows x 69 columns]",
      "text/html": "<div>\n<style scoped>\n    .dataframe tbody tr th:only-of-type {\n        vertical-align: middle;\n    }\n\n    .dataframe tbody tr th {\n        vertical-align: top;\n    }\n\n    .dataframe thead th {\n        text-align: right;\n    }\n</style>\n<table border=\"1\" class=\"dataframe\">\n  <thead>\n    <tr style=\"text-align: right;\">\n      <th></th>\n      <th>Unnamed: 0</th>\n      <th>Dew PointC</th>\n      <th>Gust SpeedKm/h</th>\n      <th>Humidity</th>\n      <th>Precipitationmm</th>\n      <th>Sea Level PressurehPa</th>\n      <th>TemperatureC</th>\n      <th>VisibilityKm</th>\n      <th>Wind SpeedKm/h</th>\n      <th>WindDirDegrees</th>\n      <th>...</th>\n      <th>Wind Direction_North</th>\n      <th>Wind Direction_SE</th>\n      <th>Wind Direction_SSE</th>\n      <th>Wind Direction_SSW</th>\n      <th>Wind Direction_SW</th>\n      <th>Wind Direction_South</th>\n      <th>Wind Direction_Variable</th>\n      <th>Wind Direction_WNW</th>\n      <th>Wind Direction_WSW</th>\n      <th>Wind Direction_West</th>\n    </tr>\n  </thead>\n  <tbody>\n    <tr>\n      <th>0</th>\n      <td>0</td>\n      <td>-15.0</td>\n      <td>0.0</td>\n      <td>54.0</td>\n      <td>0.0</td>\n      <td>1017.4</td>\n      <td>-7.2</td>\n      <td>16.1</td>\n      <td>18.5</td>\n      <td>230</td>\n      <td>...</td>\n      <td>0</td>\n      <td>0</td>\n      <td>0</td>\n      <td>0</td>\n      <td>1</td>\n      <td>0</td>\n      <td>0</td>\n      <td>0</td>\n      <td>0</td>\n      <td>0</td>\n    </tr>\n    <tr>\n      <th>1</th>\n      <td>1</td>\n      <td>-14.4</td>\n      <td>0.0</td>\n      <td>55.0</td>\n      <td>0.0</td>\n      <td>1017.2</td>\n      <td>-6.6</td>\n      <td>16.1</td>\n      <td>14.8</td>\n      <td>240</td>\n      <td>...</td>\n      <td>0</td>\n      <td>0</td>\n      <td>0</td>\n      <td>0</td>\n      <td>0</td>\n      <td>0</td>\n      <td>0</td>\n      <td>0</td>\n      <td>1</td>\n      <td>0</td>\n    </tr>\n    <tr>\n      <th>2</th>\n      <td>2</td>\n      <td>-14.4</td>\n      <td>0.0</td>\n      <td>55.0</td>\n      <td>0.0</td>\n      <td>1016.9</td>\n      <td>-6.6</td>\n      <td>16.1</td>\n      <td>14.8</td>\n      <td>220</td>\n      <td>...</td>\n      <td>0</td>\n      <td>0</td>\n      <td>0</td>\n      <td>0</td>\n      <td>1</td>\n      <td>0</td>\n      <td>0</td>\n      <td>0</td>\n      <td>0</td>\n      <td>0</td>\n    </tr>\n    <tr>\n      <th>3</th>\n      <td>3</td>\n      <td>-14.4</td>\n      <td>0.0</td>\n      <td>55.0</td>\n      <td>0.0</td>\n      <td>1017.2</td>\n      <td>-6.6</td>\n      <td>16.1</td>\n      <td>18.5</td>\n      <td>220</td>\n      <td>...</td>\n      <td>0</td>\n      <td>0</td>\n      <td>0</td>\n      <td>0</td>\n      <td>1</td>\n      <td>0</td>\n      <td>0</td>\n      <td>0</td>\n      <td>0</td>\n      <td>0</td>\n    </tr>\n    <tr>\n      <th>4</th>\n      <td>4</td>\n      <td>-14.4</td>\n      <td>0.0</td>\n      <td>55.0</td>\n      <td>0.0</td>\n      <td>1017.2</td>\n      <td>-6.6</td>\n      <td>16.1</td>\n      <td>14.8</td>\n      <td>210</td>\n      <td>...</td>\n      <td>0</td>\n      <td>0</td>\n      <td>0</td>\n      <td>1</td>\n      <td>0</td>\n      <td>0</td>\n      <td>0</td>\n      <td>0</td>\n      <td>0</td>\n      <td>0</td>\n    </tr>\n  </tbody>\n</table>\n<p>5 rows × 69 columns</p>\n</div>"
     },
     "execution_count": 2,
     "metadata": {},
     "output_type": "execute_result"
    }
   ],
   "source": [
    "import pandas as pd\n",
    "\n",
    "df = pd.read_csv(\"./preprocessing_q4.csv\")\n",
    "df.head()"
   ]
  },
  {
   "cell_type": "code",
   "execution_count": 3,
   "outputs": [],
   "source": [
    "df = df.drop('Unnamed: 0', axis=1)"
   ],
   "metadata": {
    "collapsed": false,
    "pycharm": {
     "name": "#%%\n"
    }
   }
  },
  {
   "cell_type": "code",
   "execution_count": 4,
   "outputs": [
    {
     "data": {
      "text/plain": "        Dew PointC  Gust SpeedKm/h     Humidity  Precipitationmm  \\\ncount  8541.000000     8541.000000  8541.000000      8541.000000   \nmean      3.857323        4.331202    74.562815         0.004492   \nstd      11.351268       12.370641    18.280534         0.037346   \nmin     -32.200000        0.000000    16.000000         0.000000   \n25%      -3.800000        0.000000    62.000000         0.000000   \n50%       5.000000        0.000000    77.000000         0.000000   \n75%      13.300000        0.000000    90.000000         0.000000   \nmax      23.800000       64.800000   100.000000         1.430000   \n\n       Sea Level PressurehPa  TemperatureC  VisibilityKm  Wind SpeedKm/h  \\\ncount            8541.000000   8541.000000   8541.000000     8541.000000   \nmean             1018.411966      8.675928     14.513312       11.815584   \nstd                 7.438663     11.739865      3.839898        8.466212   \nmin               995.000000    -28.800000      0.100000        0.500000   \n25%              1013.300000      0.000000     16.100000        5.600000   \n50%              1018.300000     10.000000     16.100000       11.100000   \n75%              1023.200000     18.300000     16.100000       16.700000   \nmax              1044.400000     33.800000     16.100000       48.200000   \n\n       WindDirDegrees  year_x  ...  Wind Direction_North  Wind Direction_SE  \\\ncount     8541.000000  8541.0  ...           8541.000000        8541.000000   \nmean       179.663974  2015.0  ...              0.049057           0.028685   \nstd        120.084638     0.0  ...              0.216001           0.166930   \nmin          0.000000  2015.0  ...              0.000000           0.000000   \n25%         80.000000  2015.0  ...              0.000000           0.000000   \n50%        180.000000  2015.0  ...              0.000000           0.000000   \n75%        300.000000  2015.0  ...              0.000000           0.000000   \nmax        360.000000  2015.0  ...              1.000000           1.000000   \n\n       Wind Direction_SSE  Wind Direction_SSW  Wind Direction_SW  \\\ncount         8541.000000         8541.000000        8541.000000   \nmean             0.075401            0.028451           0.024470   \nstd              0.264053            0.166267           0.154513   \nmin              0.000000            0.000000           0.000000   \n25%              0.000000            0.000000           0.000000   \n50%              0.000000            0.000000           0.000000   \n75%              0.000000            0.000000           0.000000   \nmax              1.000000            1.000000           1.000000   \n\n       Wind Direction_South  Wind Direction_Variable  Wind Direction_WNW  \\\ncount           8541.000000              8541.000000         8541.000000   \nmean               0.138391                 0.014401            0.062171   \nstd                0.345330                 0.119144            0.241479   \nmin                0.000000                 0.000000            0.000000   \n25%                0.000000                 0.000000            0.000000   \n50%                0.000000                 0.000000            0.000000   \n75%                0.000000                 0.000000            0.000000   \nmax                1.000000                 1.000000            1.000000   \n\n       Wind Direction_WSW  Wind Direction_West  \ncount         8541.000000          8541.000000  \nmean             0.023065             0.048121  \nstd              0.150119             0.214034  \nmin              0.000000             0.000000  \n25%              0.000000             0.000000  \n50%              0.000000             0.000000  \n75%              0.000000             0.000000  \nmax              1.000000             1.000000  \n\n[8 rows x 68 columns]",
      "text/html": "<div>\n<style scoped>\n    .dataframe tbody tr th:only-of-type {\n        vertical-align: middle;\n    }\n\n    .dataframe tbody tr th {\n        vertical-align: top;\n    }\n\n    .dataframe thead th {\n        text-align: right;\n    }\n</style>\n<table border=\"1\" class=\"dataframe\">\n  <thead>\n    <tr style=\"text-align: right;\">\n      <th></th>\n      <th>Dew PointC</th>\n      <th>Gust SpeedKm/h</th>\n      <th>Humidity</th>\n      <th>Precipitationmm</th>\n      <th>Sea Level PressurehPa</th>\n      <th>TemperatureC</th>\n      <th>VisibilityKm</th>\n      <th>Wind SpeedKm/h</th>\n      <th>WindDirDegrees</th>\n      <th>year_x</th>\n      <th>...</th>\n      <th>Wind Direction_North</th>\n      <th>Wind Direction_SE</th>\n      <th>Wind Direction_SSE</th>\n      <th>Wind Direction_SSW</th>\n      <th>Wind Direction_SW</th>\n      <th>Wind Direction_South</th>\n      <th>Wind Direction_Variable</th>\n      <th>Wind Direction_WNW</th>\n      <th>Wind Direction_WSW</th>\n      <th>Wind Direction_West</th>\n    </tr>\n  </thead>\n  <tbody>\n    <tr>\n      <th>count</th>\n      <td>8541.000000</td>\n      <td>8541.000000</td>\n      <td>8541.000000</td>\n      <td>8541.000000</td>\n      <td>8541.000000</td>\n      <td>8541.000000</td>\n      <td>8541.000000</td>\n      <td>8541.000000</td>\n      <td>8541.000000</td>\n      <td>8541.0</td>\n      <td>...</td>\n      <td>8541.000000</td>\n      <td>8541.000000</td>\n      <td>8541.000000</td>\n      <td>8541.000000</td>\n      <td>8541.000000</td>\n      <td>8541.000000</td>\n      <td>8541.000000</td>\n      <td>8541.000000</td>\n      <td>8541.000000</td>\n      <td>8541.000000</td>\n    </tr>\n    <tr>\n      <th>mean</th>\n      <td>3.857323</td>\n      <td>4.331202</td>\n      <td>74.562815</td>\n      <td>0.004492</td>\n      <td>1018.411966</td>\n      <td>8.675928</td>\n      <td>14.513312</td>\n      <td>11.815584</td>\n      <td>179.663974</td>\n      <td>2015.0</td>\n      <td>...</td>\n      <td>0.049057</td>\n      <td>0.028685</td>\n      <td>0.075401</td>\n      <td>0.028451</td>\n      <td>0.024470</td>\n      <td>0.138391</td>\n      <td>0.014401</td>\n      <td>0.062171</td>\n      <td>0.023065</td>\n      <td>0.048121</td>\n    </tr>\n    <tr>\n      <th>std</th>\n      <td>11.351268</td>\n      <td>12.370641</td>\n      <td>18.280534</td>\n      <td>0.037346</td>\n      <td>7.438663</td>\n      <td>11.739865</td>\n      <td>3.839898</td>\n      <td>8.466212</td>\n      <td>120.084638</td>\n      <td>0.0</td>\n      <td>...</td>\n      <td>0.216001</td>\n      <td>0.166930</td>\n      <td>0.264053</td>\n      <td>0.166267</td>\n      <td>0.154513</td>\n      <td>0.345330</td>\n      <td>0.119144</td>\n      <td>0.241479</td>\n      <td>0.150119</td>\n      <td>0.214034</td>\n    </tr>\n    <tr>\n      <th>min</th>\n      <td>-32.200000</td>\n      <td>0.000000</td>\n      <td>16.000000</td>\n      <td>0.000000</td>\n      <td>995.000000</td>\n      <td>-28.800000</td>\n      <td>0.100000</td>\n      <td>0.500000</td>\n      <td>0.000000</td>\n      <td>2015.0</td>\n      <td>...</td>\n      <td>0.000000</td>\n      <td>0.000000</td>\n      <td>0.000000</td>\n      <td>0.000000</td>\n      <td>0.000000</td>\n      <td>0.000000</td>\n      <td>0.000000</td>\n      <td>0.000000</td>\n      <td>0.000000</td>\n      <td>0.000000</td>\n    </tr>\n    <tr>\n      <th>25%</th>\n      <td>-3.800000</td>\n      <td>0.000000</td>\n      <td>62.000000</td>\n      <td>0.000000</td>\n      <td>1013.300000</td>\n      <td>0.000000</td>\n      <td>16.100000</td>\n      <td>5.600000</td>\n      <td>80.000000</td>\n      <td>2015.0</td>\n      <td>...</td>\n      <td>0.000000</td>\n      <td>0.000000</td>\n      <td>0.000000</td>\n      <td>0.000000</td>\n      <td>0.000000</td>\n      <td>0.000000</td>\n      <td>0.000000</td>\n      <td>0.000000</td>\n      <td>0.000000</td>\n      <td>0.000000</td>\n    </tr>\n    <tr>\n      <th>50%</th>\n      <td>5.000000</td>\n      <td>0.000000</td>\n      <td>77.000000</td>\n      <td>0.000000</td>\n      <td>1018.300000</td>\n      <td>10.000000</td>\n      <td>16.100000</td>\n      <td>11.100000</td>\n      <td>180.000000</td>\n      <td>2015.0</td>\n      <td>...</td>\n      <td>0.000000</td>\n      <td>0.000000</td>\n      <td>0.000000</td>\n      <td>0.000000</td>\n      <td>0.000000</td>\n      <td>0.000000</td>\n      <td>0.000000</td>\n      <td>0.000000</td>\n      <td>0.000000</td>\n      <td>0.000000</td>\n    </tr>\n    <tr>\n      <th>75%</th>\n      <td>13.300000</td>\n      <td>0.000000</td>\n      <td>90.000000</td>\n      <td>0.000000</td>\n      <td>1023.200000</td>\n      <td>18.300000</td>\n      <td>16.100000</td>\n      <td>16.700000</td>\n      <td>300.000000</td>\n      <td>2015.0</td>\n      <td>...</td>\n      <td>0.000000</td>\n      <td>0.000000</td>\n      <td>0.000000</td>\n      <td>0.000000</td>\n      <td>0.000000</td>\n      <td>0.000000</td>\n      <td>0.000000</td>\n      <td>0.000000</td>\n      <td>0.000000</td>\n      <td>0.000000</td>\n    </tr>\n    <tr>\n      <th>max</th>\n      <td>23.800000</td>\n      <td>64.800000</td>\n      <td>100.000000</td>\n      <td>1.430000</td>\n      <td>1044.400000</td>\n      <td>33.800000</td>\n      <td>16.100000</td>\n      <td>48.200000</td>\n      <td>360.000000</td>\n      <td>2015.0</td>\n      <td>...</td>\n      <td>1.000000</td>\n      <td>1.000000</td>\n      <td>1.000000</td>\n      <td>1.000000</td>\n      <td>1.000000</td>\n      <td>1.000000</td>\n      <td>1.000000</td>\n      <td>1.000000</td>\n      <td>1.000000</td>\n      <td>1.000000</td>\n    </tr>\n  </tbody>\n</table>\n<p>8 rows × 68 columns</p>\n</div>"
     },
     "execution_count": 4,
     "metadata": {},
     "output_type": "execute_result"
    }
   ],
   "source": [
    "df.describe()"
   ],
   "metadata": {
    "collapsed": false,
    "pycharm": {
     "name": "#%%\n"
    }
   }
  },
  {
   "cell_type": "markdown",
   "source": [
    "## Metrics\n",
    "RMSLE 평가방법\n",
    "- 과대평가 된 항목보다 과소평가된 항목에 패널티를 주는 방식\n",
    "- 오차를 제곱하여 평균한 값의 제곱근으로 값이 작아질 수록 정밀도가 높음\n",
    "- 0에 가까운 값이 나올 수록 정밀도가 높음"
   ],
   "metadata": {
    "collapsed": false
   }
  },
  {
   "cell_type": "markdown",
   "source": [
    "RMSLE 성능 평가를 위해 target 값 column 변환"
   ],
   "metadata": {
    "collapsed": false
   }
  },
  {
   "cell_type": "code",
   "execution_count": 5,
   "outputs": [
    {
     "data": {
      "text/plain": "0       4.925985\n1       4.976906\n2       4.982750\n3       4.965464\n4       5.005288\n          ...   \n8536    4.942178\n8537    4.936091\n8538    4.932674\n8539    4.958816\n8540    4.913941\nName: UnivClass_Ciara_log, Length: 8541, dtype: float64"
     },
     "execution_count": 5,
     "metadata": {},
     "output_type": "execute_result"
    }
   ],
   "source": [
    "import numpy as np\n",
    "df[\"UnivClass_Ciara_log\"] = np.log(df[\"UnivClass_Ciara\"] + 1)\n",
    "df[\"UnivClass_Ciara_log\"]"
   ],
   "metadata": {
    "collapsed": false,
    "pycharm": {
     "name": "#%%\n"
    }
   }
  },
  {
   "cell_type": "code",
   "execution_count": 6,
   "outputs": [],
   "source": [
    "from sklearn.metrics import make_scorer\n",
    "\n",
    "def get_rmsle(y_actual, y_pred):\n",
    "    diff = np.log(y_pred + 1) - np.log(y_actual + 1)\n",
    "    mean_error = np.square(diff).mean()\n",
    "    return np.sqrt(mean_error)\n",
    "\n",
    "def rmsle(y_pred, y_actual, convertExp=True):\n",
    "    if convertExp:\n",
    "        y_pred = np.exp(y_pred)\n",
    "        y_actual = np.exp(y_actual)\n",
    "\n",
    "    log1 = np.nan_to_num(np.array([np.log(v + 1) for v in y_pred]))\n",
    "    log2 = np.nan_to_num(np.array([np.log(v + 1) for v in y_actual]))\n",
    "    calc = (log1 - log2) ** 2\n",
    "    return np.sqrt(np.mean(calc))\n",
    "\n",
    "rmsle_scorer = make_scorer(get_rmsle, greater_is_better=False)"
   ],
   "metadata": {
    "collapsed": false,
    "pycharm": {
     "name": "#%%\n"
    }
   }
  },
  {
   "cell_type": "markdown",
   "source": [
    "# train, test 데이터 분리 & 정규화"
   ],
   "metadata": {
    "collapsed": false
   }
  },
  {
   "cell_type": "markdown",
   "source": [],
   "metadata": {
    "collapsed": false
   }
  },
  {
   "cell_type": "code",
   "execution_count": 7,
   "outputs": [
    {
     "data": {
      "text/plain": "['Dew PointC',\n 'Gust SpeedKm/h',\n 'Humidity',\n 'Precipitationmm',\n 'Sea Level PressurehPa',\n 'TemperatureC',\n 'VisibilityKm',\n 'Wind SpeedKm/h',\n 'WindDirDegrees',\n 'year_x',\n 'month_x',\n 'day_x',\n 'hour',\n 'Conditions_Blowing Snow',\n 'Conditions_Clear',\n 'Conditions_Fog',\n 'Conditions_Haze',\n 'Conditions_Heavy Rain',\n 'Conditions_Heavy Snow',\n 'Conditions_Heavy Thunderstorms and Rain',\n 'Conditions_Ice Crystals',\n 'Conditions_Light Freezing Fog',\n 'Conditions_Light Freezing Rain',\n 'Conditions_Light Rain',\n 'Conditions_Light Rain Showers',\n 'Conditions_Light Snow',\n 'Conditions_Light Snow Showers',\n 'Conditions_Light Thunderstorms and Rain',\n 'Conditions_Mist',\n 'Conditions_Mostly Cloudy',\n 'Conditions_Overcast',\n 'Conditions_Partly Cloudy',\n 'Conditions_Patches of Fog',\n 'Conditions_Rain',\n 'Conditions_Scattered Clouds',\n 'Conditions_Small Hail',\n 'Conditions_Snow',\n 'Conditions_Thunderstorm',\n 'Conditions_Thunderstorms and Rain',\n 'Conditions_Unknown',\n 'Events_Fog',\n 'Events_Fog-Rain',\n 'Events_Fog-Snow',\n 'Events_Rain',\n 'Events_Rain-Snow',\n 'Events_Rain-Thunderstorm',\n 'Events_Snow',\n 'Events_Sunny',\n 'Events_Thunderstorm',\n 'Wind Direction_Calm',\n 'Wind Direction_ENE',\n 'Wind Direction_ESE',\n 'Wind Direction_East',\n 'Wind Direction_NE',\n 'Wind Direction_NNE',\n 'Wind Direction_NNW',\n 'Wind Direction_NW',\n 'Wind Direction_North',\n 'Wind Direction_SE',\n 'Wind Direction_SSE',\n 'Wind Direction_SSW',\n 'Wind Direction_SW',\n 'Wind Direction_South',\n 'Wind Direction_Variable',\n 'Wind Direction_WNW',\n 'Wind Direction_WSW',\n 'Wind Direction_West']"
     },
     "execution_count": 7,
     "metadata": {},
     "output_type": "execute_result"
    }
   ],
   "source": [
    "ml_cols = df.columns.tolist()\n",
    "ml_cols.remove('UnivClass_Ciara')\n",
    "ml_cols.remove('UnivClass_Ciara_log')\n",
    "ml_cols"
   ],
   "metadata": {
    "collapsed": false,
    "pycharm": {
     "name": "#%%\n"
    }
   }
  },
  {
   "cell_type": "code",
   "execution_count": 8,
   "outputs": [],
   "source": [
    "from sklearn.model_selection import train_test_split\n",
    "from sklearn.preprocessing import StandardScaler\n",
    "\n",
    "X_train, X_test, y_train, y_test = train_test_split(df[ml_cols], df['UnivClass_Ciara_log'], test_size=0.2,\n",
    "                                                    shuffle=True, random_state=0)\n",
    "X_train = StandardScaler().fit_transform(X_train)\n",
    "X_test = StandardScaler().fit_transform(X_test)"
   ],
   "metadata": {
    "collapsed": false,
    "pycharm": {
     "name": "#%%\n"
    }
   }
  },
  {
   "cell_type": "markdown",
   "source": [
    "## 모델 선택\n",
    "Cross validation을 통한 모델 성능 테스트"
   ],
   "metadata": {
    "collapsed": false
   }
  },
  {
   "cell_type": "code",
   "execution_count": 9,
   "outputs": [],
   "source": [
    "from sklearn.model_selection import cross_val_score\n",
    "from sklearn.metrics import accuracy_score\n",
    "\n",
    "import warnings\n",
    "warnings.filterwarnings(\"ignore\")"
   ],
   "metadata": {
    "collapsed": false,
    "pycharm": {
     "name": "#%%\n"
    }
   }
  },
  {
   "cell_type": "markdown",
   "source": [
    "### Linear Regression"
   ],
   "metadata": {
    "collapsed": false
   }
  },
  {
   "cell_type": "code",
   "execution_count": 10,
   "outputs": [
    {
     "name": "stdout",
     "output_type": "stream",
     "text": [
      "RMSLE : 19.2010\n"
     ]
    }
   ],
   "source": [
    "from sklearn.linear_model import LinearRegression\n",
    "\n",
    "lr_model = LinearRegression()\n",
    "lr_model.fit(X_train, y_train)\n",
    "preds = lr_model.predict(X_test)\n",
    "print('RMSLE : {0:.4f}'.format(get_rmsle(y_test, preds)))"
   ],
   "metadata": {
    "collapsed": false,
    "pycharm": {
     "name": "#%%\n"
    }
   }
  },
  {
   "cell_type": "markdown",
   "source": [
    "### Random Forest REgressor"
   ],
   "metadata": {
    "collapsed": false
   }
  },
  {
   "cell_type": "markdown",
   "source": [
    "gridsearchcv 는 모델을 가장 잘 학습할 수 있는 파라미터를 찾는 매쏘드"
   ],
   "metadata": {
    "collapsed": false
   }
  },
  {
   "cell_type": "code",
   "execution_count": 11,
   "outputs": [],
   "source": [
    "# from sklearn.ensemble import RandomForestRegressor\n",
    "# from sklearn.model_selection import GridSearchCV\n",
    "#\n",
    "# n_estimators = [800, 1000, 1200]\n",
    "# max_depth = [10, 12, 15]\n",
    "# min_samples_split = [4, 5, 6]\n",
    "# min_samples_leaf = [4, 5, 6]\n",
    "#\n",
    "# hyperparams = {\n",
    "#     'n_estimators' : n_estimators,\n",
    "#     'max_depth' : max_depth,\n",
    "#     'min_samples_split' : min_samples_split,\n",
    "#     'min_samples_leaf' : min_samples_leaf\n",
    "# }\n",
    "#\n",
    "# rf_grid = GridSearchCV(estimator = RandomForestRegressor(), param_grid=hyperparams,\n",
    "#                        verbose=True, scoring=rmsle_scorer, cv=5, n_jobs=-1)\n",
    "#\n",
    "# rf_grid.fit(X_train, y_train)"
   ],
   "metadata": {
    "collapsed": false,
    "pycharm": {
     "name": "#%%\n"
    }
   }
  },
  {
   "cell_type": "code",
   "execution_count": 15,
   "outputs": [
    {
     "name": "stdout",
     "output_type": "stream",
     "text": [
      "RMSLE : 0.0093\n"
     ]
    }
   ],
   "source": [
    "from sklearn.ensemble import RandomForestRegressor\n",
    "\n",
    "rf_model = RandomForestRegressor()\n",
    "rf_model.fit(X_train, y_train)\n",
    "preds = rf_model.predict(X_test)\n",
    "print('RMSLE : {0:.4f}'.format(get_rmsle(y_test, preds)))"
   ],
   "metadata": {
    "collapsed": false,
    "pycharm": {
     "name": "#%%\n"
    }
   }
  },
  {
   "cell_type": "code",
   "execution_count": 16,
   "outputs": [
    {
     "data": {
      "text/plain": "0.8376207148324775"
     },
     "execution_count": 16,
     "metadata": {},
     "output_type": "execute_result"
    }
   ],
   "source": [
    "from sklearn.metrics import r2_score\n",
    "\n",
    "r2_score(y_test, preds)"
   ],
   "metadata": {
    "collapsed": false,
    "pycharm": {
     "name": "#%%\n"
    }
   }
  },
  {
   "cell_type": "code",
   "execution_count": 17,
   "outputs": [
    {
     "data": {
      "text/plain": "0.8527282584720389"
     },
     "execution_count": 17,
     "metadata": {},
     "output_type": "execute_result"
    }
   ],
   "source": [
    "from xgboost import XGBRegressor\n",
    "\n",
    "xg_model = XGBRegressor()\n",
    "xg_model.fit(X_train, y_train)\n",
    "preds = xg_model.predict(X_test)\n",
    "r2_score(y_test, preds)"
   ],
   "metadata": {
    "collapsed": false,
    "pycharm": {
     "name": "#%%\n"
    }
   }
  },
  {
   "cell_type": "code",
   "execution_count": null,
   "outputs": [],
   "source": [],
   "metadata": {
    "collapsed": false,
    "pycharm": {
     "name": "#%%\n"
    }
   }
  }
 ],
 "metadata": {
  "kernelspec": {
   "display_name": "Python 3",
   "language": "python",
   "name": "python3"
  },
  "language_info": {
   "codemirror_mode": {
    "name": "ipython",
    "version": 2
   },
   "file_extension": ".py",
   "mimetype": "text/x-python",
   "name": "python",
   "nbconvert_exporter": "python",
   "pygments_lexer": "ipython2",
   "version": "2.7.6"
  }
 },
 "nbformat": 4,
 "nbformat_minor": 0
}