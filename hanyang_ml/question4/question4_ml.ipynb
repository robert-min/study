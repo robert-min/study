{
 "cells": [
  {
   "cell_type": "markdown",
   "source": [
    "# Question 4 예측 모델을 돌려보자!!"
   ],
   "metadata": {
    "collapsed": false
   }
  },
  {
   "cell_type": "markdown",
   "source": [
    "## 데이터 로드"
   ],
   "metadata": {
    "collapsed": false
   }
  },
  {
   "cell_type": "code",
   "execution_count": 2,
   "metadata": {
    "collapsed": true
   },
   "outputs": [
    {
     "data": {
      "text/plain": "   Unnamed: 0  Dew PointC  Gust SpeedKm/h  Humidity  Precipitationmm  \\\n0           0       -15.0             0.0      54.0              0.0   \n1           1       -14.4             0.0      55.0              0.0   \n2           2       -14.4             0.0      55.0              0.0   \n3           3       -14.4             0.0      55.0              0.0   \n4           4       -14.4             0.0      55.0              0.0   \n\n   Sea Level PressurehPa  TemperatureC  VisibilityKm  Wind SpeedKm/h  \\\n0                 1017.4          -7.2          16.1            18.5   \n1                 1017.2          -6.6          16.1            14.8   \n2                 1016.9          -6.6          16.1            14.8   \n3                 1017.2          -6.6          16.1            18.5   \n4                 1017.2          -6.6          16.1            14.8   \n\n   WindDirDegrees  ...  Wind Direction_North  Wind Direction_SE  \\\n0             230  ...                     0                  0   \n1             240  ...                     0                  0   \n2             220  ...                     0                  0   \n3             220  ...                     0                  0   \n4             210  ...                     0                  0   \n\n   Wind Direction_SSE  Wind Direction_SSW  Wind Direction_SW  \\\n0                   0                   0                  1   \n1                   0                   0                  0   \n2                   0                   0                  1   \n3                   0                   0                  1   \n4                   0                   1                  0   \n\n   Wind Direction_South  Wind Direction_Variable  Wind Direction_WNW  \\\n0                     0                        0                   0   \n1                     0                        0                   0   \n2                     0                        0                   0   \n3                     0                        0                   0   \n4                     0                        0                   0   \n\n   Wind Direction_WSW  Wind Direction_West  \n0                   0                    0  \n1                   1                    0  \n2                   0                    0  \n3                   0                    0  \n4                   0                    0  \n\n[5 rows x 69 columns]",
      "text/html": "<div>\n<style scoped>\n    .dataframe tbody tr th:only-of-type {\n        vertical-align: middle;\n    }\n\n    .dataframe tbody tr th {\n        vertical-align: top;\n    }\n\n    .dataframe thead th {\n        text-align: right;\n    }\n</style>\n<table border=\"1\" class=\"dataframe\">\n  <thead>\n    <tr style=\"text-align: right;\">\n      <th></th>\n      <th>Unnamed: 0</th>\n      <th>Dew PointC</th>\n      <th>Gust SpeedKm/h</th>\n      <th>Humidity</th>\n      <th>Precipitationmm</th>\n      <th>Sea Level PressurehPa</th>\n      <th>TemperatureC</th>\n      <th>VisibilityKm</th>\n      <th>Wind SpeedKm/h</th>\n      <th>WindDirDegrees</th>\n      <th>...</th>\n      <th>Wind Direction_North</th>\n      <th>Wind Direction_SE</th>\n      <th>Wind Direction_SSE</th>\n      <th>Wind Direction_SSW</th>\n      <th>Wind Direction_SW</th>\n      <th>Wind Direction_South</th>\n      <th>Wind Direction_Variable</th>\n      <th>Wind Direction_WNW</th>\n      <th>Wind Direction_WSW</th>\n      <th>Wind Direction_West</th>\n    </tr>\n  </thead>\n  <tbody>\n    <tr>\n      <th>0</th>\n      <td>0</td>\n      <td>-15.0</td>\n      <td>0.0</td>\n      <td>54.0</td>\n      <td>0.0</td>\n      <td>1017.4</td>\n      <td>-7.2</td>\n      <td>16.1</td>\n      <td>18.5</td>\n      <td>230</td>\n      <td>...</td>\n      <td>0</td>\n      <td>0</td>\n      <td>0</td>\n      <td>0</td>\n      <td>1</td>\n      <td>0</td>\n      <td>0</td>\n      <td>0</td>\n      <td>0</td>\n      <td>0</td>\n    </tr>\n    <tr>\n      <th>1</th>\n      <td>1</td>\n      <td>-14.4</td>\n      <td>0.0</td>\n      <td>55.0</td>\n      <td>0.0</td>\n      <td>1017.2</td>\n      <td>-6.6</td>\n      <td>16.1</td>\n      <td>14.8</td>\n      <td>240</td>\n      <td>...</td>\n      <td>0</td>\n      <td>0</td>\n      <td>0</td>\n      <td>0</td>\n      <td>0</td>\n      <td>0</td>\n      <td>0</td>\n      <td>0</td>\n      <td>1</td>\n      <td>0</td>\n    </tr>\n    <tr>\n      <th>2</th>\n      <td>2</td>\n      <td>-14.4</td>\n      <td>0.0</td>\n      <td>55.0</td>\n      <td>0.0</td>\n      <td>1016.9</td>\n      <td>-6.6</td>\n      <td>16.1</td>\n      <td>14.8</td>\n      <td>220</td>\n      <td>...</td>\n      <td>0</td>\n      <td>0</td>\n      <td>0</td>\n      <td>0</td>\n      <td>1</td>\n      <td>0</td>\n      <td>0</td>\n      <td>0</td>\n      <td>0</td>\n      <td>0</td>\n    </tr>\n    <tr>\n      <th>3</th>\n      <td>3</td>\n      <td>-14.4</td>\n      <td>0.0</td>\n      <td>55.0</td>\n      <td>0.0</td>\n      <td>1017.2</td>\n      <td>-6.6</td>\n      <td>16.1</td>\n      <td>18.5</td>\n      <td>220</td>\n      <td>...</td>\n      <td>0</td>\n      <td>0</td>\n      <td>0</td>\n      <td>0</td>\n      <td>1</td>\n      <td>0</td>\n      <td>0</td>\n      <td>0</td>\n      <td>0</td>\n      <td>0</td>\n    </tr>\n    <tr>\n      <th>4</th>\n      <td>4</td>\n      <td>-14.4</td>\n      <td>0.0</td>\n      <td>55.0</td>\n      <td>0.0</td>\n      <td>1017.2</td>\n      <td>-6.6</td>\n      <td>16.1</td>\n      <td>14.8</td>\n      <td>210</td>\n      <td>...</td>\n      <td>0</td>\n      <td>0</td>\n      <td>0</td>\n      <td>1</td>\n      <td>0</td>\n      <td>0</td>\n      <td>0</td>\n      <td>0</td>\n      <td>0</td>\n      <td>0</td>\n    </tr>\n  </tbody>\n</table>\n<p>5 rows × 69 columns</p>\n</div>"
     },
     "execution_count": 2,
     "metadata": {},
     "output_type": "execute_result"
    }
   ],
   "source": [
    "import pandas as pd\n",
    "\n",
    "df = pd.read_csv(\"./preprocessing_q4.csv\")\n",
    "df.head()"
   ]
  },
  {
   "cell_type": "code",
   "execution_count": 16,
   "outputs": [],
   "source": [
    "df = df.drop('Unnamed: 0', axis=1)"
   ],
   "metadata": {
    "collapsed": false,
    "pycharm": {
     "name": "#%%\n"
    }
   }
  },
  {
   "cell_type": "code",
   "execution_count": 17,
   "outputs": [
    {
     "data": {
      "text/plain": "        Dew PointC  Gust SpeedKm/h     Humidity  Precipitationmm  \\\ncount  8541.000000     8541.000000  8541.000000      8541.000000   \nmean      3.857323        4.331202    74.562815         0.004492   \nstd      11.351268       12.370641    18.280534         0.037346   \nmin     -32.200000        0.000000    16.000000         0.000000   \n25%      -3.800000        0.000000    62.000000         0.000000   \n50%       5.000000        0.000000    77.000000         0.000000   \n75%      13.300000        0.000000    90.000000         0.000000   \nmax      23.800000       64.800000   100.000000         1.430000   \n\n       Sea Level PressurehPa  TemperatureC  VisibilityKm  Wind SpeedKm/h  \\\ncount            8541.000000   8541.000000   8541.000000     8541.000000   \nmean             1018.411966      8.675928     14.513312       11.815584   \nstd                 7.438663     11.739865      3.839898        8.466212   \nmin               995.000000    -28.800000      0.100000        0.500000   \n25%              1013.300000      0.000000     16.100000        5.600000   \n50%              1018.300000     10.000000     16.100000       11.100000   \n75%              1023.200000     18.300000     16.100000       16.700000   \nmax              1044.400000     33.800000     16.100000       48.200000   \n\n       WindDirDegrees  year_x  ...  Wind Direction_North  Wind Direction_SE  \\\ncount     8541.000000  8541.0  ...           8541.000000        8541.000000   \nmean       179.663974  2015.0  ...              0.049057           0.028685   \nstd        120.084638     0.0  ...              0.216001           0.166930   \nmin          0.000000  2015.0  ...              0.000000           0.000000   \n25%         80.000000  2015.0  ...              0.000000           0.000000   \n50%        180.000000  2015.0  ...              0.000000           0.000000   \n75%        300.000000  2015.0  ...              0.000000           0.000000   \nmax        360.000000  2015.0  ...              1.000000           1.000000   \n\n       Wind Direction_SSE  Wind Direction_SSW  Wind Direction_SW  \\\ncount         8541.000000         8541.000000        8541.000000   \nmean             0.075401            0.028451           0.024470   \nstd              0.264053            0.166267           0.154513   \nmin              0.000000            0.000000           0.000000   \n25%              0.000000            0.000000           0.000000   \n50%              0.000000            0.000000           0.000000   \n75%              0.000000            0.000000           0.000000   \nmax              1.000000            1.000000           1.000000   \n\n       Wind Direction_South  Wind Direction_Variable  Wind Direction_WNW  \\\ncount           8541.000000              8541.000000         8541.000000   \nmean               0.138391                 0.014401            0.062171   \nstd                0.345330                 0.119144            0.241479   \nmin                0.000000                 0.000000            0.000000   \n25%                0.000000                 0.000000            0.000000   \n50%                0.000000                 0.000000            0.000000   \n75%                0.000000                 0.000000            0.000000   \nmax                1.000000                 1.000000            1.000000   \n\n       Wind Direction_WSW  Wind Direction_West  \ncount         8541.000000          8541.000000  \nmean             0.023065             0.048121  \nstd              0.150119             0.214034  \nmin              0.000000             0.000000  \n25%              0.000000             0.000000  \n50%              0.000000             0.000000  \n75%              0.000000             0.000000  \nmax              1.000000             1.000000  \n\n[8 rows x 68 columns]",
      "text/html": "<div>\n<style scoped>\n    .dataframe tbody tr th:only-of-type {\n        vertical-align: middle;\n    }\n\n    .dataframe tbody tr th {\n        vertical-align: top;\n    }\n\n    .dataframe thead th {\n        text-align: right;\n    }\n</style>\n<table border=\"1\" class=\"dataframe\">\n  <thead>\n    <tr style=\"text-align: right;\">\n      <th></th>\n      <th>Dew PointC</th>\n      <th>Gust SpeedKm/h</th>\n      <th>Humidity</th>\n      <th>Precipitationmm</th>\n      <th>Sea Level PressurehPa</th>\n      <th>TemperatureC</th>\n      <th>VisibilityKm</th>\n      <th>Wind SpeedKm/h</th>\n      <th>WindDirDegrees</th>\n      <th>year_x</th>\n      <th>...</th>\n      <th>Wind Direction_North</th>\n      <th>Wind Direction_SE</th>\n      <th>Wind Direction_SSE</th>\n      <th>Wind Direction_SSW</th>\n      <th>Wind Direction_SW</th>\n      <th>Wind Direction_South</th>\n      <th>Wind Direction_Variable</th>\n      <th>Wind Direction_WNW</th>\n      <th>Wind Direction_WSW</th>\n      <th>Wind Direction_West</th>\n    </tr>\n  </thead>\n  <tbody>\n    <tr>\n      <th>count</th>\n      <td>8541.000000</td>\n      <td>8541.000000</td>\n      <td>8541.000000</td>\n      <td>8541.000000</td>\n      <td>8541.000000</td>\n      <td>8541.000000</td>\n      <td>8541.000000</td>\n      <td>8541.000000</td>\n      <td>8541.000000</td>\n      <td>8541.0</td>\n      <td>...</td>\n      <td>8541.000000</td>\n      <td>8541.000000</td>\n      <td>8541.000000</td>\n      <td>8541.000000</td>\n      <td>8541.000000</td>\n      <td>8541.000000</td>\n      <td>8541.000000</td>\n      <td>8541.000000</td>\n      <td>8541.000000</td>\n      <td>8541.000000</td>\n    </tr>\n    <tr>\n      <th>mean</th>\n      <td>3.857323</td>\n      <td>4.331202</td>\n      <td>74.562815</td>\n      <td>0.004492</td>\n      <td>1018.411966</td>\n      <td>8.675928</td>\n      <td>14.513312</td>\n      <td>11.815584</td>\n      <td>179.663974</td>\n      <td>2015.0</td>\n      <td>...</td>\n      <td>0.049057</td>\n      <td>0.028685</td>\n      <td>0.075401</td>\n      <td>0.028451</td>\n      <td>0.024470</td>\n      <td>0.138391</td>\n      <td>0.014401</td>\n      <td>0.062171</td>\n      <td>0.023065</td>\n      <td>0.048121</td>\n    </tr>\n    <tr>\n      <th>std</th>\n      <td>11.351268</td>\n      <td>12.370641</td>\n      <td>18.280534</td>\n      <td>0.037346</td>\n      <td>7.438663</td>\n      <td>11.739865</td>\n      <td>3.839898</td>\n      <td>8.466212</td>\n      <td>120.084638</td>\n      <td>0.0</td>\n      <td>...</td>\n      <td>0.216001</td>\n      <td>0.166930</td>\n      <td>0.264053</td>\n      <td>0.166267</td>\n      <td>0.154513</td>\n      <td>0.345330</td>\n      <td>0.119144</td>\n      <td>0.241479</td>\n      <td>0.150119</td>\n      <td>0.214034</td>\n    </tr>\n    <tr>\n      <th>min</th>\n      <td>-32.200000</td>\n      <td>0.000000</td>\n      <td>16.000000</td>\n      <td>0.000000</td>\n      <td>995.000000</td>\n      <td>-28.800000</td>\n      <td>0.100000</td>\n      <td>0.500000</td>\n      <td>0.000000</td>\n      <td>2015.0</td>\n      <td>...</td>\n      <td>0.000000</td>\n      <td>0.000000</td>\n      <td>0.000000</td>\n      <td>0.000000</td>\n      <td>0.000000</td>\n      <td>0.000000</td>\n      <td>0.000000</td>\n      <td>0.000000</td>\n      <td>0.000000</td>\n      <td>0.000000</td>\n    </tr>\n    <tr>\n      <th>25%</th>\n      <td>-3.800000</td>\n      <td>0.000000</td>\n      <td>62.000000</td>\n      <td>0.000000</td>\n      <td>1013.300000</td>\n      <td>0.000000</td>\n      <td>16.100000</td>\n      <td>5.600000</td>\n      <td>80.000000</td>\n      <td>2015.0</td>\n      <td>...</td>\n      <td>0.000000</td>\n      <td>0.000000</td>\n      <td>0.000000</td>\n      <td>0.000000</td>\n      <td>0.000000</td>\n      <td>0.000000</td>\n      <td>0.000000</td>\n      <td>0.000000</td>\n      <td>0.000000</td>\n      <td>0.000000</td>\n    </tr>\n    <tr>\n      <th>50%</th>\n      <td>5.000000</td>\n      <td>0.000000</td>\n      <td>77.000000</td>\n      <td>0.000000</td>\n      <td>1018.300000</td>\n      <td>10.000000</td>\n      <td>16.100000</td>\n      <td>11.100000</td>\n      <td>180.000000</td>\n      <td>2015.0</td>\n      <td>...</td>\n      <td>0.000000</td>\n      <td>0.000000</td>\n      <td>0.000000</td>\n      <td>0.000000</td>\n      <td>0.000000</td>\n      <td>0.000000</td>\n      <td>0.000000</td>\n      <td>0.000000</td>\n      <td>0.000000</td>\n      <td>0.000000</td>\n    </tr>\n    <tr>\n      <th>75%</th>\n      <td>13.300000</td>\n      <td>0.000000</td>\n      <td>90.000000</td>\n      <td>0.000000</td>\n      <td>1023.200000</td>\n      <td>18.300000</td>\n      <td>16.100000</td>\n      <td>16.700000</td>\n      <td>300.000000</td>\n      <td>2015.0</td>\n      <td>...</td>\n      <td>0.000000</td>\n      <td>0.000000</td>\n      <td>0.000000</td>\n      <td>0.000000</td>\n      <td>0.000000</td>\n      <td>0.000000</td>\n      <td>0.000000</td>\n      <td>0.000000</td>\n      <td>0.000000</td>\n      <td>0.000000</td>\n    </tr>\n    <tr>\n      <th>max</th>\n      <td>23.800000</td>\n      <td>64.800000</td>\n      <td>100.000000</td>\n      <td>1.430000</td>\n      <td>1044.400000</td>\n      <td>33.800000</td>\n      <td>16.100000</td>\n      <td>48.200000</td>\n      <td>360.000000</td>\n      <td>2015.0</td>\n      <td>...</td>\n      <td>1.000000</td>\n      <td>1.000000</td>\n      <td>1.000000</td>\n      <td>1.000000</td>\n      <td>1.000000</td>\n      <td>1.000000</td>\n      <td>1.000000</td>\n      <td>1.000000</td>\n      <td>1.000000</td>\n      <td>1.000000</td>\n    </tr>\n  </tbody>\n</table>\n<p>8 rows × 68 columns</p>\n</div>"
     },
     "execution_count": 17,
     "metadata": {},
     "output_type": "execute_result"
    }
   ],
   "source": [
    "df.describe()"
   ],
   "metadata": {
    "collapsed": false,
    "pycharm": {
     "name": "#%%\n"
    }
   }
  },
  {
   "cell_type": "markdown",
   "source": [
    "# train, test 데이터 분리 & 정규화"
   ],
   "metadata": {
    "collapsed": false
   }
  },
  {
   "cell_type": "markdown",
   "source": [],
   "metadata": {
    "collapsed": false
   }
  },
  {
   "cell_type": "code",
   "execution_count": 24,
   "outputs": [
    {
     "data": {
      "text/plain": "['Dew PointC',\n 'Gust SpeedKm/h',\n 'Humidity',\n 'Precipitationmm',\n 'Sea Level PressurehPa',\n 'TemperatureC',\n 'VisibilityKm',\n 'Wind SpeedKm/h',\n 'WindDirDegrees',\n 'year_x',\n 'month_x',\n 'day_x',\n 'hour',\n 'Conditions_Blowing Snow',\n 'Conditions_Clear',\n 'Conditions_Fog',\n 'Conditions_Haze',\n 'Conditions_Heavy Rain',\n 'Conditions_Heavy Snow',\n 'Conditions_Heavy Thunderstorms and Rain',\n 'Conditions_Ice Crystals',\n 'Conditions_Light Freezing Fog',\n 'Conditions_Light Freezing Rain',\n 'Conditions_Light Rain',\n 'Conditions_Light Rain Showers',\n 'Conditions_Light Snow',\n 'Conditions_Light Snow Showers',\n 'Conditions_Light Thunderstorms and Rain',\n 'Conditions_Mist',\n 'Conditions_Mostly Cloudy',\n 'Conditions_Overcast',\n 'Conditions_Partly Cloudy',\n 'Conditions_Patches of Fog',\n 'Conditions_Rain',\n 'Conditions_Scattered Clouds',\n 'Conditions_Small Hail',\n 'Conditions_Snow',\n 'Conditions_Thunderstorm',\n 'Conditions_Thunderstorms and Rain',\n 'Conditions_Unknown',\n 'Events_Fog',\n 'Events_Fog-Rain',\n 'Events_Fog-Snow',\n 'Events_Rain',\n 'Events_Rain-Snow',\n 'Events_Rain-Thunderstorm',\n 'Events_Snow',\n 'Events_Sunny',\n 'Events_Thunderstorm',\n 'Wind Direction_Calm',\n 'Wind Direction_ENE',\n 'Wind Direction_ESE',\n 'Wind Direction_East',\n 'Wind Direction_NE',\n 'Wind Direction_NNE',\n 'Wind Direction_NNW',\n 'Wind Direction_NW',\n 'Wind Direction_North',\n 'Wind Direction_SE',\n 'Wind Direction_SSE',\n 'Wind Direction_SSW',\n 'Wind Direction_SW',\n 'Wind Direction_South',\n 'Wind Direction_Variable',\n 'Wind Direction_WNW',\n 'Wind Direction_WSW',\n 'Wind Direction_West']"
     },
     "execution_count": 24,
     "metadata": {},
     "output_type": "execute_result"
    }
   ],
   "source": [
    "ml_cols = df.columns.tolist()\n",
    "ml_cols.remove('UnivClass_Ciara')\n",
    "ml_cols"
   ],
   "metadata": {
    "collapsed": false,
    "pycharm": {
     "name": "#%%\n"
    }
   }
  },
  {
   "cell_type": "code",
   "execution_count": 26,
   "outputs": [],
   "source": [
    "from sklearn.model_selection import train_test_split\n",
    "from sklearn.preprocessing import StandardScaler\n",
    "\n",
    "X_train, X_test, y_train, y_test = train_test_split(df[ml_cols], df['UnivClass_Ciara'], test_size=0.2,\n",
    "                                                    shuffle=True, random_state=0)\n",
    "X_train = StandardScaler().fit_transform(X_train)\n",
    "X_test = StandardScaler().fit_transform(X_test)"
   ],
   "metadata": {
    "collapsed": false,
    "pycharm": {
     "name": "#%%\n"
    }
   }
  },
  {
   "cell_type": "markdown",
   "source": [
    "## 모델 선택\n",
    "Cross validation을 통한 모델 성능 테스트"
   ],
   "metadata": {
    "collapsed": false
   }
  },
  {
   "cell_type": "code",
   "execution_count": 34,
   "outputs": [],
   "source": [
    "from sklearn.model_selection import cross_val_score\n",
    "from sklearn.metrics import accuracy_score\n",
    "\n",
    "import warnings\n",
    "warnings.filterwarnings(\"ignore\")"
   ],
   "metadata": {
    "collapsed": false,
    "pycharm": {
     "name": "#%%\n"
    }
   }
  },
  {
   "cell_type": "markdown",
   "source": [
    "### Linear Regression"
   ],
   "metadata": {
    "collapsed": false
   }
  },
  {
   "cell_type": "code",
   "execution_count": 35,
   "outputs": [
    {
     "name": "stdout",
     "output_type": "stream",
     "text": [
      "훈련 데이터 점수 : 0.35041732541640236\n",
      "평가 데이터 점수 : -1.7809261918335692e+22\n"
     ]
    },
    {
     "ename": "ValueError",
     "evalue": "continuous is not supported",
     "output_type": "error",
     "traceback": [
      "\u001B[0;31m---------------------------------------------------------------------------\u001B[0m",
      "\u001B[0;31mValueError\u001B[0m                                Traceback (most recent call last)",
      "\u001B[0;32m/var/folders/mc/dq2kv5b10qjd6sq35tn_rvph0000gn/T/ipykernel_31231/397612843.py\u001B[0m in \u001B[0;36m<module>\u001B[0;34m\u001B[0m\n\u001B[1;32m      9\u001B[0m \u001B[0;34m\u001B[0m\u001B[0m\n\u001B[1;32m     10\u001B[0m \u001B[0mpredict\u001B[0m \u001B[0;34m=\u001B[0m \u001B[0mlr_modeel\u001B[0m\u001B[0;34m.\u001B[0m\u001B[0mpredict\u001B[0m\u001B[0;34m(\u001B[0m\u001B[0mX_test\u001B[0m\u001B[0;34m)\u001B[0m\u001B[0;34m\u001B[0m\u001B[0;34m\u001B[0m\u001B[0m\n\u001B[0;32m---> 11\u001B[0;31m \u001B[0mprint\u001B[0m\u001B[0;34m(\u001B[0m\u001B[0;34m'정확도 : {}'\u001B[0m\u001B[0;34m.\u001B[0m\u001B[0mformat\u001B[0m\u001B[0;34m(\u001B[0m\u001B[0maccuracy_score\u001B[0m\u001B[0;34m(\u001B[0m\u001B[0my_test\u001B[0m\u001B[0;34m,\u001B[0m \u001B[0mpredict\u001B[0m\u001B[0;34m)\u001B[0m\u001B[0;34m)\u001B[0m\u001B[0;34m)\u001B[0m\u001B[0;34m\u001B[0m\u001B[0;34m\u001B[0m\u001B[0m\n\u001B[0m",
      "\u001B[0;32m~/opt/anaconda3/lib/python3.8/site-packages/sklearn/metrics/_classification.py\u001B[0m in \u001B[0;36maccuracy_score\u001B[0;34m(y_true, y_pred, normalize, sample_weight)\u001B[0m\n\u001B[1;32m    209\u001B[0m \u001B[0;34m\u001B[0m\u001B[0m\n\u001B[1;32m    210\u001B[0m     \u001B[0;31m# Compute accuracy for each possible representation\u001B[0m\u001B[0;34m\u001B[0m\u001B[0;34m\u001B[0m\u001B[0;34m\u001B[0m\u001B[0m\n\u001B[0;32m--> 211\u001B[0;31m     \u001B[0my_type\u001B[0m\u001B[0;34m,\u001B[0m \u001B[0my_true\u001B[0m\u001B[0;34m,\u001B[0m \u001B[0my_pred\u001B[0m \u001B[0;34m=\u001B[0m \u001B[0m_check_targets\u001B[0m\u001B[0;34m(\u001B[0m\u001B[0my_true\u001B[0m\u001B[0;34m,\u001B[0m \u001B[0my_pred\u001B[0m\u001B[0;34m)\u001B[0m\u001B[0;34m\u001B[0m\u001B[0;34m\u001B[0m\u001B[0m\n\u001B[0m\u001B[1;32m    212\u001B[0m     \u001B[0mcheck_consistent_length\u001B[0m\u001B[0;34m(\u001B[0m\u001B[0my_true\u001B[0m\u001B[0;34m,\u001B[0m \u001B[0my_pred\u001B[0m\u001B[0;34m,\u001B[0m \u001B[0msample_weight\u001B[0m\u001B[0;34m)\u001B[0m\u001B[0;34m\u001B[0m\u001B[0;34m\u001B[0m\u001B[0m\n\u001B[1;32m    213\u001B[0m     \u001B[0;32mif\u001B[0m \u001B[0my_type\u001B[0m\u001B[0;34m.\u001B[0m\u001B[0mstartswith\u001B[0m\u001B[0;34m(\u001B[0m\u001B[0;34m\"multilabel\"\u001B[0m\u001B[0;34m)\u001B[0m\u001B[0;34m:\u001B[0m\u001B[0;34m\u001B[0m\u001B[0;34m\u001B[0m\u001B[0m\n",
      "\u001B[0;32m~/opt/anaconda3/lib/python3.8/site-packages/sklearn/metrics/_classification.py\u001B[0m in \u001B[0;36m_check_targets\u001B[0;34m(y_true, y_pred)\u001B[0m\n\u001B[1;32m    102\u001B[0m     \u001B[0;31m# No metrics support \"multiclass-multioutput\" format\u001B[0m\u001B[0;34m\u001B[0m\u001B[0;34m\u001B[0m\u001B[0;34m\u001B[0m\u001B[0m\n\u001B[1;32m    103\u001B[0m     \u001B[0;32mif\u001B[0m \u001B[0my_type\u001B[0m \u001B[0;32mnot\u001B[0m \u001B[0;32min\u001B[0m \u001B[0;34m[\u001B[0m\u001B[0;34m\"binary\"\u001B[0m\u001B[0;34m,\u001B[0m \u001B[0;34m\"multiclass\"\u001B[0m\u001B[0;34m,\u001B[0m \u001B[0;34m\"multilabel-indicator\"\u001B[0m\u001B[0;34m]\u001B[0m\u001B[0;34m:\u001B[0m\u001B[0;34m\u001B[0m\u001B[0;34m\u001B[0m\u001B[0m\n\u001B[0;32m--> 104\u001B[0;31m         \u001B[0;32mraise\u001B[0m \u001B[0mValueError\u001B[0m\u001B[0;34m(\u001B[0m\u001B[0;34m\"{0} is not supported\"\u001B[0m\u001B[0;34m.\u001B[0m\u001B[0mformat\u001B[0m\u001B[0;34m(\u001B[0m\u001B[0my_type\u001B[0m\u001B[0;34m)\u001B[0m\u001B[0;34m)\u001B[0m\u001B[0;34m\u001B[0m\u001B[0;34m\u001B[0m\u001B[0m\n\u001B[0m\u001B[1;32m    105\u001B[0m \u001B[0;34m\u001B[0m\u001B[0m\n\u001B[1;32m    106\u001B[0m     \u001B[0;32mif\u001B[0m \u001B[0my_type\u001B[0m \u001B[0;32min\u001B[0m \u001B[0;34m[\u001B[0m\u001B[0;34m\"binary\"\u001B[0m\u001B[0;34m,\u001B[0m \u001B[0;34m\"multiclass\"\u001B[0m\u001B[0;34m]\u001B[0m\u001B[0;34m:\u001B[0m\u001B[0;34m\u001B[0m\u001B[0;34m\u001B[0m\u001B[0m\n",
      "\u001B[0;31mValueError\u001B[0m: continuous is not supported"
     ]
    }
   ],
   "source": [
    "from sklearn.linear_model import LinearRegression\n",
    "\n",
    "lr_modeel = LinearRegression()\n",
    "\n",
    "lr_modeel.fit(X_train, y_train)\n",
    "\n",
    "print('훈련 데이터 점수 : {}'.format(lr_modeel.score(X_train, y_train)))\n",
    "print('평가 데이터 점수 : {}'.format(lr_modeel.score(X_test, y_test)))\n",
    "\n",
    "predict = lr_modeel.predict(X_test)\n",
    "print('정확도 : {}'.format(accuracy_score(y_test, predict)))"
   ],
   "metadata": {
    "collapsed": false,
    "pycharm": {
     "name": "#%%\n"
    }
   }
  },
  {
   "cell_type": "code",
   "execution_count": null,
   "outputs": [],
   "source": [],
   "metadata": {
    "collapsed": false,
    "pycharm": {
     "name": "#%%\n"
    }
   }
  }
 ],
 "metadata": {
  "kernelspec": {
   "display_name": "Python 3",
   "language": "python",
   "name": "python3"
  },
  "language_info": {
   "codemirror_mode": {
    "name": "ipython",
    "version": 2
   },
   "file_extension": ".py",
   "mimetype": "text/x-python",
   "name": "python",
   "nbconvert_exporter": "python",
   "pygments_lexer": "ipython2",
   "version": "2.7.6"
  }
 },
 "nbformat": 4,
 "nbformat_minor": 0
}