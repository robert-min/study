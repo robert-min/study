{
 "cells": [
  {
   "cell_type": "code",
   "execution_count": 9,
   "outputs": [
    {
     "name": "stdout",
     "output_type": "stream",
     "text": [
      "dahyun로부터 훔쳐온 보석은 다이아몬드\n",
      "tzuyu로부터 훔쳐온 보석은 ['금', '금', '금', '금', '금', '금', '금', '금', '금', '금', '금', '금', '금']\n"
     ]
    }
   ],
   "source": [
    "#dahyun의 가방 안에서 '다이아몬드'를 훔쳐볼까요?\n",
    "dahyun = ['은', '은', '은', '은', '은', '은', '은', '은', '은', '은', '은', '은', '은', '은', '은', '은', '은', '은', '은', '은', '은', '은', '은', '은', '은', '은', '은', '은', '은', '은', '은', '은', '은', '은', '은', '은', '은', '은', '은', '은', '은', '은', '다이아몬드', '은']\n",
    "\n",
    "#이 가방에 한번 넣어봅시다!\n",
    "stealBag1 = dahyun[-2]\n",
    "\n",
    "#tzuyu는 가방 안 깊숙히 금을 13개 가지고 있네요! 이것들도 한번 훔쳐볼까요?\n",
    "tzuyu = ['은', '은', '은', '은', '은', '은', '은', '은', '은', '은', '은', '은', '은', '은', '은', '은', '은', '은','금', '금', '금', '금', '금', '금', '금', '금', '금', '금', '금', '금', '금' ]\n",
    "\n",
    "#이 가방에 한번 넣어봅시다!\n",
    "stealBag2 = tzuyu[-13:]\n",
    "\n",
    "#여러분이 훔쳐온 보석은 무엇인지 print()를 이용해서 한번 확인해보세요!\n",
    "print('dahyun로부터 훔쳐온 보석은', stealBag1)\n",
    "print('tzuyu로부터 훔쳐온 보석은', stealBag2)"
   ],
   "metadata": {
    "collapsed": false,
    "pycharm": {
     "name": "#%%\n"
    }
   }
  },
  {
   "cell_type": "code",
   "execution_count": 42,
   "outputs": [
    {
     "name": "stdout",
     "output_type": "stream",
     "text": [
      "['ring', 'ding', 'dong']\n",
      "['ring', 'ding', 'dong', 'ring', 'ding', 'dong']\n",
      "['ring', 'ding', 'dong', 'ring', 'ding', 'dong'] ['ring', 'diggi', 'ding', 'diggi', 'ding', 'ding', 'ding']\n"
     ]
    }
   ],
   "source": [
    "a = ['ring']\n",
    "b = ['ding']\n",
    "c = ['dong']\n",
    "d = ['diggi']\n",
    "\n",
    "# 연결 연산자를 이용해서 ['ring', 'ding', 'dong']를 lyric에 대입해봅시다.\n",
    "lyric = a + b + c\n",
    "print(lyric)\n",
    "\n",
    "# 수능을 하루 앞둔 친구에게 수능 금지곡을 들려줍시다!\n",
    "# 변수 shinee에 다음 리스트를 담아봅시다.\n",
    "# ['ring', 'ding', 'dong', 'ring', 'ding', 'dong']\n",
    "\n",
    "shinee1 = lyric + lyric\n",
    "print(shinee1)\n",
    "\n",
    "# 노래가 좀 짧네요! 뒷부분도 불러봅시다!\n",
    "#['ring','diggi','ding','diggi','ding','ding','ding']\n",
    "\n",
    "shinee2 = a + d + b + d + 3 * b\n",
    "print(shinee1, shinee2)"
   ],
   "metadata": {
    "collapsed": false,
    "pycharm": {
     "name": "#%%\n"
    }
   }
  },
  {
   "cell_type": "code",
   "execution_count": 41,
   "outputs": [
    {
     "name": "stdout",
     "output_type": "stream",
     "text": [
      "6\n"
     ]
    }
   ],
   "source": [
    "sum = 0\n",
    "for i in [1, 2, 3]:\n",
    "    sum += i\n",
    "print(sum)"
   ],
   "metadata": {
    "collapsed": false,
    "pycharm": {
     "name": "#%%\n"
    }
   }
  },
  {
   "cell_type": "code",
   "execution_count": 44,
   "metadata": {},
   "outputs": [
    {
     "name": "stdout",
     "output_type": "stream",
     "text": [
      "300\n"
     ]
    }
   ],
   "source": [
    "mix = \"쌀씰쌀쌀씰쌀씰쌀씰쌀쌀씰쌀씰쌀씰쌀쌀씰쌀씰쌀씰쌀쌀씰쌀씰쌀씰쌀쌀씰쌀씰쌀씰쌀쌀씰쌀씰쌀씰쌀쌀씰쌀씰쌀씰쌀쌀씰쌀씰쌀씰쌀쌀씰쌀씰쌀씰쌀쌀씰쌀씰쌀씰쌀쌀씰쌀씰쌀씰쌀쌀씰쌀씰쌀씰쌀쌀씰쌀씰쌀씰쌀쌀씰쌀씰쌀씰쌀쌀씰쌀씰쌀씰쌀쌀씰쌀씰쌀씰쌀쌀씰쌀씰쌀씰쌀쌀씰쌀씰쌀씰쌀쌀씰쌀씰쌀씰쌀쌀씰쌀씰쌀씰쌀쌀씰쌀씰쌀씰쌀쌀씰쌀씰쌀씰쌀쌀씰쌀씰쌀씰쌀쌀씰쌀씰쌀씰쌀쌀씰쌀씰쌀씰쌀쌀씰쌀씰쌀씰쌀쌀씰쌀씰쌀씰쌀쌀씰쌀씰쌀씰쌀쌀씰쌀씰쌀씰쌀쌀씰쌀씰쌀씰쌀쌀씰쌀씰쌀씰쌀쌀씰쌀씰쌀씰쌀쌀씰쌀씰쌀씰쌀쌀씰쌀씰쌀씰쌀쌀씰쌀씰쌀씰쌀쌀씰쌀씰쌀씰쌀쌀씰쌀씰쌀씰쌀쌀씰쌀씰쌀씰쌀쌀씰쌀씰쌀씰쌀쌀씰쌀씰쌀씰쌀쌀씰쌀씰쌀씰쌀쌀씰쌀씰쌀씰쌀쌀씰쌀씰쌀씰쌀쌀씰쌀씰쌀씰쌀쌀씰쌀씰쌀씰쌀쌀씰쌀씰쌀씰쌀쌀씰쌀씰쌀씰쌀쌀씰쌀씰쌀씰쌀쌀씰쌀씰쌀씰쌀쌀씰쌀씰쌀씰쌀쌀씰쌀씰쌀씰쌀쌀씰쌀씰쌀씰쌀쌀씰쌀씰쌀씰쌀쌀씰쌀씰쌀씰쌀쌀씰쌀씰쌀씰쌀쌀씰쌀씰쌀씰쌀쌀씰쌀씰쌀씰쌀쌀씰쌀씰쌀씰쌀쌀씰쌀씰쌀씰쌀쌀씰쌀씰쌀씰쌀쌀씰쌀씰쌀씰쌀쌀씰쌀씰쌀씰쌀쌀씰쌀씰쌀씰쌀쌀씰쌀씰쌀씰쌀쌀씰쌀씰쌀씰쌀쌀씰쌀씰쌀씰쌀쌀씰쌀씰쌀씰쌀쌀씰쌀씰쌀씰쌀쌀씰쌀씰쌀씰쌀쌀씰쌀씰쌀씰쌀쌀씰쌀씰쌀씰쌀쌀씰쌀씰쌀씰쌀쌀씰쌀씰쌀씰쌀쌀씰쌀씰쌀씰쌀쌀씰쌀씰\"\n",
    "count= 0\n",
    "\n",
    "for i in mix:\n",
    "    if i == \"쌀\":\n",
    "        count += 1\n",
    "    else:\n",
    "        pass\n",
    "\n",
    "print(count)"
   ]
  },
  {
   "cell_type": "code",
   "execution_count": 47,
   "metadata": {},
   "outputs": [
    {
     "name": "stdout",
     "output_type": "stream",
     "text": [
      "1 단 :1, 2, 3, 4, 5, 6, 7, 8, 9, 10, 11, 12, 13, 14, 15, 16, 17, 18, 19, \n",
      "2 단 :2, 4, 6, 8, 10, 12, 14, 16, 18, 20, 22, 24, 26, 28, 30, 32, 34, 36, 38, \n",
      "3 단 :3, 6, 9, 12, 15, 18, 21, 24, 27, 30, 33, 36, 39, 42, 45, 48, 51, 54, 57, \n",
      "4 단 :4, 8, 12, 16, 20, 24, 28, 32, 36, 40, 44, 48, 52, 56, 60, 64, 68, 72, 76, \n",
      "5 단 :5, 10, 15, 20, 25, 30, 35, 40, 45, 50, 55, 60, 65, 70, 75, 80, 85, 90, 95, \n",
      "6 단 :6, 12, 18, 24, 30, 36, 42, 48, 54, 60, 66, 72, 78, 84, 90, 96, 102, 108, 114, \n",
      "7 단 :7, 14, 21, 28, 35, 42, 49, 56, 63, 70, 77, 84, 91, 98, 105, 112, 119, 126, 133, \n",
      "8 단 :8, 16, 24, 32, 40, 48, 56, 64, 72, 80, 88, 96, 104, 112, 120, 128, 136, 144, 152, \n",
      "9 단 :9, 18, 27, 36, 45, 54, 63, 72, 81, 90, 99, 108, 117, 126, 135, 144, 153, 162, 171, \n",
      "10 단 :10, 20, 30, 40, 50, 60, 70, 80, 90, 100, 110, 120, 130, 140, 150, 160, 170, 180, 190, \n",
      "11 단 :11, 22, 33, 44, 55, 66, 77, 88, 99, 110, 121, 132, 143, 154, 165, 176, 187, 198, 209, \n",
      "12 단 :12, 24, 36, 48, 60, 72, 84, 96, 108, 120, 132, 144, 156, 168, 180, 192, 204, 216, 228, \n",
      "13 단 :13, 26, 39, 52, 65, 78, 91, 104, 117, 130, 143, 156, 169, 182, 195, 208, 221, 234, 247, \n",
      "14 단 :14, 28, 42, 56, 70, 84, 98, 112, 126, 140, 154, 168, 182, 196, 210, 224, 238, 252, 266, \n",
      "15 단 :15, 30, 45, 60, 75, 90, 105, 120, 135, 150, 165, 180, 195, 210, 225, 240, 255, 270, 285, \n",
      "16 단 :16, 32, 48, 64, 80, 96, 112, 128, 144, 160, 176, 192, 208, 224, 240, 256, 272, 288, 304, \n",
      "17 단 :17, 34, 51, 68, 85, 102, 119, 136, 153, 170, 187, 204, 221, 238, 255, 272, 289, 306, 323, \n",
      "18 단 :18, 36, 54, 72, 90, 108, 126, 144, 162, 180, 198, 216, 234, 252, 270, 288, 306, 324, 342, \n",
      "19 단 :19, 38, 57, 76, 95, 114, 133, 152, 171, 190, 209, 228, 247, 266, 285, 304, 323, 342, 361, \n"
     ]
    }
   ],
   "source": [
    "#for-range()를 이용해서 19단을 전부 출력해봅시다!\n",
    "for i in range(1,20):\n",
    "    print(i, \"단 :\", end=\"\")\n",
    "    for j in range(1, 20):\n",
    "        result = i * j\n",
    "        print(result, end=\", \")\n",
    "    print()"
   ]
  },
  {
   "cell_type": "code",
   "execution_count": 32,
   "metadata": {},
   "outputs": [
    {
     "name": "stdout",
     "output_type": "stream",
     "text": [
      "1차원 array\n",
      "[0 1 2 3 4 5 6 7 8 9]\n",
      "Q1 : <class 'numpy.ndarray'>\n",
      "Q2 : 1\n",
      "Q3 : (10,)\n",
      "Q4 : 10\n",
      "Q5 : int64\n",
      "Q6 : 4\n",
      "Q7 : [3 4]\n"
     ]
    }
   ],
   "source": [
    "import numpy as np\n",
    "def main():\n",
    "    print(\"1차원 array\")\n",
    "    array = np.arange(10)\n",
    "    print(array)\n",
    "\n",
    "    # Q1. array의 자료형을 출력해보세요.\n",
    "    print(\"Q1 :\", type(array))\n",
    "\n",
    "    # Q2. array의 차원을 출력해보세요.\n",
    "    print(\"Q2 :\", array.ndim)\n",
    "\n",
    "    # Q3. array의 모양을 출력해보세요.\n",
    "    print(\"Q3 :\", array.shape)\n",
    "    \n",
    "    # Q4. array의 크기를 출력해보세요.\n",
    "    print(\"Q4 :\", array.size)\n",
    "    \n",
    "    # Q5. array의 dtype(data type)을 출력해보세요.\n",
    "    print(\"Q5 :\", array.dtype)\n",
    "    \n",
    "    # Q6. array의 5번째 요소를 출력해보세요.\n",
    "    print(\"Q6 :\", array[4])\n",
    "    \n",
    "    # Q7. array의 4번째 요소부터 5번째 요소까지 출력해보세요.\n",
    "    print(\"Q7 :\", array[3:5])\n",
    "\n",
    "    \n",
    "if __name__ == \"__main__\":\n",
    "    main()"
   ]
  },
  {
   "cell_type": "code",
   "execution_count": 40,
   "metadata": {},
   "outputs": [
    {
     "name": "stdout",
     "output_type": "stream",
     "text": [
      "[1 2 3 4 5]\n",
      "array + 5 :  [ 6  7  8  9 10]\n",
      "array - 5 :  [-4 -3 -2 -1  0]\n",
      "array * 5 :  [ 5 10 15 20 25]\n",
      "array / 5 :  [0.2 0.4 0.6 0.8 1. ]\n",
      "배열끼리의 덧셈 :  [6 6 6 6 6]\n",
      "배열끼리의 뺄셈 :  [-4 -2  0  2  4]\n"
     ]
    }
   ],
   "source": [
    "def main():\n",
    "    array = np.array([1,2,3,4,5])\n",
    "    \n",
    "    print(array)\n",
    "    \n",
    "    # Q1. array에 5를 더한 값을 출력해보세요.\n",
    "    print(\"array + 5 : \", array + 5)\n",
    "    \n",
    "    # Q2. array에 5를 뺀 값을 출력해보세요.\n",
    "    print(\"array - 5 : \", array - 5)\n",
    "    \n",
    "    # Q3. array에 5를 곱한 값을 출력해보세요.\n",
    "    print(\"array * 5 : \", array * 5)\n",
    "    \n",
    "    # Q4. array를 5로 나눈 값을 출력해보세요.\n",
    "    print(\"array / 5 : \", array / 5)\n",
    "    \n",
    "    \n",
    "    # Q5. array에 array2를 더한 값을 출력해보세요.    \n",
    "    array2 = np.array([5,4,3,2,1])\n",
    "    \n",
    "    print(\"배열끼리의 덧셈 : \", array + array2)\n",
    "    \n",
    "    # Q6. array에 array2를 뺀 값을 출력해보세요.\n",
    "    print(\"배열끼리의 뺄셈 : \", array - array2)\n",
    "    \n",
    "if __name__ == \"__main__\":\n",
    "    main()"
   ]
  },
  {
   "cell_type": "code",
   "execution_count": 48,
   "outputs": [
    {
     "data": {
      "text/plain": "array([[0, 1, 2, 3],\n       [4, 5, 6, 7]])"
     },
     "execution_count": 48,
     "metadata": {},
     "output_type": "execute_result"
    }
   ],
   "source": [
    "x = np.arange(8).reshape(2, 4)\n",
    "x"
   ],
   "metadata": {
    "collapsed": false,
    "pycharm": {
     "name": "#%%\n"
    }
   }
  },
  {
   "cell_type": "code",
   "execution_count": 49,
   "outputs": [
    {
     "data": {
      "text/plain": "28"
     },
     "execution_count": 49,
     "metadata": {},
     "output_type": "execute_result"
    }
   ],
   "source": [
    "np.sum(x)"
   ],
   "metadata": {
    "collapsed": false,
    "pycharm": {
     "name": "#%%\n"
    }
   }
  },
  {
   "cell_type": "code",
   "execution_count": 50,
   "outputs": [
    {
     "data": {
      "text/plain": "7"
     },
     "execution_count": 50,
     "metadata": {},
     "output_type": "execute_result"
    }
   ],
   "source": [
    "np.max(x)"
   ],
   "metadata": {
    "collapsed": false,
    "pycharm": {
     "name": "#%%\n"
    }
   }
  },
  {
   "cell_type": "code",
   "execution_count": 51,
   "outputs": [
    {
     "data": {
      "text/plain": "0"
     },
     "execution_count": 51,
     "metadata": {},
     "output_type": "execute_result"
    }
   ],
   "source": [
    "np.min(x)"
   ],
   "metadata": {
    "collapsed": false,
    "pycharm": {
     "name": "#%%\n"
    }
   }
  },
  {
   "cell_type": "code",
   "execution_count": 52,
   "outputs": [
    {
     "data": {
      "text/plain": "3.5"
     },
     "execution_count": 52,
     "metadata": {},
     "output_type": "execute_result"
    }
   ],
   "source": [
    "np.mean(x)"
   ],
   "metadata": {
    "collapsed": false,
    "pycharm": {
     "name": "#%%\n"
    }
   }
  },
  {
   "cell_type": "code",
   "execution_count": 53,
   "outputs": [
    {
     "data": {
      "text/plain": "3.5"
     },
     "execution_count": 53,
     "metadata": {},
     "output_type": "execute_result"
    }
   ],
   "source": [
    "np.median(x)"
   ],
   "metadata": {
    "collapsed": false,
    "pycharm": {
     "name": "#%%\n"
    }
   }
  },
  {
   "cell_type": "code",
   "execution_count": 55,
   "outputs": [
    {
     "data": {
      "text/plain": "array([2., 3., 4., 5.])"
     },
     "execution_count": 55,
     "metadata": {},
     "output_type": "execute_result"
    }
   ],
   "source": [
    "np.mean(x, axis=0)"
   ],
   "metadata": {
    "collapsed": false,
    "pycharm": {
     "name": "#%%\n"
    }
   }
  },
  {
   "cell_type": "code",
   "execution_count": 56,
   "outputs": [
    {
     "data": {
      "text/plain": "array([1.5, 5.5])"
     },
     "execution_count": 56,
     "metadata": {},
     "output_type": "execute_result"
    }
   ],
   "source": [
    "np.mean(x, axis=1)"
   ],
   "metadata": {
    "collapsed": false,
    "pycharm": {
     "name": "#%%\n"
    }
   }
  },
  {
   "cell_type": "code",
   "execution_count": 66,
   "outputs": [
    {
     "name": "stdout",
     "output_type": "stream",
     "text": [
      "[[0 1 2 3]\n",
      " [4 5 6 7]]\n",
      "Q1: 28\n",
      "Q2: 7\n",
      "Q3: 0\n",
      "Q4: 3.5\n",
      "Q5: [ 4  6  8 10]\n",
      "Q6: [ 6 22]\n",
      "Q7: 2.29128784747792\n",
      "Q8: [0 1 2 3 4]\n"
     ]
    }
   ],
   "source": [
    "def main():\n",
    "    matrix = np.arange(8).reshape(2, 4)\n",
    "    print(matrix)\n",
    "\n",
    "    print(\"Q1:\", np.sum(matrix))\n",
    "    print(\"Q2:\", np.max(matrix))\n",
    "    print(\"Q3:\", np.min(matrix))\n",
    "    print(\"Q4:\", np.mean(matrix))\n",
    "    print(\"Q5:\", np.sum(matrix, axis=0))\n",
    "    print(\"Q6:\", np.sum(matrix, axis=1))\n",
    "    print(\"Q7:\", np.std(matrix))\n",
    "    print(\"Q8:\", matrix[matrix < 5])\n",
    "\n",
    "if __name__ == \"__main__\":\n",
    "    main()"
   ],
   "metadata": {
    "collapsed": false,
    "pycharm": {
     "name": "#%%\n"
    }
   }
  },
  {
   "cell_type": "code",
   "execution_count": null,
   "outputs": [],
   "source": [],
   "metadata": {
    "collapsed": false,
    "pycharm": {
     "name": "#%%\n"
    }
   }
  }
 ],
 "metadata": {
  "kernelspec": {
   "display_name": "Python 3",
   "language": "python",
   "name": "python3"
  },
  "language_info": {
   "codemirror_mode": {
    "name": "ipython",
    "version": 3
   },
   "file_extension": ".py",
   "mimetype": "text/x-python",
   "name": "python",
   "nbconvert_exporter": "python",
   "pygments_lexer": "ipython3",
   "version": "3.6.10"
  }
 },
 "nbformat": 4,
 "nbformat_minor": 2
}