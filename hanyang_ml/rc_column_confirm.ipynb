{
 "cells": [
  {
   "cell_type": "code",
   "execution_count": 1,
   "metadata": {
    "collapsed": true
   },
   "outputs": [],
   "source": [
    "import pandas as pd"
   ]
  },
  {
   "cell_type": "code",
   "execution_count": 6,
   "outputs": [
    {
     "data": {
      "text/plain": "                  References Specimen    b    h     a   d1    ln  ln/h  a/d1  \\\n0             Kokusho (1973)   KO_373  200  200   500  170   500  2.50  2.94   \n1             Kokusho (1973)   KO_452  200  200   500  170   500  2.50  2.94   \n2             Kokusho (1973)   KO_454  200  200   500  170   500  2.50  2.94   \n3              Yalcin (1997)    BR-S1  550  550  1485  476  1485  2.70  3.12   \n4    Saatcioglu et al (1989)       U2  350  350  1000  305  1000  2.86  3.28   \n..                       ...      ...  ...  ...   ...  ...   ...   ...   ...   \n212             Ikeda (1968)    IK_63  200  200   500  173   500  2.50  2.89   \n213             Ikeda (1968)    IK_64  200  200   500  173   500  2.50  2.89   \n214  Umemura and Endo (1970)   UM_205  200  200   600  180   600  3.00  3.33   \n215  Umemura and Endo (1970)   UM_214  200  200   600  180   600  3.00  3.33   \n216           Kokusho (1973)   KO_372  200  200   500  170   500  2.50  2.94   \n\n       s  ...   Vp/Vn  curvature  Failure mode     DS1     DS2     DS3  \\\n0    100  ...  0.9751     Single            FS  0.0028  0.0056  0.0112   \n1    100  ...  0.8005     Single            FS  0.0019  0.0037  0.0098   \n2    100  ...  0.8548     Single            FS  0.0025  0.0049  0.0082   \n3    300  ...  1.0430     Single             S  0.0026  0.0051  0.0097   \n4    150  ...  0.9472     Single            FS  0.0035  0.0070  0.0228   \n..   ...  ...     ...        ...           ...     ...     ...     ...   \n212  100  ...  0.7178     Single            FS  0.0020  0.0040  0.0181   \n213  100  ...  0.7178     Single            FS  0.0018  0.0036  0.0189   \n214  100  ...  0.9966     Single            FS  0.0031  0.0062  0.0215   \n215  200  ...  1.2503     Single             S  0.0052  0.0104  0.0171   \n216  100  ...  0.7513     Single            FS  0.0041  0.0083  0.0167   \n\n        DS4      Vy      Vu   0.8Vu  \n0    0.0149   43.43   87.75   70.20  \n1    0.0148   73.76  104.32   83.46  \n2    0.0121   88.04  106.29   85.03  \n3    0.0169  391.67  503.58  402.86  \n4    0.0475   95.45  242.29  193.83  \n..      ...     ...     ...     ...  \n212  0.0000   61.66   64.94   51.95  \n213  0.0000   58.47   63.61   50.89  \n214  0.0000   55.45   66.95   53.56  \n215  0.0000   81.52   82.35   65.88  \n216  0.0194   36.59   73.93   59.14  \n\n[217 rows x 37 columns]",
      "text/html": "<div>\n<style scoped>\n    .dataframe tbody tr th:only-of-type {\n        vertical-align: middle;\n    }\n\n    .dataframe tbody tr th {\n        vertical-align: top;\n    }\n\n    .dataframe thead th {\n        text-align: right;\n    }\n</style>\n<table border=\"1\" class=\"dataframe\">\n  <thead>\n    <tr style=\"text-align: right;\">\n      <th></th>\n      <th>References</th>\n      <th>Specimen</th>\n      <th>b</th>\n      <th>h</th>\n      <th>a</th>\n      <th>d1</th>\n      <th>ln</th>\n      <th>ln/h</th>\n      <th>a/d1</th>\n      <th>s</th>\n      <th>...</th>\n      <th>Vp/Vn</th>\n      <th>curvature</th>\n      <th>Failure mode</th>\n      <th>DS1</th>\n      <th>DS2</th>\n      <th>DS3</th>\n      <th>DS4</th>\n      <th>Vy</th>\n      <th>Vu</th>\n      <th>0.8Vu</th>\n    </tr>\n  </thead>\n  <tbody>\n    <tr>\n      <th>0</th>\n      <td>Kokusho (1973)</td>\n      <td>KO_373</td>\n      <td>200</td>\n      <td>200</td>\n      <td>500</td>\n      <td>170</td>\n      <td>500</td>\n      <td>2.50</td>\n      <td>2.94</td>\n      <td>100</td>\n      <td>...</td>\n      <td>0.9751</td>\n      <td>Single</td>\n      <td>FS</td>\n      <td>0.0028</td>\n      <td>0.0056</td>\n      <td>0.0112</td>\n      <td>0.0149</td>\n      <td>43.43</td>\n      <td>87.75</td>\n      <td>70.20</td>\n    </tr>\n    <tr>\n      <th>1</th>\n      <td>Kokusho (1973)</td>\n      <td>KO_452</td>\n      <td>200</td>\n      <td>200</td>\n      <td>500</td>\n      <td>170</td>\n      <td>500</td>\n      <td>2.50</td>\n      <td>2.94</td>\n      <td>100</td>\n      <td>...</td>\n      <td>0.8005</td>\n      <td>Single</td>\n      <td>FS</td>\n      <td>0.0019</td>\n      <td>0.0037</td>\n      <td>0.0098</td>\n      <td>0.0148</td>\n      <td>73.76</td>\n      <td>104.32</td>\n      <td>83.46</td>\n    </tr>\n    <tr>\n      <th>2</th>\n      <td>Kokusho (1973)</td>\n      <td>KO_454</td>\n      <td>200</td>\n      <td>200</td>\n      <td>500</td>\n      <td>170</td>\n      <td>500</td>\n      <td>2.50</td>\n      <td>2.94</td>\n      <td>100</td>\n      <td>...</td>\n      <td>0.8548</td>\n      <td>Single</td>\n      <td>FS</td>\n      <td>0.0025</td>\n      <td>0.0049</td>\n      <td>0.0082</td>\n      <td>0.0121</td>\n      <td>88.04</td>\n      <td>106.29</td>\n      <td>85.03</td>\n    </tr>\n    <tr>\n      <th>3</th>\n      <td>Yalcin (1997)</td>\n      <td>BR-S1</td>\n      <td>550</td>\n      <td>550</td>\n      <td>1485</td>\n      <td>476</td>\n      <td>1485</td>\n      <td>2.70</td>\n      <td>3.12</td>\n      <td>300</td>\n      <td>...</td>\n      <td>1.0430</td>\n      <td>Single</td>\n      <td>S</td>\n      <td>0.0026</td>\n      <td>0.0051</td>\n      <td>0.0097</td>\n      <td>0.0169</td>\n      <td>391.67</td>\n      <td>503.58</td>\n      <td>402.86</td>\n    </tr>\n    <tr>\n      <th>4</th>\n      <td>Saatcioglu et al (1989)</td>\n      <td>U2</td>\n      <td>350</td>\n      <td>350</td>\n      <td>1000</td>\n      <td>305</td>\n      <td>1000</td>\n      <td>2.86</td>\n      <td>3.28</td>\n      <td>150</td>\n      <td>...</td>\n      <td>0.9472</td>\n      <td>Single</td>\n      <td>FS</td>\n      <td>0.0035</td>\n      <td>0.0070</td>\n      <td>0.0228</td>\n      <td>0.0475</td>\n      <td>95.45</td>\n      <td>242.29</td>\n      <td>193.83</td>\n    </tr>\n    <tr>\n      <th>...</th>\n      <td>...</td>\n      <td>...</td>\n      <td>...</td>\n      <td>...</td>\n      <td>...</td>\n      <td>...</td>\n      <td>...</td>\n      <td>...</td>\n      <td>...</td>\n      <td>...</td>\n      <td>...</td>\n      <td>...</td>\n      <td>...</td>\n      <td>...</td>\n      <td>...</td>\n      <td>...</td>\n      <td>...</td>\n      <td>...</td>\n      <td>...</td>\n      <td>...</td>\n      <td>...</td>\n    </tr>\n    <tr>\n      <th>212</th>\n      <td>Ikeda (1968)</td>\n      <td>IK_63</td>\n      <td>200</td>\n      <td>200</td>\n      <td>500</td>\n      <td>173</td>\n      <td>500</td>\n      <td>2.50</td>\n      <td>2.89</td>\n      <td>100</td>\n      <td>...</td>\n      <td>0.7178</td>\n      <td>Single</td>\n      <td>FS</td>\n      <td>0.0020</td>\n      <td>0.0040</td>\n      <td>0.0181</td>\n      <td>0.0000</td>\n      <td>61.66</td>\n      <td>64.94</td>\n      <td>51.95</td>\n    </tr>\n    <tr>\n      <th>213</th>\n      <td>Ikeda (1968)</td>\n      <td>IK_64</td>\n      <td>200</td>\n      <td>200</td>\n      <td>500</td>\n      <td>173</td>\n      <td>500</td>\n      <td>2.50</td>\n      <td>2.89</td>\n      <td>100</td>\n      <td>...</td>\n      <td>0.7178</td>\n      <td>Single</td>\n      <td>FS</td>\n      <td>0.0018</td>\n      <td>0.0036</td>\n      <td>0.0189</td>\n      <td>0.0000</td>\n      <td>58.47</td>\n      <td>63.61</td>\n      <td>50.89</td>\n    </tr>\n    <tr>\n      <th>214</th>\n      <td>Umemura and Endo (1970)</td>\n      <td>UM_205</td>\n      <td>200</td>\n      <td>200</td>\n      <td>600</td>\n      <td>180</td>\n      <td>600</td>\n      <td>3.00</td>\n      <td>3.33</td>\n      <td>100</td>\n      <td>...</td>\n      <td>0.9966</td>\n      <td>Single</td>\n      <td>FS</td>\n      <td>0.0031</td>\n      <td>0.0062</td>\n      <td>0.0215</td>\n      <td>0.0000</td>\n      <td>55.45</td>\n      <td>66.95</td>\n      <td>53.56</td>\n    </tr>\n    <tr>\n      <th>215</th>\n      <td>Umemura and Endo (1970)</td>\n      <td>UM_214</td>\n      <td>200</td>\n      <td>200</td>\n      <td>600</td>\n      <td>180</td>\n      <td>600</td>\n      <td>3.00</td>\n      <td>3.33</td>\n      <td>200</td>\n      <td>...</td>\n      <td>1.2503</td>\n      <td>Single</td>\n      <td>S</td>\n      <td>0.0052</td>\n      <td>0.0104</td>\n      <td>0.0171</td>\n      <td>0.0000</td>\n      <td>81.52</td>\n      <td>82.35</td>\n      <td>65.88</td>\n    </tr>\n    <tr>\n      <th>216</th>\n      <td>Kokusho (1973)</td>\n      <td>KO_372</td>\n      <td>200</td>\n      <td>200</td>\n      <td>500</td>\n      <td>170</td>\n      <td>500</td>\n      <td>2.50</td>\n      <td>2.94</td>\n      <td>100</td>\n      <td>...</td>\n      <td>0.7513</td>\n      <td>Single</td>\n      <td>FS</td>\n      <td>0.0041</td>\n      <td>0.0083</td>\n      <td>0.0167</td>\n      <td>0.0194</td>\n      <td>36.59</td>\n      <td>73.93</td>\n      <td>59.14</td>\n    </tr>\n  </tbody>\n</table>\n<p>217 rows × 37 columns</p>\n</div>"
     },
     "execution_count": 6,
     "metadata": {},
     "output_type": "execute_result"
    }
   ],
   "source": [
    "df = pd.read_csv(\"./rc/rc_column_raw_data.csv\", encoding=\"cp949\")\n",
    "df"
   ],
   "metadata": {
    "collapsed": false,
    "pycharm": {
     "name": "#%%\n"
    }
   }
  },
  {
   "cell_type": "code",
   "execution_count": 7,
   "outputs": [
    {
     "data": {
      "text/plain": "References                                               0\nSpecimen                                                 0\nb                                                        0\nh                                                        0\na                                                        0\nd1                                                       0\nln                                                       0\nln/h                                                     0\na/d1                                                     0\ns                                                        0\ns/d1                                                     0\nf'c                                                      0\nLongi, bar along first face (Perpendicular to load)      0\nDl_first                                                 0\nLongi, bar along second face(Perpendicular to Load)      0\nDl_second                                                0\nLongi, bar along middle layer (Perpendicular to Load)    0\nLongi, bar along middle layer (Parallel  to Load)        0\nDl_middle                                                0\nfyl                                                      0\nrho_l                                                    0\nrho_l.1                                                  0\nDt                                                       0\nfyt                                                      0\nrho_t                                                    0\nrho_t.1                                                  0\nν                                                        0\nVp/Vn                                                    0\ncurvature                                                0\nFailure mode                                             0\nDS1                                                      0\nDS2                                                      0\nDS3                                                      0\nDS4                                                      0\nVy                                                       0\nVu                                                       0\n0.8Vu                                                    0\ndtype: int64"
     },
     "execution_count": 7,
     "metadata": {},
     "output_type": "execute_result"
    }
   ],
   "source": [
    "df.isnull().sum()"
   ],
   "metadata": {
    "collapsed": false,
    "pycharm": {
     "name": "#%%\n"
    }
   }
  },
  {
   "cell_type": "code",
   "execution_count": 10,
   "outputs": [
    {
     "data": {
      "text/plain": "['References',\n 'Specimen',\n 'b',\n 'h',\n 'a',\n 'd1',\n 'ln',\n 'ln/h',\n 'a/d1',\n 's',\n 's/d1',\n \"f'c\",\n 'Longi, bar along first face (Perpendicular to load)',\n 'Dl_first',\n 'Longi, bar along second face(Perpendicular to Load)',\n 'Dl_second',\n 'Longi, bar along middle layer (Perpendicular to Load)',\n 'Longi, bar along middle layer (Parallel  to Load)',\n 'Dl_middle',\n 'fyl',\n 'rho_l',\n 'rho_l.1',\n 'Dt',\n 'fyt',\n 'rho_t',\n 'rho_t.1',\n 'ν',\n 'Vp/Vn',\n 'curvature',\n 'Failure mode',\n 'DS1',\n 'DS2',\n 'DS3',\n 'DS4',\n 'Vy',\n 'Vu',\n '0.8Vu']"
     },
     "execution_count": 10,
     "metadata": {},
     "output_type": "execute_result"
    }
   ],
   "source": [
    "cols_lst = df.columns.to_list()\n",
    "output_lst = [\"DS1\", \"DS2\", \"DS3\", \"DS4\"]\n",
    "drop_cols = output_lst + [\"References\", \"Specimen\"]\n",
    "cols_lst"
   ],
   "metadata": {
    "collapsed": false,
    "pycharm": {
     "name": "#%%\n"
    }
   }
  },
  {
   "cell_type": "code",
   "execution_count": 11,
   "outputs": [
    {
     "name": "stdout",
     "output_type": "stream",
     "text": [
      "<class 'pandas.core.frame.DataFrame'>\n",
      "RangeIndex: 217 entries, 0 to 216\n",
      "Data columns (total 37 columns):\n",
      " #   Column                                                 Non-Null Count  Dtype  \n",
      "---  ------                                                 --------------  -----  \n",
      " 0   References                                             217 non-null    object \n",
      " 1   Specimen                                               217 non-null    object \n",
      " 2   b                                                      217 non-null    int64  \n",
      " 3   h                                                      217 non-null    int64  \n",
      " 4   a                                                      217 non-null    int64  \n",
      " 5   d1                                                     217 non-null    int64  \n",
      " 6   ln                                                     217 non-null    int64  \n",
      " 7   ln/h                                                   217 non-null    float64\n",
      " 8   a/d1                                                   217 non-null    float64\n",
      " 9   s                                                      217 non-null    int64  \n",
      " 10  s/d1                                                   217 non-null    float64\n",
      " 11  f'c                                                    217 non-null    int64  \n",
      " 12  Longi, bar along first face (Perpendicular to load)    217 non-null    int64  \n",
      " 13  Dl_first                                               217 non-null    int64  \n",
      " 14  Longi, bar along second face(Perpendicular to Load)    217 non-null    int64  \n",
      " 15  Dl_second                                              217 non-null    int64  \n",
      " 16  Longi, bar along middle layer (Perpendicular to Load)  217 non-null    int64  \n",
      " 17  Longi, bar along middle layer (Parallel  to Load)      217 non-null    int64  \n",
      " 18  Dl_middle                                              217 non-null    int64  \n",
      " 19  fyl                                                    217 non-null    int64  \n",
      " 20  rho_l                                                  217 non-null    float64\n",
      " 21  rho_l.1                                                217 non-null    float64\n",
      " 22  Dt                                                     217 non-null    int64  \n",
      " 23  fyt                                                    217 non-null    int64  \n",
      " 24  rho_t                                                  217 non-null    float64\n",
      " 25  rho_t.1                                                217 non-null    float64\n",
      " 26  ν                                                      217 non-null    float64\n",
      " 27  Vp/Vn                                                  217 non-null    float64\n",
      " 28  curvature                                              217 non-null    object \n",
      " 29  Failure mode                                           217 non-null    object \n",
      " 30  DS1                                                    217 non-null    float64\n",
      " 31  DS2                                                    217 non-null    float64\n",
      " 32  DS3                                                    217 non-null    float64\n",
      " 33  DS4                                                    217 non-null    float64\n",
      " 34  Vy                                                     217 non-null    float64\n",
      " 35  Vu                                                     217 non-null    float64\n",
      " 36  0.8Vu                                                  217 non-null    float64\n",
      "dtypes: float64(16), int64(17), object(4)\n",
      "memory usage: 62.9+ KB\n"
     ]
    }
   ],
   "source": [
    "df.info()"
   ],
   "metadata": {
    "collapsed": false,
    "pycharm": {
     "name": "#%%\n"
    }
   }
  },
  {
   "cell_type": "code",
   "execution_count": 13,
   "outputs": [
    {
     "data": {
      "text/plain": "0      FS\n1      FS\n2      FS\n3       S\n4      FS\n       ..\n212    FS\n213    FS\n214    FS\n215     S\n216    FS\nName: Failure mode, Length: 217, dtype: object"
     },
     "execution_count": 13,
     "metadata": {},
     "output_type": "execute_result"
    }
   ],
   "source": [
    "df[\"Failure mode\"]"
   ],
   "metadata": {
    "collapsed": false,
    "pycharm": {
     "name": "#%%\n"
    }
   }
  },
  {
   "cell_type": "markdown",
   "source": [
    "# 데이터 처리"
   ],
   "metadata": {
    "collapsed": false
   }
  },
  {
   "cell_type": "markdown",
   "source": [
    "input, output 데이터 분리"
   ],
   "metadata": {
    "collapsed": false
   }
  },
  {
   "cell_type": "code",
   "execution_count": 16,
   "outputs": [
    {
     "data": {
      "text/plain": "       b    h     a   d1    ln  ln/h  a/d1    s  s/d1  f'c  ...  fyt  \\\n0    200  200   500  170   500  2.50  2.94  100  0.59   20  ...  351   \n1    200  200   500  170   500  2.50  2.94  100  0.59   22  ...  316   \n2    200  200   500  170   500  2.50  2.94  100  0.59   22  ...  316   \n3    550  550  1485  476  1485  2.70  3.12  300  0.63   45  ...  425   \n4    350  350  1000  305  1000  2.86  3.28  150  0.49   30  ...  470   \n..   ...  ...   ...  ...   ...   ...   ...  ...   ...  ...  ...  ...   \n212  200  200   500  173   500  2.50  2.89  100  0.58   20  ...  475   \n213  200  200   500  173   500  2.50  2.89  100  0.58   20  ...  475   \n214  200  200   600  180   600  3.00  3.33  100  0.56   18  ...  324   \n215  200  200   600  180   600  3.00  3.33  200  1.11   18  ...  324   \n216  200  200   500  170   500  2.50  2.94  100  0.59   20  ...  351   \n\n        rho_t  rho_t.1     ν   Vp/Vn  curvature  Failure mode      Vy      Vu  \\\n0    0.003318   0.3318  0.19  0.9751     Single            FS   43.43   87.75   \n1    0.003318   0.3318  0.45  0.8005     Single            FS   73.76  104.32   \n2    0.003318   0.3318  0.45  0.8548     Single            FS   88.04  106.29   \n3    0.001211   0.1211  0.13  1.0430     Single             S  391.67  503.58   \n4    0.002992   0.2992  0.16  0.9472     Single            FS   95.45  242.29   \n..        ...      ...   ...     ...        ...           ...     ...     ...   \n212  0.002827   0.2827  0.20  0.7178     Single            FS   61.66   64.94   \n213  0.002827   0.2827  0.20  0.7178     Single            FS   58.47   63.61   \n214  0.002827   0.2827  0.22  0.9966     Single            FS   55.45   66.95   \n215  0.001414   0.1414  0.56  1.2503     Single             S   81.52   82.35   \n216  0.003318   0.3318  0.20  0.7513     Single            FS   36.59   73.93   \n\n      0.8Vu  \n0     70.20  \n1     83.46  \n2     85.03  \n3    402.86  \n4    193.83  \n..      ...  \n212   51.95  \n213   50.89  \n214   53.56  \n215   65.88  \n216   59.14  \n\n[217 rows x 31 columns]",
      "text/html": "<div>\n<style scoped>\n    .dataframe tbody tr th:only-of-type {\n        vertical-align: middle;\n    }\n\n    .dataframe tbody tr th {\n        vertical-align: top;\n    }\n\n    .dataframe thead th {\n        text-align: right;\n    }\n</style>\n<table border=\"1\" class=\"dataframe\">\n  <thead>\n    <tr style=\"text-align: right;\">\n      <th></th>\n      <th>b</th>\n      <th>h</th>\n      <th>a</th>\n      <th>d1</th>\n      <th>ln</th>\n      <th>ln/h</th>\n      <th>a/d1</th>\n      <th>s</th>\n      <th>s/d1</th>\n      <th>f'c</th>\n      <th>...</th>\n      <th>fyt</th>\n      <th>rho_t</th>\n      <th>rho_t.1</th>\n      <th>ν</th>\n      <th>Vp/Vn</th>\n      <th>curvature</th>\n      <th>Failure mode</th>\n      <th>Vy</th>\n      <th>Vu</th>\n      <th>0.8Vu</th>\n    </tr>\n  </thead>\n  <tbody>\n    <tr>\n      <th>0</th>\n      <td>200</td>\n      <td>200</td>\n      <td>500</td>\n      <td>170</td>\n      <td>500</td>\n      <td>2.50</td>\n      <td>2.94</td>\n      <td>100</td>\n      <td>0.59</td>\n      <td>20</td>\n      <td>...</td>\n      <td>351</td>\n      <td>0.003318</td>\n      <td>0.3318</td>\n      <td>0.19</td>\n      <td>0.9751</td>\n      <td>Single</td>\n      <td>FS</td>\n      <td>43.43</td>\n      <td>87.75</td>\n      <td>70.20</td>\n    </tr>\n    <tr>\n      <th>1</th>\n      <td>200</td>\n      <td>200</td>\n      <td>500</td>\n      <td>170</td>\n      <td>500</td>\n      <td>2.50</td>\n      <td>2.94</td>\n      <td>100</td>\n      <td>0.59</td>\n      <td>22</td>\n      <td>...</td>\n      <td>316</td>\n      <td>0.003318</td>\n      <td>0.3318</td>\n      <td>0.45</td>\n      <td>0.8005</td>\n      <td>Single</td>\n      <td>FS</td>\n      <td>73.76</td>\n      <td>104.32</td>\n      <td>83.46</td>\n    </tr>\n    <tr>\n      <th>2</th>\n      <td>200</td>\n      <td>200</td>\n      <td>500</td>\n      <td>170</td>\n      <td>500</td>\n      <td>2.50</td>\n      <td>2.94</td>\n      <td>100</td>\n      <td>0.59</td>\n      <td>22</td>\n      <td>...</td>\n      <td>316</td>\n      <td>0.003318</td>\n      <td>0.3318</td>\n      <td>0.45</td>\n      <td>0.8548</td>\n      <td>Single</td>\n      <td>FS</td>\n      <td>88.04</td>\n      <td>106.29</td>\n      <td>85.03</td>\n    </tr>\n    <tr>\n      <th>3</th>\n      <td>550</td>\n      <td>550</td>\n      <td>1485</td>\n      <td>476</td>\n      <td>1485</td>\n      <td>2.70</td>\n      <td>3.12</td>\n      <td>300</td>\n      <td>0.63</td>\n      <td>45</td>\n      <td>...</td>\n      <td>425</td>\n      <td>0.001211</td>\n      <td>0.1211</td>\n      <td>0.13</td>\n      <td>1.0430</td>\n      <td>Single</td>\n      <td>S</td>\n      <td>391.67</td>\n      <td>503.58</td>\n      <td>402.86</td>\n    </tr>\n    <tr>\n      <th>4</th>\n      <td>350</td>\n      <td>350</td>\n      <td>1000</td>\n      <td>305</td>\n      <td>1000</td>\n      <td>2.86</td>\n      <td>3.28</td>\n      <td>150</td>\n      <td>0.49</td>\n      <td>30</td>\n      <td>...</td>\n      <td>470</td>\n      <td>0.002992</td>\n      <td>0.2992</td>\n      <td>0.16</td>\n      <td>0.9472</td>\n      <td>Single</td>\n      <td>FS</td>\n      <td>95.45</td>\n      <td>242.29</td>\n      <td>193.83</td>\n    </tr>\n    <tr>\n      <th>...</th>\n      <td>...</td>\n      <td>...</td>\n      <td>...</td>\n      <td>...</td>\n      <td>...</td>\n      <td>...</td>\n      <td>...</td>\n      <td>...</td>\n      <td>...</td>\n      <td>...</td>\n      <td>...</td>\n      <td>...</td>\n      <td>...</td>\n      <td>...</td>\n      <td>...</td>\n      <td>...</td>\n      <td>...</td>\n      <td>...</td>\n      <td>...</td>\n      <td>...</td>\n      <td>...</td>\n    </tr>\n    <tr>\n      <th>212</th>\n      <td>200</td>\n      <td>200</td>\n      <td>500</td>\n      <td>173</td>\n      <td>500</td>\n      <td>2.50</td>\n      <td>2.89</td>\n      <td>100</td>\n      <td>0.58</td>\n      <td>20</td>\n      <td>...</td>\n      <td>475</td>\n      <td>0.002827</td>\n      <td>0.2827</td>\n      <td>0.20</td>\n      <td>0.7178</td>\n      <td>Single</td>\n      <td>FS</td>\n      <td>61.66</td>\n      <td>64.94</td>\n      <td>51.95</td>\n    </tr>\n    <tr>\n      <th>213</th>\n      <td>200</td>\n      <td>200</td>\n      <td>500</td>\n      <td>173</td>\n      <td>500</td>\n      <td>2.50</td>\n      <td>2.89</td>\n      <td>100</td>\n      <td>0.58</td>\n      <td>20</td>\n      <td>...</td>\n      <td>475</td>\n      <td>0.002827</td>\n      <td>0.2827</td>\n      <td>0.20</td>\n      <td>0.7178</td>\n      <td>Single</td>\n      <td>FS</td>\n      <td>58.47</td>\n      <td>63.61</td>\n      <td>50.89</td>\n    </tr>\n    <tr>\n      <th>214</th>\n      <td>200</td>\n      <td>200</td>\n      <td>600</td>\n      <td>180</td>\n      <td>600</td>\n      <td>3.00</td>\n      <td>3.33</td>\n      <td>100</td>\n      <td>0.56</td>\n      <td>18</td>\n      <td>...</td>\n      <td>324</td>\n      <td>0.002827</td>\n      <td>0.2827</td>\n      <td>0.22</td>\n      <td>0.9966</td>\n      <td>Single</td>\n      <td>FS</td>\n      <td>55.45</td>\n      <td>66.95</td>\n      <td>53.56</td>\n    </tr>\n    <tr>\n      <th>215</th>\n      <td>200</td>\n      <td>200</td>\n      <td>600</td>\n      <td>180</td>\n      <td>600</td>\n      <td>3.00</td>\n      <td>3.33</td>\n      <td>200</td>\n      <td>1.11</td>\n      <td>18</td>\n      <td>...</td>\n      <td>324</td>\n      <td>0.001414</td>\n      <td>0.1414</td>\n      <td>0.56</td>\n      <td>1.2503</td>\n      <td>Single</td>\n      <td>S</td>\n      <td>81.52</td>\n      <td>82.35</td>\n      <td>65.88</td>\n    </tr>\n    <tr>\n      <th>216</th>\n      <td>200</td>\n      <td>200</td>\n      <td>500</td>\n      <td>170</td>\n      <td>500</td>\n      <td>2.50</td>\n      <td>2.94</td>\n      <td>100</td>\n      <td>0.59</td>\n      <td>20</td>\n      <td>...</td>\n      <td>351</td>\n      <td>0.003318</td>\n      <td>0.3318</td>\n      <td>0.20</td>\n      <td>0.7513</td>\n      <td>Single</td>\n      <td>FS</td>\n      <td>36.59</td>\n      <td>73.93</td>\n      <td>59.14</td>\n    </tr>\n  </tbody>\n</table>\n<p>217 rows × 31 columns</p>\n</div>"
     },
     "execution_count": 16,
     "metadata": {},
     "output_type": "execute_result"
    }
   ],
   "source": [
    "df_output = df[output_lst]\n",
    "df_input = df.drop(drop_cols, axis=1)\n",
    "df_input"
   ],
   "metadata": {
    "collapsed": false,
    "pycharm": {
     "name": "#%%\n"
    }
   }
  },
  {
   "cell_type": "markdown",
   "source": [
    "onehot encoding"
   ],
   "metadata": {
    "collapsed": false
   }
  },
  {
   "cell_type": "code",
   "execution_count": 17,
   "outputs": [
    {
     "data": {
      "text/plain": "       b    h     a   d1    ln  ln/h  a/d1    s  s/d1  f'c  ...     ν   Vp/Vn  \\\n0    200  200   500  170   500  2.50  2.94  100  0.59   20  ...  0.19  0.9751   \n1    200  200   500  170   500  2.50  2.94  100  0.59   22  ...  0.45  0.8005   \n2    200  200   500  170   500  2.50  2.94  100  0.59   22  ...  0.45  0.8548   \n3    550  550  1485  476  1485  2.70  3.12  300  0.63   45  ...  0.13  1.0430   \n4    350  350  1000  305  1000  2.86  3.28  150  0.49   30  ...  0.16  0.9472   \n..   ...  ...   ...  ...   ...   ...   ...  ...   ...  ...  ...   ...     ...   \n212  200  200   500  173   500  2.50  2.89  100  0.58   20  ...  0.20  0.7178   \n213  200  200   500  173   500  2.50  2.89  100  0.58   20  ...  0.20  0.7178   \n214  200  200   600  180   600  3.00  3.33  100  0.56   18  ...  0.22  0.9966   \n215  200  200   600  180   600  3.00  3.33  200  1.11   18  ...  0.56  1.2503   \n216  200  200   500  170   500  2.50  2.94  100  0.59   20  ...  0.20  0.7513   \n\n         Vy      Vu   0.8Vu  curvature_Double  curvature_Single  \\\n0     43.43   87.75   70.20                 0                 1   \n1     73.76  104.32   83.46                 0                 1   \n2     88.04  106.29   85.03                 0                 1   \n3    391.67  503.58  402.86                 0                 1   \n4     95.45  242.29  193.83                 0                 1   \n..      ...     ...     ...               ...               ...   \n212   61.66   64.94   51.95                 0                 1   \n213   58.47   63.61   50.89                 0                 1   \n214   55.45   66.95   53.56                 0                 1   \n215   81.52   82.35   65.88                 0                 1   \n216   36.59   73.93   59.14                 0                 1   \n\n     Failure mode_F  Failure mode_FS  Failure mode_S  \n0                 0                1               0  \n1                 0                1               0  \n2                 0                1               0  \n3                 0                0               1  \n4                 0                1               0  \n..              ...              ...             ...  \n212               0                1               0  \n213               0                1               0  \n214               0                1               0  \n215               0                0               1  \n216               0                1               0  \n\n[217 rows x 34 columns]",
      "text/html": "<div>\n<style scoped>\n    .dataframe tbody tr th:only-of-type {\n        vertical-align: middle;\n    }\n\n    .dataframe tbody tr th {\n        vertical-align: top;\n    }\n\n    .dataframe thead th {\n        text-align: right;\n    }\n</style>\n<table border=\"1\" class=\"dataframe\">\n  <thead>\n    <tr style=\"text-align: right;\">\n      <th></th>\n      <th>b</th>\n      <th>h</th>\n      <th>a</th>\n      <th>d1</th>\n      <th>ln</th>\n      <th>ln/h</th>\n      <th>a/d1</th>\n      <th>s</th>\n      <th>s/d1</th>\n      <th>f'c</th>\n      <th>...</th>\n      <th>ν</th>\n      <th>Vp/Vn</th>\n      <th>Vy</th>\n      <th>Vu</th>\n      <th>0.8Vu</th>\n      <th>curvature_Double</th>\n      <th>curvature_Single</th>\n      <th>Failure mode_F</th>\n      <th>Failure mode_FS</th>\n      <th>Failure mode_S</th>\n    </tr>\n  </thead>\n  <tbody>\n    <tr>\n      <th>0</th>\n      <td>200</td>\n      <td>200</td>\n      <td>500</td>\n      <td>170</td>\n      <td>500</td>\n      <td>2.50</td>\n      <td>2.94</td>\n      <td>100</td>\n      <td>0.59</td>\n      <td>20</td>\n      <td>...</td>\n      <td>0.19</td>\n      <td>0.9751</td>\n      <td>43.43</td>\n      <td>87.75</td>\n      <td>70.20</td>\n      <td>0</td>\n      <td>1</td>\n      <td>0</td>\n      <td>1</td>\n      <td>0</td>\n    </tr>\n    <tr>\n      <th>1</th>\n      <td>200</td>\n      <td>200</td>\n      <td>500</td>\n      <td>170</td>\n      <td>500</td>\n      <td>2.50</td>\n      <td>2.94</td>\n      <td>100</td>\n      <td>0.59</td>\n      <td>22</td>\n      <td>...</td>\n      <td>0.45</td>\n      <td>0.8005</td>\n      <td>73.76</td>\n      <td>104.32</td>\n      <td>83.46</td>\n      <td>0</td>\n      <td>1</td>\n      <td>0</td>\n      <td>1</td>\n      <td>0</td>\n    </tr>\n    <tr>\n      <th>2</th>\n      <td>200</td>\n      <td>200</td>\n      <td>500</td>\n      <td>170</td>\n      <td>500</td>\n      <td>2.50</td>\n      <td>2.94</td>\n      <td>100</td>\n      <td>0.59</td>\n      <td>22</td>\n      <td>...</td>\n      <td>0.45</td>\n      <td>0.8548</td>\n      <td>88.04</td>\n      <td>106.29</td>\n      <td>85.03</td>\n      <td>0</td>\n      <td>1</td>\n      <td>0</td>\n      <td>1</td>\n      <td>0</td>\n    </tr>\n    <tr>\n      <th>3</th>\n      <td>550</td>\n      <td>550</td>\n      <td>1485</td>\n      <td>476</td>\n      <td>1485</td>\n      <td>2.70</td>\n      <td>3.12</td>\n      <td>300</td>\n      <td>0.63</td>\n      <td>45</td>\n      <td>...</td>\n      <td>0.13</td>\n      <td>1.0430</td>\n      <td>391.67</td>\n      <td>503.58</td>\n      <td>402.86</td>\n      <td>0</td>\n      <td>1</td>\n      <td>0</td>\n      <td>0</td>\n      <td>1</td>\n    </tr>\n    <tr>\n      <th>4</th>\n      <td>350</td>\n      <td>350</td>\n      <td>1000</td>\n      <td>305</td>\n      <td>1000</td>\n      <td>2.86</td>\n      <td>3.28</td>\n      <td>150</td>\n      <td>0.49</td>\n      <td>30</td>\n      <td>...</td>\n      <td>0.16</td>\n      <td>0.9472</td>\n      <td>95.45</td>\n      <td>242.29</td>\n      <td>193.83</td>\n      <td>0</td>\n      <td>1</td>\n      <td>0</td>\n      <td>1</td>\n      <td>0</td>\n    </tr>\n    <tr>\n      <th>...</th>\n      <td>...</td>\n      <td>...</td>\n      <td>...</td>\n      <td>...</td>\n      <td>...</td>\n      <td>...</td>\n      <td>...</td>\n      <td>...</td>\n      <td>...</td>\n      <td>...</td>\n      <td>...</td>\n      <td>...</td>\n      <td>...</td>\n      <td>...</td>\n      <td>...</td>\n      <td>...</td>\n      <td>...</td>\n      <td>...</td>\n      <td>...</td>\n      <td>...</td>\n      <td>...</td>\n    </tr>\n    <tr>\n      <th>212</th>\n      <td>200</td>\n      <td>200</td>\n      <td>500</td>\n      <td>173</td>\n      <td>500</td>\n      <td>2.50</td>\n      <td>2.89</td>\n      <td>100</td>\n      <td>0.58</td>\n      <td>20</td>\n      <td>...</td>\n      <td>0.20</td>\n      <td>0.7178</td>\n      <td>61.66</td>\n      <td>64.94</td>\n      <td>51.95</td>\n      <td>0</td>\n      <td>1</td>\n      <td>0</td>\n      <td>1</td>\n      <td>0</td>\n    </tr>\n    <tr>\n      <th>213</th>\n      <td>200</td>\n      <td>200</td>\n      <td>500</td>\n      <td>173</td>\n      <td>500</td>\n      <td>2.50</td>\n      <td>2.89</td>\n      <td>100</td>\n      <td>0.58</td>\n      <td>20</td>\n      <td>...</td>\n      <td>0.20</td>\n      <td>0.7178</td>\n      <td>58.47</td>\n      <td>63.61</td>\n      <td>50.89</td>\n      <td>0</td>\n      <td>1</td>\n      <td>0</td>\n      <td>1</td>\n      <td>0</td>\n    </tr>\n    <tr>\n      <th>214</th>\n      <td>200</td>\n      <td>200</td>\n      <td>600</td>\n      <td>180</td>\n      <td>600</td>\n      <td>3.00</td>\n      <td>3.33</td>\n      <td>100</td>\n      <td>0.56</td>\n      <td>18</td>\n      <td>...</td>\n      <td>0.22</td>\n      <td>0.9966</td>\n      <td>55.45</td>\n      <td>66.95</td>\n      <td>53.56</td>\n      <td>0</td>\n      <td>1</td>\n      <td>0</td>\n      <td>1</td>\n      <td>0</td>\n    </tr>\n    <tr>\n      <th>215</th>\n      <td>200</td>\n      <td>200</td>\n      <td>600</td>\n      <td>180</td>\n      <td>600</td>\n      <td>3.00</td>\n      <td>3.33</td>\n      <td>200</td>\n      <td>1.11</td>\n      <td>18</td>\n      <td>...</td>\n      <td>0.56</td>\n      <td>1.2503</td>\n      <td>81.52</td>\n      <td>82.35</td>\n      <td>65.88</td>\n      <td>0</td>\n      <td>1</td>\n      <td>0</td>\n      <td>0</td>\n      <td>1</td>\n    </tr>\n    <tr>\n      <th>216</th>\n      <td>200</td>\n      <td>200</td>\n      <td>500</td>\n      <td>170</td>\n      <td>500</td>\n      <td>2.50</td>\n      <td>2.94</td>\n      <td>100</td>\n      <td>0.59</td>\n      <td>20</td>\n      <td>...</td>\n      <td>0.20</td>\n      <td>0.7513</td>\n      <td>36.59</td>\n      <td>73.93</td>\n      <td>59.14</td>\n      <td>0</td>\n      <td>1</td>\n      <td>0</td>\n      <td>1</td>\n      <td>0</td>\n    </tr>\n  </tbody>\n</table>\n<p>217 rows × 34 columns</p>\n</div>"
     },
     "execution_count": 17,
     "metadata": {},
     "output_type": "execute_result"
    }
   ],
   "source": [
    "from sklearn.preprocessing import OneHotEncoder\n",
    "\n",
    "onehot_cols = [\"curvature\", \"Failure mode\"]\n",
    "df_encode = pd.get_dummies(df_input, columns=onehot_cols).copy()\n",
    "df_encode"
   ],
   "metadata": {
    "collapsed": false,
    "pycharm": {
     "name": "#%%\n"
    }
   }
  },
  {
   "cell_type": "markdown",
   "source": [
    "train - test 데이터 분리 & 정규화"
   ],
   "metadata": {
    "collapsed": false
   }
  },
  {
   "cell_type": "code",
   "execution_count": 18,
   "outputs": [],
   "source": [
    "from sklearn.model_selection import train_test_split\n",
    "from sklearn.preprocessing import StandardScaler\n",
    "\n",
    "X_train, X_test, y_train, y_test = train_test_split(df_encode, df_output[\"DS1\"], test_size=0.2,\n",
    "                                                    shuffle=True, random_state=0)\n",
    "X_train = StandardScaler().fit_transform(X_train)\n",
    "X_test = StandardScaler().fit_transform(X_test)"
   ],
   "metadata": {
    "collapsed": false,
    "pycharm": {
     "name": "#%%\n"
    }
   }
  },
  {
   "cell_type": "code",
   "execution_count": 19,
   "outputs": [],
   "source": [
    "import warnings\n",
    "warnings.filterwarnings(\"ignore\")"
   ],
   "metadata": {
    "collapsed": false,
    "pycharm": {
     "name": "#%%\n"
    }
   }
  },
  {
   "cell_type": "code",
   "execution_count": 23,
   "outputs": [
    {
     "data": {
      "text/plain": "0.36475167657212004"
     },
     "execution_count": 23,
     "metadata": {},
     "output_type": "execute_result"
    }
   ],
   "source": [
    "from sklearn.linear_model import LinearRegression\n",
    "\n",
    "lr_model = LinearRegression()\n",
    "lr_model.fit(X_train, y_train)\n",
    "preds = lr_model.predict(X_test)\n",
    "\n",
    "from sklearn.metrics import r2_score\n",
    "\n",
    "r2_score(y_test, preds)"
   ],
   "metadata": {
    "collapsed": false,
    "pycharm": {
     "name": "#%%\n"
    }
   }
  },
  {
   "cell_type": "code",
   "execution_count": 20,
   "outputs": [
    {
     "data": {
      "text/plain": "0.4638323371961206"
     },
     "execution_count": 20,
     "metadata": {},
     "output_type": "execute_result"
    }
   ],
   "source": [
    "from sklearn.ensemble import RandomForestRegressor\n",
    "\n",
    "rf_model = RandomForestRegressor()\n",
    "rf_model.fit(X_train, y_train)\n",
    "preds = rf_model.predict(X_test)\n",
    "\n",
    "from sklearn.metrics import r2_score\n",
    "\n",
    "r2_score(y_test, preds)"
   ],
   "metadata": {
    "collapsed": false,
    "pycharm": {
     "name": "#%%\n"
    }
   }
  },
  {
   "cell_type": "code",
   "execution_count": 21,
   "outputs": [
    {
     "data": {
      "text/plain": "0.41948247921070214"
     },
     "execution_count": 21,
     "metadata": {},
     "output_type": "execute_result"
    }
   ],
   "source": [
    "from xgboost import XGBRegressor\n",
    "\n",
    "xg_model = XGBRegressor()\n",
    "xg_model.fit(X_train, y_train)\n",
    "preds = xg_model.predict(X_test)\n",
    "r2_score(y_test, preds)"
   ],
   "metadata": {
    "collapsed": false,
    "pycharm": {
     "name": "#%%\n"
    }
   }
  },
  {
   "cell_type": "code",
   "execution_count": 27,
   "outputs": [
    {
     "data": {
      "text/plain": "0.48866921904521965"
     },
     "execution_count": 27,
     "metadata": {},
     "output_type": "execute_result"
    }
   ],
   "source": [
    "from sklearn.model_selection import train_test_split\n",
    "from sklearn.preprocessing import StandardScaler\n",
    "\n",
    "X_train, X_test, y_train, y_test = train_test_split(df_encode, df_output[\"DS1\"], test_size=0.2,\n",
    "                                                    shuffle=True, random_state=0)\n",
    "X_train = StandardScaler().fit_transform(X_train)\n",
    "X_test = StandardScaler().fit_transform(X_test)\n",
    "\n",
    "from sklearn.ensemble import RandomForestRegressor\n",
    "\n",
    "rf_model = RandomForestRegressor()\n",
    "rf_model.fit(X_train, y_train)\n",
    "preds = rf_model.predict(X_test)\n",
    "\n",
    "from sklearn.metrics import r2_score\n",
    "\n",
    "r2_score(y_test, preds)"
   ],
   "metadata": {
    "collapsed": false,
    "pycharm": {
     "name": "#%%\n"
    }
   }
  },
  {
   "cell_type": "code",
   "execution_count": 24,
   "outputs": [
    {
     "data": {
      "text/plain": "0.45225154273123747"
     },
     "execution_count": 24,
     "metadata": {},
     "output_type": "execute_result"
    }
   ],
   "source": [
    "from sklearn.model_selection import train_test_split\n",
    "from sklearn.preprocessing import StandardScaler\n",
    "\n",
    "X_train, X_test, y_train, y_test = train_test_split(df_encode, df_output[\"DS2\"], test_size=0.2,\n",
    "                                                    shuffle=True, random_state=0)\n",
    "X_train = StandardScaler().fit_transform(X_train)\n",
    "X_test = StandardScaler().fit_transform(X_test)\n",
    "\n",
    "from sklearn.ensemble import RandomForestRegressor\n",
    "\n",
    "rf_model = RandomForestRegressor()\n",
    "rf_model.fit(X_train, y_train)\n",
    "preds = rf_model.predict(X_test)\n",
    "\n",
    "from sklearn.metrics import r2_score\n",
    "\n",
    "r2_score(y_test, preds)"
   ],
   "metadata": {
    "collapsed": false,
    "pycharm": {
     "name": "#%%\n"
    }
   }
  },
  {
   "cell_type": "code",
   "execution_count": 25,
   "outputs": [
    {
     "data": {
      "text/plain": "0.06662604023451035"
     },
     "execution_count": 25,
     "metadata": {},
     "output_type": "execute_result"
    }
   ],
   "source": [
    "from sklearn.model_selection import train_test_split\n",
    "from sklearn.preprocessing import StandardScaler\n",
    "\n",
    "X_train, X_test, y_train, y_test = train_test_split(df_encode, df_output[\"DS3\"], test_size=0.2,\n",
    "                                                    shuffle=True, random_state=0)\n",
    "X_train = StandardScaler().fit_transform(X_train)\n",
    "X_test = StandardScaler().fit_transform(X_test)\n",
    "\n",
    "from sklearn.ensemble import RandomForestRegressor\n",
    "\n",
    "rf_model = RandomForestRegressor()\n",
    "rf_model.fit(X_train, y_train)\n",
    "preds = rf_model.predict(X_test)\n",
    "\n",
    "from sklearn.metrics import r2_score\n",
    "\n",
    "r2_score(y_test, preds)"
   ],
   "metadata": {
    "collapsed": false,
    "pycharm": {
     "name": "#%%\n"
    }
   }
  },
  {
   "cell_type": "code",
   "execution_count": 26,
   "outputs": [
    {
     "data": {
      "text/plain": "0.2860558376821871"
     },
     "execution_count": 26,
     "metadata": {},
     "output_type": "execute_result"
    }
   ],
   "source": [
    "from sklearn.model_selection import train_test_split\n",
    "from sklearn.preprocessing import StandardScaler\n",
    "\n",
    "X_train, X_test, y_train, y_test = train_test_split(df_encode, df_output[\"DS4\"], test_size=0.2,\n",
    "                                                    shuffle=True, random_state=0)\n",
    "X_train = StandardScaler().fit_transform(X_train)\n",
    "X_test = StandardScaler().fit_transform(X_test)\n",
    "\n",
    "from sklearn.ensemble import RandomForestRegressor\n",
    "\n",
    "rf_model = RandomForestRegressor()\n",
    "rf_model.fit(X_train, y_train)\n",
    "preds = rf_model.predict(X_test)\n",
    "\n",
    "from sklearn.metrics import r2_score\n",
    "\n",
    "r2_score(y_test, preds)"
   ],
   "metadata": {
    "collapsed": false,
    "pycharm": {
     "name": "#%%\n"
    }
   }
  },
  {
   "cell_type": "code",
   "execution_count": null,
   "outputs": [],
   "source": [],
   "metadata": {
    "collapsed": false,
    "pycharm": {
     "name": "#%%\n"
    }
   }
  }
 ],
 "metadata": {
  "kernelspec": {
   "display_name": "Python 3",
   "language": "python",
   "name": "python3"
  },
  "language_info": {
   "codemirror_mode": {
    "name": "ipython",
    "version": 2
   },
   "file_extension": ".py",
   "mimetype": "text/x-python",
   "name": "python",
   "nbconvert_exporter": "python",
   "pygments_lexer": "ipython2",
   "version": "2.7.6"
  }
 },
 "nbformat": 4,
 "nbformat_minor": 0
}