{
 "cells": [
  {
   "cell_type": "code",
   "execution_count": 1,
   "metadata": {
    "collapsed": true
   },
   "outputs": [],
   "source": [
    "# 간단한 링크드 리스트 구현\n",
    "\n",
    "class Node:\n",
    "    def __init__(self, data, next=None):\n",
    "        self.data = data\n",
    "        self.next = next"
   ]
  },
  {
   "cell_type": "code",
   "execution_count": 2,
   "outputs": [],
   "source": [
    "node1 = Node(1)\n",
    "node2 = Node(2)\n",
    "\n",
    "# Node와 Node 연결\n",
    "node1.next = node2\n",
    "head = node1"
   ],
   "metadata": {
    "collapsed": false,
    "pycharm": {
     "name": "#%%\n"
    }
   }
  },
  {
   "cell_type": "code",
   "execution_count": 11,
   "outputs": [],
   "source": [
    "# 링크드 리스트 데이터 추가하기\n",
    "class Node:\n",
    "    def __init__(self, data, next=None):\n",
    "        self.data = data\n",
    "        self.next = next\n",
    "\n",
    "def add(data):\n",
    "    node = head\n",
    "    while node.next:\n",
    "        node = node.next\n",
    "    node.next = Node(data)"
   ],
   "metadata": {
    "collapsed": false,
    "pycharm": {
     "name": "#%%\n"
    }
   }
  },
  {
   "cell_type": "code",
   "execution_count": 12,
   "outputs": [],
   "source": [
    "node1 = Node(1)\n",
    "head = node1\n",
    "for i in range(2, 10):\n",
    "    add(i)"
   ],
   "metadata": {
    "collapsed": false,
    "pycharm": {
     "name": "#%%\n"
    }
   }
  },
  {
   "cell_type": "code",
   "execution_count": 15,
   "outputs": [
    {
     "name": "stdout",
     "output_type": "stream",
     "text": [
      "1\n",
      "2\n",
      "3\n",
      "4\n",
      "5\n",
      "6\n",
      "7\n",
      "8\n",
      "9\n"
     ]
    }
   ],
   "source": [
    "# 링크드 데이터 데이터 출력\n",
    "node = head\n",
    "while node.next:\n",
    "    print(node.data)\n",
    "    node = node.next\n",
    "print(node.data)"
   ],
   "metadata": {
    "collapsed": false,
    "pycharm": {
     "name": "#%%\n"
    }
   }
  },
  {
   "cell_type": "code",
   "execution_count": 16,
   "outputs": [
    {
     "name": "stdout",
     "output_type": "stream",
     "text": [
      "1\n",
      "2\n",
      "3\n",
      "4\n",
      "5\n",
      "6\n",
      "7\n",
      "8\n",
      "9\n"
     ]
    }
   ],
   "source": [
    "node = head\n",
    "\n",
    "while node.next:\n",
    "    print(node.data)\n",
    "    node = node.next\n",
    "print(node.data)"
   ],
   "metadata": {
    "collapsed": false,
    "pycharm": {
     "name": "#%%\n"
    }
   }
  },
  {
   "cell_type": "code",
   "execution_count": 19,
   "outputs": [],
   "source": [
    "new_node = Node(1.5)"
   ],
   "metadata": {
    "collapsed": false,
    "pycharm": {
     "name": "#%%\n"
    }
   }
  },
  {
   "cell_type": "code",
   "execution_count": 20,
   "outputs": [],
   "source": [
    "node = head\n",
    "search = True\n",
    "while search:\n",
    "    if node.data == 1:\n",
    "        search = False\n",
    "    else:\n",
    "        node = node.next\n",
    "\n",
    "# 신규 노드 연결\n",
    "node_next = node.next\n",
    "node.next = new_node\n",
    "new_node.next = node_next"
   ],
   "metadata": {
    "collapsed": false,
    "pycharm": {
     "name": "#%%\n"
    }
   }
  },
  {
   "cell_type": "code",
   "execution_count": 21,
   "outputs": [
    {
     "name": "stdout",
     "output_type": "stream",
     "text": [
      "1\n",
      "1.5\n",
      "2\n",
      "3\n",
      "4\n",
      "5\n",
      "6\n",
      "7\n",
      "8\n",
      "9\n"
     ]
    }
   ],
   "source": [
    "node = head\n",
    "while node.next:\n",
    "    print(node.data)\n",
    "    node = node.next\n",
    "print(node.data)"
   ],
   "metadata": {
    "collapsed": false,
    "pycharm": {
     "name": "#%%\n"
    }
   }
  },
  {
   "cell_type": "code",
   "execution_count": 22,
   "outputs": [],
   "source": [
    "class Node:\n",
    "    def __init__(self, data, next=None):\n",
    "        self.data = data\n",
    "        self.next = next\n",
    "\n",
    "class NodeMgmt:\n",
    "    def __init__(self, data):\n",
    "        self.head = Node(data)\n",
    "\n",
    "    def add(self, data):\n",
    "        if self.head == \"\":\n",
    "            self.head = Node(data)\n",
    "        else:\n",
    "            node = self.head\n",
    "            while node.next:\n",
    "                node = node.next\n",
    "            node.next = Node(data)\n",
    "\n",
    "    def desc(self):\n",
    "        node = self.head\n",
    "        while node:\n",
    "            print(node.data)\n",
    "            node = node.next"
   ],
   "metadata": {
    "collapsed": false,
    "pycharm": {
     "name": "#%%\n"
    }
   }
  },
  {
   "cell_type": "code",
   "execution_count": 23,
   "outputs": [
    {
     "name": "stdout",
     "output_type": "stream",
     "text": [
      "0\n"
     ]
    }
   ],
   "source": [
    "linkedlist = NodeMgmt(0)\n",
    "linkedlist.desc()"
   ],
   "metadata": {
    "collapsed": false,
    "pycharm": {
     "name": "#%%\n"
    }
   }
  },
  {
   "cell_type": "code",
   "execution_count": 24,
   "outputs": [
    {
     "name": "stdout",
     "output_type": "stream",
     "text": [
      "0\n",
      "1\n",
      "2\n",
      "3\n",
      "4\n",
      "5\n",
      "6\n",
      "7\n",
      "8\n",
      "9\n"
     ]
    }
   ],
   "source": [
    "for i in range(1, 10):\n",
    "    linkedlist.add(i)\n",
    "linkedlist.desc()"
   ],
   "metadata": {
    "collapsed": false,
    "pycharm": {
     "name": "#%%\n"
    }
   }
  },
  {
   "cell_type": "code",
   "execution_count": 25,
   "outputs": [],
   "source": [
    "# 특정 노드 삭제하는 함수 와 특정 노드를 찾는 함수 구현\n",
    "class Node:\n",
    "    def __init__(self, data, next=None):\n",
    "        self.data = data\n",
    "        self.next = next\n",
    "\n",
    "class NodeMgmt:\n",
    "    def __init__(self, data):\n",
    "        self.head = Node(data)\n",
    "\n",
    "    def add(self, data):\n",
    "        if self.head == \"\":\n",
    "            self.head = Node(data)\n",
    "        else:\n",
    "            node = self.head\n",
    "            while node.next:\n",
    "                node = node.next\n",
    "            node.next = Node(data)\n",
    "\n",
    "    def desc(self):\n",
    "        node = self.head\n",
    "        while node:\n",
    "            print(node.data)\n",
    "            node = node.next\n",
    "\n",
    "    def delete(self, data):\n",
    "        if self.head == \"\":\n",
    "            print(\"해당 값을 가진 노드가 없습니다.\")\n",
    "            return\n",
    "\n",
    "        if self.head.data == data: # self.head를 삭제할 경우\n",
    "            temp = self.head\n",
    "            self.head = self.head.next\n",
    "            del temp\n",
    "        else:\n",
    "            node = self.head\n",
    "            while node.next: # self.head가 아닌 노드를 삭제할 경우\n",
    "                if node.next.data == data:\n",
    "                    temp = node.next\n",
    "                    node.next = node.next.next\n",
    "                    del temp\n",
    "                    return\n",
    "                else:\n",
    "                    node = node.next\n",
    "\n",
    "    def search_node(self, data):\n",
    "        node = self.head\n",
    "        while node:\n",
    "            if node.data == data:\n",
    "                return node\n",
    "            else:\n",
    "                node = node.next"
   ],
   "metadata": {
    "collapsed": false,
    "pycharm": {
     "name": "#%%\n"
    }
   }
  },
  {
   "cell_type": "code",
   "execution_count": 26,
   "outputs": [
    {
     "name": "stdout",
     "output_type": "stream",
     "text": [
      "0\n"
     ]
    }
   ],
   "source": [
    "linkedlist = NodeMgmt(0)\n",
    "linkedlist.desc()"
   ],
   "metadata": {
    "collapsed": false,
    "pycharm": {
     "name": "#%%\n"
    }
   }
  },
  {
   "cell_type": "code",
   "execution_count": 27,
   "outputs": [
    {
     "data": {
      "text/plain": "<__main__.Node at 0x7f82a989c040>"
     },
     "execution_count": 27,
     "metadata": {},
     "output_type": "execute_result"
    }
   ],
   "source": [
    "linkedlist.head"
   ],
   "metadata": {
    "collapsed": false,
    "pycharm": {
     "name": "#%%\n"
    }
   }
  },
  {
   "cell_type": "code",
   "execution_count": 41,
   "outputs": [],
   "source": [
    "linkedlist.delete(0)"
   ],
   "metadata": {
    "collapsed": false,
    "pycharm": {
     "name": "#%%\n"
    }
   }
  },
  {
   "cell_type": "code",
   "execution_count": 42,
   "outputs": [
    {
     "data": {
      "text/plain": "<__main__.Node at 0x7f82a989cfd0>"
     },
     "execution_count": 42,
     "metadata": {},
     "output_type": "execute_result"
    }
   ],
   "source": [
    "linkedlist.head"
   ],
   "metadata": {
    "collapsed": false,
    "pycharm": {
     "name": "#%%\n"
    }
   }
  },
  {
   "cell_type": "code",
   "execution_count": 34,
   "outputs": [
    {
     "name": "stdout",
     "output_type": "stream",
     "text": [
      "0\n",
      "0\n",
      "1\n",
      "2\n",
      "3\n",
      "4\n",
      "5\n",
      "6\n",
      "7\n",
      "8\n",
      "9\n"
     ]
    }
   ],
   "source": [
    "linkedlist = NodeMgmt(0)\n",
    "linkedlist.desc()\n",
    "\n",
    "for i in range(1, 10):\n",
    "    linkedlist.add(i)\n",
    "linkedlist.desc()"
   ],
   "metadata": {
    "collapsed": false,
    "pycharm": {
     "name": "#%%\n"
    }
   }
  },
  {
   "cell_type": "code",
   "execution_count": 43,
   "outputs": [],
   "source": [
    "linkedlist.delete(6)"
   ],
   "metadata": {
    "collapsed": false,
    "pycharm": {
     "name": "#%%\n"
    }
   }
  },
  {
   "cell_type": "code",
   "execution_count": 44,
   "outputs": [
    {
     "name": "stdout",
     "output_type": "stream",
     "text": [
      "1\n",
      "2\n",
      "3\n",
      "4\n",
      "5\n",
      "7\n",
      "8\n",
      "9\n"
     ]
    }
   ],
   "source": [
    "linkedlist.desc()"
   ],
   "metadata": {
    "collapsed": false,
    "pycharm": {
     "name": "#%%\n"
    }
   }
  },
  {
   "cell_type": "code",
   "execution_count": 52,
   "outputs": [],
   "source": [
    "class Node:\n",
    "    def __init__(self, data, prev=None, next=None):\n",
    "        self.prev = prev\n",
    "        self.data = data\n",
    "        self.next = next\n",
    "\n",
    "class NodeMgmt:\n",
    "    def __init__(self, data):\n",
    "        self.head = Node(data)\n",
    "        self.tail = self.head\n",
    "\n",
    "    def insert(self, data):\n",
    "        if self.head == None:\n",
    "            self.head = Node(data)\n",
    "            self.tail = self.head\n",
    "        else:\n",
    "            node = self.head\n",
    "            while node.next:\n",
    "                node = node.next\n",
    "            new = Node(data)\n",
    "            node.next = new\n",
    "            new.prev = node\n",
    "            self.tail = new\n",
    "\n",
    "    def desc(self):\n",
    "        node = self.head\n",
    "        while node:\n",
    "            print (node.data)\n",
    "            node = node.next\n",
    "\n",
    "    def search_from_head(self, data):\n",
    "        if self.head == None:\n",
    "            return False\n",
    "\n",
    "        node = self.head\n",
    "        while node:\n",
    "            if node.data == data:\n",
    "                return node\n",
    "            else:\n",
    "                node = node.next\n",
    "        return False\n",
    "\n",
    "    def search_from_tail(self, data):\n",
    "        if self.head == None:\n",
    "            return False\n",
    "\n",
    "        node = self.tail\n",
    "        while node:\n",
    "            if node.data == data:\n",
    "                return node\n",
    "            else:\n",
    "                node = node.prev\n",
    "        return False\n",
    "\n",
    "    def insert_before(self, data, before_data):\n",
    "        if self.head == None:\n",
    "            self.head = Node(data)\n",
    "            return True\n",
    "        else:\n",
    "            node = self.tail\n",
    "            while node.data != before_data:\n",
    "                node = node.prev\n",
    "                if node == None:\n",
    "                    return False\n",
    "            new = Node(data)\n",
    "            before_new = node.prev\n",
    "            before_new.next = new\n",
    "            new.prev = before_new\n",
    "            new.next = node\n",
    "            node.prev = new\n",
    "            return True"
   ],
   "metadata": {
    "collapsed": false,
    "pycharm": {
     "name": "#%%\n"
    }
   }
  },
  {
   "cell_type": "code",
   "execution_count": 48,
   "outputs": [
    {
     "name": "stdout",
     "output_type": "stream",
     "text": [
      "0\n",
      "1\n",
      "2\n",
      "3\n",
      "4\n",
      "5\n",
      "6\n",
      "7\n",
      "8\n",
      "9\n"
     ]
    }
   ],
   "source": [
    "double_linked_list = NodeMgmt(0)\n",
    "for data in range(1, 10):\n",
    "    double_linked_list.insert(data)\n",
    "double_linked_list.desc()"
   ],
   "metadata": {
    "collapsed": false,
    "pycharm": {
     "name": "#%%\n"
    }
   }
  },
  {
   "cell_type": "code",
   "execution_count": 53,
   "outputs": [
    {
     "ename": "AttributeError",
     "evalue": "'bool' object has no attribute 'data'",
     "output_type": "error",
     "traceback": [
      "\u001B[0;31m---------------------------------------------------------------------------\u001B[0m",
      "\u001B[0;31mAttributeError\u001B[0m                            Traceback (most recent call last)",
      "\u001B[0;32m/var/folders/mc/dq2kv5b10qjd6sq35tn_rvph0000gn/T/ipykernel_4262/3285881327.py\u001B[0m in \u001B[0;36m<module>\u001B[0;34m\u001B[0m\n\u001B[1;32m      1\u001B[0m \u001B[0mnode_3\u001B[0m \u001B[0;34m=\u001B[0m \u001B[0mdouble_linked_list\u001B[0m\u001B[0;34m.\u001B[0m\u001B[0msearch_from_tail\u001B[0m\u001B[0;34m(\u001B[0m\u001B[0;36m3\u001B[0m\u001B[0;34m)\u001B[0m\u001B[0;34m\u001B[0m\u001B[0;34m\u001B[0m\u001B[0m\n\u001B[0;32m----> 2\u001B[0;31m \u001B[0mnode_3\u001B[0m\u001B[0;34m.\u001B[0m\u001B[0mdata\u001B[0m\u001B[0;34m\u001B[0m\u001B[0;34m\u001B[0m\u001B[0m\n\u001B[0m",
      "\u001B[0;31mAttributeError\u001B[0m: 'bool' object has no attribute 'data'"
     ]
    }
   ],
   "source": [
    "node_3 = double_linked_list.search_from_tail(3)\n",
    "node_3.data"
   ],
   "metadata": {
    "collapsed": false,
    "pycharm": {
     "name": "#%%\n"
    }
   }
  },
  {
   "cell_type": "code",
   "execution_count": 54,
   "outputs": [
    {
     "name": "stdout",
     "output_type": "stream",
     "text": [
      "0\n",
      "1\n",
      "1.5\n",
      "2\n",
      "3\n",
      "4\n",
      "5\n",
      "6\n",
      "7\n",
      "8\n",
      "9\n"
     ]
    }
   ],
   "source": [
    "double_linked_list.insert_before(1.5, 2)\n",
    "double_linked_list.desc()"
   ],
   "metadata": {
    "collapsed": false,
    "pycharm": {
     "name": "#%%\n"
    }
   }
  },
  {
   "cell_type": "code",
   "execution_count": null,
   "outputs": [],
   "source": [],
   "metadata": {
    "collapsed": false,
    "pycharm": {
     "name": "#%%\n"
    }
   }
  }
 ],
 "metadata": {
  "kernelspec": {
   "display_name": "Python 3",
   "language": "python",
   "name": "python3"
  },
  "language_info": {
   "codemirror_mode": {
    "name": "ipython",
    "version": 2
   },
   "file_extension": ".py",
   "mimetype": "text/x-python",
   "name": "python",
   "nbconvert_exporter": "python",
   "pygments_lexer": "ipython2",
   "version": "2.7.6"
  }
 },
 "nbformat": 4,
 "nbformat_minor": 0
}